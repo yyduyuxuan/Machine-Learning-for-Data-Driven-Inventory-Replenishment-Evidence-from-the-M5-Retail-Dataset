{
  "cells": [
    {
      "cell_type": "markdown",
      "metadata": {
        "id": "view-in-github",
        "colab_type": "text"
      },
      "source": [
        "<a href=\"https://colab.research.google.com/github/yyduyuxuan/Machine-Learning-for-Data-Driven-Inventory-Replenishment-Evidence-from-the-M5-Retail-Dataset/blob/main/TRAIN_Fine_Tuning_3y.ipynb\" target=\"_parent\"><img src=\"https://colab.research.google.com/assets/colab-badge.svg\" alt=\"Open In Colab\"/></a>"
      ]
    },
    {
      "cell_type": "code",
      "execution_count": null,
      "metadata": {
        "colab": {
          "base_uri": "https://localhost:8080/"
        },
        "id": "R3MbzyUWJRCw",
        "outputId": "a155b379-c67d-4bbe-cd7f-e60c9bdba680"
      },
      "outputs": [
        {
          "name": "stdout",
          "output_type": "stream",
          "text": [
            "✅ GPU setting accepted.\n"
          ]
        }
      ],
      "source": [
        "import lightgbm as lgb\n",
        "from lightgbm import LGBMRegressor\n",
        "\n",
        "try:\n",
        "    model = LGBMRegressor(device='gpu', n_estimators=10)\n",
        "    print(\"✅ GPU setting accepted.\")\n",
        "except:\n",
        "    print(\"❌ GPU setting not supported by current LightGBM.\")\n"
      ]
    },
    {
      "cell_type": "code",
      "execution_count": null,
      "metadata": {
        "colab": {
          "base_uri": "https://localhost:8080/"
        },
        "id": "8jviFGYmsYm6",
        "outputId": "c5aad94e-bdfe-4ad5-9130-403a75b752dd"
      },
      "outputs": [
        {
          "name": "stdout",
          "output_type": "stream",
          "text": [
            "Cloning into 'LightGBM'...\n",
            "remote: Enumerating objects: 35473, done.\u001b[K\n",
            "remote: Counting objects: 100% (254/254), done.\u001b[K\n",
            "remote: Compressing objects: 100% (166/166), done.\u001b[K\n",
            "remote: Total 35473 (delta 169), reused 87 (delta 87), pack-reused 35219 (from 2)\u001b[K\n",
            "Receiving objects: 100% (35473/35473), 24.03 MiB | 32.12 MiB/s, done.\n",
            "Resolving deltas: 100% (26370/26370), done.\n",
            "Submodule 'include/boost/compute' (https://github.com/boostorg/compute) registered for path 'external_libs/compute'\n",
            "Submodule 'eigen' (https://gitlab.com/libeigen/eigen.git) registered for path 'external_libs/eigen'\n",
            "Submodule 'external_libs/fast_double_parser' (https://github.com/lemire/fast_double_parser.git) registered for path 'external_libs/fast_double_parser'\n",
            "Submodule 'external_libs/fmt' (https://github.com/fmtlib/fmt.git) registered for path 'external_libs/fmt'\n",
            "Cloning into '/content/LightGBM/external_libs/compute'...\n",
            "remote: Enumerating objects: 21818, done.        \n",
            "remote: Counting objects: 100% (40/40), done.        \n",
            "remote: Compressing objects: 100% (24/24), done.        \n",
            "remote: Total 21818 (delta 21), reused 18 (delta 16), pack-reused 21778 (from 2)        \n",
            "Receiving objects: 100% (21818/21818), 8.54 MiB | 26.66 MiB/s, done.\n",
            "Resolving deltas: 100% (17608/17608), done.\n",
            "Cloning into '/content/LightGBM/external_libs/eigen'...\n",
            "remote: Enumerating objects: 128544, done.        \n",
            "remote: Counting objects: 100% (140/140), done.        \n",
            "remote: Compressing objects: 100% (90/90), done.        \n",
            "remote: Total 128544 (delta 74), reused 100 (delta 50), pack-reused 128404 (from 1)        \n",
            "Receiving objects: 100% (128544/128544), 106.44 MiB | 33.46 MiB/s, done.\n",
            "Resolving deltas: 100% (106709/106709), done.\n",
            "Cloning into '/content/LightGBM/external_libs/fast_double_parser'...\n",
            "remote: Enumerating objects: 871, done.        \n",
            "remote: Counting objects: 100% (136/136), done.        \n",
            "remote: Compressing objects: 100% (21/21), done.        \n",
            "remote: Total 871 (delta 122), reused 115 (delta 115), pack-reused 735 (from 2)        \n",
            "Receiving objects: 100% (871/871), 858.42 KiB | 6.65 MiB/s, done.\n",
            "Resolving deltas: 100% (437/437), done.\n",
            "Cloning into '/content/LightGBM/external_libs/fmt'...\n",
            "remote: Enumerating objects: 39810, done.        \n",
            "remote: Counting objects: 100% (302/302), done.        \n",
            "remote: Compressing objects: 100% (137/137), done.        \n",
            "remote: Total 39810 (delta 212), reused 165 (delta 165), pack-reused 39508 (from 4)        \n",
            "Receiving objects: 100% (39810/39810), 16.29 MiB | 29.06 MiB/s, done.\n",
            "Resolving deltas: 100% (26855/26855), done.\n",
            "Submodule path 'external_libs/compute': checked out '36350b7de849300bd3d72a05d8bf890ca405a014'\n",
            "Submodule path 'external_libs/eigen': checked out '3147391d946bb4b6c68edd901f2add6ac1f31f8c'\n",
            "Submodule path 'external_libs/fast_double_parser': checked out '252029ddac664370bdda3f0761675785d92a1573'\n",
            "Submodule 'benchmark/dependencies/abseil-cpp' (https://github.com/abseil/abseil-cpp.git) registered for path 'external_libs/fast_double_parser/benchmarks/dependencies/abseil-cpp'\n",
            "Submodule 'benchmark/dependencies/double-conversion' (https://github.com/google/double-conversion.git) registered for path 'external_libs/fast_double_parser/benchmarks/dependencies/double-conversion'\n",
            "Cloning into '/content/LightGBM/external_libs/fast_double_parser/benchmarks/dependencies/abseil-cpp'...\n",
            "remote: Enumerating objects: 32067, done.        \n",
            "remote: Counting objects: 100% (55/55), done.        \n",
            "remote: Compressing objects: 100% (38/38), done.        \n",
            "remote: Total 32067 (delta 18), reused 18 (delta 17), pack-reused 32012 (from 3)        \n",
            "Receiving objects: 100% (32067/32067), 18.29 MiB | 26.53 MiB/s, done.\n",
            "Resolving deltas: 100% (25086/25086), done.\n",
            "Cloning into '/content/LightGBM/external_libs/fast_double_parser/benchmarks/dependencies/double-conversion'...\n",
            "remote: Enumerating objects: 1573, done.        \n",
            "remote: Counting objects: 100% (448/448), done.        \n",
            "remote: Compressing objects: 100% (116/116), done.        \n",
            "remote: Total 1573 (delta 387), reused 334 (delta 332), pack-reused 1125 (from 3)        \n",
            "Receiving objects: 100% (1573/1573), 7.12 MiB | 20.84 MiB/s, done.\n",
            "Resolving deltas: 100% (1027/1027), done.\n",
            "Submodule path 'external_libs/fast_double_parser/benchmarks/dependencies/abseil-cpp': checked out 'd936052d32a5b7ca08b0199a6724724aea432309'\n",
            "Submodule path 'external_libs/fast_double_parser/benchmarks/dependencies/double-conversion': checked out 'f4cb2384efa55dee0e6652f8674b05763441ab09'\n",
            "Submodule path 'external_libs/fmt': checked out '8303d140a1a11f19b982a9f664bbe59a1ccda3f4'\n",
            "/content/LightGBM\n",
            "/content/LightGBM/build\n",
            "-- The C compiler identification is GNU 11.4.0\n",
            "-- The CXX compiler identification is GNU 11.4.0\n",
            "-- Detecting C compiler ABI info\n",
            "-- Detecting C compiler ABI info - done\n",
            "-- Check for working C compiler: /usr/bin/cc - skipped\n",
            "-- Detecting C compile features\n",
            "-- Detecting C compile features - done\n",
            "-- Detecting CXX compiler ABI info\n",
            "-- Detecting CXX compiler ABI info - done\n",
            "-- Check for working CXX compiler: /usr/bin/c++ - skipped\n",
            "-- Detecting CXX compile features\n",
            "-- Detecting CXX compile features - done\n",
            "-- Found OpenMP_C: -fopenmp (found version \"4.5\")\n",
            "-- Found OpenMP_CXX: -fopenmp (found version \"4.5\")\n",
            "-- Found OpenMP: TRUE (found version \"4.5\")\n",
            "-- Looking for CL_VERSION_3_0\n",
            "-- Looking for CL_VERSION_3_0 - found\n",
            "-- Found OpenCL: /usr/lib/x86_64-linux-gnu/libOpenCL.so (found version \"3.0\")\n",
            "-- OpenCL include directory: /usr/include\n",
            "\u001b[33mCMake Warning (dev) at CMakeLists.txt:196 (find_package):\n",
            "  Policy CMP0167 is not set: The FindBoost module is removed.  Run \"cmake\n",
            "  --help-policy CMP0167\" for policy details.  Use the cmake_policy command to\n",
            "  set the policy and suppress this warning.\n",
            "\n",
            "This warning is for project developers.  Use -Wno-dev to suppress it.\n",
            "\u001b[0m\n",
            "-- Found Boost: /usr/lib/x86_64-linux-gnu/cmake/Boost-1.74.0/BoostConfig.cmake (found suitable version \"1.74.0\", minimum required is \"1.56.0\") found components: filesystem system\n",
            "-- Performing Test MM_PREFETCH\n",
            "-- Performing Test MM_PREFETCH - Success\n",
            "-- Using _mm_prefetch\n",
            "-- Performing Test MM_MALLOC\n",
            "-- Performing Test MM_MALLOC - Success\n",
            "-- Using _mm_malloc\n",
            "-- Configuring done (1.5s)\n",
            "-- Generating done (0.0s)\n",
            "-- Build files have been written to: /content/LightGBM/build\n",
            "[  2%] \u001b[32mBuilding CXX object CMakeFiles/lightgbm_capi_objs.dir/src/c_api.cpp.o\u001b[0m\n",
            "[  5%] \u001b[32mBuilding CXX object CMakeFiles/lightgbm_objs.dir/src/boosting/boosting.cpp.o\u001b[0m\n",
            "[  7%] \u001b[32mBuilding CXX object CMakeFiles/lightgbm_objs.dir/src/boosting/gbdt_model_text.cpp.o\u001b[0m\n",
            "[ 10%] \u001b[32mBuilding CXX object CMakeFiles/lightgbm_objs.dir/src/boosting/gbdt_prediction.cpp.o\u001b[0m\n",
            "[ 12%] \u001b[32mBuilding CXX object CMakeFiles/lightgbm_objs.dir/src/boosting/gbdt.cpp.o\u001b[0m\n",
            "[ 15%] \u001b[32mBuilding CXX object CMakeFiles/lightgbm_objs.dir/src/boosting/prediction_early_stop.cpp.o\u001b[0m\n",
            "[ 17%] \u001b[32mBuilding CXX object CMakeFiles/lightgbm_objs.dir/src/boosting/sample_strategy.cpp.o\u001b[0m\n",
            "[ 20%] \u001b[32mBuilding CXX object CMakeFiles/lightgbm_objs.dir/src/io/bin.cpp.o\u001b[0m\n",
            "[ 23%] \u001b[32mBuilding CXX object CMakeFiles/lightgbm_objs.dir/src/io/config_auto.cpp.o\u001b[0m\n",
            "[ 25%] \u001b[32mBuilding CXX object CMakeFiles/lightgbm_objs.dir/src/io/config.cpp.o\u001b[0m\n",
            "[ 25%] Built target lightgbm_capi_objs\n",
            "[ 28%] \u001b[32mBuilding CXX object CMakeFiles/lightgbm_objs.dir/src/io/dataset_loader.cpp.o\u001b[0m\n",
            "[ 30%] \u001b[32mBuilding CXX object CMakeFiles/lightgbm_objs.dir/src/io/dataset.cpp.o\u001b[0m\n",
            "[ 33%] \u001b[32mBuilding CXX object CMakeFiles/lightgbm_objs.dir/src/io/file_io.cpp.o\u001b[0m\n",
            "[ 35%] \u001b[32mBuilding CXX object CMakeFiles/lightgbm_objs.dir/src/io/json11.cpp.o\u001b[0m\n",
            "[ 38%] \u001b[32mBuilding CXX object CMakeFiles/lightgbm_objs.dir/src/io/metadata.cpp.o\u001b[0m\n",
            "[ 41%] \u001b[32mBuilding CXX object CMakeFiles/lightgbm_objs.dir/src/io/parser.cpp.o\u001b[0m\n",
            "[ 43%] \u001b[32mBuilding CXX object CMakeFiles/lightgbm_objs.dir/src/io/train_share_states.cpp.o\u001b[0m\n",
            "[ 46%] \u001b[32mBuilding CXX object CMakeFiles/lightgbm_objs.dir/src/io/tree.cpp.o\u001b[0m\n",
            "[ 48%] \u001b[32mBuilding CXX object CMakeFiles/lightgbm_objs.dir/src/metric/dcg_calculator.cpp.o\u001b[0m\n",
            "[ 51%] \u001b[32mBuilding CXX object CMakeFiles/lightgbm_objs.dir/src/metric/metric.cpp.o\u001b[0m\n",
            "[ 53%] \u001b[32mBuilding CXX object CMakeFiles/lightgbm_objs.dir/src/network/linker_topo.cpp.o\u001b[0m\n",
            "[ 56%] \u001b[32mBuilding CXX object CMakeFiles/lightgbm_objs.dir/src/network/linkers_mpi.cpp.o\u001b[0m\n",
            "[ 58%] \u001b[32mBuilding CXX object CMakeFiles/lightgbm_objs.dir/src/network/linkers_socket.cpp.o\u001b[0m\n",
            "[ 61%] \u001b[32mBuilding CXX object CMakeFiles/lightgbm_objs.dir/src/network/network.cpp.o\u001b[0m\n",
            "[ 64%] \u001b[32mBuilding CXX object CMakeFiles/lightgbm_objs.dir/src/objective/objective_function.cpp.o\u001b[0m\n",
            "[ 66%] \u001b[32mBuilding CXX object CMakeFiles/lightgbm_objs.dir/src/treelearner/data_parallel_tree_learner.cpp.o\u001b[0m\n",
            "[ 69%] \u001b[32mBuilding CXX object CMakeFiles/lightgbm_objs.dir/src/treelearner/feature_histogram.cpp.o\u001b[0m\n",
            "[ 71%] \u001b[32mBuilding CXX object CMakeFiles/lightgbm_objs.dir/src/treelearner/feature_parallel_tree_learner.cpp.o\u001b[0m\n",
            "In file included from \u001b[01m\u001b[K/usr/include/CL/cl.h:20\u001b[m\u001b[K,\n",
            "                 from \u001b[01m\u001b[K/content/LightGBM/external_libs/compute/include/boost/compute/cl.hpp:19\u001b[m\u001b[K,\n",
            "                 from \u001b[01m\u001b[K/content/LightGBM/external_libs/compute/include/boost/compute/config.hpp:16\u001b[m\u001b[K,\n",
            "                 from \u001b[01m\u001b[K/content/LightGBM/external_libs/compute/include/boost/compute/buffer.hpp:14\u001b[m\u001b[K,\n",
            "                 from \u001b[01m\u001b[K/content/LightGBM/external_libs/compute/include/boost/compute/core.hpp:18\u001b[m\u001b[K,\n",
            "                 from \u001b[01m\u001b[K/content/LightGBM/src/treelearner/gpu_tree_learner.h:33\u001b[m\u001b[K,\n",
            "                 from \u001b[01m\u001b[K/content/LightGBM/src/treelearner/parallel_tree_learner.h:15\u001b[m\u001b[K,\n",
            "                 from \u001b[01m\u001b[K/content/LightGBM/src/treelearner/data_parallel_tree_learner.cpp:9\u001b[m\u001b[K:\n",
            "\u001b[01m\u001b[K/usr/include/CL/cl_version.h:22:104:\u001b[m\u001b[K \u001b[01;36m\u001b[Knote: \u001b[m\u001b[K‘\u001b[01m\u001b[K#pragma message: cl_version.h: CL_TARGET_OPENCL_VERSION is not defined. Defaulting to 300 (OpenCL 3.0)\u001b[m\u001b[K’\n",
            "   22 | #pragma message(\"cl_version.h: CL_TARGET_OPENCL_VERSION is not defined. Defaulting to 300 (OpenCL 3.0)\"\u001b[01;36m\u001b[K)\u001b[m\u001b[K\n",
            "      |                                                                                                        \u001b[01;36m\u001b[K^\u001b[m\u001b[K\n",
            "In file included from \u001b[01m\u001b[K/usr/include/CL/cl.h:20\u001b[m\u001b[K,\n",
            "                 from \u001b[01m\u001b[K/content/LightGBM/external_libs/compute/include/boost/compute/cl.hpp:19\u001b[m\u001b[K,\n",
            "                 from \u001b[01m\u001b[K/content/LightGBM/external_libs/compute/include/boost/compute/config.hpp:16\u001b[m\u001b[K,\n",
            "                 from \u001b[01m\u001b[K/content/LightGBM/external_libs/compute/include/boost/compute/buffer.hpp:14\u001b[m\u001b[K,\n",
            "                 from \u001b[01m\u001b[K/content/LightGBM/external_libs/compute/include/boost/compute/core.hpp:18\u001b[m\u001b[K,\n",
            "                 from \u001b[01m\u001b[K/content/LightGBM/src/treelearner/gpu_tree_learner.h:33\u001b[m\u001b[K,\n",
            "                 from \u001b[01m\u001b[K/content/LightGBM/src/treelearner/parallel_tree_learner.h:15\u001b[m\u001b[K,\n",
            "                 from \u001b[01m\u001b[K/content/LightGBM/src/treelearner/feature_parallel_tree_learner.cpp:8\u001b[m\u001b[K:\n",
            "\u001b[01m\u001b[K/usr/include/CL/cl_version.h:22:104:\u001b[m\u001b[K \u001b[01;36m\u001b[Knote: \u001b[m\u001b[K‘\u001b[01m\u001b[K#pragma message: cl_version.h: CL_TARGET_OPENCL_VERSION is not defined. Defaulting to 300 (OpenCL 3.0)\u001b[m\u001b[K’\n",
            "   22 | #pragma message(\"cl_version.h: CL_TARGET_OPENCL_VERSION is not defined. Defaulting to 300 (OpenCL 3.0)\"\u001b[01;36m\u001b[K)\u001b[m\u001b[K\n",
            "      |                                                                                                        \u001b[01;36m\u001b[K^\u001b[m\u001b[K\n",
            "In file included from \u001b[01m\u001b[K/usr/include/boost/smart_ptr/detail/sp_thread_sleep.hpp:22\u001b[m\u001b[K,\n",
            "                 from \u001b[01m\u001b[K/usr/include/boost/smart_ptr/detail/yield_k.hpp:23\u001b[m\u001b[K,\n",
            "                 from \u001b[01m\u001b[K/usr/include/boost/smart_ptr/detail/spinlock_gcc_atomic.hpp:14\u001b[m\u001b[K,\n",
            "                 from \u001b[01m\u001b[K/usr/include/boost/smart_ptr/detail/spinlock.hpp:42\u001b[m\u001b[K,\n",
            "                 from \u001b[01m\u001b[K/usr/include/boost/smart_ptr/detail/spinlock_pool.hpp:25\u001b[m\u001b[K,\n",
            "                 from \u001b[01m\u001b[K/usr/include/boost/smart_ptr/shared_ptr.hpp:29\u001b[m\u001b[K,\n",
            "                 from \u001b[01m\u001b[K/usr/include/boost/shared_ptr.hpp:17\u001b[m\u001b[K,\n",
            "                 from \u001b[01m\u001b[K/content/LightGBM/external_libs/compute/include/boost/compute/utility/program_cache.hpp:17\u001b[m\u001b[K,\n",
            "                 from \u001b[01m\u001b[K/content/LightGBM/external_libs/compute/include/boost/compute/detail/meta_kernel.hpp:40\u001b[m\u001b[K,\n",
            "                 from \u001b[01m\u001b[K/content/LightGBM/external_libs/compute/include/boost/compute/types/complex.hpp:20\u001b[m\u001b[K,\n",
            "                 from \u001b[01m\u001b[K/content/LightGBM/external_libs/compute/include/boost/compute/types.hpp:18\u001b[m\u001b[K,\n",
            "                 from \u001b[01m\u001b[K/content/LightGBM/external_libs/compute/include/boost/compute/core.hpp:25\u001b[m\u001b[K,\n",
            "                 from \u001b[01m\u001b[K/content/LightGBM/src/treelearner/gpu_tree_learner.h:33\u001b[m\u001b[K,\n",
            "                 from \u001b[01m\u001b[K/content/LightGBM/src/treelearner/parallel_tree_learner.h:15\u001b[m\u001b[K,\n",
            "                 from \u001b[01m\u001b[K/content/LightGBM/src/treelearner/data_parallel_tree_learner.cpp:9\u001b[m\u001b[K:\n",
            "\u001b[01m\u001b[K/usr/include/boost/bind.hpp:36:1:\u001b[m\u001b[K \u001b[01;36m\u001b[Knote: \u001b[m\u001b[K‘\u001b[01m\u001b[K#pragma message: The practice of declaring the Bind placeholders (_1, _2, ...) in the global namespace is deprecated. Please use <boost/bind/bind.hpp> + using namespace boost::placeholders, or define BOOST_BIND_GLOBAL_PLACEHOLDERS to retain the current behavior.\u001b[m\u001b[K’\n",
            "   36 | \u001b[01;36m\u001b[KBOOST_PRAGMA_MESSAGE\u001b[m\u001b[K(\n",
            "      | \u001b[01;36m\u001b[K^~~~~~~~~~~~~~~~~~~~\u001b[m\u001b[K\n",
            "In file included from \u001b[01m\u001b[K/usr/include/boost/smart_ptr/detail/sp_thread_sleep.hpp:22\u001b[m\u001b[K,\n",
            "                 from \u001b[01m\u001b[K/usr/include/boost/smart_ptr/detail/yield_k.hpp:23\u001b[m\u001b[K,\n",
            "                 from \u001b[01m\u001b[K/usr/include/boost/smart_ptr/detail/spinlock_gcc_atomic.hpp:14\u001b[m\u001b[K,\n",
            "                 from \u001b[01m\u001b[K/usr/include/boost/smart_ptr/detail/spinlock.hpp:42\u001b[m\u001b[K,\n",
            "                 from \u001b[01m\u001b[K/usr/include/boost/smart_ptr/detail/spinlock_pool.hpp:25\u001b[m\u001b[K,\n",
            "                 from \u001b[01m\u001b[K/usr/include/boost/smart_ptr/shared_ptr.hpp:29\u001b[m\u001b[K,\n",
            "                 from \u001b[01m\u001b[K/usr/include/boost/shared_ptr.hpp:17\u001b[m\u001b[K,\n",
            "                 from \u001b[01m\u001b[K/content/LightGBM/external_libs/compute/include/boost/compute/utility/program_cache.hpp:17\u001b[m\u001b[K,\n",
            "                 from \u001b[01m\u001b[K/content/LightGBM/external_libs/compute/include/boost/compute/detail/meta_kernel.hpp:40\u001b[m\u001b[K,\n",
            "                 from \u001b[01m\u001b[K/content/LightGBM/external_libs/compute/include/boost/compute/types/complex.hpp:20\u001b[m\u001b[K,\n",
            "                 from \u001b[01m\u001b[K/content/LightGBM/external_libs/compute/include/boost/compute/types.hpp:18\u001b[m\u001b[K,\n",
            "                 from \u001b[01m\u001b[K/content/LightGBM/external_libs/compute/include/boost/compute/core.hpp:25\u001b[m\u001b[K,\n",
            "                 from \u001b[01m\u001b[K/content/LightGBM/src/treelearner/gpu_tree_learner.h:33\u001b[m\u001b[K,\n",
            "                 from \u001b[01m\u001b[K/content/LightGBM/src/treelearner/parallel_tree_learner.h:15\u001b[m\u001b[K,\n",
            "                 from \u001b[01m\u001b[K/content/LightGBM/src/treelearner/feature_parallel_tree_learner.cpp:8\u001b[m\u001b[K:\n",
            "\u001b[01m\u001b[K/usr/include/boost/bind.hpp:36:1:\u001b[m\u001b[K \u001b[01;36m\u001b[Knote: \u001b[m\u001b[K‘\u001b[01m\u001b[K#pragma message: The practice of declaring the Bind placeholders (_1, _2, ...) in the global namespace is deprecated. Please use <boost/bind/bind.hpp> + using namespace boost::placeholders, or define BOOST_BIND_GLOBAL_PLACEHOLDERS to retain the current behavior.\u001b[m\u001b[K’\n",
            "   36 | \u001b[01;36m\u001b[KBOOST_PRAGMA_MESSAGE\u001b[m\u001b[K(\n",
            "      | \u001b[01;36m\u001b[K^~~~~~~~~~~~~~~~~~~~\u001b[m\u001b[K\n",
            "[ 74%] \u001b[32mBuilding CXX object CMakeFiles/lightgbm_objs.dir/src/treelearner/gpu_tree_learner.cpp.o\u001b[0m\n",
            "In file included from \u001b[01m\u001b[K/usr/include/CL/cl.h:20\u001b[m\u001b[K,\n",
            "                 from \u001b[01m\u001b[K/content/LightGBM/external_libs/compute/include/boost/compute/cl.hpp:19\u001b[m\u001b[K,\n",
            "                 from \u001b[01m\u001b[K/content/LightGBM/external_libs/compute/include/boost/compute/config.hpp:16\u001b[m\u001b[K,\n",
            "                 from \u001b[01m\u001b[K/content/LightGBM/external_libs/compute/include/boost/compute/buffer.hpp:14\u001b[m\u001b[K,\n",
            "                 from \u001b[01m\u001b[K/content/LightGBM/external_libs/compute/include/boost/compute/core.hpp:18\u001b[m\u001b[K,\n",
            "                 from \u001b[01m\u001b[K/content/LightGBM/src/treelearner/gpu_tree_learner.h:33\u001b[m\u001b[K,\n",
            "                 from \u001b[01m\u001b[K/content/LightGBM/src/treelearner/gpu_tree_learner.cpp:7\u001b[m\u001b[K:\n",
            "\u001b[01m\u001b[K/usr/include/CL/cl_version.h:22:104:\u001b[m\u001b[K \u001b[01;36m\u001b[Knote: \u001b[m\u001b[K‘\u001b[01m\u001b[K#pragma message: cl_version.h: CL_TARGET_OPENCL_VERSION is not defined. Defaulting to 300 (OpenCL 3.0)\u001b[m\u001b[K’\n",
            "   22 | #pragma message(\"cl_version.h: CL_TARGET_OPENCL_VERSION is not defined. Defaulting to 300 (OpenCL 3.0)\"\u001b[01;36m\u001b[K)\u001b[m\u001b[K\n",
            "      |                                                                                                        \u001b[01;36m\u001b[K^\u001b[m\u001b[K\n",
            "In file included from \u001b[01m\u001b[K/usr/include/boost/smart_ptr/detail/sp_thread_sleep.hpp:22\u001b[m\u001b[K,\n",
            "                 from \u001b[01m\u001b[K/usr/include/boost/smart_ptr/detail/yield_k.hpp:23\u001b[m\u001b[K,\n",
            "                 from \u001b[01m\u001b[K/usr/include/boost/smart_ptr/detail/spinlock_gcc_atomic.hpp:14\u001b[m\u001b[K,\n",
            "                 from \u001b[01m\u001b[K/usr/include/boost/smart_ptr/detail/spinlock.hpp:42\u001b[m\u001b[K,\n",
            "                 from \u001b[01m\u001b[K/usr/include/boost/smart_ptr/detail/spinlock_pool.hpp:25\u001b[m\u001b[K,\n",
            "                 from \u001b[01m\u001b[K/usr/include/boost/smart_ptr/shared_ptr.hpp:29\u001b[m\u001b[K,\n",
            "                 from \u001b[01m\u001b[K/usr/include/boost/shared_ptr.hpp:17\u001b[m\u001b[K,\n",
            "                 from \u001b[01m\u001b[K/content/LightGBM/external_libs/compute/include/boost/compute/utility/program_cache.hpp:17\u001b[m\u001b[K,\n",
            "                 from \u001b[01m\u001b[K/content/LightGBM/external_libs/compute/include/boost/compute/detail/meta_kernel.hpp:40\u001b[m\u001b[K,\n",
            "                 from \u001b[01m\u001b[K/content/LightGBM/external_libs/compute/include/boost/compute/types/complex.hpp:20\u001b[m\u001b[K,\n",
            "                 from \u001b[01m\u001b[K/content/LightGBM/external_libs/compute/include/boost/compute/types.hpp:18\u001b[m\u001b[K,\n",
            "                 from \u001b[01m\u001b[K/content/LightGBM/external_libs/compute/include/boost/compute/core.hpp:25\u001b[m\u001b[K,\n",
            "                 from \u001b[01m\u001b[K/content/LightGBM/src/treelearner/gpu_tree_learner.h:33\u001b[m\u001b[K,\n",
            "                 from \u001b[01m\u001b[K/content/LightGBM/src/treelearner/gpu_tree_learner.cpp:7\u001b[m\u001b[K:\n",
            "\u001b[01m\u001b[K/usr/include/boost/bind.hpp:36:1:\u001b[m\u001b[K \u001b[01;36m\u001b[Knote: \u001b[m\u001b[K‘\u001b[01m\u001b[K#pragma message: The practice of declaring the Bind placeholders (_1, _2, ...) in the global namespace is deprecated. Please use <boost/bind/bind.hpp> + using namespace boost::placeholders, or define BOOST_BIND_GLOBAL_PLACEHOLDERS to retain the current behavior.\u001b[m\u001b[K’\n",
            "   36 | \u001b[01;36m\u001b[KBOOST_PRAGMA_MESSAGE\u001b[m\u001b[K(\n",
            "      | \u001b[01;36m\u001b[K^~~~~~~~~~~~~~~~~~~~\u001b[m\u001b[K\n",
            "[ 76%] \u001b[32mBuilding CXX object CMakeFiles/lightgbm_objs.dir/src/treelearner/gradient_discretizer.cpp.o\u001b[0m\n",
            "[ 79%] \u001b[32mBuilding CXX object CMakeFiles/lightgbm_objs.dir/src/treelearner/linear_tree_learner.cpp.o\u001b[0m\n",
            "In file included from \u001b[01m\u001b[K/usr/include/CL/cl.h:20\u001b[m\u001b[K,\n",
            "                 from \u001b[01m\u001b[K/content/LightGBM/external_libs/compute/include/boost/compute/cl.hpp:19\u001b[m\u001b[K,\n",
            "                 from \u001b[01m\u001b[K/content/LightGBM/external_libs/compute/include/boost/compute/config.hpp:16\u001b[m\u001b[K,\n",
            "                 from \u001b[01m\u001b[K/content/LightGBM/external_libs/compute/include/boost/compute/buffer.hpp:14\u001b[m\u001b[K,\n",
            "                 from \u001b[01m\u001b[K/content/LightGBM/external_libs/compute/include/boost/compute/core.hpp:18\u001b[m\u001b[K,\n",
            "                 from \u001b[01m\u001b[K/content/LightGBM/src/treelearner/gpu_tree_learner.h:33\u001b[m\u001b[K,\n",
            "                 from \u001b[01m\u001b[K/content/LightGBM/src/treelearner/linear_tree_learner.h:14\u001b[m\u001b[K,\n",
            "                 from \u001b[01m\u001b[K/content/LightGBM/src/treelearner/linear_tree_learner.cpp:5\u001b[m\u001b[K:\n",
            "\u001b[01m\u001b[K/usr/include/CL/cl_version.h:22:104:\u001b[m\u001b[K \u001b[01;36m\u001b[Knote: \u001b[m\u001b[K‘\u001b[01m\u001b[K#pragma message: cl_version.h: CL_TARGET_OPENCL_VERSION is not defined. Defaulting to 300 (OpenCL 3.0)\u001b[m\u001b[K’\n",
            "   22 | #pragma message(\"cl_version.h: CL_TARGET_OPENCL_VERSION is not defined. Defaulting to 300 (OpenCL 3.0)\"\u001b[01;36m\u001b[K)\u001b[m\u001b[K\n",
            "      |                                                                                                        \u001b[01;36m\u001b[K^\u001b[m\u001b[K\n",
            "In file included from \u001b[01m\u001b[K/usr/include/boost/smart_ptr/detail/sp_thread_sleep.hpp:22\u001b[m\u001b[K,\n",
            "                 from \u001b[01m\u001b[K/usr/include/boost/smart_ptr/detail/yield_k.hpp:23\u001b[m\u001b[K,\n",
            "                 from \u001b[01m\u001b[K/usr/include/boost/smart_ptr/detail/spinlock_gcc_atomic.hpp:14\u001b[m\u001b[K,\n",
            "                 from \u001b[01m\u001b[K/usr/include/boost/smart_ptr/detail/spinlock.hpp:42\u001b[m\u001b[K,\n",
            "                 from \u001b[01m\u001b[K/usr/include/boost/smart_ptr/detail/spinlock_pool.hpp:25\u001b[m\u001b[K,\n",
            "                 from \u001b[01m\u001b[K/usr/include/boost/smart_ptr/shared_ptr.hpp:29\u001b[m\u001b[K,\n",
            "                 from \u001b[01m\u001b[K/usr/include/boost/shared_ptr.hpp:17\u001b[m\u001b[K,\n",
            "                 from \u001b[01m\u001b[K/content/LightGBM/external_libs/compute/include/boost/compute/utility/program_cache.hpp:17\u001b[m\u001b[K,\n",
            "                 from \u001b[01m\u001b[K/content/LightGBM/external_libs/compute/include/boost/compute/detail/meta_kernel.hpp:40\u001b[m\u001b[K,\n",
            "                 from \u001b[01m\u001b[K/content/LightGBM/external_libs/compute/include/boost/compute/types/complex.hpp:20\u001b[m\u001b[K,\n",
            "                 from \u001b[01m\u001b[K/content/LightGBM/external_libs/compute/include/boost/compute/types.hpp:18\u001b[m\u001b[K,\n",
            "                 from \u001b[01m\u001b[K/content/LightGBM/external_libs/compute/include/boost/compute/core.hpp:25\u001b[m\u001b[K,\n",
            "                 from \u001b[01m\u001b[K/content/LightGBM/src/treelearner/gpu_tree_learner.h:33\u001b[m\u001b[K,\n",
            "                 from \u001b[01m\u001b[K/content/LightGBM/src/treelearner/linear_tree_learner.h:14\u001b[m\u001b[K,\n",
            "                 from \u001b[01m\u001b[K/content/LightGBM/src/treelearner/linear_tree_learner.cpp:5\u001b[m\u001b[K:\n",
            "\u001b[01m\u001b[K/usr/include/boost/bind.hpp:36:1:\u001b[m\u001b[K \u001b[01;36m\u001b[Knote: \u001b[m\u001b[K‘\u001b[01m\u001b[K#pragma message: The practice of declaring the Bind placeholders (_1, _2, ...) in the global namespace is deprecated. Please use <boost/bind/bind.hpp> + using namespace boost::placeholders, or define BOOST_BIND_GLOBAL_PLACEHOLDERS to retain the current behavior.\u001b[m\u001b[K’\n",
            "   36 | \u001b[01;36m\u001b[KBOOST_PRAGMA_MESSAGE\u001b[m\u001b[K(\n",
            "      | \u001b[01;36m\u001b[K^~~~~~~~~~~~~~~~~~~~\u001b[m\u001b[K\n",
            "[ 82%] \u001b[32mBuilding CXX object CMakeFiles/lightgbm_objs.dir/src/treelearner/serial_tree_learner.cpp.o\u001b[0m\n",
            "[ 84%] \u001b[32mBuilding CXX object CMakeFiles/lightgbm_objs.dir/src/treelearner/tree_learner.cpp.o\u001b[0m\n",
            "In file included from \u001b[01m\u001b[K/usr/include/CL/cl.h:20\u001b[m\u001b[K,\n",
            "                 from \u001b[01m\u001b[K/content/LightGBM/external_libs/compute/include/boost/compute/cl.hpp:19\u001b[m\u001b[K,\n",
            "                 from \u001b[01m\u001b[K/content/LightGBM/external_libs/compute/include/boost/compute/config.hpp:16\u001b[m\u001b[K,\n",
            "                 from \u001b[01m\u001b[K/content/LightGBM/external_libs/compute/include/boost/compute/buffer.hpp:14\u001b[m\u001b[K,\n",
            "                 from \u001b[01m\u001b[K/content/LightGBM/external_libs/compute/include/boost/compute/core.hpp:18\u001b[m\u001b[K,\n",
            "                 from \u001b[01m\u001b[K/content/LightGBM/src/treelearner/gpu_tree_learner.h:33\u001b[m\u001b[K,\n",
            "                 from \u001b[01m\u001b[K/content/LightGBM/src/treelearner/tree_learner.cpp:7\u001b[m\u001b[K:\n",
            "\u001b[01m\u001b[K/usr/include/CL/cl_version.h:22:104:\u001b[m\u001b[K \u001b[01;36m\u001b[Knote: \u001b[m\u001b[K‘\u001b[01m\u001b[K#pragma message: cl_version.h: CL_TARGET_OPENCL_VERSION is not defined. Defaulting to 300 (OpenCL 3.0)\u001b[m\u001b[K’\n",
            "   22 | #pragma message(\"cl_version.h: CL_TARGET_OPENCL_VERSION is not defined. Defaulting to 300 (OpenCL 3.0)\"\u001b[01;36m\u001b[K)\u001b[m\u001b[K\n",
            "      |                                                                                                        \u001b[01;36m\u001b[K^\u001b[m\u001b[K\n",
            "In file included from \u001b[01m\u001b[K/usr/include/boost/smart_ptr/detail/sp_thread_sleep.hpp:22\u001b[m\u001b[K,\n",
            "                 from \u001b[01m\u001b[K/usr/include/boost/smart_ptr/detail/yield_k.hpp:23\u001b[m\u001b[K,\n",
            "                 from \u001b[01m\u001b[K/usr/include/boost/smart_ptr/detail/spinlock_gcc_atomic.hpp:14\u001b[m\u001b[K,\n",
            "                 from \u001b[01m\u001b[K/usr/include/boost/smart_ptr/detail/spinlock.hpp:42\u001b[m\u001b[K,\n",
            "                 from \u001b[01m\u001b[K/usr/include/boost/smart_ptr/detail/spinlock_pool.hpp:25\u001b[m\u001b[K,\n",
            "                 from \u001b[01m\u001b[K/usr/include/boost/smart_ptr/shared_ptr.hpp:29\u001b[m\u001b[K,\n",
            "                 from \u001b[01m\u001b[K/usr/include/boost/shared_ptr.hpp:17\u001b[m\u001b[K,\n",
            "                 from \u001b[01m\u001b[K/content/LightGBM/external_libs/compute/include/boost/compute/utility/program_cache.hpp:17\u001b[m\u001b[K,\n",
            "                 from \u001b[01m\u001b[K/content/LightGBM/external_libs/compute/include/boost/compute/detail/meta_kernel.hpp:40\u001b[m\u001b[K,\n",
            "                 from \u001b[01m\u001b[K/content/LightGBM/external_libs/compute/include/boost/compute/types/complex.hpp:20\u001b[m\u001b[K,\n",
            "                 from \u001b[01m\u001b[K/content/LightGBM/external_libs/compute/include/boost/compute/types.hpp:18\u001b[m\u001b[K,\n",
            "                 from \u001b[01m\u001b[K/content/LightGBM/external_libs/compute/include/boost/compute/core.hpp:25\u001b[m\u001b[K,\n",
            "                 from \u001b[01m\u001b[K/content/LightGBM/src/treelearner/gpu_tree_learner.h:33\u001b[m\u001b[K,\n",
            "                 from \u001b[01m\u001b[K/content/LightGBM/src/treelearner/tree_learner.cpp:7\u001b[m\u001b[K:\n",
            "\u001b[01m\u001b[K/usr/include/boost/bind.hpp:36:1:\u001b[m\u001b[K \u001b[01;36m\u001b[Knote: \u001b[m\u001b[K‘\u001b[01m\u001b[K#pragma message: The practice of declaring the Bind placeholders (_1, _2, ...) in the global namespace is deprecated. Please use <boost/bind/bind.hpp> + using namespace boost::placeholders, or define BOOST_BIND_GLOBAL_PLACEHOLDERS to retain the current behavior.\u001b[m\u001b[K’\n",
            "   36 | \u001b[01;36m\u001b[KBOOST_PRAGMA_MESSAGE\u001b[m\u001b[K(\n",
            "      | \u001b[01;36m\u001b[K^~~~~~~~~~~~~~~~~~~~\u001b[m\u001b[K\n",
            "[ 87%] \u001b[32mBuilding CXX object CMakeFiles/lightgbm_objs.dir/src/treelearner/voting_parallel_tree_learner.cpp.o\u001b[0m\n",
            "[ 89%] \u001b[32mBuilding CXX object CMakeFiles/lightgbm_objs.dir/src/utils/openmp_wrapper.cpp.o\u001b[0m\n",
            "In file included from \u001b[01m\u001b[K/usr/include/CL/cl.h:20\u001b[m\u001b[K,\n",
            "                 from \u001b[01m\u001b[K/content/LightGBM/external_libs/compute/include/boost/compute/cl.hpp:19\u001b[m\u001b[K,\n",
            "                 from \u001b[01m\u001b[K/content/LightGBM/external_libs/compute/include/boost/compute/config.hpp:16\u001b[m\u001b[K,\n",
            "                 from \u001b[01m\u001b[K/content/LightGBM/external_libs/compute/include/boost/compute/buffer.hpp:14\u001b[m\u001b[K,\n",
            "                 from \u001b[01m\u001b[K/content/LightGBM/external_libs/compute/include/boost/compute/core.hpp:18\u001b[m\u001b[K,\n",
            "                 from \u001b[01m\u001b[K/content/LightGBM/src/treelearner/gpu_tree_learner.h:33\u001b[m\u001b[K,\n",
            "                 from \u001b[01m\u001b[K/content/LightGBM/src/treelearner/parallel_tree_learner.h:15\u001b[m\u001b[K,\n",
            "                 from \u001b[01m\u001b[K/content/LightGBM/src/treelearner/voting_parallel_tree_learner.cpp:11\u001b[m\u001b[K:\n",
            "\u001b[01m\u001b[K/usr/include/CL/cl_version.h:22:104:\u001b[m\u001b[K \u001b[01;36m\u001b[Knote: \u001b[m\u001b[K‘\u001b[01m\u001b[K#pragma message: cl_version.h: CL_TARGET_OPENCL_VERSION is not defined. Defaulting to 300 (OpenCL 3.0)\u001b[m\u001b[K’\n",
            "   22 | #pragma message(\"cl_version.h: CL_TARGET_OPENCL_VERSION is not defined. Defaulting to 300 (OpenCL 3.0)\"\u001b[01;36m\u001b[K)\u001b[m\u001b[K\n",
            "      |                                                                                                        \u001b[01;36m\u001b[K^\u001b[m\u001b[K\n",
            "In file included from \u001b[01m\u001b[K/usr/include/boost/smart_ptr/detail/sp_thread_sleep.hpp:22\u001b[m\u001b[K,\n",
            "                 from \u001b[01m\u001b[K/usr/include/boost/smart_ptr/detail/yield_k.hpp:23\u001b[m\u001b[K,\n",
            "                 from \u001b[01m\u001b[K/usr/include/boost/smart_ptr/detail/spinlock_gcc_atomic.hpp:14\u001b[m\u001b[K,\n",
            "                 from \u001b[01m\u001b[K/usr/include/boost/smart_ptr/detail/spinlock.hpp:42\u001b[m\u001b[K,\n",
            "                 from \u001b[01m\u001b[K/usr/include/boost/smart_ptr/detail/spinlock_pool.hpp:25\u001b[m\u001b[K,\n",
            "                 from \u001b[01m\u001b[K/usr/include/boost/smart_ptr/shared_ptr.hpp:29\u001b[m\u001b[K,\n",
            "                 from \u001b[01m\u001b[K/usr/include/boost/shared_ptr.hpp:17\u001b[m\u001b[K,\n",
            "                 from \u001b[01m\u001b[K/content/LightGBM/external_libs/compute/include/boost/compute/utility/program_cache.hpp:17\u001b[m\u001b[K,\n",
            "                 from \u001b[01m\u001b[K/content/LightGBM/external_libs/compute/include/boost/compute/detail/meta_kernel.hpp:40\u001b[m\u001b[K,\n",
            "                 from \u001b[01m\u001b[K/content/LightGBM/external_libs/compute/include/boost/compute/types/complex.hpp:20\u001b[m\u001b[K,\n",
            "                 from \u001b[01m\u001b[K/content/LightGBM/external_libs/compute/include/boost/compute/types.hpp:18\u001b[m\u001b[K,\n",
            "                 from \u001b[01m\u001b[K/content/LightGBM/external_libs/compute/include/boost/compute/core.hpp:25\u001b[m\u001b[K,\n",
            "                 from \u001b[01m\u001b[K/content/LightGBM/src/treelearner/gpu_tree_learner.h:33\u001b[m\u001b[K,\n",
            "                 from \u001b[01m\u001b[K/content/LightGBM/src/treelearner/parallel_tree_learner.h:15\u001b[m\u001b[K,\n",
            "                 from \u001b[01m\u001b[K/content/LightGBM/src/treelearner/voting_parallel_tree_learner.cpp:11\u001b[m\u001b[K:\n",
            "\u001b[01m\u001b[K/usr/include/boost/bind.hpp:36:1:\u001b[m\u001b[K \u001b[01;36m\u001b[Knote: \u001b[m\u001b[K‘\u001b[01m\u001b[K#pragma message: The practice of declaring the Bind placeholders (_1, _2, ...) in the global namespace is deprecated. Please use <boost/bind/bind.hpp> + using namespace boost::placeholders, or define BOOST_BIND_GLOBAL_PLACEHOLDERS to retain the current behavior.\u001b[m\u001b[K’\n",
            "   36 | \u001b[01;36m\u001b[KBOOST_PRAGMA_MESSAGE\u001b[m\u001b[K(\n",
            "      | \u001b[01;36m\u001b[K^~~~~~~~~~~~~~~~~~~~\u001b[m\u001b[K\n",
            "[ 89%] Built target lightgbm_objs\n",
            "[ 92%] \u001b[32mBuilding CXX object CMakeFiles/lightgbm.dir/src/main.cpp.o\u001b[0m\n",
            "[ 94%] \u001b[32mBuilding CXX object CMakeFiles/lightgbm.dir/src/application/application.cpp.o\u001b[0m\n",
            "[ 97%] \u001b[32m\u001b[1mLinking CXX shared library /content/LightGBM/lib_lightgbm.so\u001b[0m\n",
            "[ 97%] Built target _lightgbm\n",
            "[100%] \u001b[32m\u001b[1mLinking CXX executable /content/LightGBM/lightgbm\u001b[0m\n",
            "[100%] Built target lightgbm\n",
            "/content/LightGBM/python-package\n",
            "python3: can't open file '/content/LightGBM/python-package/setup.py': [Errno 2] No such file or directory\n"
          ]
        }
      ],
      "source": [
        "# Install the GPU version of LightGBM\n",
        "!apt-get install -y -qq libboost-all-dev\n",
        "!pip uninstall -y lightgbm -q\n",
        "!git clone --recursive https://github.com/microsoft/LightGBM\n",
        "%cd LightGBM\n",
        "!mkdir build\n",
        "%cd build\n",
        "!cmake -DUSE_GPU=1 ..\n",
        "!make -j4\n",
        "%cd ../python-package\n",
        "!python setup.py install\n"
      ]
    },
    {
      "cell_type": "code",
      "execution_count": null,
      "metadata": {
        "id": "3H15EHbtB3je"
      },
      "outputs": [],
      "source": [
        "import numpy as np\n",
        "import pandas as pd\n",
        "import os, sys, gc, time, warnings, pickle, psutil, random\n",
        "\n",
        "from math import ceil\n",
        "\n",
        "from sklearn.preprocessing import LabelEncoder\n",
        "\n",
        "warnings.filterwarnings('ignore')"
      ]
    },
    {
      "cell_type": "code",
      "execution_count": null,
      "metadata": {
        "id": "ymeJa4xkC9Et"
      },
      "outputs": [],
      "source": [
        "def get_memory_usage():\n",
        "    return np.round(psutil.Process(os.getpid()).memory_info()[0]/2.**30, 2)\n",
        "\n",
        "def sizeof_fmt(num, suffix='B'):\n",
        "    for unit in ['','Ki','Mi','Gi','Ti','Pi','Ei','Zi']:\n",
        "        if abs(num) < 1024.0:\n",
        "            return \"%3.1f%s%s\" % (num, unit, suffix)\n",
        "        num /= 1024.0\n",
        "    return \"%.1f%s%s\" % (num, 'Yi', suffix)"
      ]
    },
    {
      "cell_type": "code",
      "execution_count": null,
      "metadata": {
        "id": "IQ3KWr3CvW9S"
      },
      "outputs": [],
      "source": [
        "## Memory Reducer\n",
        "# :df pandas dataframe to reduce size             # type: pd.DataFrame()\n",
        "# :verbose                                        # type: bool\n",
        "def reduce_mem_usage(df, verbose=True):\n",
        "    numerics = ['int16', 'int32', 'int64', 'float16', 'float32', 'float64']\n",
        "    start_mem = df.memory_usage().sum() / 1024**2\n",
        "    for col in df.columns:\n",
        "        col_type = df[col].dtypes\n",
        "        if col_type in numerics:\n",
        "            c_min = df[col].min()\n",
        "            c_max = df[col].max()\n",
        "            if str(col_type)[:3] == 'int':\n",
        "                if c_min > np.iinfo(np.int8).min and c_max < np.iinfo(np.int8).max:\n",
        "                    df[col] = df[col].astype(np.int8)\n",
        "                elif c_min > np.iinfo(np.int16).min and c_max < np.iinfo(np.int16).max:\n",
        "                       df[col] = df[col].astype(np.int16)\n",
        "                elif c_min > np.iinfo(np.int32).min and c_max < np.iinfo(np.int32).max:\n",
        "                    df[col] = df[col].astype(np.int32)\n",
        "                elif c_min > np.iinfo(np.int64).min and c_max < np.iinfo(np.int64).max:\n",
        "                    df[col] = df[col].astype(np.int64)\n",
        "            else:\n",
        "                if c_min > np.finfo(np.float16).min and c_max < np.finfo(np.float16).max:\n",
        "                    df[col] = df[col].astype(np.float16)\n",
        "                elif c_min > np.finfo(np.float32).min and c_max < np.finfo(np.float32).max:\n",
        "                    df[col] = df[col].astype(np.float32)\n",
        "                else:\n",
        "                    df[col] = df[col].astype(np.float64)\n",
        "    end_mem = df.memory_usage().sum() / 1024**2\n",
        "    if verbose: print('Mem. usage decreased to {:5.2f} Mb ({:.1f}% reduction)'.format(end_mem, 100 * (start_mem - end_mem) / start_mem))\n",
        "    return df"
      ]
    },
    {
      "cell_type": "markdown",
      "metadata": {
        "id": "vExnbwl8_8U7"
      },
      "source": [
        "# Load the data"
      ]
    },
    {
      "cell_type": "code",
      "execution_count": null,
      "metadata": {
        "colab": {
          "base_uri": "https://localhost:8080/",
          "height": 536
        },
        "id": "PSxkejGbDCT2",
        "outputId": "dda7cda1-2a40-49ff-e67a-33eb52f2f7e6"
      },
      "outputs": [
        {
          "output_type": "stream",
          "name": "stdout",
          "text": [
            "Drive already mounted at /content/drive; to attempt to forcibly remount, call drive.mount(\"/content/drive\", force_remount=True).\n",
            "(45974682, 119)\n"
          ]
        },
        {
          "output_type": "stream",
          "name": "stderr",
          "text": [
            "/usr/local/lib/python3.12/dist-packages/pandas/io/formats/format.py:1458: RuntimeWarning: overflow encountered in cast\n",
            "  has_large_values = (abs_vals > 1e6).any()\n",
            "/usr/local/lib/python3.12/dist-packages/pandas/io/formats/format.py:1458: RuntimeWarning: overflow encountered in cast\n",
            "  has_large_values = (abs_vals > 1e6).any()\n"
          ]
        },
        {
          "output_type": "execute_result",
          "data": {
            "text/plain": [
              "                            id      item_id  dept_id cat_id store_id state_id  \\\n",
              "0  FOODS_1_001_CA_1_validation  FOODS_1_001  FOODS_1  FOODS     CA_1       CA   \n",
              "1  FOODS_1_001_CA_1_validation  FOODS_1_001  FOODS_1  FOODS     CA_1       CA   \n",
              "2  FOODS_1_001_CA_1_validation  FOODS_1_001  FOODS_1  FOODS     CA_1       CA   \n",
              "3  FOODS_1_001_CA_1_validation  FOODS_1_001  FOODS_1  FOODS     CA_1       CA   \n",
              "4  FOODS_1_001_CA_1_validation  FOODS_1_001  FOODS_1  FOODS     CA_1       CA   \n",
              "\n",
              "   d  sales       date  wm_yr_wk  ... enc_mean_store_id_cat_id  \\\n",
              "0  1      3 2011-01-29     11101  ...                     2.75   \n",
              "1  2      0 2011-01-30     11101  ...                     2.75   \n",
              "2  3      0 2011-01-31     11101  ...                     2.75   \n",
              "3  4      1 2011-02-01     11101  ...                     2.75   \n",
              "4  5      4 2011-02-02     11101  ...                     2.75   \n",
              "\n",
              "   enc_std_store_id_cat_id  enc_mean_store_id_dept_id  \\\n",
              "0                 6.753906                   1.662109   \n",
              "1                 6.753906                   1.662109   \n",
              "2                 6.753906                   1.662109   \n",
              "3                 6.753906                   1.662109   \n",
              "4                 6.753906                   1.662109   \n",
              "\n",
              "   enc_std_store_id_dept_id enc_mean_item_id enc_std_item_id  \\\n",
              "0                  3.357422         0.719238        1.333008   \n",
              "1                  3.357422         0.719238        1.333008   \n",
              "2                  3.357422         0.719238        1.333008   \n",
              "3                  3.357422         0.719238        1.333008   \n",
              "4                  3.357422         0.719238        1.333008   \n",
              "\n",
              "  enc_mean_item_id_state_id enc_std_item_id_state_id  \\\n",
              "0                  0.968262                 1.662109   \n",
              "1                  0.968262                 1.662109   \n",
              "2                  0.968262                 1.662109   \n",
              "3                  0.968262                 1.662109   \n",
              "4                  0.968262                 1.662109   \n",
              "\n",
              "   enc_mean_item_id_store_id  enc_std_item_id_store_id  \n",
              "0                   0.833984                     1.375  \n",
              "1                   0.833984                     1.375  \n",
              "2                   0.833984                     1.375  \n",
              "3                   0.833984                     1.375  \n",
              "4                   0.833984                     1.375  \n",
              "\n",
              "[5 rows x 119 columns]"
            ],
            "text/html": [
              "\n",
              "  <div id=\"df-c5d8f914-24c9-4090-91d9-d8a81a16d854\" class=\"colab-df-container\">\n",
              "    <div>\n",
              "<style scoped>\n",
              "    .dataframe tbody tr th:only-of-type {\n",
              "        vertical-align: middle;\n",
              "    }\n",
              "\n",
              "    .dataframe tbody tr th {\n",
              "        vertical-align: top;\n",
              "    }\n",
              "\n",
              "    .dataframe thead th {\n",
              "        text-align: right;\n",
              "    }\n",
              "</style>\n",
              "<table border=\"1\" class=\"dataframe\">\n",
              "  <thead>\n",
              "    <tr style=\"text-align: right;\">\n",
              "      <th></th>\n",
              "      <th>id</th>\n",
              "      <th>item_id</th>\n",
              "      <th>dept_id</th>\n",
              "      <th>cat_id</th>\n",
              "      <th>store_id</th>\n",
              "      <th>state_id</th>\n",
              "      <th>d</th>\n",
              "      <th>sales</th>\n",
              "      <th>date</th>\n",
              "      <th>wm_yr_wk</th>\n",
              "      <th>...</th>\n",
              "      <th>enc_mean_store_id_cat_id</th>\n",
              "      <th>enc_std_store_id_cat_id</th>\n",
              "      <th>enc_mean_store_id_dept_id</th>\n",
              "      <th>enc_std_store_id_dept_id</th>\n",
              "      <th>enc_mean_item_id</th>\n",
              "      <th>enc_std_item_id</th>\n",
              "      <th>enc_mean_item_id_state_id</th>\n",
              "      <th>enc_std_item_id_state_id</th>\n",
              "      <th>enc_mean_item_id_store_id</th>\n",
              "      <th>enc_std_item_id_store_id</th>\n",
              "    </tr>\n",
              "  </thead>\n",
              "  <tbody>\n",
              "    <tr>\n",
              "      <th>0</th>\n",
              "      <td>FOODS_1_001_CA_1_validation</td>\n",
              "      <td>FOODS_1_001</td>\n",
              "      <td>FOODS_1</td>\n",
              "      <td>FOODS</td>\n",
              "      <td>CA_1</td>\n",
              "      <td>CA</td>\n",
              "      <td>1</td>\n",
              "      <td>3</td>\n",
              "      <td>2011-01-29</td>\n",
              "      <td>11101</td>\n",
              "      <td>...</td>\n",
              "      <td>2.75</td>\n",
              "      <td>6.753906</td>\n",
              "      <td>1.662109</td>\n",
              "      <td>3.357422</td>\n",
              "      <td>0.719238</td>\n",
              "      <td>1.333008</td>\n",
              "      <td>0.968262</td>\n",
              "      <td>1.662109</td>\n",
              "      <td>0.833984</td>\n",
              "      <td>1.375</td>\n",
              "    </tr>\n",
              "    <tr>\n",
              "      <th>1</th>\n",
              "      <td>FOODS_1_001_CA_1_validation</td>\n",
              "      <td>FOODS_1_001</td>\n",
              "      <td>FOODS_1</td>\n",
              "      <td>FOODS</td>\n",
              "      <td>CA_1</td>\n",
              "      <td>CA</td>\n",
              "      <td>2</td>\n",
              "      <td>0</td>\n",
              "      <td>2011-01-30</td>\n",
              "      <td>11101</td>\n",
              "      <td>...</td>\n",
              "      <td>2.75</td>\n",
              "      <td>6.753906</td>\n",
              "      <td>1.662109</td>\n",
              "      <td>3.357422</td>\n",
              "      <td>0.719238</td>\n",
              "      <td>1.333008</td>\n",
              "      <td>0.968262</td>\n",
              "      <td>1.662109</td>\n",
              "      <td>0.833984</td>\n",
              "      <td>1.375</td>\n",
              "    </tr>\n",
              "    <tr>\n",
              "      <th>2</th>\n",
              "      <td>FOODS_1_001_CA_1_validation</td>\n",
              "      <td>FOODS_1_001</td>\n",
              "      <td>FOODS_1</td>\n",
              "      <td>FOODS</td>\n",
              "      <td>CA_1</td>\n",
              "      <td>CA</td>\n",
              "      <td>3</td>\n",
              "      <td>0</td>\n",
              "      <td>2011-01-31</td>\n",
              "      <td>11101</td>\n",
              "      <td>...</td>\n",
              "      <td>2.75</td>\n",
              "      <td>6.753906</td>\n",
              "      <td>1.662109</td>\n",
              "      <td>3.357422</td>\n",
              "      <td>0.719238</td>\n",
              "      <td>1.333008</td>\n",
              "      <td>0.968262</td>\n",
              "      <td>1.662109</td>\n",
              "      <td>0.833984</td>\n",
              "      <td>1.375</td>\n",
              "    </tr>\n",
              "    <tr>\n",
              "      <th>3</th>\n",
              "      <td>FOODS_1_001_CA_1_validation</td>\n",
              "      <td>FOODS_1_001</td>\n",
              "      <td>FOODS_1</td>\n",
              "      <td>FOODS</td>\n",
              "      <td>CA_1</td>\n",
              "      <td>CA</td>\n",
              "      <td>4</td>\n",
              "      <td>1</td>\n",
              "      <td>2011-02-01</td>\n",
              "      <td>11101</td>\n",
              "      <td>...</td>\n",
              "      <td>2.75</td>\n",
              "      <td>6.753906</td>\n",
              "      <td>1.662109</td>\n",
              "      <td>3.357422</td>\n",
              "      <td>0.719238</td>\n",
              "      <td>1.333008</td>\n",
              "      <td>0.968262</td>\n",
              "      <td>1.662109</td>\n",
              "      <td>0.833984</td>\n",
              "      <td>1.375</td>\n",
              "    </tr>\n",
              "    <tr>\n",
              "      <th>4</th>\n",
              "      <td>FOODS_1_001_CA_1_validation</td>\n",
              "      <td>FOODS_1_001</td>\n",
              "      <td>FOODS_1</td>\n",
              "      <td>FOODS</td>\n",
              "      <td>CA_1</td>\n",
              "      <td>CA</td>\n",
              "      <td>5</td>\n",
              "      <td>4</td>\n",
              "      <td>2011-02-02</td>\n",
              "      <td>11101</td>\n",
              "      <td>...</td>\n",
              "      <td>2.75</td>\n",
              "      <td>6.753906</td>\n",
              "      <td>1.662109</td>\n",
              "      <td>3.357422</td>\n",
              "      <td>0.719238</td>\n",
              "      <td>1.333008</td>\n",
              "      <td>0.968262</td>\n",
              "      <td>1.662109</td>\n",
              "      <td>0.833984</td>\n",
              "      <td>1.375</td>\n",
              "    </tr>\n",
              "  </tbody>\n",
              "</table>\n",
              "<p>5 rows × 119 columns</p>\n",
              "</div>\n",
              "    <div class=\"colab-df-buttons\">\n",
              "\n",
              "  <div class=\"colab-df-container\">\n",
              "    <button class=\"colab-df-convert\" onclick=\"convertToInteractive('df-c5d8f914-24c9-4090-91d9-d8a81a16d854')\"\n",
              "            title=\"Convert this dataframe to an interactive table.\"\n",
              "            style=\"display:none;\">\n",
              "\n",
              "  <svg xmlns=\"http://www.w3.org/2000/svg\" height=\"24px\" viewBox=\"0 -960 960 960\">\n",
              "    <path d=\"M120-120v-720h720v720H120Zm60-500h600v-160H180v160Zm220 220h160v-160H400v160Zm0 220h160v-160H400v160ZM180-400h160v-160H180v160Zm440 0h160v-160H620v160ZM180-180h160v-160H180v160Zm440 0h160v-160H620v160Z\"/>\n",
              "  </svg>\n",
              "    </button>\n",
              "\n",
              "  <style>\n",
              "    .colab-df-container {\n",
              "      display:flex;\n",
              "      gap: 12px;\n",
              "    }\n",
              "\n",
              "    .colab-df-convert {\n",
              "      background-color: #E8F0FE;\n",
              "      border: none;\n",
              "      border-radius: 50%;\n",
              "      cursor: pointer;\n",
              "      display: none;\n",
              "      fill: #1967D2;\n",
              "      height: 32px;\n",
              "      padding: 0 0 0 0;\n",
              "      width: 32px;\n",
              "    }\n",
              "\n",
              "    .colab-df-convert:hover {\n",
              "      background-color: #E2EBFA;\n",
              "      box-shadow: 0px 1px 2px rgba(60, 64, 67, 0.3), 0px 1px 3px 1px rgba(60, 64, 67, 0.15);\n",
              "      fill: #174EA6;\n",
              "    }\n",
              "\n",
              "    .colab-df-buttons div {\n",
              "      margin-bottom: 4px;\n",
              "    }\n",
              "\n",
              "    [theme=dark] .colab-df-convert {\n",
              "      background-color: #3B4455;\n",
              "      fill: #D2E3FC;\n",
              "    }\n",
              "\n",
              "    [theme=dark] .colab-df-convert:hover {\n",
              "      background-color: #434B5C;\n",
              "      box-shadow: 0px 1px 3px 1px rgba(0, 0, 0, 0.15);\n",
              "      filter: drop-shadow(0px 1px 2px rgba(0, 0, 0, 0.3));\n",
              "      fill: #FFFFFF;\n",
              "    }\n",
              "  </style>\n",
              "\n",
              "    <script>\n",
              "      const buttonEl =\n",
              "        document.querySelector('#df-c5d8f914-24c9-4090-91d9-d8a81a16d854 button.colab-df-convert');\n",
              "      buttonEl.style.display =\n",
              "        google.colab.kernel.accessAllowed ? 'block' : 'none';\n",
              "\n",
              "      async function convertToInteractive(key) {\n",
              "        const element = document.querySelector('#df-c5d8f914-24c9-4090-91d9-d8a81a16d854');\n",
              "        const dataTable =\n",
              "          await google.colab.kernel.invokeFunction('convertToInteractive',\n",
              "                                                    [key], {});\n",
              "        if (!dataTable) return;\n",
              "\n",
              "        const docLinkHtml = 'Like what you see? Visit the ' +\n",
              "          '<a target=\"_blank\" href=https://colab.research.google.com/notebooks/data_table.ipynb>data table notebook</a>'\n",
              "          + ' to learn more about interactive tables.';\n",
              "        element.innerHTML = '';\n",
              "        dataTable['output_type'] = 'display_data';\n",
              "        await google.colab.output.renderOutput(dataTable, element);\n",
              "        const docLink = document.createElement('div');\n",
              "        docLink.innerHTML = docLinkHtml;\n",
              "        element.appendChild(docLink);\n",
              "      }\n",
              "    </script>\n",
              "  </div>\n",
              "\n",
              "\n",
              "    <div id=\"df-23eba4c0-c013-4902-ae63-d536db9811d8\">\n",
              "      <button class=\"colab-df-quickchart\" onclick=\"quickchart('df-23eba4c0-c013-4902-ae63-d536db9811d8')\"\n",
              "                title=\"Suggest charts\"\n",
              "                style=\"display:none;\">\n",
              "\n",
              "<svg xmlns=\"http://www.w3.org/2000/svg\" height=\"24px\"viewBox=\"0 0 24 24\"\n",
              "     width=\"24px\">\n",
              "    <g>\n",
              "        <path d=\"M19 3H5c-1.1 0-2 .9-2 2v14c0 1.1.9 2 2 2h14c1.1 0 2-.9 2-2V5c0-1.1-.9-2-2-2zM9 17H7v-7h2v7zm4 0h-2V7h2v10zm4 0h-2v-4h2v4z\"/>\n",
              "    </g>\n",
              "</svg>\n",
              "      </button>\n",
              "\n",
              "<style>\n",
              "  .colab-df-quickchart {\n",
              "      --bg-color: #E8F0FE;\n",
              "      --fill-color: #1967D2;\n",
              "      --hover-bg-color: #E2EBFA;\n",
              "      --hover-fill-color: #174EA6;\n",
              "      --disabled-fill-color: #AAA;\n",
              "      --disabled-bg-color: #DDD;\n",
              "  }\n",
              "\n",
              "  [theme=dark] .colab-df-quickchart {\n",
              "      --bg-color: #3B4455;\n",
              "      --fill-color: #D2E3FC;\n",
              "      --hover-bg-color: #434B5C;\n",
              "      --hover-fill-color: #FFFFFF;\n",
              "      --disabled-bg-color: #3B4455;\n",
              "      --disabled-fill-color: #666;\n",
              "  }\n",
              "\n",
              "  .colab-df-quickchart {\n",
              "    background-color: var(--bg-color);\n",
              "    border: none;\n",
              "    border-radius: 50%;\n",
              "    cursor: pointer;\n",
              "    display: none;\n",
              "    fill: var(--fill-color);\n",
              "    height: 32px;\n",
              "    padding: 0;\n",
              "    width: 32px;\n",
              "  }\n",
              "\n",
              "  .colab-df-quickchart:hover {\n",
              "    background-color: var(--hover-bg-color);\n",
              "    box-shadow: 0 1px 2px rgba(60, 64, 67, 0.3), 0 1px 3px 1px rgba(60, 64, 67, 0.15);\n",
              "    fill: var(--button-hover-fill-color);\n",
              "  }\n",
              "\n",
              "  .colab-df-quickchart-complete:disabled,\n",
              "  .colab-df-quickchart-complete:disabled:hover {\n",
              "    background-color: var(--disabled-bg-color);\n",
              "    fill: var(--disabled-fill-color);\n",
              "    box-shadow: none;\n",
              "  }\n",
              "\n",
              "  .colab-df-spinner {\n",
              "    border: 2px solid var(--fill-color);\n",
              "    border-color: transparent;\n",
              "    border-bottom-color: var(--fill-color);\n",
              "    animation:\n",
              "      spin 1s steps(1) infinite;\n",
              "  }\n",
              "\n",
              "  @keyframes spin {\n",
              "    0% {\n",
              "      border-color: transparent;\n",
              "      border-bottom-color: var(--fill-color);\n",
              "      border-left-color: var(--fill-color);\n",
              "    }\n",
              "    20% {\n",
              "      border-color: transparent;\n",
              "      border-left-color: var(--fill-color);\n",
              "      border-top-color: var(--fill-color);\n",
              "    }\n",
              "    30% {\n",
              "      border-color: transparent;\n",
              "      border-left-color: var(--fill-color);\n",
              "      border-top-color: var(--fill-color);\n",
              "      border-right-color: var(--fill-color);\n",
              "    }\n",
              "    40% {\n",
              "      border-color: transparent;\n",
              "      border-right-color: var(--fill-color);\n",
              "      border-top-color: var(--fill-color);\n",
              "    }\n",
              "    60% {\n",
              "      border-color: transparent;\n",
              "      border-right-color: var(--fill-color);\n",
              "    }\n",
              "    80% {\n",
              "      border-color: transparent;\n",
              "      border-right-color: var(--fill-color);\n",
              "      border-bottom-color: var(--fill-color);\n",
              "    }\n",
              "    90% {\n",
              "      border-color: transparent;\n",
              "      border-bottom-color: var(--fill-color);\n",
              "    }\n",
              "  }\n",
              "</style>\n",
              "\n",
              "      <script>\n",
              "        async function quickchart(key) {\n",
              "          const quickchartButtonEl =\n",
              "            document.querySelector('#' + key + ' button');\n",
              "          quickchartButtonEl.disabled = true;  // To prevent multiple clicks.\n",
              "          quickchartButtonEl.classList.add('colab-df-spinner');\n",
              "          try {\n",
              "            const charts = await google.colab.kernel.invokeFunction(\n",
              "                'suggestCharts', [key], {});\n",
              "          } catch (error) {\n",
              "            console.error('Error during call to suggestCharts:', error);\n",
              "          }\n",
              "          quickchartButtonEl.classList.remove('colab-df-spinner');\n",
              "          quickchartButtonEl.classList.add('colab-df-quickchart-complete');\n",
              "        }\n",
              "        (() => {\n",
              "          let quickchartButtonEl =\n",
              "            document.querySelector('#df-23eba4c0-c013-4902-ae63-d536db9811d8 button');\n",
              "          quickchartButtonEl.style.display =\n",
              "            google.colab.kernel.accessAllowed ? 'block' : 'none';\n",
              "        })();\n",
              "      </script>\n",
              "    </div>\n",
              "\n",
              "    </div>\n",
              "  </div>\n"
            ],
            "application/vnd.google.colaboratory.intrinsic+json": {
              "type": "dataframe",
              "variable_name": "sales_long_val"
            }
          },
          "metadata": {},
          "execution_count": 9
        }
      ],
      "source": [
        "from google.colab import drive\n",
        "drive.mount('/content/drive')\n",
        "\n",
        "import pandas as pd\n",
        "\n",
        "file_path = '/content/drive/MyDrive/Colab Notebooks/Supervised Project/sales_long_val_5y.pkl'\n",
        "sales_long_val = pd.read_pickle(file_path)\n",
        "\n",
        "print(sales_long_val.shape)\n",
        "sales_long_val.head()"
      ]
    },
    {
      "cell_type": "code",
      "execution_count": null,
      "metadata": {
        "colab": {
          "base_uri": "https://localhost:8080/"
        },
        "id": "Obz-sR9oDZvj",
        "outputId": "61af2ab5-3308-41bb-b0d1-bfa90c322d33"
      },
      "outputs": [
        {
          "name": "stdout",
          "output_type": "stream",
          "text": [
            "Total groups: 70\n"
          ]
        }
      ],
      "source": [
        "# Group\n",
        "group_key = ['store_id', 'dept_id']\n",
        "\n",
        "group_names = sales_long_val[group_key].drop_duplicates().values.tolist()\n",
        "print(f\"Total groups: {len(group_names)}\")"
      ]
    },
    {
      "cell_type": "code",
      "execution_count": null,
      "metadata": {
        "colab": {
          "base_uri": "https://localhost:8080/"
        },
        "id": "_uAkFVt6VKDi",
        "outputId": "afd0e8da-e284-4cec-9e15-86905be78c57"
      },
      "outputs": [
        {
          "data": {
            "text/plain": [
              "(np.int16(1), np.int16(1913))"
            ]
          },
          "execution_count": 5,
          "metadata": {},
          "output_type": "execute_result"
        }
      ],
      "source": [
        "sales_long_val['d'].min(), sales_long_val['d'].max()"
      ]
    },
    {
      "cell_type": "markdown",
      "metadata": {
        "id": "P8u1QAf2ADrm"
      },
      "source": [
        "# Data grouping"
      ]
    },
    {
      "cell_type": "code",
      "execution_count": null,
      "metadata": {
        "colab": {
          "base_uri": "https://localhost:8080/"
        },
        "id": "PwLieUf71pUK",
        "outputId": "d834fddd-7918-4457-c3e8-8156ad745b83"
      },
      "outputs": [
        {
          "name": "stdout",
          "output_type": "stream",
          "text": [
            "Final categorical variables used for training:\n",
            "['price_change_flag', 'store_id', 'is_weekend', 'snap_CA', 'event_name_1', 'is_discontinued', 'event_type_2', 'snap_WI', 'event_type_1', 'event_name_2', 'item_id', 'cat_id', 'snap_TX']\n"
          ]
        }
      ],
      "source": [
        "# Remove features not used in training (usually unique identifiers, raw fields)\n",
        "remove_feature = [\n",
        "    'id',\n",
        "    #'state_id',\n",
        "    'store_id',\n",
        "    #'cat_id',\n",
        "    #'item_id',\n",
        "    'dept_id',\n",
        "    'date',\n",
        "    'd',\n",
        "    'wm_yr_wk',\n",
        "    'sales'\n",
        "]\n",
        "\n",
        "# Build a set of categorical variables (including original + new)\n",
        "cat_var = [\n",
        "    'item_id', 'dept_id', 'store_id', 'cat_id', 'state_id',\n",
        "    'event_name_1', 'event_name_2', 'event_type_1', 'event_type_2',\n",
        "    'snap_CA', 'snap_TX', 'snap_WI',\n",
        "    'is_weekend',\n",
        "    'price_change_flag',\n",
        "    'is_discontinued'\n",
        "]\n",
        "\n",
        "# Remove those features we marked as \"remove_feature\"\n",
        "cat_var = list(set(cat_var) - set(remove_feature))\n",
        "\n",
        "# Finally, cat_var is the list of category variables\n",
        "print(\"Final categorical variables used for training:\")\n",
        "print(cat_var)"
      ]
    },
    {
      "cell_type": "code",
      "execution_count": null,
      "metadata": {
        "id": "Uno7NlyU8O5i"
      },
      "outputs": [],
      "source": [
        "id_cols = ['id', 'item_id', 'dept_id', 'cat_id', 'store_id', 'state_id', 'd', 'date', 'wm_yr_wk']\n",
        "lag_features = [\n",
        "    'lag_1', 'lag_7', 'lag_14', 'lag_28',\n",
        "    'lag_29', 'lag_30', 'lag_31', 'lag_32', 'lag_33', 'lag_34',\n",
        "    'lag_35', 'lag_36', 'lag_37', 'lag_38', 'lag_39', 'lag_40',\n",
        "    'lag_41', 'lag_42'\n",
        "]\n",
        "lag_diff_features = ['lag_1_minus_7', 'lag_7_minus_14', 'lag_14_minus_28']\n",
        "\n",
        "rolling_features = [\n",
        "    'rolling_mean_7', 'rolling_std_7',\n",
        "    'rolling_mean_14', 'rolling_std_14',\n",
        "    'rolling_mean_30', 'rolling_std_30',\n",
        "    'rolling_mean_60', 'rolling_std_60',\n",
        "    'rolling_mean_180', 'rolling_std_180'\n",
        "]\n",
        "\n",
        "rolling_tmp_features = [\n",
        "    'rolling_mean_tmp_1_7', 'rolling_mean_tmp_1_14', 'rolling_mean_tmp_1_30', 'rolling_mean_tmp_1_60',\n",
        "    'rolling_mean_tmp_7_7', 'rolling_mean_tmp_7_14', 'rolling_mean_tmp_7_30', 'rolling_mean_tmp_7_60',\n",
        "    'rolling_mean_tmp_14_7', 'rolling_mean_tmp_14_14', 'rolling_mean_tmp_14_30', 'rolling_mean_tmp_14_60'\n",
        "]\n",
        "\n",
        "intermittency_features = ['ADI_30', 'CV2_30', 'ADI_60', 'CV2_60', 'ADI_90', 'CV2_90']\n",
        "\n",
        "time_features = ['weekday', 'wday', 'month', 'year', 'day_of_year', 'sin_doy', 'cos_doy',\n",
        "                 'tm_w', 'tm_m', 'tm_y', 'tm_wm', 'tm_dw', 'tm_w_end', 'is_weekend']\n",
        "\n",
        "event_features = ['event_name_1', 'event_type_1', 'event_name_2', 'event_type_2',\n",
        "                  'snap_CA', 'snap_TX', 'snap_WI']\n",
        "\n",
        "price_features = [\n",
        "    'sell_price', 'price_lag_7', 'price_change_flag', 'price_max', 'price_min',\n",
        "    'price_mean', 'price_std', 'price_norm', 'price_nunique', 'item_nunique',\n",
        "    'price_momentum', 'price_momentum_m', 'price_momentum_y'\n",
        "]\n",
        "\n",
        "lifecycle_features = ['release', 'is_discontinued']\n",
        "\n",
        "\n",
        "mean_encoding_features = [\n",
        "    'enc_mean_state_id', 'enc_std_state_id',\n",
        "    'enc_mean_store_id', 'enc_std_store_id',\n",
        "    'enc_mean_cat_id', 'enc_std_cat_id',\n",
        "    'enc_mean_dept_id', 'enc_std_dept_id',\n",
        "    'enc_mean_state_id_cat_id', 'enc_std_state_id_cat_id',\n",
        "    'enc_mean_state_id_dept_id', 'enc_std_state_id_dept_id',\n",
        "    'enc_mean_store_id_cat_id', 'enc_std_store_id_cat_id',\n",
        "    'enc_mean_store_id_dept_id', 'enc_std_store_id_dept_id',\n",
        "    'enc_mean_item_id', 'enc_std_item_id',\n",
        "    'enc_mean_item_id_state_id', 'enc_std_item_id_state_id',\n",
        "    'enc_mean_item_id_store_id', 'enc_std_item_id_store_id'\n",
        "]"
      ]
    },
    {
      "cell_type": "code",
      "execution_count": null,
      "metadata": {
        "id": "52Khxbdk_hUS"
      },
      "outputs": [],
      "source": [
        "feature_cols = (\n",
        "    lag_features + lag_diff_features + rolling_features + rolling_tmp_features +\n",
        "    intermittency_features + time_features + event_features + price_features +\n",
        "    lifecycle_features + mean_encoding_features\n",
        ")"
      ]
    },
    {
      "cell_type": "markdown",
      "metadata": {
        "id": "1ONs7RhxGGdo"
      },
      "source": [
        "# ML Forecasting"
      ]
    },
    {
      "cell_type": "code",
      "execution_count": null,
      "metadata": {
        "id": "9klW-WzzAMX4"
      },
      "outputs": [],
      "source": [
        "import pandas as pd\n",
        "import lightgbm as lgb\n",
        "import numpy as np\n",
        "from tqdm import tqdm\n",
        "\n",
        "# LightGBM Parameter settings\n",
        "lgb_params = {\n",
        "    'boosting_type': 'gbdt',\n",
        "    'objective': 'tweedie',\n",
        "    'device': 'gpu',\n",
        "    'gpu_platform_id': 0,\n",
        "    'gpu_device_id': 0,\n",
        "    'tweedie_variance_power': 1.1,\n",
        "    'metric': 'rmse',\n",
        "    'subsample': 0.7,\n",
        "    'subsample_freq': 1,\n",
        "    'learning_rate': 0.02,\n",
        "    'num_leaves': 2**7 - 1,\n",
        "    'min_data_in_leaf': 2**6 - 1,\n",
        "    'feature_fraction': 0.7,\n",
        "    'max_bin': 100,\n",
        "    'n_estimators': 2500,\n",
        "    'boost_from_average': False,\n",
        "    'verbose': -1,\n",
        "    'seed': 1995\n",
        "}\n"
      ]
    },
    {
      "cell_type": "code",
      "execution_count": null,
      "metadata": {
        "id": "4wRFc_BkUJvq"
      },
      "outputs": [],
      "source": [
        "import time\n",
        "import numpy as np\n",
        "import pandas as pd\n",
        "import lightgbm as lgb\n",
        "from tqdm import tqdm\n",
        "\n",
        "def holdout_predict_only(\n",
        "    data: pd.DataFrame,\n",
        "    group_key: list,\n",
        "    remove_feature: list,\n",
        "    target_col: str = 'ROP_L3',\n",
        "    train_range: tuple = (None, None),  # (train_start_d, train_end_d)\n",
        "    val_range: tuple = (None, None),    # (val_start_d, val_end_d)\n",
        "    lgb_params: dict | None = None,\n",
        "    return_models: bool = False\n",
        "):\n",
        "\n",
        "    tr_start, tr_end = train_range\n",
        "    vl_start, vl_end = val_range\n",
        "    assert None not in train_range + val_range, \"Train and validation ranges cannot be None.\"\n",
        "\n",
        "    pred_rows, models = [], {}\n",
        "\n",
        "    for grp_vals, gdf in tqdm(\n",
        "        data.groupby(group_key, sort=False), desc=\"Hold-out training → validation predict\"\n",
        "    ):\n",
        "        # train/val split\n",
        "        tr_mask = (gdf['d'] >= tr_start) & (gdf['d'] <= tr_end)\n",
        "        vl_mask = (gdf['d'] >= vl_start) & (gdf['d'] <= vl_end)\n",
        "\n",
        "        X_tr = gdf.loc[tr_mask].drop(columns=remove_feature + [target_col], errors='ignore')\n",
        "        y_tr = gdf.loc[tr_mask, target_col]\n",
        "        X_vl = gdf.loc[vl_mask].drop(columns=remove_feature + [target_col], errors='ignore')\n",
        "        y_vl = gdf.loc[vl_mask, target_col]\n",
        "\n",
        "        if X_tr.empty or X_vl.empty:\n",
        "            continue\n",
        "\n",
        "\n",
        "        t0 = time.time()\n",
        "        model = lgb.LGBMRegressor(**(lgb_params or {}))\n",
        "        model.fit(X_tr, y_tr)\n",
        "        train_secs = time.time() - t0\n",
        "\n",
        "\n",
        "        y_hat = model.predict(X_vl)\n",
        "        out = gdf.loc[vl_mask, ['d'] + group_key].copy()\n",
        "        out['true'] = y_vl.values\n",
        "        out['pred'] = y_hat\n",
        "        out['train_secs'] = train_secs\n",
        "        pred_rows.append(out)\n",
        "\n",
        "        if return_models:\n",
        "            gid = \"_\".join(map(str, grp_vals))\n",
        "            models[gid] = model\n",
        "\n",
        "    preds_df = pd.concat(pred_rows, axis=0).reset_index(drop=True) if pred_rows else pd.DataFrame()\n",
        "    return (preds_df, models) if return_models else preds_df"
      ]
    },
    {
      "cell_type": "code",
      "execution_count": null,
      "metadata": {
        "colab": {
          "base_uri": "https://localhost:8080/"
        },
        "id": "AMB2cOJfG6dy",
        "outputId": "14ee2efe-5b64-4b31-bdac-78c16bae3daf"
      },
      "outputs": [
        {
          "name": "stdout",
          "output_type": "stream",
          "text": [
            "Memory after base data merge: 11.72 GB\n",
            "Mem. usage decreased to 11750.43 Mb (0.0% reduction)\n"
          ]
        }
      ],
      "source": [
        "print(\"Memory after base data merge:\", get_memory_usage(), \"GB\")\n",
        "sales_long_val = reduce_mem_usage(sales_long_val)"
      ]
    },
    {
      "cell_type": "code",
      "execution_count": null,
      "metadata": {
        "id": "4Cg4G92jHZyY"
      },
      "outputs": [],
      "source": [
        "from sklearn.preprocessing import LabelEncoder\n",
        "\n",
        "for col in ['weekday']:\n",
        "    if sales_long_val[col].dtype == 'object':\n",
        "        le = LabelEncoder()\n",
        "        sales_long_val[col] = le.fit_transform(sales_long_val[col])\n"
      ]
    },
    {
      "cell_type": "code",
      "execution_count": null,
      "metadata": {
        "colab": {
          "base_uri": "https://localhost:8080/"
        },
        "id": "9zK35S0WVCiv",
        "outputId": "0f7f7932-b2f8-4d27-dc70-18767391e000"
      },
      "outputs": [
        {
          "name": "stdout",
          "output_type": "stream",
          "text": [
            "Requirement already satisfied: tqdm in /usr/local/lib/python3.12/dist-packages (4.67.1)\n"
          ]
        }
      ],
      "source": [
        "!pip install tqdm"
      ]
    },
    {
      "cell_type": "markdown",
      "metadata": {
        "id": "mIand6A_cbV3"
      },
      "source": [
        "# Result & Model Save"
      ]
    },
    {
      "cell_type": "code",
      "execution_count": null,
      "metadata": {
        "id": "zrDfwzodct7p"
      },
      "outputs": [],
      "source": [
        "label_col = 'ROP_L3'\n",
        "group_key = ['store_id', 'dept_id']\n",
        "remove_feature=[\n",
        "        # ID\n",
        "        'id', 'item_id', 'dept_id', 'cat_id', 'store_id', 'state_id',\n",
        "        'd', 'date', 'wm_yr_wk','sales',\n",
        "\n",
        "        # ROP label\n",
        "        'ROP_L3', 'ROP_L7', 'ROP_L14',\n",
        "\n",
        "        # mean encoding, avoid target leakage\n",
        "        'enc_mean_store_id', 'enc_std_store_id',\n",
        "        'enc_mean_dept_id', 'enc_std_dept_id',\n",
        "        'enc_mean_store_id_cat_id', 'enc_std_store_id_cat_id',\n",
        "        'enc_mean_state_id_dept_id', 'enc_std_state_id_dept_id',\n",
        "        'enc_mean_store_id_dept_id', 'enc_std_store_id_dept_id',\n",
        "        'enc_mean_item_id_store_id', 'enc_std_item_id_store_id']"
      ]
    },
    {
      "cell_type": "code",
      "execution_count": null,
      "metadata": {
        "colab": {
          "base_uri": "https://localhost:8080/"
        },
        "id": "z6SGzZ89ha2m",
        "outputId": "2be90358-4160-4912-fc1e-675dd5535396"
      },
      "outputs": [
        {
          "name": "stdout",
          "output_type": "stream",
          "text": [
            "start_date=2011-01-29  -> d_start=1\n",
            "Y3 end   =2014-01-28      -> d_y3_end=1096\n",
            "Y4 end   =2015-01-28      -> d_y4_end=1461\n",
            "Train d-range = [1, 1096]\n",
            "Val   d-range = [1097, 1461]\n"
          ]
        }
      ],
      "source": [
        "# Window Inspection\n",
        "import pandas as pd\n",
        "import numpy as np\n",
        "\n",
        "def verify_ranges(df, date_col='date', d_col='d'):\n",
        "    df = df.copy()\n",
        "    if not np.issubdtype(df[date_col].dtype, np.datetime64):\n",
        "        df[date_col] = pd.to_datetime(df[date_col])\n",
        "\n",
        "    start_date = df[date_col].min().normalize()\n",
        "    y3_end = start_date + pd.DateOffset(years=3) - pd.Timedelta(days=1)\n",
        "    y4_end = start_date + pd.DateOffset(years=4) - pd.Timedelta(days=1)\n",
        "\n",
        "    d_start = int(df.loc[df[date_col] == start_date, d_col].min())\n",
        "    d_y3_end = int(df.loc[df[date_col] <= y3_end, d_col].max())\n",
        "    d_y4_end = int(df.loc[df[date_col] <= y4_end, d_col].max())\n",
        "\n",
        "    print(f\"start_date={start_date.date()}  -> d_start={d_start}\")\n",
        "    print(f\"Y3 end   ={y3_end.date()}      -> d_y3_end={d_y3_end}\")\n",
        "    print(f\"Y4 end   ={y4_end.date()}      -> d_y4_end={d_y4_end}\")\n",
        "    print(f\"Train d-range = [{d_start}, {d_y3_end}]\")\n",
        "    print(f\"Val   d-range = [{d_y3_end+1}, {d_y4_end}]\")\n",
        "\n",
        "    assert d_start == 1, \"The starting point is not 1.\"\n",
        "    assert (d_y3_end - d_start + 1) == ((y3_end - start_date).days + 1), \"The training window is not equal to 3 years.\"\n",
        "    assert (d_y4_end - d_y3_end) == ((y4_end - y3_end).days), \"The validation window is not equal to 1 year.\"\n",
        "\n",
        "verify_ranges(sales_long_val, date_col='date', d_col='d')\n"
      ]
    },
    {
      "cell_type": "code",
      "execution_count": null,
      "metadata": {
        "colab": {
          "base_uri": "https://localhost:8080/"
        },
        "id": "svxlWrW-pVTo",
        "outputId": "e732db98-abf1-402a-f81e-36c526475e1f"
      },
      "outputs": [
        {
          "name": "stdout",
          "output_type": "stream",
          "text": [
            "[SPLIT] start=2011-01-29, Y3_end=2014-01-28, Y4_end=2015-01-28, train_d=(1, 1096), val_d=(1097, 1461)\n"
          ]
        },
        {
          "name": "stderr",
          "output_type": "stream",
          "text": [
            "\rHold-out per group:   0%|          | 0/70 [00:00<?, ?it/s]"
          ]
        },
        {
          "name": "stdout",
          "output_type": "stream",
          "text": [
            "[Save] Forecast -> /content/drive/MyDrive/Colab Notebooks/Supervised Project/Fine Tuning/train_store_dept_3y1y/forecast_CA_1_FOODS_1.pkl\n"
          ]
        },
        {
          "name": "stderr",
          "output_type": "stream",
          "text": [
            "\rHold-out per group:   1%|▏         | 1/70 [01:30<1:44:31, 90.89s/it]"
          ]
        },
        {
          "name": "stdout",
          "output_type": "stream",
          "text": [
            "[Save] Model -> /content/drive/MyDrive/Colab Notebooks/Supervised Project/Fine Tuning/models_store_dept_3y1y/model_CA_1_FOODS_1.bin\n",
            "[Save] Forecast -> /content/drive/MyDrive/Colab Notebooks/Supervised Project/Fine Tuning/train_store_dept_3y1y/forecast_CA_2_FOODS_1.pkl\n"
          ]
        },
        {
          "name": "stderr",
          "output_type": "stream",
          "text": [
            "\rHold-out per group:   3%|▎         | 2/70 [02:23<1:17:29, 68.38s/it]"
          ]
        },
        {
          "name": "stdout",
          "output_type": "stream",
          "text": [
            "[Save] Model -> /content/drive/MyDrive/Colab Notebooks/Supervised Project/Fine Tuning/models_store_dept_3y1y/model_CA_2_FOODS_1.bin\n",
            "[Save] Forecast -> /content/drive/MyDrive/Colab Notebooks/Supervised Project/Fine Tuning/train_store_dept_3y1y/forecast_CA_3_FOODS_1.pkl\n"
          ]
        },
        {
          "name": "stderr",
          "output_type": "stream",
          "text": [
            "\rHold-out per group:   4%|▍         | 3/70 [03:15<1:08:09, 61.03s/it]"
          ]
        },
        {
          "name": "stdout",
          "output_type": "stream",
          "text": [
            "[Save] Model -> /content/drive/MyDrive/Colab Notebooks/Supervised Project/Fine Tuning/models_store_dept_3y1y/model_CA_3_FOODS_1.bin\n",
            "[Save] Forecast -> /content/drive/MyDrive/Colab Notebooks/Supervised Project/Fine Tuning/train_store_dept_3y1y/forecast_CA_4_FOODS_1.pkl\n"
          ]
        },
        {
          "name": "stderr",
          "output_type": "stream",
          "text": [
            "\rHold-out per group:   6%|▌         | 4/70 [04:07<1:03:00, 57.27s/it]"
          ]
        },
        {
          "name": "stdout",
          "output_type": "stream",
          "text": [
            "[Save] Model -> /content/drive/MyDrive/Colab Notebooks/Supervised Project/Fine Tuning/models_store_dept_3y1y/model_CA_4_FOODS_1.bin\n",
            "[Save] Forecast -> /content/drive/MyDrive/Colab Notebooks/Supervised Project/Fine Tuning/train_store_dept_3y1y/forecast_TX_1_FOODS_1.pkl\n"
          ]
        },
        {
          "name": "stderr",
          "output_type": "stream",
          "text": [
            "\rHold-out per group:   7%|▋         | 5/70 [05:00<1:00:21, 55.71s/it]"
          ]
        },
        {
          "name": "stdout",
          "output_type": "stream",
          "text": [
            "[Save] Model -> /content/drive/MyDrive/Colab Notebooks/Supervised Project/Fine Tuning/models_store_dept_3y1y/model_TX_1_FOODS_1.bin\n",
            "[Save] Forecast -> /content/drive/MyDrive/Colab Notebooks/Supervised Project/Fine Tuning/train_store_dept_3y1y/forecast_TX_2_FOODS_1.pkl\n"
          ]
        },
        {
          "name": "stderr",
          "output_type": "stream",
          "text": [
            "\rHold-out per group:   9%|▊         | 6/70 [05:53<58:25, 54.77s/it]  "
          ]
        },
        {
          "name": "stdout",
          "output_type": "stream",
          "text": [
            "[Save] Model -> /content/drive/MyDrive/Colab Notebooks/Supervised Project/Fine Tuning/models_store_dept_3y1y/model_TX_2_FOODS_1.bin\n",
            "[Save] Forecast -> /content/drive/MyDrive/Colab Notebooks/Supervised Project/Fine Tuning/train_store_dept_3y1y/forecast_TX_3_FOODS_1.pkl\n"
          ]
        },
        {
          "name": "stderr",
          "output_type": "stream",
          "text": [
            "\rHold-out per group:  10%|█         | 7/70 [06:47<57:10, 54.46s/it]"
          ]
        },
        {
          "name": "stdout",
          "output_type": "stream",
          "text": [
            "[Save] Model -> /content/drive/MyDrive/Colab Notebooks/Supervised Project/Fine Tuning/models_store_dept_3y1y/model_TX_3_FOODS_1.bin\n",
            "[Save] Forecast -> /content/drive/MyDrive/Colab Notebooks/Supervised Project/Fine Tuning/train_store_dept_3y1y/forecast_WI_1_FOODS_1.pkl\n"
          ]
        },
        {
          "name": "stderr",
          "output_type": "stream",
          "text": [
            "\rHold-out per group:  11%|█▏        | 8/70 [07:39<55:33, 53.76s/it]"
          ]
        },
        {
          "name": "stdout",
          "output_type": "stream",
          "text": [
            "[Save] Model -> /content/drive/MyDrive/Colab Notebooks/Supervised Project/Fine Tuning/models_store_dept_3y1y/model_WI_1_FOODS_1.bin\n",
            "[Save] Forecast -> /content/drive/MyDrive/Colab Notebooks/Supervised Project/Fine Tuning/train_store_dept_3y1y/forecast_WI_2_FOODS_1.pkl\n"
          ]
        },
        {
          "name": "stderr",
          "output_type": "stream",
          "text": [
            "\rHold-out per group:  13%|█▎        | 9/70 [08:31<54:14, 53.35s/it]"
          ]
        },
        {
          "name": "stdout",
          "output_type": "stream",
          "text": [
            "[Save] Model -> /content/drive/MyDrive/Colab Notebooks/Supervised Project/Fine Tuning/models_store_dept_3y1y/model_WI_2_FOODS_1.bin\n",
            "[Save] Forecast -> /content/drive/MyDrive/Colab Notebooks/Supervised Project/Fine Tuning/train_store_dept_3y1y/forecast_WI_3_FOODS_1.pkl\n"
          ]
        },
        {
          "name": "stderr",
          "output_type": "stream",
          "text": [
            "\rHold-out per group:  14%|█▍        | 10/70 [09:24<53:01, 53.02s/it]"
          ]
        },
        {
          "name": "stdout",
          "output_type": "stream",
          "text": [
            "[Save] Model -> /content/drive/MyDrive/Colab Notebooks/Supervised Project/Fine Tuning/models_store_dept_3y1y/model_WI_3_FOODS_1.bin\n",
            "[Save] Forecast -> /content/drive/MyDrive/Colab Notebooks/Supervised Project/Fine Tuning/train_store_dept_3y1y/forecast_CA_1_FOODS_2.pkl\n"
          ]
        },
        {
          "name": "stderr",
          "output_type": "stream",
          "text": [
            "\rHold-out per group:  16%|█▌        | 11/70 [10:28<55:33, 56.50s/it]"
          ]
        },
        {
          "name": "stdout",
          "output_type": "stream",
          "text": [
            "[Save] Model -> /content/drive/MyDrive/Colab Notebooks/Supervised Project/Fine Tuning/models_store_dept_3y1y/model_CA_1_FOODS_2.bin\n",
            "[Save] Forecast -> /content/drive/MyDrive/Colab Notebooks/Supervised Project/Fine Tuning/train_store_dept_3y1y/forecast_CA_2_FOODS_2.pkl\n"
          ]
        },
        {
          "name": "stderr",
          "output_type": "stream",
          "text": [
            "\rHold-out per group:  17%|█▋        | 12/70 [11:11<50:41, 52.43s/it]"
          ]
        },
        {
          "name": "stdout",
          "output_type": "stream",
          "text": [
            "[Save] Model -> /content/drive/MyDrive/Colab Notebooks/Supervised Project/Fine Tuning/models_store_dept_3y1y/model_CA_2_FOODS_2.bin\n",
            "[Save] Forecast -> /content/drive/MyDrive/Colab Notebooks/Supervised Project/Fine Tuning/train_store_dept_3y1y/forecast_CA_3_FOODS_2.pkl\n"
          ]
        },
        {
          "name": "stderr",
          "output_type": "stream",
          "text": [
            "\rHold-out per group:  19%|█▊        | 13/70 [12:16<53:23, 56.21s/it]"
          ]
        },
        {
          "name": "stdout",
          "output_type": "stream",
          "text": [
            "[Save] Model -> /content/drive/MyDrive/Colab Notebooks/Supervised Project/Fine Tuning/models_store_dept_3y1y/model_CA_3_FOODS_2.bin\n",
            "[Save] Forecast -> /content/drive/MyDrive/Colab Notebooks/Supervised Project/Fine Tuning/train_store_dept_3y1y/forecast_CA_4_FOODS_2.pkl\n"
          ]
        },
        {
          "name": "stderr",
          "output_type": "stream",
          "text": [
            "\rHold-out per group:  20%|██        | 14/70 [13:19<54:19, 58.20s/it]"
          ]
        },
        {
          "name": "stdout",
          "output_type": "stream",
          "text": [
            "[Save] Model -> /content/drive/MyDrive/Colab Notebooks/Supervised Project/Fine Tuning/models_store_dept_3y1y/model_CA_4_FOODS_2.bin\n",
            "[Save] Forecast -> /content/drive/MyDrive/Colab Notebooks/Supervised Project/Fine Tuning/train_store_dept_3y1y/forecast_TX_1_FOODS_2.pkl\n"
          ]
        },
        {
          "name": "stderr",
          "output_type": "stream",
          "text": [
            "\rHold-out per group:  21%|██▏       | 15/70 [14:23<54:58, 59.98s/it]"
          ]
        },
        {
          "name": "stdout",
          "output_type": "stream",
          "text": [
            "[Save] Model -> /content/drive/MyDrive/Colab Notebooks/Supervised Project/Fine Tuning/models_store_dept_3y1y/model_TX_1_FOODS_2.bin\n",
            "[Save] Forecast -> /content/drive/MyDrive/Colab Notebooks/Supervised Project/Fine Tuning/train_store_dept_3y1y/forecast_TX_2_FOODS_2.pkl\n"
          ]
        },
        {
          "name": "stderr",
          "output_type": "stream",
          "text": [
            "\rHold-out per group:  23%|██▎       | 16/70 [15:29<55:33, 61.73s/it]"
          ]
        },
        {
          "name": "stdout",
          "output_type": "stream",
          "text": [
            "[Save] Model -> /content/drive/MyDrive/Colab Notebooks/Supervised Project/Fine Tuning/models_store_dept_3y1y/model_TX_2_FOODS_2.bin\n",
            "[Save] Forecast -> /content/drive/MyDrive/Colab Notebooks/Supervised Project/Fine Tuning/train_store_dept_3y1y/forecast_TX_3_FOODS_2.pkl\n"
          ]
        },
        {
          "name": "stderr",
          "output_type": "stream",
          "text": [
            "\rHold-out per group:  24%|██▍       | 17/70 [16:32<55:02, 62.32s/it]"
          ]
        },
        {
          "name": "stdout",
          "output_type": "stream",
          "text": [
            "[Save] Model -> /content/drive/MyDrive/Colab Notebooks/Supervised Project/Fine Tuning/models_store_dept_3y1y/model_TX_3_FOODS_2.bin\n",
            "[Save] Forecast -> /content/drive/MyDrive/Colab Notebooks/Supervised Project/Fine Tuning/train_store_dept_3y1y/forecast_WI_1_FOODS_2.pkl\n"
          ]
        },
        {
          "name": "stderr",
          "output_type": "stream",
          "text": [
            "\rHold-out per group:  26%|██▌       | 18/70 [17:30<52:45, 60.88s/it]"
          ]
        },
        {
          "name": "stdout",
          "output_type": "stream",
          "text": [
            "[Save] Model -> /content/drive/MyDrive/Colab Notebooks/Supervised Project/Fine Tuning/models_store_dept_3y1y/model_WI_1_FOODS_2.bin\n",
            "[Save] Forecast -> /content/drive/MyDrive/Colab Notebooks/Supervised Project/Fine Tuning/train_store_dept_3y1y/forecast_WI_2_FOODS_2.pkl\n"
          ]
        },
        {
          "name": "stderr",
          "output_type": "stream",
          "text": [
            "\rHold-out per group:  27%|██▋       | 19/70 [18:32<52:05, 61.28s/it]"
          ]
        },
        {
          "name": "stdout",
          "output_type": "stream",
          "text": [
            "[Save] Model -> /content/drive/MyDrive/Colab Notebooks/Supervised Project/Fine Tuning/models_store_dept_3y1y/model_WI_2_FOODS_2.bin\n",
            "[Save] Forecast -> /content/drive/MyDrive/Colab Notebooks/Supervised Project/Fine Tuning/train_store_dept_3y1y/forecast_WI_3_FOODS_2.pkl\n"
          ]
        },
        {
          "name": "stderr",
          "output_type": "stream",
          "text": [
            "\rHold-out per group:  29%|██▊       | 20/70 [19:38<52:16, 62.74s/it]"
          ]
        },
        {
          "name": "stdout",
          "output_type": "stream",
          "text": [
            "[Save] Model -> /content/drive/MyDrive/Colab Notebooks/Supervised Project/Fine Tuning/models_store_dept_3y1y/model_WI_3_FOODS_2.bin\n",
            "[Save] Forecast -> /content/drive/MyDrive/Colab Notebooks/Supervised Project/Fine Tuning/train_store_dept_3y1y/forecast_CA_1_FOODS_3.pkl\n"
          ]
        },
        {
          "name": "stderr",
          "output_type": "stream",
          "text": [
            "\rHold-out per group:  30%|███       | 21/70 [21:13<59:05, 72.36s/it]"
          ]
        },
        {
          "name": "stdout",
          "output_type": "stream",
          "text": [
            "[Save] Model -> /content/drive/MyDrive/Colab Notebooks/Supervised Project/Fine Tuning/models_store_dept_3y1y/model_CA_1_FOODS_3.bin\n",
            "[Save] Forecast -> /content/drive/MyDrive/Colab Notebooks/Supervised Project/Fine Tuning/train_store_dept_3y1y/forecast_CA_2_FOODS_3.pkl\n"
          ]
        },
        {
          "name": "stderr",
          "output_type": "stream",
          "text": [
            "\rHold-out per group:  31%|███▏      | 22/70 [22:44<1:02:17, 77.86s/it]"
          ]
        },
        {
          "name": "stdout",
          "output_type": "stream",
          "text": [
            "[Save] Model -> /content/drive/MyDrive/Colab Notebooks/Supervised Project/Fine Tuning/models_store_dept_3y1y/model_CA_2_FOODS_3.bin\n",
            "[Save] Forecast -> /content/drive/MyDrive/Colab Notebooks/Supervised Project/Fine Tuning/train_store_dept_3y1y/forecast_CA_3_FOODS_3.pkl\n"
          ]
        },
        {
          "name": "stderr",
          "output_type": "stream",
          "text": [
            "\rHold-out per group:  33%|███▎      | 23/70 [24:17<1:04:41, 82.59s/it]"
          ]
        },
        {
          "name": "stdout",
          "output_type": "stream",
          "text": [
            "[Save] Model -> /content/drive/MyDrive/Colab Notebooks/Supervised Project/Fine Tuning/models_store_dept_3y1y/model_CA_3_FOODS_3.bin\n",
            "[Save] Forecast -> /content/drive/MyDrive/Colab Notebooks/Supervised Project/Fine Tuning/train_store_dept_3y1y/forecast_CA_4_FOODS_3.pkl\n"
          ]
        },
        {
          "name": "stderr",
          "output_type": "stream",
          "text": [
            "\rHold-out per group:  34%|███▍      | 24/70 [25:49<1:05:29, 85.43s/it]"
          ]
        },
        {
          "name": "stdout",
          "output_type": "stream",
          "text": [
            "[Save] Model -> /content/drive/MyDrive/Colab Notebooks/Supervised Project/Fine Tuning/models_store_dept_3y1y/model_CA_4_FOODS_3.bin\n",
            "[Save] Forecast -> /content/drive/MyDrive/Colab Notebooks/Supervised Project/Fine Tuning/train_store_dept_3y1y/forecast_TX_1_FOODS_3.pkl\n"
          ]
        },
        {
          "name": "stderr",
          "output_type": "stream",
          "text": [
            "\rHold-out per group:  36%|███▌      | 25/70 [27:23<1:05:57, 87.95s/it]"
          ]
        },
        {
          "name": "stdout",
          "output_type": "stream",
          "text": [
            "[Save] Model -> /content/drive/MyDrive/Colab Notebooks/Supervised Project/Fine Tuning/models_store_dept_3y1y/model_TX_1_FOODS_3.bin\n",
            "[Save] Forecast -> /content/drive/MyDrive/Colab Notebooks/Supervised Project/Fine Tuning/train_store_dept_3y1y/forecast_TX_2_FOODS_3.pkl\n"
          ]
        },
        {
          "name": "stderr",
          "output_type": "stream",
          "text": [
            "\rHold-out per group:  37%|███▋      | 26/70 [28:56<1:05:37, 89.48s/it]"
          ]
        },
        {
          "name": "stdout",
          "output_type": "stream",
          "text": [
            "[Save] Model -> /content/drive/MyDrive/Colab Notebooks/Supervised Project/Fine Tuning/models_store_dept_3y1y/model_TX_2_FOODS_3.bin\n",
            "[Save] Forecast -> /content/drive/MyDrive/Colab Notebooks/Supervised Project/Fine Tuning/train_store_dept_3y1y/forecast_TX_3_FOODS_3.pkl\n"
          ]
        },
        {
          "name": "stderr",
          "output_type": "stream",
          "text": [
            "\rHold-out per group:  39%|███▊      | 27/70 [30:29<1:04:51, 90.50s/it]"
          ]
        },
        {
          "name": "stdout",
          "output_type": "stream",
          "text": [
            "[Save] Model -> /content/drive/MyDrive/Colab Notebooks/Supervised Project/Fine Tuning/models_store_dept_3y1y/model_TX_3_FOODS_3.bin\n",
            "[Save] Forecast -> /content/drive/MyDrive/Colab Notebooks/Supervised Project/Fine Tuning/train_store_dept_3y1y/forecast_WI_1_FOODS_3.pkl\n"
          ]
        },
        {
          "name": "stderr",
          "output_type": "stream",
          "text": [
            "\rHold-out per group:  40%|████      | 28/70 [31:58<1:02:56, 89.92s/it]"
          ]
        },
        {
          "name": "stdout",
          "output_type": "stream",
          "text": [
            "[Save] Model -> /content/drive/MyDrive/Colab Notebooks/Supervised Project/Fine Tuning/models_store_dept_3y1y/model_WI_1_FOODS_3.bin\n",
            "[Save] Forecast -> /content/drive/MyDrive/Colab Notebooks/Supervised Project/Fine Tuning/train_store_dept_3y1y/forecast_WI_2_FOODS_3.pkl\n"
          ]
        },
        {
          "name": "stderr",
          "output_type": "stream",
          "text": [
            "\rHold-out per group:  41%|████▏     | 29/70 [33:33<1:02:38, 91.67s/it]"
          ]
        },
        {
          "name": "stdout",
          "output_type": "stream",
          "text": [
            "[Save] Model -> /content/drive/MyDrive/Colab Notebooks/Supervised Project/Fine Tuning/models_store_dept_3y1y/model_WI_2_FOODS_3.bin\n",
            "[Save] Forecast -> /content/drive/MyDrive/Colab Notebooks/Supervised Project/Fine Tuning/train_store_dept_3y1y/forecast_WI_3_FOODS_3.pkl\n"
          ]
        },
        {
          "name": "stderr",
          "output_type": "stream",
          "text": [
            "\rHold-out per group:  43%|████▎     | 30/70 [35:10<1:01:59, 92.99s/it]"
          ]
        },
        {
          "name": "stdout",
          "output_type": "stream",
          "text": [
            "[Save] Model -> /content/drive/MyDrive/Colab Notebooks/Supervised Project/Fine Tuning/models_store_dept_3y1y/model_WI_3_FOODS_3.bin\n",
            "[Save] Forecast -> /content/drive/MyDrive/Colab Notebooks/Supervised Project/Fine Tuning/train_store_dept_3y1y/forecast_CA_1_HOBBIES_1.pkl\n"
          ]
        },
        {
          "name": "stderr",
          "output_type": "stream",
          "text": [
            "\rHold-out per group:  44%|████▍     | 31/70 [36:16<55:19, 85.10s/it]  "
          ]
        },
        {
          "name": "stdout",
          "output_type": "stream",
          "text": [
            "[Save] Model -> /content/drive/MyDrive/Colab Notebooks/Supervised Project/Fine Tuning/models_store_dept_3y1y/model_CA_1_HOBBIES_1.bin\n",
            "[Save] Forecast -> /content/drive/MyDrive/Colab Notebooks/Supervised Project/Fine Tuning/train_store_dept_3y1y/forecast_CA_2_HOBBIES_1.pkl\n"
          ]
        },
        {
          "name": "stderr",
          "output_type": "stream",
          "text": [
            "\rHold-out per group:  46%|████▌     | 32/70 [37:25<50:45, 80.15s/it]"
          ]
        },
        {
          "name": "stdout",
          "output_type": "stream",
          "text": [
            "[Save] Model -> /content/drive/MyDrive/Colab Notebooks/Supervised Project/Fine Tuning/models_store_dept_3y1y/model_CA_2_HOBBIES_1.bin\n",
            "[Save] Forecast -> /content/drive/MyDrive/Colab Notebooks/Supervised Project/Fine Tuning/train_store_dept_3y1y/forecast_CA_3_HOBBIES_1.pkl\n"
          ]
        },
        {
          "name": "stderr",
          "output_type": "stream",
          "text": [
            "\rHold-out per group:  47%|████▋     | 33/70 [38:32<46:57, 76.16s/it]"
          ]
        },
        {
          "name": "stdout",
          "output_type": "stream",
          "text": [
            "[Save] Model -> /content/drive/MyDrive/Colab Notebooks/Supervised Project/Fine Tuning/models_store_dept_3y1y/model_CA_3_HOBBIES_1.bin\n",
            "[Save] Forecast -> /content/drive/MyDrive/Colab Notebooks/Supervised Project/Fine Tuning/train_store_dept_3y1y/forecast_CA_4_HOBBIES_1.pkl\n"
          ]
        },
        {
          "name": "stderr",
          "output_type": "stream",
          "text": [
            "\rHold-out per group:  49%|████▊     | 34/70 [39:38<43:59, 73.32s/it]"
          ]
        },
        {
          "name": "stdout",
          "output_type": "stream",
          "text": [
            "[Save] Model -> /content/drive/MyDrive/Colab Notebooks/Supervised Project/Fine Tuning/models_store_dept_3y1y/model_CA_4_HOBBIES_1.bin\n",
            "[Save] Forecast -> /content/drive/MyDrive/Colab Notebooks/Supervised Project/Fine Tuning/train_store_dept_3y1y/forecast_TX_1_HOBBIES_1.pkl\n"
          ]
        },
        {
          "name": "stderr",
          "output_type": "stream",
          "text": [
            "\rHold-out per group:  50%|█████     | 35/70 [40:47<42:00, 72.02s/it]"
          ]
        },
        {
          "name": "stdout",
          "output_type": "stream",
          "text": [
            "[Save] Model -> /content/drive/MyDrive/Colab Notebooks/Supervised Project/Fine Tuning/models_store_dept_3y1y/model_TX_1_HOBBIES_1.bin\n",
            "[Save] Forecast -> /content/drive/MyDrive/Colab Notebooks/Supervised Project/Fine Tuning/train_store_dept_3y1y/forecast_TX_2_HOBBIES_1.pkl\n"
          ]
        },
        {
          "name": "stderr",
          "output_type": "stream",
          "text": [
            "\rHold-out per group:  51%|█████▏    | 36/70 [41:54<39:54, 70.41s/it]"
          ]
        },
        {
          "name": "stdout",
          "output_type": "stream",
          "text": [
            "[Save] Model -> /content/drive/MyDrive/Colab Notebooks/Supervised Project/Fine Tuning/models_store_dept_3y1y/model_TX_2_HOBBIES_1.bin\n",
            "[Save] Forecast -> /content/drive/MyDrive/Colab Notebooks/Supervised Project/Fine Tuning/train_store_dept_3y1y/forecast_TX_3_HOBBIES_1.pkl\n"
          ]
        },
        {
          "name": "stderr",
          "output_type": "stream",
          "text": [
            "\rHold-out per group:  53%|█████▎    | 37/70 [43:02<38:22, 69.79s/it]"
          ]
        },
        {
          "name": "stdout",
          "output_type": "stream",
          "text": [
            "[Save] Model -> /content/drive/MyDrive/Colab Notebooks/Supervised Project/Fine Tuning/models_store_dept_3y1y/model_TX_3_HOBBIES_1.bin\n",
            "[Save] Forecast -> /content/drive/MyDrive/Colab Notebooks/Supervised Project/Fine Tuning/train_store_dept_3y1y/forecast_WI_1_HOBBIES_1.pkl\n"
          ]
        },
        {
          "name": "stderr",
          "output_type": "stream",
          "text": [
            "\rHold-out per group:  54%|█████▍    | 38/70 [44:11<37:06, 69.59s/it]"
          ]
        },
        {
          "name": "stdout",
          "output_type": "stream",
          "text": [
            "[Save] Model -> /content/drive/MyDrive/Colab Notebooks/Supervised Project/Fine Tuning/models_store_dept_3y1y/model_WI_1_HOBBIES_1.bin\n",
            "[Save] Forecast -> /content/drive/MyDrive/Colab Notebooks/Supervised Project/Fine Tuning/train_store_dept_3y1y/forecast_WI_2_HOBBIES_1.pkl\n"
          ]
        },
        {
          "name": "stderr",
          "output_type": "stream",
          "text": [
            "\rHold-out per group:  56%|█████▌    | 39/70 [45:23<36:12, 70.09s/it]"
          ]
        },
        {
          "name": "stdout",
          "output_type": "stream",
          "text": [
            "[Save] Model -> /content/drive/MyDrive/Colab Notebooks/Supervised Project/Fine Tuning/models_store_dept_3y1y/model_WI_2_HOBBIES_1.bin\n",
            "[Save] Forecast -> /content/drive/MyDrive/Colab Notebooks/Supervised Project/Fine Tuning/train_store_dept_3y1y/forecast_WI_3_HOBBIES_1.pkl\n"
          ]
        },
        {
          "name": "stderr",
          "output_type": "stream",
          "text": [
            "\rHold-out per group:  57%|█████▋    | 40/70 [46:33<35:02, 70.07s/it]"
          ]
        },
        {
          "name": "stdout",
          "output_type": "stream",
          "text": [
            "[Save] Model -> /content/drive/MyDrive/Colab Notebooks/Supervised Project/Fine Tuning/models_store_dept_3y1y/model_WI_3_HOBBIES_1.bin\n",
            "[Save] Forecast -> /content/drive/MyDrive/Colab Notebooks/Supervised Project/Fine Tuning/train_store_dept_3y1y/forecast_CA_1_HOBBIES_2.pkl\n"
          ]
        },
        {
          "name": "stderr",
          "output_type": "stream",
          "text": [
            "\rHold-out per group:  59%|█████▊    | 41/70 [47:18<30:12, 62.50s/it]"
          ]
        },
        {
          "name": "stdout",
          "output_type": "stream",
          "text": [
            "[Save] Model -> /content/drive/MyDrive/Colab Notebooks/Supervised Project/Fine Tuning/models_store_dept_3y1y/model_CA_1_HOBBIES_2.bin\n",
            "[Save] Forecast -> /content/drive/MyDrive/Colab Notebooks/Supervised Project/Fine Tuning/train_store_dept_3y1y/forecast_CA_2_HOBBIES_2.pkl\n"
          ]
        },
        {
          "name": "stderr",
          "output_type": "stream",
          "text": [
            "\rHold-out per group:  60%|██████    | 42/70 [48:02<26:35, 56.97s/it]"
          ]
        },
        {
          "name": "stdout",
          "output_type": "stream",
          "text": [
            "[Save] Model -> /content/drive/MyDrive/Colab Notebooks/Supervised Project/Fine Tuning/models_store_dept_3y1y/model_CA_2_HOBBIES_2.bin\n",
            "[Save] Forecast -> /content/drive/MyDrive/Colab Notebooks/Supervised Project/Fine Tuning/train_store_dept_3y1y/forecast_CA_3_HOBBIES_2.pkl\n"
          ]
        },
        {
          "name": "stderr",
          "output_type": "stream",
          "text": [
            "\rHold-out per group:  61%|██████▏   | 43/70 [48:47<24:00, 53.34s/it]"
          ]
        },
        {
          "name": "stdout",
          "output_type": "stream",
          "text": [
            "[Save] Model -> /content/drive/MyDrive/Colab Notebooks/Supervised Project/Fine Tuning/models_store_dept_3y1y/model_CA_3_HOBBIES_2.bin\n",
            "[Save] Forecast -> /content/drive/MyDrive/Colab Notebooks/Supervised Project/Fine Tuning/train_store_dept_3y1y/forecast_CA_4_HOBBIES_2.pkl\n"
          ]
        },
        {
          "name": "stderr",
          "output_type": "stream",
          "text": [
            "\rHold-out per group:  63%|██████▎   | 44/70 [49:28<21:36, 49.87s/it]"
          ]
        },
        {
          "name": "stdout",
          "output_type": "stream",
          "text": [
            "[Save] Model -> /content/drive/MyDrive/Colab Notebooks/Supervised Project/Fine Tuning/models_store_dept_3y1y/model_CA_4_HOBBIES_2.bin\n",
            "[Save] Forecast -> /content/drive/MyDrive/Colab Notebooks/Supervised Project/Fine Tuning/train_store_dept_3y1y/forecast_TX_1_HOBBIES_2.pkl\n"
          ]
        },
        {
          "name": "stderr",
          "output_type": "stream",
          "text": [
            "\rHold-out per group:  64%|██████▍   | 45/70 [50:12<20:02, 48.08s/it]"
          ]
        },
        {
          "name": "stdout",
          "output_type": "stream",
          "text": [
            "[Save] Model -> /content/drive/MyDrive/Colab Notebooks/Supervised Project/Fine Tuning/models_store_dept_3y1y/model_TX_1_HOBBIES_2.bin\n",
            "[Save] Forecast -> /content/drive/MyDrive/Colab Notebooks/Supervised Project/Fine Tuning/train_store_dept_3y1y/forecast_TX_2_HOBBIES_2.pkl\n"
          ]
        },
        {
          "name": "stderr",
          "output_type": "stream",
          "text": [
            "\rHold-out per group:  66%|██████▌   | 46/70 [50:58<18:55, 47.33s/it]"
          ]
        },
        {
          "name": "stdout",
          "output_type": "stream",
          "text": [
            "[Save] Model -> /content/drive/MyDrive/Colab Notebooks/Supervised Project/Fine Tuning/models_store_dept_3y1y/model_TX_2_HOBBIES_2.bin\n",
            "[Save] Forecast -> /content/drive/MyDrive/Colab Notebooks/Supervised Project/Fine Tuning/train_store_dept_3y1y/forecast_TX_3_HOBBIES_2.pkl\n"
          ]
        },
        {
          "name": "stderr",
          "output_type": "stream",
          "text": [
            "\rHold-out per group:  67%|██████▋   | 47/70 [51:43<17:57, 46.84s/it]"
          ]
        },
        {
          "name": "stdout",
          "output_type": "stream",
          "text": [
            "[Save] Model -> /content/drive/MyDrive/Colab Notebooks/Supervised Project/Fine Tuning/models_store_dept_3y1y/model_TX_3_HOBBIES_2.bin\n",
            "[Save] Forecast -> /content/drive/MyDrive/Colab Notebooks/Supervised Project/Fine Tuning/train_store_dept_3y1y/forecast_WI_1_HOBBIES_2.pkl\n"
          ]
        },
        {
          "name": "stderr",
          "output_type": "stream",
          "text": [
            "\rHold-out per group:  69%|██████▊   | 48/70 [52:27<16:51, 45.99s/it]"
          ]
        },
        {
          "name": "stdout",
          "output_type": "stream",
          "text": [
            "[Save] Model -> /content/drive/MyDrive/Colab Notebooks/Supervised Project/Fine Tuning/models_store_dept_3y1y/model_WI_1_HOBBIES_2.bin\n",
            "[Save] Forecast -> /content/drive/MyDrive/Colab Notebooks/Supervised Project/Fine Tuning/train_store_dept_3y1y/forecast_WI_2_HOBBIES_2.pkl\n"
          ]
        },
        {
          "name": "stderr",
          "output_type": "stream",
          "text": [
            "\rHold-out per group:  70%|███████   | 49/70 [53:11<15:49, 45.20s/it]"
          ]
        },
        {
          "name": "stdout",
          "output_type": "stream",
          "text": [
            "[Save] Model -> /content/drive/MyDrive/Colab Notebooks/Supervised Project/Fine Tuning/models_store_dept_3y1y/model_WI_2_HOBBIES_2.bin\n",
            "[Save] Forecast -> /content/drive/MyDrive/Colab Notebooks/Supervised Project/Fine Tuning/train_store_dept_3y1y/forecast_WI_3_HOBBIES_2.pkl\n"
          ]
        },
        {
          "name": "stderr",
          "output_type": "stream",
          "text": [
            "\rHold-out per group:  71%|███████▏  | 50/70 [53:55<15:00, 45.03s/it]"
          ]
        },
        {
          "name": "stdout",
          "output_type": "stream",
          "text": [
            "[Save] Model -> /content/drive/MyDrive/Colab Notebooks/Supervised Project/Fine Tuning/models_store_dept_3y1y/model_WI_3_HOBBIES_2.bin\n",
            "[Save] Forecast -> /content/drive/MyDrive/Colab Notebooks/Supervised Project/Fine Tuning/train_store_dept_3y1y/forecast_CA_1_HOUSEHOLD_1.pkl\n"
          ]
        },
        {
          "name": "stderr",
          "output_type": "stream",
          "text": [
            "\rHold-out per group:  73%|███████▎  | 51/70 [55:07<16:44, 52.87s/it]"
          ]
        },
        {
          "name": "stdout",
          "output_type": "stream",
          "text": [
            "[Save] Model -> /content/drive/MyDrive/Colab Notebooks/Supervised Project/Fine Tuning/models_store_dept_3y1y/model_CA_1_HOUSEHOLD_1.bin\n",
            "[Save] Forecast -> /content/drive/MyDrive/Colab Notebooks/Supervised Project/Fine Tuning/train_store_dept_3y1y/forecast_CA_2_HOUSEHOLD_1.pkl\n"
          ]
        },
        {
          "name": "stderr",
          "output_type": "stream",
          "text": [
            "\rHold-out per group:  74%|███████▍  | 52/70 [56:19<17:35, 58.66s/it]"
          ]
        },
        {
          "name": "stdout",
          "output_type": "stream",
          "text": [
            "[Save] Model -> /content/drive/MyDrive/Colab Notebooks/Supervised Project/Fine Tuning/models_store_dept_3y1y/model_CA_2_HOUSEHOLD_1.bin\n",
            "[Save] Forecast -> /content/drive/MyDrive/Colab Notebooks/Supervised Project/Fine Tuning/train_store_dept_3y1y/forecast_CA_3_HOUSEHOLD_1.pkl\n"
          ]
        },
        {
          "name": "stderr",
          "output_type": "stream",
          "text": [
            "\rHold-out per group:  76%|███████▌  | 53/70 [57:32<17:49, 62.90s/it]"
          ]
        },
        {
          "name": "stdout",
          "output_type": "stream",
          "text": [
            "[Save] Model -> /content/drive/MyDrive/Colab Notebooks/Supervised Project/Fine Tuning/models_store_dept_3y1y/model_CA_3_HOUSEHOLD_1.bin\n",
            "[Save] Forecast -> /content/drive/MyDrive/Colab Notebooks/Supervised Project/Fine Tuning/train_store_dept_3y1y/forecast_CA_4_HOUSEHOLD_1.pkl\n"
          ]
        },
        {
          "name": "stderr",
          "output_type": "stream",
          "text": [
            "\rHold-out per group:  77%|███████▋  | 54/70 [58:42<17:23, 65.20s/it]"
          ]
        },
        {
          "name": "stdout",
          "output_type": "stream",
          "text": [
            "[Save] Model -> /content/drive/MyDrive/Colab Notebooks/Supervised Project/Fine Tuning/models_store_dept_3y1y/model_CA_4_HOUSEHOLD_1.bin\n",
            "[Save] Forecast -> /content/drive/MyDrive/Colab Notebooks/Supervised Project/Fine Tuning/train_store_dept_3y1y/forecast_TX_1_HOUSEHOLD_1.pkl\n"
          ]
        },
        {
          "name": "stderr",
          "output_type": "stream",
          "text": [
            "\rHold-out per group:  79%|███████▊  | 55/70 [59:54<16:46, 67.13s/it]"
          ]
        },
        {
          "name": "stdout",
          "output_type": "stream",
          "text": [
            "[Save] Model -> /content/drive/MyDrive/Colab Notebooks/Supervised Project/Fine Tuning/models_store_dept_3y1y/model_TX_1_HOUSEHOLD_1.bin\n",
            "[Save] Forecast -> /content/drive/MyDrive/Colab Notebooks/Supervised Project/Fine Tuning/train_store_dept_3y1y/forecast_TX_2_HOUSEHOLD_1.pkl\n"
          ]
        },
        {
          "name": "stderr",
          "output_type": "stream",
          "text": [
            "\rHold-out per group:  80%|████████  | 56/70 [1:01:06<16:02, 68.78s/it]"
          ]
        },
        {
          "name": "stdout",
          "output_type": "stream",
          "text": [
            "[Save] Model -> /content/drive/MyDrive/Colab Notebooks/Supervised Project/Fine Tuning/models_store_dept_3y1y/model_TX_2_HOUSEHOLD_1.bin\n",
            "[Save] Forecast -> /content/drive/MyDrive/Colab Notebooks/Supervised Project/Fine Tuning/train_store_dept_3y1y/forecast_TX_3_HOUSEHOLD_1.pkl\n"
          ]
        },
        {
          "name": "stderr",
          "output_type": "stream",
          "text": [
            "\rHold-out per group:  81%|████████▏ | 57/70 [1:02:19<15:09, 69.94s/it]"
          ]
        },
        {
          "name": "stdout",
          "output_type": "stream",
          "text": [
            "[Save] Model -> /content/drive/MyDrive/Colab Notebooks/Supervised Project/Fine Tuning/models_store_dept_3y1y/model_TX_3_HOUSEHOLD_1.bin\n",
            "[Save] Forecast -> /content/drive/MyDrive/Colab Notebooks/Supervised Project/Fine Tuning/train_store_dept_3y1y/forecast_WI_1_HOUSEHOLD_1.pkl\n"
          ]
        },
        {
          "name": "stderr",
          "output_type": "stream",
          "text": [
            "\rHold-out per group:  83%|████████▎ | 58/70 [1:03:32<14:10, 70.84s/it]"
          ]
        },
        {
          "name": "stdout",
          "output_type": "stream",
          "text": [
            "[Save] Model -> /content/drive/MyDrive/Colab Notebooks/Supervised Project/Fine Tuning/models_store_dept_3y1y/model_WI_1_HOUSEHOLD_1.bin\n",
            "[Save] Forecast -> /content/drive/MyDrive/Colab Notebooks/Supervised Project/Fine Tuning/train_store_dept_3y1y/forecast_WI_2_HOUSEHOLD_1.pkl\n"
          ]
        },
        {
          "name": "stderr",
          "output_type": "stream",
          "text": [
            "\rHold-out per group:  84%|████████▍ | 59/70 [1:04:45<13:04, 71.36s/it]"
          ]
        },
        {
          "name": "stdout",
          "output_type": "stream",
          "text": [
            "[Save] Model -> /content/drive/MyDrive/Colab Notebooks/Supervised Project/Fine Tuning/models_store_dept_3y1y/model_WI_2_HOUSEHOLD_1.bin\n",
            "[Save] Forecast -> /content/drive/MyDrive/Colab Notebooks/Supervised Project/Fine Tuning/train_store_dept_3y1y/forecast_WI_3_HOUSEHOLD_1.pkl\n"
          ]
        },
        {
          "name": "stderr",
          "output_type": "stream",
          "text": [
            "\rHold-out per group:  86%|████████▌ | 60/70 [1:05:57<11:55, 71.55s/it]"
          ]
        },
        {
          "name": "stdout",
          "output_type": "stream",
          "text": [
            "[Save] Model -> /content/drive/MyDrive/Colab Notebooks/Supervised Project/Fine Tuning/models_store_dept_3y1y/model_WI_3_HOUSEHOLD_1.bin\n",
            "[Save] Forecast -> /content/drive/MyDrive/Colab Notebooks/Supervised Project/Fine Tuning/train_store_dept_3y1y/forecast_CA_1_HOUSEHOLD_2.pkl\n"
          ]
        },
        {
          "name": "stderr",
          "output_type": "stream",
          "text": [
            "\rHold-out per group:  87%|████████▋ | 61/70 [1:07:12<10:53, 72.60s/it]"
          ]
        },
        {
          "name": "stdout",
          "output_type": "stream",
          "text": [
            "[Save] Model -> /content/drive/MyDrive/Colab Notebooks/Supervised Project/Fine Tuning/models_store_dept_3y1y/model_CA_1_HOUSEHOLD_2.bin\n",
            "[Save] Forecast -> /content/drive/MyDrive/Colab Notebooks/Supervised Project/Fine Tuning/train_store_dept_3y1y/forecast_CA_2_HOUSEHOLD_2.pkl\n"
          ]
        },
        {
          "name": "stderr",
          "output_type": "stream",
          "text": [
            "\rHold-out per group:  89%|████████▊ | 62/70 [1:08:27<09:48, 73.55s/it]"
          ]
        },
        {
          "name": "stdout",
          "output_type": "stream",
          "text": [
            "[Save] Model -> /content/drive/MyDrive/Colab Notebooks/Supervised Project/Fine Tuning/models_store_dept_3y1y/model_CA_2_HOUSEHOLD_2.bin\n",
            "[Save] Forecast -> /content/drive/MyDrive/Colab Notebooks/Supervised Project/Fine Tuning/train_store_dept_3y1y/forecast_CA_3_HOUSEHOLD_2.pkl\n"
          ]
        },
        {
          "name": "stderr",
          "output_type": "stream",
          "text": [
            "\rHold-out per group:  90%|█████████ | 63/70 [1:09:44<08:41, 74.56s/it]"
          ]
        },
        {
          "name": "stdout",
          "output_type": "stream",
          "text": [
            "[Save] Model -> /content/drive/MyDrive/Colab Notebooks/Supervised Project/Fine Tuning/models_store_dept_3y1y/model_CA_3_HOUSEHOLD_2.bin\n",
            "[Save] Forecast -> /content/drive/MyDrive/Colab Notebooks/Supervised Project/Fine Tuning/train_store_dept_3y1y/forecast_CA_4_HOUSEHOLD_2.pkl\n"
          ]
        },
        {
          "name": "stderr",
          "output_type": "stream",
          "text": [
            "\rHold-out per group:  91%|█████████▏| 64/70 [1:10:58<07:26, 74.42s/it]"
          ]
        },
        {
          "name": "stdout",
          "output_type": "stream",
          "text": [
            "[Save] Model -> /content/drive/MyDrive/Colab Notebooks/Supervised Project/Fine Tuning/models_store_dept_3y1y/model_CA_4_HOUSEHOLD_2.bin\n",
            "[Save] Forecast -> /content/drive/MyDrive/Colab Notebooks/Supervised Project/Fine Tuning/train_store_dept_3y1y/forecast_TX_1_HOUSEHOLD_2.pkl\n"
          ]
        },
        {
          "name": "stderr",
          "output_type": "stream",
          "text": [
            "\rHold-out per group:  93%|█████████▎| 65/70 [1:12:14<06:14, 74.85s/it]"
          ]
        },
        {
          "name": "stdout",
          "output_type": "stream",
          "text": [
            "[Save] Model -> /content/drive/MyDrive/Colab Notebooks/Supervised Project/Fine Tuning/models_store_dept_3y1y/model_TX_1_HOUSEHOLD_2.bin\n",
            "[Save] Forecast -> /content/drive/MyDrive/Colab Notebooks/Supervised Project/Fine Tuning/train_store_dept_3y1y/forecast_TX_2_HOUSEHOLD_2.pkl\n"
          ]
        },
        {
          "name": "stderr",
          "output_type": "stream",
          "text": [
            "\rHold-out per group:  94%|█████████▍| 66/70 [1:13:31<05:02, 75.51s/it]"
          ]
        },
        {
          "name": "stdout",
          "output_type": "stream",
          "text": [
            "[Save] Model -> /content/drive/MyDrive/Colab Notebooks/Supervised Project/Fine Tuning/models_store_dept_3y1y/model_TX_2_HOUSEHOLD_2.bin\n",
            "[Save] Forecast -> /content/drive/MyDrive/Colab Notebooks/Supervised Project/Fine Tuning/train_store_dept_3y1y/forecast_TX_3_HOUSEHOLD_2.pkl\n"
          ]
        },
        {
          "name": "stderr",
          "output_type": "stream",
          "text": [
            "\rHold-out per group:  96%|█████████▌| 67/70 [1:14:46<03:45, 75.15s/it]"
          ]
        },
        {
          "name": "stdout",
          "output_type": "stream",
          "text": [
            "[Save] Model -> /content/drive/MyDrive/Colab Notebooks/Supervised Project/Fine Tuning/models_store_dept_3y1y/model_TX_3_HOUSEHOLD_2.bin\n",
            "[Save] Forecast -> /content/drive/MyDrive/Colab Notebooks/Supervised Project/Fine Tuning/train_store_dept_3y1y/forecast_WI_1_HOUSEHOLD_2.pkl\n"
          ]
        },
        {
          "name": "stderr",
          "output_type": "stream",
          "text": [
            "\rHold-out per group:  97%|█████████▋| 68/70 [1:16:00<02:29, 74.84s/it]"
          ]
        },
        {
          "name": "stdout",
          "output_type": "stream",
          "text": [
            "[Save] Model -> /content/drive/MyDrive/Colab Notebooks/Supervised Project/Fine Tuning/models_store_dept_3y1y/model_WI_1_HOUSEHOLD_2.bin\n",
            "[Save] Forecast -> /content/drive/MyDrive/Colab Notebooks/Supervised Project/Fine Tuning/train_store_dept_3y1y/forecast_WI_2_HOUSEHOLD_2.pkl\n"
          ]
        },
        {
          "name": "stderr",
          "output_type": "stream",
          "text": [
            "\rHold-out per group:  99%|█████████▊| 69/70 [1:17:13<01:14, 74.50s/it]"
          ]
        },
        {
          "name": "stdout",
          "output_type": "stream",
          "text": [
            "[Save] Model -> /content/drive/MyDrive/Colab Notebooks/Supervised Project/Fine Tuning/models_store_dept_3y1y/model_WI_2_HOUSEHOLD_2.bin\n",
            "[Save] Forecast -> /content/drive/MyDrive/Colab Notebooks/Supervised Project/Fine Tuning/train_store_dept_3y1y/forecast_WI_3_HOUSEHOLD_2.pkl\n"
          ]
        },
        {
          "name": "stderr",
          "output_type": "stream",
          "text": [
            "Hold-out per group: 100%|██████████| 70/70 [1:18:28<00:00, 67.26s/it]"
          ]
        },
        {
          "name": "stdout",
          "output_type": "stream",
          "text": [
            "[Save] Model -> /content/drive/MyDrive/Colab Notebooks/Supervised Project/Fine Tuning/models_store_dept_3y1y/model_WI_3_HOUSEHOLD_2.bin\n"
          ]
        },
        {
          "name": "stderr",
          "output_type": "stream",
          "text": [
            "\n"
          ]
        }
      ],
      "source": [
        "import os, gc, pickle, time\n",
        "import numpy as np\n",
        "import pandas as pd\n",
        "import lightgbm as lgb\n",
        "from tqdm import tqdm\n",
        "\n",
        "# Calculate the d interval for 3-year training + 1-year validation based on the data starting date\n",
        "def make_ranges_by_df(df, years_train=3, date_col='date', d_col='d'):\n",
        "    df = df.copy()\n",
        "    if not np.issubdtype(df[date_col].dtype, np.datetime64):\n",
        "        df[date_col] = pd.to_datetime(df[date_col])\n",
        "\n",
        "    start_date = df[date_col].min().normalize()\n",
        "    y3_end_date = start_date + pd.DateOffset(years=3) - pd.Timedelta(days=1)\n",
        "    y4_end_date = start_date + pd.DateOffset(years=4) - pd.Timedelta(days=1)\n",
        "\n",
        "    # Map date boundaries to d index (robust: take the largest d <= boundary date)\n",
        "    d_y3_end = int(df.loc[df[date_col] <= y3_end_date, d_col].max())\n",
        "    d_y4_end = int(df.loc[df[date_col] <= y4_end_date, d_col].max())\n",
        "\n",
        "    # Starting from start_date\n",
        "    train_start_date = y3_end_date - pd.DateOffset(years=years_train) + pd.Timedelta(days=1)\n",
        "    d_train_start = int(df.loc[df[date_col] >= train_start_date, d_col].min())\n",
        "\n",
        "    train_range = (d_train_start, d_y3_end)      # [1, 1096]\n",
        "    val_range   = (d_y3_end + 1, d_y4_end)       # [1097, 1461]\n",
        "    info = {\n",
        "        \"start_date\": start_date.date(),\n",
        "        \"y3_end_date\": y3_end_date.date(),\n",
        "        \"y4_end_date\": y4_end_date.date(),\n",
        "        \"train_range_d\": train_range,\n",
        "        \"val_range_d\": val_range,\n",
        "    }\n",
        "    return train_range, val_range, info\n",
        "\n",
        "# LightGBM\n",
        "def _fit_lgb_safe(X_tr, y_tr, params):\n",
        "    n = X_tr.shape[0]\n",
        "    # Drop constant columns (including all NaNs/single values)\n",
        "    const_cols = [c for c in X_tr.columns if X_tr[c].nunique(dropna=True) <= 1]\n",
        "    if const_cols:\n",
        "        X_tr = X_tr.drop(columns=const_cols)\n",
        "\n",
        "    safe = dict(params or {})\n",
        "    safe['min_data_in_leaf'] = max(5, min(safe.get('min_data_in_leaf', 20), max(2, n // 4)))\n",
        "    safe['num_leaves']       = min(safe.get('num_leaves', 31), max(2, n - 1))\n",
        "    safe['force_row_wise']   = True\n",
        "\n",
        "    mdl = lgb.LGBMRegressor(**safe)\n",
        "    mdl.fit(X_tr, y_tr)\n",
        "    return mdl, const_cols\n",
        "\n",
        "# Main function: group training\n",
        "def run_train_val_3y1y(\n",
        "    df, group_key, label_col, remove_feature, lgb_params,\n",
        "    forecast_dir, model_dir,\n",
        "    date_col='date', d_col='d'\n",
        "):\n",
        "    os.makedirs(forecast_dir, exist_ok=True)\n",
        "    os.makedirs(model_dir, exist_ok=True)\n",
        "\n",
        "    train_range, val_range, info = make_ranges_by_df(df, years_train=3, date_col=date_col, d_col=d_col)\n",
        "    print(f\"[SPLIT] start={info['start_date']}, Y3_end={info['y3_end_date']}, \"\n",
        "          f\"Y4_end={info['y4_end_date']}, train_d={info['train_range_d']}, val_d={info['val_range_d']}\")\n",
        "\n",
        "    for grp_vals, gdf in tqdm(df.groupby(group_key, sort=False), desc=\"Hold-out per group\"):\n",
        "        group_id = \"_\".join(map(str, grp_vals if isinstance(grp_vals, tuple) else (grp_vals,)))\n",
        "        f_path = os.path.join(forecast_dir, f\"forecast_{group_id}.pkl\")\n",
        "        m_path = os.path.join(model_dir,    f\"model_{group_id}.bin\")\n",
        "\n",
        "        if os.path.exists(f_path) and os.path.exists(m_path):\n",
        "            print(f\"[Skip] {group_id} already processed.\")\n",
        "            continue\n",
        "\n",
        "        # Split\n",
        "        tr_mask = (gdf[d_col] >= train_range[0]) & (gdf[d_col] <= train_range[1])\n",
        "        vl_mask = (gdf[d_col] >= val_range[0])   & (gdf[d_col] <= val_range[1])\n",
        "\n",
        "        X_tr = gdf.loc[tr_mask].drop(columns=remove_feature + [label_col], errors='ignore')\n",
        "        y_tr = gdf.loc[tr_mask, label_col]\n",
        "        X_vl = gdf.loc[vl_mask].drop(columns=remove_feature + [label_col], errors='ignore')\n",
        "        y_vl = gdf.loc[vl_mask, label_col]\n",
        "\n",
        "        if X_tr.empty or X_vl.empty:\n",
        "            print(f\"[Warn] {group_id} no train/val rows. Skipped.\")\n",
        "            continue\n",
        "\n",
        "        t0 = time.time()\n",
        "        model, dropped_cols = _fit_lgb_safe(X_tr, y_tr, lgb_params)\n",
        "        secs = time.time() - t0\n",
        "\n",
        "        # Validation set predictions\n",
        "        X_vl2 = X_vl.drop(columns=dropped_cols, errors='ignore')\n",
        "        pred = model.predict(X_vl2)\n",
        "\n",
        "        # Save results\n",
        "        cols_keep = ['d', 'date']\n",
        "        for c in ['item_id', 'store_id'] + (group_key if isinstance(group_key, list) else list(group_key)):\n",
        "            if c in gdf.columns and c not in cols_keep:\n",
        "                cols_keep.append(c)\n",
        "        out = gdf.loc[vl_mask, cols_keep].copy()\n",
        "        out['true'] = y_vl.values\n",
        "        out['pred'] = pred\n",
        "        out['train_secs'] = secs\n",
        "        out.to_pickle(f_path)\n",
        "        print(f\"[Save] Forecast -> {f_path}\")\n",
        "\n",
        "        # Save models\n",
        "        with open(m_path, 'wb') as f:\n",
        "            pickle.dump(model, f)\n",
        "        print(f\"[Save] Model -> {m_path}\")\n",
        "\n",
        "        # Freeing memory\n",
        "        del X_tr, y_tr, X_vl, y_vl, model, gdf, out\n",
        "        gc.collect()\n",
        "\n",
        "# Call\n",
        "forecast_dir = \"/content/drive/MyDrive/Colab Notebooks/Supervised Project/Fine Tuning/train_store_dept_3y1y/\"\n",
        "model_dir    = \"/content/drive/MyDrive/Colab Notebooks/Supervised Project/Fine Tuning/models_store_dept_3y1y/\"\n",
        "\n",
        "run_train_val_3y1y(\n",
        "    df=sales_long_val,\n",
        "    group_key=group_key,\n",
        "    label_col=label_col,\n",
        "    remove_feature=remove_feature,\n",
        "    lgb_params=lgb_params,\n",
        "    forecast_dir=forecast_dir,\n",
        "    model_dir=model_dir,\n",
        "    date_col='date',\n",
        "    d_col='d'\n",
        ")\n"
      ]
    },
    {
      "cell_type": "code",
      "execution_count": null,
      "metadata": {
        "colab": {
          "base_uri": "https://localhost:8080/",
          "height": 260
        },
        "id": "tmNYbmti-N3S",
        "outputId": "5b654ff6-c62f-4b76-ed8d-f4c8352b1247"
      },
      "outputs": [
        {
          "output_type": "stream",
          "name": "stdout",
          "text": [
            "Mounted at /content/drive\n"
          ]
        },
        {
          "output_type": "stream",
          "name": "stderr",
          "text": [
            "/usr/local/lib/python3.12/dist-packages/pandas/io/formats/format.py:1458: RuntimeWarning: overflow encountered in cast\n",
            "  has_large_values = (abs_vals > 1e6).any()\n"
          ]
        },
        {
          "output_type": "execute_result",
          "data": {
            "text/plain": [
              "      d       date      item_id store_id  dept_id  true      pred  train_secs\n",
              "0  1097 2014-01-29  FOODS_1_001     CA_1  FOODS_1   0.0  0.015328   49.344443\n",
              "1  1098 2014-01-30  FOODS_1_001     CA_1  FOODS_1   0.0  0.023159   49.344443\n",
              "2  1099 2014-01-31  FOODS_1_001     CA_1  FOODS_1   0.0  0.031866   49.344443\n",
              "3  1100 2014-02-01  FOODS_1_001     CA_1  FOODS_1   0.0  0.016470   49.344443\n",
              "4  1101 2014-02-02  FOODS_1_001     CA_1  FOODS_1   0.0  0.007734   49.344443"
            ],
            "text/html": [
              "\n",
              "  <div id=\"df-652dcc21-538d-4627-8bec-10ec6ceca6dc\" class=\"colab-df-container\">\n",
              "    <div>\n",
              "<style scoped>\n",
              "    .dataframe tbody tr th:only-of-type {\n",
              "        vertical-align: middle;\n",
              "    }\n",
              "\n",
              "    .dataframe tbody tr th {\n",
              "        vertical-align: top;\n",
              "    }\n",
              "\n",
              "    .dataframe thead th {\n",
              "        text-align: right;\n",
              "    }\n",
              "</style>\n",
              "<table border=\"1\" class=\"dataframe\">\n",
              "  <thead>\n",
              "    <tr style=\"text-align: right;\">\n",
              "      <th></th>\n",
              "      <th>d</th>\n",
              "      <th>date</th>\n",
              "      <th>item_id</th>\n",
              "      <th>store_id</th>\n",
              "      <th>dept_id</th>\n",
              "      <th>true</th>\n",
              "      <th>pred</th>\n",
              "      <th>train_secs</th>\n",
              "    </tr>\n",
              "  </thead>\n",
              "  <tbody>\n",
              "    <tr>\n",
              "      <th>0</th>\n",
              "      <td>1097</td>\n",
              "      <td>2014-01-29</td>\n",
              "      <td>FOODS_1_001</td>\n",
              "      <td>CA_1</td>\n",
              "      <td>FOODS_1</td>\n",
              "      <td>0.0</td>\n",
              "      <td>0.015328</td>\n",
              "      <td>49.344443</td>\n",
              "    </tr>\n",
              "    <tr>\n",
              "      <th>1</th>\n",
              "      <td>1098</td>\n",
              "      <td>2014-01-30</td>\n",
              "      <td>FOODS_1_001</td>\n",
              "      <td>CA_1</td>\n",
              "      <td>FOODS_1</td>\n",
              "      <td>0.0</td>\n",
              "      <td>0.023159</td>\n",
              "      <td>49.344443</td>\n",
              "    </tr>\n",
              "    <tr>\n",
              "      <th>2</th>\n",
              "      <td>1099</td>\n",
              "      <td>2014-01-31</td>\n",
              "      <td>FOODS_1_001</td>\n",
              "      <td>CA_1</td>\n",
              "      <td>FOODS_1</td>\n",
              "      <td>0.0</td>\n",
              "      <td>0.031866</td>\n",
              "      <td>49.344443</td>\n",
              "    </tr>\n",
              "    <tr>\n",
              "      <th>3</th>\n",
              "      <td>1100</td>\n",
              "      <td>2014-02-01</td>\n",
              "      <td>FOODS_1_001</td>\n",
              "      <td>CA_1</td>\n",
              "      <td>FOODS_1</td>\n",
              "      <td>0.0</td>\n",
              "      <td>0.016470</td>\n",
              "      <td>49.344443</td>\n",
              "    </tr>\n",
              "    <tr>\n",
              "      <th>4</th>\n",
              "      <td>1101</td>\n",
              "      <td>2014-02-02</td>\n",
              "      <td>FOODS_1_001</td>\n",
              "      <td>CA_1</td>\n",
              "      <td>FOODS_1</td>\n",
              "      <td>0.0</td>\n",
              "      <td>0.007734</td>\n",
              "      <td>49.344443</td>\n",
              "    </tr>\n",
              "  </tbody>\n",
              "</table>\n",
              "</div>\n",
              "    <div class=\"colab-df-buttons\">\n",
              "\n",
              "  <div class=\"colab-df-container\">\n",
              "    <button class=\"colab-df-convert\" onclick=\"convertToInteractive('df-652dcc21-538d-4627-8bec-10ec6ceca6dc')\"\n",
              "            title=\"Convert this dataframe to an interactive table.\"\n",
              "            style=\"display:none;\">\n",
              "\n",
              "  <svg xmlns=\"http://www.w3.org/2000/svg\" height=\"24px\" viewBox=\"0 -960 960 960\">\n",
              "    <path d=\"M120-120v-720h720v720H120Zm60-500h600v-160H180v160Zm220 220h160v-160H400v160Zm0 220h160v-160H400v160ZM180-400h160v-160H180v160Zm440 0h160v-160H620v160ZM180-180h160v-160H180v160Zm440 0h160v-160H620v160Z\"/>\n",
              "  </svg>\n",
              "    </button>\n",
              "\n",
              "  <style>\n",
              "    .colab-df-container {\n",
              "      display:flex;\n",
              "      gap: 12px;\n",
              "    }\n",
              "\n",
              "    .colab-df-convert {\n",
              "      background-color: #E8F0FE;\n",
              "      border: none;\n",
              "      border-radius: 50%;\n",
              "      cursor: pointer;\n",
              "      display: none;\n",
              "      fill: #1967D2;\n",
              "      height: 32px;\n",
              "      padding: 0 0 0 0;\n",
              "      width: 32px;\n",
              "    }\n",
              "\n",
              "    .colab-df-convert:hover {\n",
              "      background-color: #E2EBFA;\n",
              "      box-shadow: 0px 1px 2px rgba(60, 64, 67, 0.3), 0px 1px 3px 1px rgba(60, 64, 67, 0.15);\n",
              "      fill: #174EA6;\n",
              "    }\n",
              "\n",
              "    .colab-df-buttons div {\n",
              "      margin-bottom: 4px;\n",
              "    }\n",
              "\n",
              "    [theme=dark] .colab-df-convert {\n",
              "      background-color: #3B4455;\n",
              "      fill: #D2E3FC;\n",
              "    }\n",
              "\n",
              "    [theme=dark] .colab-df-convert:hover {\n",
              "      background-color: #434B5C;\n",
              "      box-shadow: 0px 1px 3px 1px rgba(0, 0, 0, 0.15);\n",
              "      filter: drop-shadow(0px 1px 2px rgba(0, 0, 0, 0.3));\n",
              "      fill: #FFFFFF;\n",
              "    }\n",
              "  </style>\n",
              "\n",
              "    <script>\n",
              "      const buttonEl =\n",
              "        document.querySelector('#df-652dcc21-538d-4627-8bec-10ec6ceca6dc button.colab-df-convert');\n",
              "      buttonEl.style.display =\n",
              "        google.colab.kernel.accessAllowed ? 'block' : 'none';\n",
              "\n",
              "      async function convertToInteractive(key) {\n",
              "        const element = document.querySelector('#df-652dcc21-538d-4627-8bec-10ec6ceca6dc');\n",
              "        const dataTable =\n",
              "          await google.colab.kernel.invokeFunction('convertToInteractive',\n",
              "                                                    [key], {});\n",
              "        if (!dataTable) return;\n",
              "\n",
              "        const docLinkHtml = 'Like what you see? Visit the ' +\n",
              "          '<a target=\"_blank\" href=https://colab.research.google.com/notebooks/data_table.ipynb>data table notebook</a>'\n",
              "          + ' to learn more about interactive tables.';\n",
              "        element.innerHTML = '';\n",
              "        dataTable['output_type'] = 'display_data';\n",
              "        await google.colab.output.renderOutput(dataTable, element);\n",
              "        const docLink = document.createElement('div');\n",
              "        docLink.innerHTML = docLinkHtml;\n",
              "        element.appendChild(docLink);\n",
              "      }\n",
              "    </script>\n",
              "  </div>\n",
              "\n",
              "\n",
              "    <div id=\"df-42d3eb4c-6690-474a-9f7d-543dc096e85d\">\n",
              "      <button class=\"colab-df-quickchart\" onclick=\"quickchart('df-42d3eb4c-6690-474a-9f7d-543dc096e85d')\"\n",
              "                title=\"Suggest charts\"\n",
              "                style=\"display:none;\">\n",
              "\n",
              "<svg xmlns=\"http://www.w3.org/2000/svg\" height=\"24px\"viewBox=\"0 0 24 24\"\n",
              "     width=\"24px\">\n",
              "    <g>\n",
              "        <path d=\"M19 3H5c-1.1 0-2 .9-2 2v14c0 1.1.9 2 2 2h14c1.1 0 2-.9 2-2V5c0-1.1-.9-2-2-2zM9 17H7v-7h2v7zm4 0h-2V7h2v10zm4 0h-2v-4h2v4z\"/>\n",
              "    </g>\n",
              "</svg>\n",
              "      </button>\n",
              "\n",
              "<style>\n",
              "  .colab-df-quickchart {\n",
              "      --bg-color: #E8F0FE;\n",
              "      --fill-color: #1967D2;\n",
              "      --hover-bg-color: #E2EBFA;\n",
              "      --hover-fill-color: #174EA6;\n",
              "      --disabled-fill-color: #AAA;\n",
              "      --disabled-bg-color: #DDD;\n",
              "  }\n",
              "\n",
              "  [theme=dark] .colab-df-quickchart {\n",
              "      --bg-color: #3B4455;\n",
              "      --fill-color: #D2E3FC;\n",
              "      --hover-bg-color: #434B5C;\n",
              "      --hover-fill-color: #FFFFFF;\n",
              "      --disabled-bg-color: #3B4455;\n",
              "      --disabled-fill-color: #666;\n",
              "  }\n",
              "\n",
              "  .colab-df-quickchart {\n",
              "    background-color: var(--bg-color);\n",
              "    border: none;\n",
              "    border-radius: 50%;\n",
              "    cursor: pointer;\n",
              "    display: none;\n",
              "    fill: var(--fill-color);\n",
              "    height: 32px;\n",
              "    padding: 0;\n",
              "    width: 32px;\n",
              "  }\n",
              "\n",
              "  .colab-df-quickchart:hover {\n",
              "    background-color: var(--hover-bg-color);\n",
              "    box-shadow: 0 1px 2px rgba(60, 64, 67, 0.3), 0 1px 3px 1px rgba(60, 64, 67, 0.15);\n",
              "    fill: var(--button-hover-fill-color);\n",
              "  }\n",
              "\n",
              "  .colab-df-quickchart-complete:disabled,\n",
              "  .colab-df-quickchart-complete:disabled:hover {\n",
              "    background-color: var(--disabled-bg-color);\n",
              "    fill: var(--disabled-fill-color);\n",
              "    box-shadow: none;\n",
              "  }\n",
              "\n",
              "  .colab-df-spinner {\n",
              "    border: 2px solid var(--fill-color);\n",
              "    border-color: transparent;\n",
              "    border-bottom-color: var(--fill-color);\n",
              "    animation:\n",
              "      spin 1s steps(1) infinite;\n",
              "  }\n",
              "\n",
              "  @keyframes spin {\n",
              "    0% {\n",
              "      border-color: transparent;\n",
              "      border-bottom-color: var(--fill-color);\n",
              "      border-left-color: var(--fill-color);\n",
              "    }\n",
              "    20% {\n",
              "      border-color: transparent;\n",
              "      border-left-color: var(--fill-color);\n",
              "      border-top-color: var(--fill-color);\n",
              "    }\n",
              "    30% {\n",
              "      border-color: transparent;\n",
              "      border-left-color: var(--fill-color);\n",
              "      border-top-color: var(--fill-color);\n",
              "      border-right-color: var(--fill-color);\n",
              "    }\n",
              "    40% {\n",
              "      border-color: transparent;\n",
              "      border-right-color: var(--fill-color);\n",
              "      border-top-color: var(--fill-color);\n",
              "    }\n",
              "    60% {\n",
              "      border-color: transparent;\n",
              "      border-right-color: var(--fill-color);\n",
              "    }\n",
              "    80% {\n",
              "      border-color: transparent;\n",
              "      border-right-color: var(--fill-color);\n",
              "      border-bottom-color: var(--fill-color);\n",
              "    }\n",
              "    90% {\n",
              "      border-color: transparent;\n",
              "      border-bottom-color: var(--fill-color);\n",
              "    }\n",
              "  }\n",
              "</style>\n",
              "\n",
              "      <script>\n",
              "        async function quickchart(key) {\n",
              "          const quickchartButtonEl =\n",
              "            document.querySelector('#' + key + ' button');\n",
              "          quickchartButtonEl.disabled = true;  // To prevent multiple clicks.\n",
              "          quickchartButtonEl.classList.add('colab-df-spinner');\n",
              "          try {\n",
              "            const charts = await google.colab.kernel.invokeFunction(\n",
              "                'suggestCharts', [key], {});\n",
              "          } catch (error) {\n",
              "            console.error('Error during call to suggestCharts:', error);\n",
              "          }\n",
              "          quickchartButtonEl.classList.remove('colab-df-spinner');\n",
              "          quickchartButtonEl.classList.add('colab-df-quickchart-complete');\n",
              "        }\n",
              "        (() => {\n",
              "          let quickchartButtonEl =\n",
              "            document.querySelector('#df-42d3eb4c-6690-474a-9f7d-543dc096e85d button');\n",
              "          quickchartButtonEl.style.display =\n",
              "            google.colab.kernel.accessAllowed ? 'block' : 'none';\n",
              "        })();\n",
              "      </script>\n",
              "    </div>\n",
              "\n",
              "    </div>\n",
              "  </div>\n"
            ],
            "application/vnd.google.colaboratory.intrinsic+json": {
              "type": "dataframe",
              "variable_name": "all_results"
            }
          },
          "metadata": {},
          "execution_count": 2
        }
      ],
      "source": [
        "import pandas as pd\n",
        "import os\n",
        "from glob import glob\n",
        "from google.colab import drive\n",
        "drive.mount('/content/drive')\n",
        "\n",
        "new_results_dir = \"/content/drive/MyDrive/Colab Notebooks/Supervised Project/Fine Tuning/train_store_dept_3y1y/\"\n",
        "\n",
        "file_list = glob(os.path.join(new_results_dir, \"forecast_*.pkl\"))\n",
        "\n",
        "all_results = pd.concat([pd.read_pickle(f) for f in file_list], ignore_index=True)\n",
        "\n",
        "all_results.head()\n"
      ]
    },
    {
      "cell_type": "code",
      "execution_count": null,
      "metadata": {
        "colab": {
          "base_uri": "https://localhost:8080/"
        },
        "id": "Oufvywlp-2A8",
        "outputId": "5783954b-3f57-4e12-8e17-f8e6fba2e1a6"
      },
      "outputs": [
        {
          "name": "stdout",
          "output_type": "stream",
          "text": [
            "Total records: 10377296\n",
            "Columns: ['d', 'date', 'item_id', 'store_id', 'dept_id', 'true', 'pred', 'train_secs']\n"
          ]
        }
      ],
      "source": [
        "print(f\"Total records: {all_results.shape[0]}\")\n",
        "print(f\"Columns: {all_results.columns.tolist()}\")"
      ]
    },
    {
      "cell_type": "markdown",
      "metadata": {
        "id": "E6TPqIzNGUhV"
      },
      "source": [
        "# Evaluation with errors"
      ]
    },
    {
      "cell_type": "code",
      "execution_count": null,
      "metadata": {
        "id": "rCWDWcDIIqCY"
      },
      "outputs": [],
      "source": [
        "import numpy as np\n",
        "import pandas as pd\n",
        "from sklearn.metrics import mean_squared_error\n",
        "\n",
        "def calculate_test_errors(test_series, forecast_series, train_series=None,\n",
        "                          series_name='y', model_name='model', print_results=False):\n",
        "\n",
        "    y_true = np.array(test_series)\n",
        "    y_pred = np.array(forecast_series)\n",
        "\n",
        "    # MAPE and sMAPE（escape 0）\n",
        "    skip_mape = (y_true == 0).any()\n",
        "    if not skip_mape:\n",
        "        mape_val = np.mean(np.abs((y_true - y_pred) / y_true)) * 100\n",
        "        smape_val = 100 * np.mean(2 * np.abs(y_pred - y_true) / (np.abs(y_pred) + np.abs(y_true)))\n",
        "\n",
        "    # RMSE\n",
        "    rmse_val = np.sqrt(mean_squared_error(y_true, y_pred))\n",
        "    me_val = np.mean(y_pred - y_true)\n",
        "    mean_test = np.mean(y_true)\n",
        "    norm_rmse = rmse_val / mean_test\n",
        "    norm_me = me_val / mean_test\n",
        "\n",
        "    # RMSSE\n",
        "    if train_series is not None:\n",
        "        y_train = np.array(train_series)\n",
        "        insample_naive = np.mean((y_train[1:] - y_train[:-1]) ** 2)\n",
        "        rmsse_val = rmse_val / np.sqrt(insample_naive) if insample_naive > 0 else np.nan\n",
        "    else:\n",
        "        rmsse_val = np.nan\n",
        "\n",
        "    if print_results:\n",
        "        print(f\"Model: {model_name} | Series: {series_name}\")\n",
        "        if not skip_mape:\n",
        "            print(f\"MAPE     : {mape_val:.2f}%\")\n",
        "            print(f\"sMAPE    : {smape_val:.2f}%\")\n",
        "        print(f\"RMSSE    : {rmsse_val:.3f}\")\n",
        "        print(f\"RMSE     : {rmse_val:.3f}\")\n",
        "        print(f\"Norm_RMSE: {norm_rmse:.3f}\")\n",
        "        print(f\"ME       : {me_val:.3f}\")\n",
        "        print(f\"Norm_ME  : {norm_me:.3f}\")\n",
        "\n",
        "    # DataFrame\n",
        "    if not skip_mape:\n",
        "        columns = ['SeriesName', 'Model', 'MAPE', 'sMAPE', 'RMSSE', 'RMSE', 'Norm_RMSE', 'ME', 'Norm_ME']\n",
        "        values = [series_name, model_name, mape_val, smape_val, rmsse_val, rmse_val, norm_rmse, me_val, norm_me]\n",
        "    else:\n",
        "        columns = ['SeriesName', 'Model', 'RMSSE', 'RMSE', 'Norm_RMSE', 'ME', 'Norm_ME']\n",
        "        values = [series_name, model_name, rmsse_val, rmse_val, norm_rmse, me_val, norm_me]\n",
        "\n",
        "    return pd.DataFrame([values], columns=columns)\n"
      ]
    },
    {
      "cell_type": "code",
      "execution_count": null,
      "metadata": {
        "id": "fOzWtSEsGLwI"
      },
      "outputs": [],
      "source": [
        "import numpy as np\n",
        "import pandas as pd\n",
        "\n",
        "def evaluate_group_errors(\n",
        "    result_df: pd.DataFrame,\n",
        "    sales_long_val: pd.DataFrame,\n",
        "    label_col: str,\n",
        "    group_key: list,\n",
        "    train_range: tuple = (1, 1096),   # validation window\n",
        "    lead_time: int = 3,\n",
        "    model_name: str = 'ML_Holdout'\n",
        "):\n",
        "    \"\"\"\n",
        "    result_df: Validation set details containing ['d', *group_key, 'true', 'pred']\n",
        "    sales_long_val: Full history (at least ['d', 'sales', *group_key])\n",
        "    label_col: Evaluation target ('ROP_L3')\n",
        "    group_key: Grouping key (e.g., ['store_id', 'dept_id'])\n",
        "    train_range: Constructs the RMSSE denominator using only the training window to prevent lookahead\n",
        "    lead_time: L interval used for aggregation when label is ROP\n",
        "    \"\"\"\n",
        "\n",
        "    error_summary = []\n",
        "    tr_start, tr_end = train_range\n",
        "\n",
        "    # groups\n",
        "    for group_vals, gpred in result_df.groupby(group_key, sort=False):\n",
        "        y_true = gpred['true'].to_numpy(dtype=float)\n",
        "        y_pred = gpred['pred'].to_numpy(dtype=float)\n",
        "\n",
        "        # Construct the history of this group + training window\n",
        "        mask = np.ones(len(sales_long_val), dtype=bool)\n",
        "        for k, v in zip(group_key, (group_vals if isinstance(group_vals, tuple) else (group_vals,))):\n",
        "            mask &= (sales_long_val[k] == v)\n",
        "        mask &= (sales_long_val['d'] >= tr_start) & (sales_long_val['d'] <= tr_end)\n",
        "\n",
        "        g_hist = sales_long_val.loc[mask, ['d', 'sales']].sort_values('d')\n",
        "        if g_hist.empty:\n",
        "            train_series = None\n",
        "        else:\n",
        "            if 'ROP' in label_col.upper():\n",
        "                # Construction within the training window ROP_train = rolling L day sum, forward L-1 anti-leakage\n",
        "                rop_train = (\n",
        "                    g_hist['sales']\n",
        "                    .shift(-(lead_time - 1))\n",
        "                    .rolling(lead_time)\n",
        "                    .sum()\n",
        "                )\n",
        "                # Only ROPs that fall completely within the training window are retained (the last L-1 days without true values ​​are not counted)\n",
        "                last_t = tr_end - (lead_time - 1)\n",
        "                train_series = rop_train[g_hist['d'] <= last_t].dropna()\n",
        "            else:\n",
        "                # Daily sales\n",
        "                train_series = g_hist['sales'].dropna()\n",
        "\n",
        "            if train_series is not None and len(train_series) < 2:\n",
        "                train_series = None\n",
        "\n",
        "        # Error calculation\n",
        "        res = calculate_test_errors(\n",
        "            test_series=y_true,\n",
        "            forecast_series=y_pred,\n",
        "            train_series=train_series,\n",
        "            series_name=str(group_vals),\n",
        "            model_name=model_name,\n",
        "            print_results=False\n",
        "        )\n",
        "        error_summary.append(res)\n",
        "\n",
        "    return pd.concat(error_summary, ignore_index=True) if error_summary else pd.DataFrame()"
      ]
    },
    {
      "cell_type": "code",
      "execution_count": null,
      "metadata": {
        "colab": {
          "base_uri": "https://localhost:8080/"
        },
        "id": "-qMjdHiG_e-X",
        "outputId": "4c8b2768-871a-4686-9814-3b6d3f7b9a05"
      },
      "outputs": [
        {
          "output_type": "stream",
          "name": "stdout",
          "text": [
            "Group ('CA_1', 'FOODS_1') has 22 NaN rows.\n",
            "Group ('CA_1', 'FOODS_2') has 130 NaN rows.\n",
            "Group ('CA_1', 'FOODS_3') has 182 NaN rows.\n",
            "Group ('CA_1', 'HOBBIES_1') has 66 NaN rows.\n",
            "Group ('CA_1', 'HOBBIES_2') has 46 NaN rows.\n",
            "Group ('CA_1', 'HOUSEHOLD_1') has 140 NaN rows.\n",
            "Group ('CA_1', 'HOUSEHOLD_2') has 98 NaN rows.\n",
            "Group ('CA_2', 'FOODS_1') has 22 NaN rows.\n",
            "Group ('CA_2', 'FOODS_2') has 80 NaN rows.\n",
            "Group ('CA_2', 'FOODS_3') has 226 NaN rows.\n",
            "Group ('CA_2', 'HOBBIES_1') has 62 NaN rows.\n",
            "Group ('CA_2', 'HOBBIES_2') has 42 NaN rows.\n",
            "Group ('CA_2', 'HOUSEHOLD_1') has 156 NaN rows.\n",
            "Group ('CA_2', 'HOUSEHOLD_2') has 110 NaN rows.\n",
            "Group ('CA_3', 'FOODS_1') has 22 NaN rows.\n",
            "Group ('CA_3', 'FOODS_2') has 124 NaN rows.\n",
            "Group ('CA_3', 'FOODS_3') has 186 NaN rows.\n",
            "Group ('CA_3', 'HOBBIES_1') has 64 NaN rows.\n",
            "Group ('CA_3', 'HOBBIES_2') has 44 NaN rows.\n",
            "Group ('CA_3', 'HOUSEHOLD_1') has 154 NaN rows.\n",
            "Group ('CA_3', 'HOUSEHOLD_2') has 88 NaN rows.\n",
            "Group ('CA_4', 'FOODS_1') has 26 NaN rows.\n",
            "Group ('CA_4', 'FOODS_2') has 126 NaN rows.\n",
            "Group ('CA_4', 'FOODS_3') has 192 NaN rows.\n",
            "Group ('CA_4', 'HOBBIES_1') has 94 NaN rows.\n",
            "Group ('CA_4', 'HOBBIES_2') has 62 NaN rows.\n",
            "Group ('CA_4', 'HOUSEHOLD_1') has 170 NaN rows.\n",
            "Group ('CA_4', 'HOUSEHOLD_2') has 114 NaN rows.\n",
            "Group ('TX_1', 'FOODS_1') has 18 NaN rows.\n",
            "Group ('TX_1', 'FOODS_2') has 126 NaN rows.\n",
            "Group ('TX_1', 'FOODS_3') has 194 NaN rows.\n",
            "Group ('TX_1', 'HOBBIES_1') has 66 NaN rows.\n",
            "Group ('TX_1', 'HOBBIES_2') has 58 NaN rows.\n",
            "Group ('TX_1', 'HOUSEHOLD_1') has 150 NaN rows.\n",
            "Group ('TX_1', 'HOUSEHOLD_2') has 102 NaN rows.\n",
            "Group ('TX_2', 'FOODS_1') has 18 NaN rows.\n",
            "Group ('TX_2', 'FOODS_2') has 124 NaN rows.\n",
            "Group ('TX_2', 'FOODS_3') has 184 NaN rows.\n",
            "Group ('TX_2', 'HOBBIES_1') has 62 NaN rows.\n",
            "Group ('TX_2', 'HOBBIES_2') has 40 NaN rows.\n",
            "Group ('TX_2', 'HOUSEHOLD_1') has 146 NaN rows.\n",
            "Group ('TX_2', 'HOUSEHOLD_2') has 100 NaN rows.\n",
            "Group ('TX_3', 'FOODS_1') has 18 NaN rows.\n",
            "Group ('TX_3', 'FOODS_2') has 122 NaN rows.\n",
            "Group ('TX_3', 'FOODS_3') has 196 NaN rows.\n",
            "Group ('TX_3', 'HOBBIES_1') has 74 NaN rows.\n",
            "Group ('TX_3', 'HOBBIES_2') has 38 NaN rows.\n",
            "Group ('TX_3', 'HOUSEHOLD_1') has 152 NaN rows.\n",
            "Group ('TX_3', 'HOUSEHOLD_2') has 102 NaN rows.\n",
            "Group ('WI_1', 'FOODS_1') has 18 NaN rows.\n",
            "Group ('WI_1', 'FOODS_2') has 122 NaN rows.\n",
            "Group ('WI_1', 'FOODS_3') has 180 NaN rows.\n",
            "Group ('WI_1', 'HOBBIES_1') has 68 NaN rows.\n",
            "Group ('WI_1', 'HOBBIES_2') has 40 NaN rows.\n",
            "Group ('WI_1', 'HOUSEHOLD_1') has 148 NaN rows.\n",
            "Group ('WI_1', 'HOUSEHOLD_2') has 108 NaN rows.\n",
            "Group ('WI_2', 'FOODS_1') has 18 NaN rows.\n",
            "Group ('WI_2', 'FOODS_2') has 122 NaN rows.\n",
            "Group ('WI_2', 'FOODS_3') has 164 NaN rows.\n",
            "Group ('WI_2', 'HOBBIES_1') has 72 NaN rows.\n",
            "Group ('WI_2', 'HOBBIES_2') has 46 NaN rows.\n",
            "Group ('WI_2', 'HOUSEHOLD_1') has 166 NaN rows.\n",
            "Group ('WI_2', 'HOUSEHOLD_2') has 102 NaN rows.\n",
            "Group ('WI_3', 'FOODS_1') has 18 NaN rows.\n",
            "Group ('WI_3', 'FOODS_2') has 120 NaN rows.\n",
            "Group ('WI_3', 'FOODS_3') has 172 NaN rows.\n",
            "Group ('WI_3', 'HOBBIES_1') has 60 NaN rows.\n",
            "Group ('WI_3', 'HOBBIES_2') has 42 NaN rows.\n",
            "Group ('WI_3', 'HOUSEHOLD_1') has 142 NaN rows.\n",
            "Group ('WI_3', 'HOUSEHOLD_2') has 108 NaN rows.\n",
            " Total rows with NaN in 'true' or 'pred': 6974\n"
          ]
        }
      ],
      "source": [
        "total_nan_rows = 0\n",
        "\n",
        "for group_vals, group_df in all_results.groupby(group_key):\n",
        "    nan_mask = group_df[['true', 'pred']].isna().any(axis=1)\n",
        "    nan_count = nan_mask.sum()\n",
        "\n",
        "    if nan_count > 0:\n",
        "        print(f\"Group {group_vals} has {nan_count} NaN rows.\")\n",
        "        total_nan_rows += nan_count\n",
        "\n",
        "print(f\" Total rows with NaN in 'true' or 'pred': {total_nan_rows}\")\n"
      ]
    },
    {
      "cell_type": "code",
      "execution_count": null,
      "metadata": {
        "colab": {
          "base_uri": "https://localhost:8080/"
        },
        "id": "C2xmO5pD_1ix",
        "outputId": "2e7a32c5-fe97-4d49-a389-08d37abe543f"
      },
      "outputs": [
        {
          "name": "stdout",
          "output_type": "stream",
          "text": [
            "Number of rows containing NaNs: 6974\n",
            "Total number of rows: 10377296\n",
            "NaN percentage: 0.07%\n"
          ]
        }
      ],
      "source": [
        "nan_rows = all_results[['true', 'pred']].isna().any(axis=1).sum()\n",
        "\n",
        "total_rows = len(all_results)\n",
        "\n",
        "nan_ratio = nan_rows / total_rows\n",
        "\n",
        "print(f\"Number of rows containing NaNs: {nan_rows}\")\n",
        "print(f\"Total number of rows: {total_rows}\")\n",
        "print(f\"NaN percentage: {nan_ratio:.2%}\")\n"
      ]
    },
    {
      "cell_type": "code",
      "execution_count": null,
      "metadata": {
        "id": "68tx-JAZcxmr"
      },
      "outputs": [],
      "source": [
        "all_results_clean = all_results.dropna(subset=['true', 'pred'])\n",
        "error_df = evaluate_group_errors(result_df=all_results_clean,\n",
        "                                 sales_long_val=sales_long_val,\n",
        "                                 label_col=label_col,\n",
        "                                 group_key=group_key)"
      ]
    },
    {
      "cell_type": "code",
      "execution_count": null,
      "metadata": {
        "colab": {
          "base_uri": "https://localhost:8080/",
          "height": 363
        },
        "id": "S1G4SiN5BNbh",
        "outputId": "93a95bb0-df5a-43be-bee9-b82fd9f017f2"
      },
      "outputs": [
        {
          "output_type": "execute_result",
          "data": {
            "text/plain": [
              "            SeriesName       Model     RMSSE      RMSE  Norm_RMSE        ME  \\\n",
              "0  ('CA_1', 'FOODS_1')  ML_Holdout  0.714531  3.375711   0.707822 -0.381018   \n",
              "1  ('CA_2', 'FOODS_1')  ML_Holdout  0.597432  3.542258   0.698133 -0.168272   \n",
              "2  ('CA_3', 'FOODS_1')  ML_Holdout  0.686002  4.058081   0.735551 -0.236788   \n",
              "3  ('CA_4', 'FOODS_1')  ML_Holdout  0.700626  2.233861   0.780213 -0.154787   \n",
              "4  ('TX_1', 'FOODS_1')  ML_Holdout  0.927050  3.047546   1.079793 -0.380435   \n",
              "5  ('TX_2', 'FOODS_1')  ML_Holdout  0.456646  2.822131   0.785422 -0.234683   \n",
              "6  ('TX_3', 'FOODS_1')  ML_Holdout  0.842993  3.172179   0.900793 -0.445858   \n",
              "7  ('WI_1', 'FOODS_1')  ML_Holdout  0.616250  2.587411   0.684662 -0.223458   \n",
              "8  ('WI_2', 'FOODS_1')  ML_Holdout  0.694685  3.792860   0.875028 -0.280073   \n",
              "9  ('WI_3', 'FOODS_1')  ML_Holdout  0.504957  2.232975   0.905671 -0.201762   \n",
              "\n",
              "    Norm_ME  \n",
              "0 -0.079892  \n",
              "1 -0.033164  \n",
              "2 -0.042919  \n",
              "3 -0.054062  \n",
              "4 -0.134794  \n",
              "5 -0.065314  \n",
              "6 -0.126609  \n",
              "7 -0.059130  \n",
              "8 -0.064614  \n",
              "9 -0.081832  "
            ],
            "text/html": [
              "\n",
              "  <div id=\"df-7a992244-0167-4409-b3f4-b5fee52b9c2f\" class=\"colab-df-container\">\n",
              "    <div>\n",
              "<style scoped>\n",
              "    .dataframe tbody tr th:only-of-type {\n",
              "        vertical-align: middle;\n",
              "    }\n",
              "\n",
              "    .dataframe tbody tr th {\n",
              "        vertical-align: top;\n",
              "    }\n",
              "\n",
              "    .dataframe thead th {\n",
              "        text-align: right;\n",
              "    }\n",
              "</style>\n",
              "<table border=\"1\" class=\"dataframe\">\n",
              "  <thead>\n",
              "    <tr style=\"text-align: right;\">\n",
              "      <th></th>\n",
              "      <th>SeriesName</th>\n",
              "      <th>Model</th>\n",
              "      <th>RMSSE</th>\n",
              "      <th>RMSE</th>\n",
              "      <th>Norm_RMSE</th>\n",
              "      <th>ME</th>\n",
              "      <th>Norm_ME</th>\n",
              "    </tr>\n",
              "  </thead>\n",
              "  <tbody>\n",
              "    <tr>\n",
              "      <th>0</th>\n",
              "      <td>('CA_1', 'FOODS_1')</td>\n",
              "      <td>ML_Holdout</td>\n",
              "      <td>0.714531</td>\n",
              "      <td>3.375711</td>\n",
              "      <td>0.707822</td>\n",
              "      <td>-0.381018</td>\n",
              "      <td>-0.079892</td>\n",
              "    </tr>\n",
              "    <tr>\n",
              "      <th>1</th>\n",
              "      <td>('CA_2', 'FOODS_1')</td>\n",
              "      <td>ML_Holdout</td>\n",
              "      <td>0.597432</td>\n",
              "      <td>3.542258</td>\n",
              "      <td>0.698133</td>\n",
              "      <td>-0.168272</td>\n",
              "      <td>-0.033164</td>\n",
              "    </tr>\n",
              "    <tr>\n",
              "      <th>2</th>\n",
              "      <td>('CA_3', 'FOODS_1')</td>\n",
              "      <td>ML_Holdout</td>\n",
              "      <td>0.686002</td>\n",
              "      <td>4.058081</td>\n",
              "      <td>0.735551</td>\n",
              "      <td>-0.236788</td>\n",
              "      <td>-0.042919</td>\n",
              "    </tr>\n",
              "    <tr>\n",
              "      <th>3</th>\n",
              "      <td>('CA_4', 'FOODS_1')</td>\n",
              "      <td>ML_Holdout</td>\n",
              "      <td>0.700626</td>\n",
              "      <td>2.233861</td>\n",
              "      <td>0.780213</td>\n",
              "      <td>-0.154787</td>\n",
              "      <td>-0.054062</td>\n",
              "    </tr>\n",
              "    <tr>\n",
              "      <th>4</th>\n",
              "      <td>('TX_1', 'FOODS_1')</td>\n",
              "      <td>ML_Holdout</td>\n",
              "      <td>0.927050</td>\n",
              "      <td>3.047546</td>\n",
              "      <td>1.079793</td>\n",
              "      <td>-0.380435</td>\n",
              "      <td>-0.134794</td>\n",
              "    </tr>\n",
              "    <tr>\n",
              "      <th>5</th>\n",
              "      <td>('TX_2', 'FOODS_1')</td>\n",
              "      <td>ML_Holdout</td>\n",
              "      <td>0.456646</td>\n",
              "      <td>2.822131</td>\n",
              "      <td>0.785422</td>\n",
              "      <td>-0.234683</td>\n",
              "      <td>-0.065314</td>\n",
              "    </tr>\n",
              "    <tr>\n",
              "      <th>6</th>\n",
              "      <td>('TX_3', 'FOODS_1')</td>\n",
              "      <td>ML_Holdout</td>\n",
              "      <td>0.842993</td>\n",
              "      <td>3.172179</td>\n",
              "      <td>0.900793</td>\n",
              "      <td>-0.445858</td>\n",
              "      <td>-0.126609</td>\n",
              "    </tr>\n",
              "    <tr>\n",
              "      <th>7</th>\n",
              "      <td>('WI_1', 'FOODS_1')</td>\n",
              "      <td>ML_Holdout</td>\n",
              "      <td>0.616250</td>\n",
              "      <td>2.587411</td>\n",
              "      <td>0.684662</td>\n",
              "      <td>-0.223458</td>\n",
              "      <td>-0.059130</td>\n",
              "    </tr>\n",
              "    <tr>\n",
              "      <th>8</th>\n",
              "      <td>('WI_2', 'FOODS_1')</td>\n",
              "      <td>ML_Holdout</td>\n",
              "      <td>0.694685</td>\n",
              "      <td>3.792860</td>\n",
              "      <td>0.875028</td>\n",
              "      <td>-0.280073</td>\n",
              "      <td>-0.064614</td>\n",
              "    </tr>\n",
              "    <tr>\n",
              "      <th>9</th>\n",
              "      <td>('WI_3', 'FOODS_1')</td>\n",
              "      <td>ML_Holdout</td>\n",
              "      <td>0.504957</td>\n",
              "      <td>2.232975</td>\n",
              "      <td>0.905671</td>\n",
              "      <td>-0.201762</td>\n",
              "      <td>-0.081832</td>\n",
              "    </tr>\n",
              "  </tbody>\n",
              "</table>\n",
              "</div>\n",
              "    <div class=\"colab-df-buttons\">\n",
              "\n",
              "  <div class=\"colab-df-container\">\n",
              "    <button class=\"colab-df-convert\" onclick=\"convertToInteractive('df-7a992244-0167-4409-b3f4-b5fee52b9c2f')\"\n",
              "            title=\"Convert this dataframe to an interactive table.\"\n",
              "            style=\"display:none;\">\n",
              "\n",
              "  <svg xmlns=\"http://www.w3.org/2000/svg\" height=\"24px\" viewBox=\"0 -960 960 960\">\n",
              "    <path d=\"M120-120v-720h720v720H120Zm60-500h600v-160H180v160Zm220 220h160v-160H400v160Zm0 220h160v-160H400v160ZM180-400h160v-160H180v160Zm440 0h160v-160H620v160ZM180-180h160v-160H180v160Zm440 0h160v-160H620v160Z\"/>\n",
              "  </svg>\n",
              "    </button>\n",
              "\n",
              "  <style>\n",
              "    .colab-df-container {\n",
              "      display:flex;\n",
              "      gap: 12px;\n",
              "    }\n",
              "\n",
              "    .colab-df-convert {\n",
              "      background-color: #E8F0FE;\n",
              "      border: none;\n",
              "      border-radius: 50%;\n",
              "      cursor: pointer;\n",
              "      display: none;\n",
              "      fill: #1967D2;\n",
              "      height: 32px;\n",
              "      padding: 0 0 0 0;\n",
              "      width: 32px;\n",
              "    }\n",
              "\n",
              "    .colab-df-convert:hover {\n",
              "      background-color: #E2EBFA;\n",
              "      box-shadow: 0px 1px 2px rgba(60, 64, 67, 0.3), 0px 1px 3px 1px rgba(60, 64, 67, 0.15);\n",
              "      fill: #174EA6;\n",
              "    }\n",
              "\n",
              "    .colab-df-buttons div {\n",
              "      margin-bottom: 4px;\n",
              "    }\n",
              "\n",
              "    [theme=dark] .colab-df-convert {\n",
              "      background-color: #3B4455;\n",
              "      fill: #D2E3FC;\n",
              "    }\n",
              "\n",
              "    [theme=dark] .colab-df-convert:hover {\n",
              "      background-color: #434B5C;\n",
              "      box-shadow: 0px 1px 3px 1px rgba(0, 0, 0, 0.15);\n",
              "      filter: drop-shadow(0px 1px 2px rgba(0, 0, 0, 0.3));\n",
              "      fill: #FFFFFF;\n",
              "    }\n",
              "  </style>\n",
              "\n",
              "    <script>\n",
              "      const buttonEl =\n",
              "        document.querySelector('#df-7a992244-0167-4409-b3f4-b5fee52b9c2f button.colab-df-convert');\n",
              "      buttonEl.style.display =\n",
              "        google.colab.kernel.accessAllowed ? 'block' : 'none';\n",
              "\n",
              "      async function convertToInteractive(key) {\n",
              "        const element = document.querySelector('#df-7a992244-0167-4409-b3f4-b5fee52b9c2f');\n",
              "        const dataTable =\n",
              "          await google.colab.kernel.invokeFunction('convertToInteractive',\n",
              "                                                    [key], {});\n",
              "        if (!dataTable) return;\n",
              "\n",
              "        const docLinkHtml = 'Like what you see? Visit the ' +\n",
              "          '<a target=\"_blank\" href=https://colab.research.google.com/notebooks/data_table.ipynb>data table notebook</a>'\n",
              "          + ' to learn more about interactive tables.';\n",
              "        element.innerHTML = '';\n",
              "        dataTable['output_type'] = 'display_data';\n",
              "        await google.colab.output.renderOutput(dataTable, element);\n",
              "        const docLink = document.createElement('div');\n",
              "        docLink.innerHTML = docLinkHtml;\n",
              "        element.appendChild(docLink);\n",
              "      }\n",
              "    </script>\n",
              "  </div>\n",
              "\n",
              "\n",
              "    <div id=\"df-4f1b2046-19d9-477b-b69a-fa57575976f2\">\n",
              "      <button class=\"colab-df-quickchart\" onclick=\"quickchart('df-4f1b2046-19d9-477b-b69a-fa57575976f2')\"\n",
              "                title=\"Suggest charts\"\n",
              "                style=\"display:none;\">\n",
              "\n",
              "<svg xmlns=\"http://www.w3.org/2000/svg\" height=\"24px\"viewBox=\"0 0 24 24\"\n",
              "     width=\"24px\">\n",
              "    <g>\n",
              "        <path d=\"M19 3H5c-1.1 0-2 .9-2 2v14c0 1.1.9 2 2 2h14c1.1 0 2-.9 2-2V5c0-1.1-.9-2-2-2zM9 17H7v-7h2v7zm4 0h-2V7h2v10zm4 0h-2v-4h2v4z\"/>\n",
              "    </g>\n",
              "</svg>\n",
              "      </button>\n",
              "\n",
              "<style>\n",
              "  .colab-df-quickchart {\n",
              "      --bg-color: #E8F0FE;\n",
              "      --fill-color: #1967D2;\n",
              "      --hover-bg-color: #E2EBFA;\n",
              "      --hover-fill-color: #174EA6;\n",
              "      --disabled-fill-color: #AAA;\n",
              "      --disabled-bg-color: #DDD;\n",
              "  }\n",
              "\n",
              "  [theme=dark] .colab-df-quickchart {\n",
              "      --bg-color: #3B4455;\n",
              "      --fill-color: #D2E3FC;\n",
              "      --hover-bg-color: #434B5C;\n",
              "      --hover-fill-color: #FFFFFF;\n",
              "      --disabled-bg-color: #3B4455;\n",
              "      --disabled-fill-color: #666;\n",
              "  }\n",
              "\n",
              "  .colab-df-quickchart {\n",
              "    background-color: var(--bg-color);\n",
              "    border: none;\n",
              "    border-radius: 50%;\n",
              "    cursor: pointer;\n",
              "    display: none;\n",
              "    fill: var(--fill-color);\n",
              "    height: 32px;\n",
              "    padding: 0;\n",
              "    width: 32px;\n",
              "  }\n",
              "\n",
              "  .colab-df-quickchart:hover {\n",
              "    background-color: var(--hover-bg-color);\n",
              "    box-shadow: 0 1px 2px rgba(60, 64, 67, 0.3), 0 1px 3px 1px rgba(60, 64, 67, 0.15);\n",
              "    fill: var(--button-hover-fill-color);\n",
              "  }\n",
              "\n",
              "  .colab-df-quickchart-complete:disabled,\n",
              "  .colab-df-quickchart-complete:disabled:hover {\n",
              "    background-color: var(--disabled-bg-color);\n",
              "    fill: var(--disabled-fill-color);\n",
              "    box-shadow: none;\n",
              "  }\n",
              "\n",
              "  .colab-df-spinner {\n",
              "    border: 2px solid var(--fill-color);\n",
              "    border-color: transparent;\n",
              "    border-bottom-color: var(--fill-color);\n",
              "    animation:\n",
              "      spin 1s steps(1) infinite;\n",
              "  }\n",
              "\n",
              "  @keyframes spin {\n",
              "    0% {\n",
              "      border-color: transparent;\n",
              "      border-bottom-color: var(--fill-color);\n",
              "      border-left-color: var(--fill-color);\n",
              "    }\n",
              "    20% {\n",
              "      border-color: transparent;\n",
              "      border-left-color: var(--fill-color);\n",
              "      border-top-color: var(--fill-color);\n",
              "    }\n",
              "    30% {\n",
              "      border-color: transparent;\n",
              "      border-left-color: var(--fill-color);\n",
              "      border-top-color: var(--fill-color);\n",
              "      border-right-color: var(--fill-color);\n",
              "    }\n",
              "    40% {\n",
              "      border-color: transparent;\n",
              "      border-right-color: var(--fill-color);\n",
              "      border-top-color: var(--fill-color);\n",
              "    }\n",
              "    60% {\n",
              "      border-color: transparent;\n",
              "      border-right-color: var(--fill-color);\n",
              "    }\n",
              "    80% {\n",
              "      border-color: transparent;\n",
              "      border-right-color: var(--fill-color);\n",
              "      border-bottom-color: var(--fill-color);\n",
              "    }\n",
              "    90% {\n",
              "      border-color: transparent;\n",
              "      border-bottom-color: var(--fill-color);\n",
              "    }\n",
              "  }\n",
              "</style>\n",
              "\n",
              "      <script>\n",
              "        async function quickchart(key) {\n",
              "          const quickchartButtonEl =\n",
              "            document.querySelector('#' + key + ' button');\n",
              "          quickchartButtonEl.disabled = true;  // To prevent multiple clicks.\n",
              "          quickchartButtonEl.classList.add('colab-df-spinner');\n",
              "          try {\n",
              "            const charts = await google.colab.kernel.invokeFunction(\n",
              "                'suggestCharts', [key], {});\n",
              "          } catch (error) {\n",
              "            console.error('Error during call to suggestCharts:', error);\n",
              "          }\n",
              "          quickchartButtonEl.classList.remove('colab-df-spinner');\n",
              "          quickchartButtonEl.classList.add('colab-df-quickchart-complete');\n",
              "        }\n",
              "        (() => {\n",
              "          let quickchartButtonEl =\n",
              "            document.querySelector('#df-4f1b2046-19d9-477b-b69a-fa57575976f2 button');\n",
              "          quickchartButtonEl.style.display =\n",
              "            google.colab.kernel.accessAllowed ? 'block' : 'none';\n",
              "        })();\n",
              "      </script>\n",
              "    </div>\n",
              "\n",
              "    </div>\n",
              "  </div>\n"
            ],
            "application/vnd.google.colaboratory.intrinsic+json": {
              "type": "dataframe",
              "variable_name": "error_df",
              "summary": "{\n  \"name\": \"error_df\",\n  \"rows\": 70,\n  \"fields\": [\n    {\n      \"column\": \"SeriesName\",\n      \"properties\": {\n        \"dtype\": \"string\",\n        \"num_unique_values\": 70,\n        \"samples\": [\n          \"('CA_3', 'FOODS_3')\",\n          \"('CA_1', 'FOODS_1')\",\n          \"('WI_3', 'HOBBIES_2')\"\n        ],\n        \"semantic_type\": \"\",\n        \"description\": \"\"\n      }\n    },\n    {\n      \"column\": \"Model\",\n      \"properties\": {\n        \"dtype\": \"category\",\n        \"num_unique_values\": 1,\n        \"samples\": [\n          \"ML_Holdout\"\n        ],\n        \"semantic_type\": \"\",\n        \"description\": \"\"\n      }\n    },\n    {\n      \"column\": \"RMSSE\",\n      \"properties\": {\n        \"dtype\": \"number\",\n        \"std\": 0.24985595126730897,\n        \"min\": 0.3350352011791821,\n        \"max\": 1.7618530894066333,\n        \"num_unique_values\": 70,\n        \"samples\": [\n          0.3897305564949433\n        ],\n        \"semantic_type\": \"\",\n        \"description\": \"\"\n      }\n    },\n    {\n      \"column\": \"RMSE\",\n      \"properties\": {\n        \"dtype\": \"number\",\n        \"std\": 1.4398481207551483,\n        \"min\": 0.7925407524954897,\n        \"max\": 7.65799904749177,\n        \"num_unique_values\": 70,\n        \"samples\": [\n          7.345918587034874\n        ],\n        \"semantic_type\": \"\",\n        \"description\": \"\"\n      }\n    },\n    {\n      \"column\": \"Norm_RMSE\",\n      \"properties\": {\n        \"dtype\": \"number\",\n        \"std\": 0.4082425389251069,\n        \"min\": 0.5379435557884253,\n        \"max\": 2.256249137531095,\n        \"num_unique_values\": 70,\n        \"samples\": [\n          0.5879128935359265\n        ],\n        \"semantic_type\": \"\",\n        \"description\": \"\"\n      }\n    },\n    {\n      \"column\": \"ME\",\n      \"properties\": {\n        \"dtype\": \"number\",\n        \"std\": 0.12089601055744797,\n        \"min\": -0.44585765040504555,\n        \"max\": 0.15700810585086275,\n        \"num_unique_values\": 70,\n        \"samples\": [\n          -0.12594617500485392\n        ],\n        \"semantic_type\": \"\",\n        \"description\": \"\"\n      }\n    },\n    {\n      \"column\": \"Norm_ME\",\n      \"properties\": {\n        \"dtype\": \"number\",\n        \"std\": 0.07769275542140525,\n        \"min\": -0.4106760825207818,\n        \"max\": 0.05288876359948434,\n        \"num_unique_values\": 70,\n        \"samples\": [\n          -0.010079798639147963\n        ],\n        \"semantic_type\": \"\",\n        \"description\": \"\"\n      }\n    }\n  ]\n}"
            }
          },
          "metadata": {},
          "execution_count": 11
        }
      ],
      "source": [
        "error_df.head(10)"
      ]
    },
    {
      "cell_type": "code",
      "execution_count": null,
      "metadata": {
        "colab": {
          "base_uri": "https://localhost:8080/",
          "height": 677
        },
        "id": "znROg-RrwGuo",
        "outputId": "64a95ca3-c619-4b9d-f4ef-6f83106f662b"
      },
      "outputs": [
        {
          "output_type": "execute_result",
          "data": {
            "text/plain": [
              "             SeriesName       Model     RMSSE      RMSE  Norm_RMSE        ME  \\\n",
              "0   ('CA_1', 'FOODS_1')  ML_Holdout  0.714531  3.375711   0.707822 -0.381018   \n",
              "1   ('CA_2', 'FOODS_1')  ML_Holdout  0.597432  3.542258   0.698133 -0.168272   \n",
              "2   ('CA_3', 'FOODS_1')  ML_Holdout  0.686002  4.058081   0.735551 -0.236788   \n",
              "3   ('CA_4', 'FOODS_1')  ML_Holdout  0.700626  2.233861   0.780213 -0.154787   \n",
              "4   ('TX_1', 'FOODS_1')  ML_Holdout  0.927050  3.047546   1.079793 -0.380435   \n",
              "5   ('TX_2', 'FOODS_1')  ML_Holdout  0.456646  2.822131   0.785422 -0.234683   \n",
              "6   ('TX_3', 'FOODS_1')  ML_Holdout  0.842993  3.172179   0.900793 -0.445858   \n",
              "7   ('WI_1', 'FOODS_1')  ML_Holdout  0.616250  2.587411   0.684662 -0.223458   \n",
              "8   ('WI_2', 'FOODS_1')  ML_Holdout  0.694685  3.792860   0.875028 -0.280073   \n",
              "9   ('WI_3', 'FOODS_1')  ML_Holdout  0.504957  2.232975   0.905671 -0.201762   \n",
              "10  ('CA_1', 'FOODS_2')  ML_Holdout  0.499237  2.625611   0.705100 -0.138061   \n",
              "11  ('CA_2', 'FOODS_2')  ML_Holdout  0.537655  2.116310   0.753743 -0.221052   \n",
              "12  ('CA_3', 'FOODS_2')  ML_Holdout  0.430913  2.999786   0.606982 -0.297318   \n",
              "13  ('CA_4', 'FOODS_2')  ML_Holdout  0.695982  1.803578   0.778914 -0.119258   \n",
              "14  ('TX_1', 'FOODS_2')  ML_Holdout  0.577800  2.086794   0.772793 -0.105398   \n",
              "15  ('TX_2', 'FOODS_2')  ML_Holdout  0.528320  2.270840   0.765883 -0.163488   \n",
              "16  ('TX_3', 'FOODS_2')  ML_Holdout  0.526449  2.482977   0.742804 -0.174023   \n",
              "17  ('WI_1', 'FOODS_2')  ML_Holdout  0.781078  2.385631   0.682148 -0.360236   \n",
              "18  ('WI_2', 'FOODS_2')  ML_Holdout  0.630957  4.518683   0.820899 -0.374870   \n",
              "19  ('WI_3', 'FOODS_2')  ML_Holdout  0.402663  2.049868   0.773540 -0.133279   \n",
              "\n",
              "     Norm_ME  \n",
              "0  -0.079892  \n",
              "1  -0.033164  \n",
              "2  -0.042919  \n",
              "3  -0.054062  \n",
              "4  -0.134794  \n",
              "5  -0.065314  \n",
              "6  -0.126609  \n",
              "7  -0.059130  \n",
              "8  -0.064614  \n",
              "9  -0.081832  \n",
              "10 -0.037076  \n",
              "11 -0.078730  \n",
              "12 -0.060160  \n",
              "13 -0.051504  \n",
              "14 -0.039032  \n",
              "15 -0.055139  \n",
              "16 -0.052061  \n",
              "17 -0.103006  \n",
              "18 -0.068102  \n",
              "19 -0.050294  "
            ],
            "text/html": [
              "\n",
              "  <div id=\"df-1fa721c8-dcc8-4393-ab9d-2bc0c5f41d32\" class=\"colab-df-container\">\n",
              "    <div>\n",
              "<style scoped>\n",
              "    .dataframe tbody tr th:only-of-type {\n",
              "        vertical-align: middle;\n",
              "    }\n",
              "\n",
              "    .dataframe tbody tr th {\n",
              "        vertical-align: top;\n",
              "    }\n",
              "\n",
              "    .dataframe thead th {\n",
              "        text-align: right;\n",
              "    }\n",
              "</style>\n",
              "<table border=\"1\" class=\"dataframe\">\n",
              "  <thead>\n",
              "    <tr style=\"text-align: right;\">\n",
              "      <th></th>\n",
              "      <th>SeriesName</th>\n",
              "      <th>Model</th>\n",
              "      <th>RMSSE</th>\n",
              "      <th>RMSE</th>\n",
              "      <th>Norm_RMSE</th>\n",
              "      <th>ME</th>\n",
              "      <th>Norm_ME</th>\n",
              "    </tr>\n",
              "  </thead>\n",
              "  <tbody>\n",
              "    <tr>\n",
              "      <th>0</th>\n",
              "      <td>('CA_1', 'FOODS_1')</td>\n",
              "      <td>ML_Holdout</td>\n",
              "      <td>0.714531</td>\n",
              "      <td>3.375711</td>\n",
              "      <td>0.707822</td>\n",
              "      <td>-0.381018</td>\n",
              "      <td>-0.079892</td>\n",
              "    </tr>\n",
              "    <tr>\n",
              "      <th>1</th>\n",
              "      <td>('CA_2', 'FOODS_1')</td>\n",
              "      <td>ML_Holdout</td>\n",
              "      <td>0.597432</td>\n",
              "      <td>3.542258</td>\n",
              "      <td>0.698133</td>\n",
              "      <td>-0.168272</td>\n",
              "      <td>-0.033164</td>\n",
              "    </tr>\n",
              "    <tr>\n",
              "      <th>2</th>\n",
              "      <td>('CA_3', 'FOODS_1')</td>\n",
              "      <td>ML_Holdout</td>\n",
              "      <td>0.686002</td>\n",
              "      <td>4.058081</td>\n",
              "      <td>0.735551</td>\n",
              "      <td>-0.236788</td>\n",
              "      <td>-0.042919</td>\n",
              "    </tr>\n",
              "    <tr>\n",
              "      <th>3</th>\n",
              "      <td>('CA_4', 'FOODS_1')</td>\n",
              "      <td>ML_Holdout</td>\n",
              "      <td>0.700626</td>\n",
              "      <td>2.233861</td>\n",
              "      <td>0.780213</td>\n",
              "      <td>-0.154787</td>\n",
              "      <td>-0.054062</td>\n",
              "    </tr>\n",
              "    <tr>\n",
              "      <th>4</th>\n",
              "      <td>('TX_1', 'FOODS_1')</td>\n",
              "      <td>ML_Holdout</td>\n",
              "      <td>0.927050</td>\n",
              "      <td>3.047546</td>\n",
              "      <td>1.079793</td>\n",
              "      <td>-0.380435</td>\n",
              "      <td>-0.134794</td>\n",
              "    </tr>\n",
              "    <tr>\n",
              "      <th>5</th>\n",
              "      <td>('TX_2', 'FOODS_1')</td>\n",
              "      <td>ML_Holdout</td>\n",
              "      <td>0.456646</td>\n",
              "      <td>2.822131</td>\n",
              "      <td>0.785422</td>\n",
              "      <td>-0.234683</td>\n",
              "      <td>-0.065314</td>\n",
              "    </tr>\n",
              "    <tr>\n",
              "      <th>6</th>\n",
              "      <td>('TX_3', 'FOODS_1')</td>\n",
              "      <td>ML_Holdout</td>\n",
              "      <td>0.842993</td>\n",
              "      <td>3.172179</td>\n",
              "      <td>0.900793</td>\n",
              "      <td>-0.445858</td>\n",
              "      <td>-0.126609</td>\n",
              "    </tr>\n",
              "    <tr>\n",
              "      <th>7</th>\n",
              "      <td>('WI_1', 'FOODS_1')</td>\n",
              "      <td>ML_Holdout</td>\n",
              "      <td>0.616250</td>\n",
              "      <td>2.587411</td>\n",
              "      <td>0.684662</td>\n",
              "      <td>-0.223458</td>\n",
              "      <td>-0.059130</td>\n",
              "    </tr>\n",
              "    <tr>\n",
              "      <th>8</th>\n",
              "      <td>('WI_2', 'FOODS_1')</td>\n",
              "      <td>ML_Holdout</td>\n",
              "      <td>0.694685</td>\n",
              "      <td>3.792860</td>\n",
              "      <td>0.875028</td>\n",
              "      <td>-0.280073</td>\n",
              "      <td>-0.064614</td>\n",
              "    </tr>\n",
              "    <tr>\n",
              "      <th>9</th>\n",
              "      <td>('WI_3', 'FOODS_1')</td>\n",
              "      <td>ML_Holdout</td>\n",
              "      <td>0.504957</td>\n",
              "      <td>2.232975</td>\n",
              "      <td>0.905671</td>\n",
              "      <td>-0.201762</td>\n",
              "      <td>-0.081832</td>\n",
              "    </tr>\n",
              "    <tr>\n",
              "      <th>10</th>\n",
              "      <td>('CA_1', 'FOODS_2')</td>\n",
              "      <td>ML_Holdout</td>\n",
              "      <td>0.499237</td>\n",
              "      <td>2.625611</td>\n",
              "      <td>0.705100</td>\n",
              "      <td>-0.138061</td>\n",
              "      <td>-0.037076</td>\n",
              "    </tr>\n",
              "    <tr>\n",
              "      <th>11</th>\n",
              "      <td>('CA_2', 'FOODS_2')</td>\n",
              "      <td>ML_Holdout</td>\n",
              "      <td>0.537655</td>\n",
              "      <td>2.116310</td>\n",
              "      <td>0.753743</td>\n",
              "      <td>-0.221052</td>\n",
              "      <td>-0.078730</td>\n",
              "    </tr>\n",
              "    <tr>\n",
              "      <th>12</th>\n",
              "      <td>('CA_3', 'FOODS_2')</td>\n",
              "      <td>ML_Holdout</td>\n",
              "      <td>0.430913</td>\n",
              "      <td>2.999786</td>\n",
              "      <td>0.606982</td>\n",
              "      <td>-0.297318</td>\n",
              "      <td>-0.060160</td>\n",
              "    </tr>\n",
              "    <tr>\n",
              "      <th>13</th>\n",
              "      <td>('CA_4', 'FOODS_2')</td>\n",
              "      <td>ML_Holdout</td>\n",
              "      <td>0.695982</td>\n",
              "      <td>1.803578</td>\n",
              "      <td>0.778914</td>\n",
              "      <td>-0.119258</td>\n",
              "      <td>-0.051504</td>\n",
              "    </tr>\n",
              "    <tr>\n",
              "      <th>14</th>\n",
              "      <td>('TX_1', 'FOODS_2')</td>\n",
              "      <td>ML_Holdout</td>\n",
              "      <td>0.577800</td>\n",
              "      <td>2.086794</td>\n",
              "      <td>0.772793</td>\n",
              "      <td>-0.105398</td>\n",
              "      <td>-0.039032</td>\n",
              "    </tr>\n",
              "    <tr>\n",
              "      <th>15</th>\n",
              "      <td>('TX_2', 'FOODS_2')</td>\n",
              "      <td>ML_Holdout</td>\n",
              "      <td>0.528320</td>\n",
              "      <td>2.270840</td>\n",
              "      <td>0.765883</td>\n",
              "      <td>-0.163488</td>\n",
              "      <td>-0.055139</td>\n",
              "    </tr>\n",
              "    <tr>\n",
              "      <th>16</th>\n",
              "      <td>('TX_3', 'FOODS_2')</td>\n",
              "      <td>ML_Holdout</td>\n",
              "      <td>0.526449</td>\n",
              "      <td>2.482977</td>\n",
              "      <td>0.742804</td>\n",
              "      <td>-0.174023</td>\n",
              "      <td>-0.052061</td>\n",
              "    </tr>\n",
              "    <tr>\n",
              "      <th>17</th>\n",
              "      <td>('WI_1', 'FOODS_2')</td>\n",
              "      <td>ML_Holdout</td>\n",
              "      <td>0.781078</td>\n",
              "      <td>2.385631</td>\n",
              "      <td>0.682148</td>\n",
              "      <td>-0.360236</td>\n",
              "      <td>-0.103006</td>\n",
              "    </tr>\n",
              "    <tr>\n",
              "      <th>18</th>\n",
              "      <td>('WI_2', 'FOODS_2')</td>\n",
              "      <td>ML_Holdout</td>\n",
              "      <td>0.630957</td>\n",
              "      <td>4.518683</td>\n",
              "      <td>0.820899</td>\n",
              "      <td>-0.374870</td>\n",
              "      <td>-0.068102</td>\n",
              "    </tr>\n",
              "    <tr>\n",
              "      <th>19</th>\n",
              "      <td>('WI_3', 'FOODS_2')</td>\n",
              "      <td>ML_Holdout</td>\n",
              "      <td>0.402663</td>\n",
              "      <td>2.049868</td>\n",
              "      <td>0.773540</td>\n",
              "      <td>-0.133279</td>\n",
              "      <td>-0.050294</td>\n",
              "    </tr>\n",
              "  </tbody>\n",
              "</table>\n",
              "</div>\n",
              "    <div class=\"colab-df-buttons\">\n",
              "\n",
              "  <div class=\"colab-df-container\">\n",
              "    <button class=\"colab-df-convert\" onclick=\"convertToInteractive('df-1fa721c8-dcc8-4393-ab9d-2bc0c5f41d32')\"\n",
              "            title=\"Convert this dataframe to an interactive table.\"\n",
              "            style=\"display:none;\">\n",
              "\n",
              "  <svg xmlns=\"http://www.w3.org/2000/svg\" height=\"24px\" viewBox=\"0 -960 960 960\">\n",
              "    <path d=\"M120-120v-720h720v720H120Zm60-500h600v-160H180v160Zm220 220h160v-160H400v160Zm0 220h160v-160H400v160ZM180-400h160v-160H180v160Zm440 0h160v-160H620v160ZM180-180h160v-160H180v160Zm440 0h160v-160H620v160Z\"/>\n",
              "  </svg>\n",
              "    </button>\n",
              "\n",
              "  <style>\n",
              "    .colab-df-container {\n",
              "      display:flex;\n",
              "      gap: 12px;\n",
              "    }\n",
              "\n",
              "    .colab-df-convert {\n",
              "      background-color: #E8F0FE;\n",
              "      border: none;\n",
              "      border-radius: 50%;\n",
              "      cursor: pointer;\n",
              "      display: none;\n",
              "      fill: #1967D2;\n",
              "      height: 32px;\n",
              "      padding: 0 0 0 0;\n",
              "      width: 32px;\n",
              "    }\n",
              "\n",
              "    .colab-df-convert:hover {\n",
              "      background-color: #E2EBFA;\n",
              "      box-shadow: 0px 1px 2px rgba(60, 64, 67, 0.3), 0px 1px 3px 1px rgba(60, 64, 67, 0.15);\n",
              "      fill: #174EA6;\n",
              "    }\n",
              "\n",
              "    .colab-df-buttons div {\n",
              "      margin-bottom: 4px;\n",
              "    }\n",
              "\n",
              "    [theme=dark] .colab-df-convert {\n",
              "      background-color: #3B4455;\n",
              "      fill: #D2E3FC;\n",
              "    }\n",
              "\n",
              "    [theme=dark] .colab-df-convert:hover {\n",
              "      background-color: #434B5C;\n",
              "      box-shadow: 0px 1px 3px 1px rgba(0, 0, 0, 0.15);\n",
              "      filter: drop-shadow(0px 1px 2px rgba(0, 0, 0, 0.3));\n",
              "      fill: #FFFFFF;\n",
              "    }\n",
              "  </style>\n",
              "\n",
              "    <script>\n",
              "      const buttonEl =\n",
              "        document.querySelector('#df-1fa721c8-dcc8-4393-ab9d-2bc0c5f41d32 button.colab-df-convert');\n",
              "      buttonEl.style.display =\n",
              "        google.colab.kernel.accessAllowed ? 'block' : 'none';\n",
              "\n",
              "      async function convertToInteractive(key) {\n",
              "        const element = document.querySelector('#df-1fa721c8-dcc8-4393-ab9d-2bc0c5f41d32');\n",
              "        const dataTable =\n",
              "          await google.colab.kernel.invokeFunction('convertToInteractive',\n",
              "                                                    [key], {});\n",
              "        if (!dataTable) return;\n",
              "\n",
              "        const docLinkHtml = 'Like what you see? Visit the ' +\n",
              "          '<a target=\"_blank\" href=https://colab.research.google.com/notebooks/data_table.ipynb>data table notebook</a>'\n",
              "          + ' to learn more about interactive tables.';\n",
              "        element.innerHTML = '';\n",
              "        dataTable['output_type'] = 'display_data';\n",
              "        await google.colab.output.renderOutput(dataTable, element);\n",
              "        const docLink = document.createElement('div');\n",
              "        docLink.innerHTML = docLinkHtml;\n",
              "        element.appendChild(docLink);\n",
              "      }\n",
              "    </script>\n",
              "  </div>\n",
              "\n",
              "\n",
              "    <div id=\"df-90ee8e2e-8bf6-4a89-aefc-7435a25fe9e4\">\n",
              "      <button class=\"colab-df-quickchart\" onclick=\"quickchart('df-90ee8e2e-8bf6-4a89-aefc-7435a25fe9e4')\"\n",
              "                title=\"Suggest charts\"\n",
              "                style=\"display:none;\">\n",
              "\n",
              "<svg xmlns=\"http://www.w3.org/2000/svg\" height=\"24px\"viewBox=\"0 0 24 24\"\n",
              "     width=\"24px\">\n",
              "    <g>\n",
              "        <path d=\"M19 3H5c-1.1 0-2 .9-2 2v14c0 1.1.9 2 2 2h14c1.1 0 2-.9 2-2V5c0-1.1-.9-2-2-2zM9 17H7v-7h2v7zm4 0h-2V7h2v10zm4 0h-2v-4h2v4z\"/>\n",
              "    </g>\n",
              "</svg>\n",
              "      </button>\n",
              "\n",
              "<style>\n",
              "  .colab-df-quickchart {\n",
              "      --bg-color: #E8F0FE;\n",
              "      --fill-color: #1967D2;\n",
              "      --hover-bg-color: #E2EBFA;\n",
              "      --hover-fill-color: #174EA6;\n",
              "      --disabled-fill-color: #AAA;\n",
              "      --disabled-bg-color: #DDD;\n",
              "  }\n",
              "\n",
              "  [theme=dark] .colab-df-quickchart {\n",
              "      --bg-color: #3B4455;\n",
              "      --fill-color: #D2E3FC;\n",
              "      --hover-bg-color: #434B5C;\n",
              "      --hover-fill-color: #FFFFFF;\n",
              "      --disabled-bg-color: #3B4455;\n",
              "      --disabled-fill-color: #666;\n",
              "  }\n",
              "\n",
              "  .colab-df-quickchart {\n",
              "    background-color: var(--bg-color);\n",
              "    border: none;\n",
              "    border-radius: 50%;\n",
              "    cursor: pointer;\n",
              "    display: none;\n",
              "    fill: var(--fill-color);\n",
              "    height: 32px;\n",
              "    padding: 0;\n",
              "    width: 32px;\n",
              "  }\n",
              "\n",
              "  .colab-df-quickchart:hover {\n",
              "    background-color: var(--hover-bg-color);\n",
              "    box-shadow: 0 1px 2px rgba(60, 64, 67, 0.3), 0 1px 3px 1px rgba(60, 64, 67, 0.15);\n",
              "    fill: var(--button-hover-fill-color);\n",
              "  }\n",
              "\n",
              "  .colab-df-quickchart-complete:disabled,\n",
              "  .colab-df-quickchart-complete:disabled:hover {\n",
              "    background-color: var(--disabled-bg-color);\n",
              "    fill: var(--disabled-fill-color);\n",
              "    box-shadow: none;\n",
              "  }\n",
              "\n",
              "  .colab-df-spinner {\n",
              "    border: 2px solid var(--fill-color);\n",
              "    border-color: transparent;\n",
              "    border-bottom-color: var(--fill-color);\n",
              "    animation:\n",
              "      spin 1s steps(1) infinite;\n",
              "  }\n",
              "\n",
              "  @keyframes spin {\n",
              "    0% {\n",
              "      border-color: transparent;\n",
              "      border-bottom-color: var(--fill-color);\n",
              "      border-left-color: var(--fill-color);\n",
              "    }\n",
              "    20% {\n",
              "      border-color: transparent;\n",
              "      border-left-color: var(--fill-color);\n",
              "      border-top-color: var(--fill-color);\n",
              "    }\n",
              "    30% {\n",
              "      border-color: transparent;\n",
              "      border-left-color: var(--fill-color);\n",
              "      border-top-color: var(--fill-color);\n",
              "      border-right-color: var(--fill-color);\n",
              "    }\n",
              "    40% {\n",
              "      border-color: transparent;\n",
              "      border-right-color: var(--fill-color);\n",
              "      border-top-color: var(--fill-color);\n",
              "    }\n",
              "    60% {\n",
              "      border-color: transparent;\n",
              "      border-right-color: var(--fill-color);\n",
              "    }\n",
              "    80% {\n",
              "      border-color: transparent;\n",
              "      border-right-color: var(--fill-color);\n",
              "      border-bottom-color: var(--fill-color);\n",
              "    }\n",
              "    90% {\n",
              "      border-color: transparent;\n",
              "      border-bottom-color: var(--fill-color);\n",
              "    }\n",
              "  }\n",
              "</style>\n",
              "\n",
              "      <script>\n",
              "        async function quickchart(key) {\n",
              "          const quickchartButtonEl =\n",
              "            document.querySelector('#' + key + ' button');\n",
              "          quickchartButtonEl.disabled = true;  // To prevent multiple clicks.\n",
              "          quickchartButtonEl.classList.add('colab-df-spinner');\n",
              "          try {\n",
              "            const charts = await google.colab.kernel.invokeFunction(\n",
              "                'suggestCharts', [key], {});\n",
              "          } catch (error) {\n",
              "            console.error('Error during call to suggestCharts:', error);\n",
              "          }\n",
              "          quickchartButtonEl.classList.remove('colab-df-spinner');\n",
              "          quickchartButtonEl.classList.add('colab-df-quickchart-complete');\n",
              "        }\n",
              "        (() => {\n",
              "          let quickchartButtonEl =\n",
              "            document.querySelector('#df-90ee8e2e-8bf6-4a89-aefc-7435a25fe9e4 button');\n",
              "          quickchartButtonEl.style.display =\n",
              "            google.colab.kernel.accessAllowed ? 'block' : 'none';\n",
              "        })();\n",
              "      </script>\n",
              "    </div>\n",
              "\n",
              "    </div>\n",
              "  </div>\n"
            ],
            "application/vnd.google.colaboratory.intrinsic+json": {
              "type": "dataframe",
              "variable_name": "error_df",
              "summary": "{\n  \"name\": \"error_df\",\n  \"rows\": 70,\n  \"fields\": [\n    {\n      \"column\": \"SeriesName\",\n      \"properties\": {\n        \"dtype\": \"string\",\n        \"num_unique_values\": 70,\n        \"samples\": [\n          \"('CA_3', 'FOODS_3')\",\n          \"('CA_1', 'FOODS_1')\",\n          \"('WI_3', 'HOBBIES_2')\"\n        ],\n        \"semantic_type\": \"\",\n        \"description\": \"\"\n      }\n    },\n    {\n      \"column\": \"Model\",\n      \"properties\": {\n        \"dtype\": \"category\",\n        \"num_unique_values\": 1,\n        \"samples\": [\n          \"ML_Holdout\"\n        ],\n        \"semantic_type\": \"\",\n        \"description\": \"\"\n      }\n    },\n    {\n      \"column\": \"RMSSE\",\n      \"properties\": {\n        \"dtype\": \"number\",\n        \"std\": 0.24985595126730897,\n        \"min\": 0.3350352011791821,\n        \"max\": 1.7618530894066333,\n        \"num_unique_values\": 70,\n        \"samples\": [\n          0.3897305564949433\n        ],\n        \"semantic_type\": \"\",\n        \"description\": \"\"\n      }\n    },\n    {\n      \"column\": \"RMSE\",\n      \"properties\": {\n        \"dtype\": \"number\",\n        \"std\": 1.4398481207551483,\n        \"min\": 0.7925407524954897,\n        \"max\": 7.65799904749177,\n        \"num_unique_values\": 70,\n        \"samples\": [\n          7.345918587034874\n        ],\n        \"semantic_type\": \"\",\n        \"description\": \"\"\n      }\n    },\n    {\n      \"column\": \"Norm_RMSE\",\n      \"properties\": {\n        \"dtype\": \"number\",\n        \"std\": 0.4082425389251069,\n        \"min\": 0.5379435557884253,\n        \"max\": 2.256249137531095,\n        \"num_unique_values\": 70,\n        \"samples\": [\n          0.5879128935359265\n        ],\n        \"semantic_type\": \"\",\n        \"description\": \"\"\n      }\n    },\n    {\n      \"column\": \"ME\",\n      \"properties\": {\n        \"dtype\": \"number\",\n        \"std\": 0.12089601055744797,\n        \"min\": -0.44585765040504555,\n        \"max\": 0.15700810585086275,\n        \"num_unique_values\": 70,\n        \"samples\": [\n          -0.12594617500485392\n        ],\n        \"semantic_type\": \"\",\n        \"description\": \"\"\n      }\n    },\n    {\n      \"column\": \"Norm_ME\",\n      \"properties\": {\n        \"dtype\": \"number\",\n        \"std\": 0.07769275542140525,\n        \"min\": -0.4106760825207818,\n        \"max\": 0.05288876359948434,\n        \"num_unique_values\": 70,\n        \"samples\": [\n          -0.010079798639147963\n        ],\n        \"semantic_type\": \"\",\n        \"description\": \"\"\n      }\n    }\n  ]\n}"
            }
          },
          "metadata": {},
          "execution_count": 12
        }
      ],
      "source": [
        "error_df.head(20)"
      ]
    },
    {
      "cell_type": "code",
      "source": [
        "error_df.to_pickle(\"/content/drive/MyDrive/Colab Notebooks/Supervised Project/Fine Tuning/3y1y_error_df.pkl\")"
      ],
      "metadata": {
        "id": "4EgrBeGCTKbT"
      },
      "execution_count": null,
      "outputs": []
    },
    {
      "cell_type": "code",
      "execution_count": null,
      "metadata": {
        "id": "tx8_ZdsrB9o_"
      },
      "outputs": [],
      "source": [
        "import matplotlib.pyplot as plt\n",
        "import seaborn as sns\n",
        "\n",
        "def plot_true_vs_pred(df_forecast, true_col='true', pred_col='pred', n_points=140, title='Prediction vs True'):\n",
        "    plt.figure(figsize=(18, 6))\n",
        "    plt.title(title)\n",
        "    plt.xlabel(\"Date\")\n",
        "    plt.ylabel(\"Value\")\n",
        "\n",
        "\n",
        "    y_true = df_forecast[true_col][-n_points:]\n",
        "    y_pred = df_forecast[pred_col][-n_points:]\n",
        "\n",
        "    sns.lineplot(x=y_true.index, y=y_true.values, label='True', color='black')\n",
        "    sns.lineplot(x=y_pred.index, y=y_pred.values, label='Prediction', color='blue')\n",
        "\n",
        "    plt.legend()\n",
        "    plt.grid(True)\n",
        "    plt.tight_layout()\n",
        "    plt.show()\n"
      ]
    },
    {
      "cell_type": "code",
      "execution_count": null,
      "metadata": {
        "id": "GwU6EvI7CBIo"
      },
      "outputs": [],
      "source": [
        "sample_group_df = all_results[\n",
        "    (all_results['store_id'] == 'CA_1') &\n",
        "    (all_results['dept_id'] == 'FOODS_1')\n",
        "]\n"
      ]
    },
    {
      "cell_type": "code",
      "execution_count": null,
      "metadata": {
        "colab": {
          "base_uri": "https://localhost:8080/",
          "height": 349
        },
        "id": "-OX52u8hCIgw",
        "outputId": "dbaad4a5-ef4d-41e4-dadb-6b6c76f9821c"
      },
      "outputs": [
        {
          "output_type": "display_data",
          "data": {
            "text/plain": [
              "<Figure size 1800x600 with 1 Axes>"
            ],
            "image/png": "[encoded data removed]"
          },
          "metadata": {}
        }
      ],
      "source": [
        "plot_true_vs_pred(sample_group_df, true_col='true', pred_col='pred', n_points=100, title='CA_1 - FOODS_1')\n"
      ]
    }
  ],
  "metadata": {
    "accelerator": "GPU",
    "colab": {
      "gpuType": "A100",
      "machine_shape": "hm",
      "provenance": [],
      "toc_visible": true,
      "authorship_tag": "ABX9TyP+P/cLDGFG8+lbQoCfVCO0",
      "include_colab_link": true
    },
    "kernelspec": {
      "display_name": "Python 3",
      "name": "python3"
    },
    "language_info": {
      "name": "python"
    }
  },
  "nbformat": 4,
  "nbformat_minor": 0
}