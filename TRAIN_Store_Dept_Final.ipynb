{
  "cells": [
    {
      "cell_type": "markdown",
      "metadata": {
        "id": "view-in-github",
        "colab_type": "text"
      },
      "source": [
        "<a href=\"https://colab.research.google.com/github/yyduyuxuan/Machine-Learning-for-Data-Driven-Inventory-Replenishment-Evidence-from-the-M5-Retail-Dataset/blob/main/TRAIN_Store_Dept_Final.ipynb\" target=\"_parent\"><img src=\"https://colab.research.google.com/assets/colab-badge.svg\" alt=\"Open In Colab\"/></a>"
      ]
    },
    {
      "cell_type": "code",
      "execution_count": null,
      "metadata": {
        "id": "3H15EHbtB3je"
      },
      "outputs": [],
      "source": [
        "import numpy as np\n",
        "import pandas as pd\n",
        "import os, sys, gc, time, warnings, pickle, psutil, random\n",
        "\n",
        "from math import ceil\n",
        "\n",
        "from sklearn.preprocessing import LabelEncoder\n",
        "\n",
        "warnings.filterwarnings('ignore')"
      ]
    },
    {
      "cell_type": "code",
      "execution_count": null,
      "metadata": {
        "id": "ymeJa4xkC9Et"
      },
      "outputs": [],
      "source": [
        "def get_memory_usage():\n",
        "    return np.round(psutil.Process(os.getpid()).memory_info()[0]/2.**30, 2)\n",
        "\n",
        "def sizeof_fmt(num, suffix='B'):\n",
        "    for unit in ['','Ki','Mi','Gi','Ti','Pi','Ei','Zi']:\n",
        "        if abs(num) < 1024.0:\n",
        "            return \"%3.1f%s%s\" % (num, unit, suffix)\n",
        "        num /= 1024.0\n",
        "    return \"%.1f%s%s\" % (num, 'Yi', suffix)"
      ]
    },
    {
      "cell_type": "code",
      "execution_count": null,
      "metadata": {
        "id": "IQ3KWr3CvW9S"
      },
      "outputs": [],
      "source": [
        "## Memory Reducer\n",
        "# :df pandas dataframe to reduce size             # type: pd.DataFrame()\n",
        "# :verbose                                        # type: bool\n",
        "def reduce_mem_usage(df, verbose=True):\n",
        "    numerics = ['int16', 'int32', 'int64', 'float16', 'float32', 'float64']\n",
        "    start_mem = df.memory_usage().sum() / 1024**2\n",
        "    for col in df.columns:\n",
        "        col_type = df[col].dtypes\n",
        "        if col_type in numerics:\n",
        "            c_min = df[col].min()\n",
        "            c_max = df[col].max()\n",
        "            if str(col_type)[:3] == 'int':\n",
        "                if c_min > np.iinfo(np.int8).min and c_max < np.iinfo(np.int8).max:\n",
        "                    df[col] = df[col].astype(np.int8)\n",
        "                elif c_min > np.iinfo(np.int16).min and c_max < np.iinfo(np.int16).max:\n",
        "                       df[col] = df[col].astype(np.int16)\n",
        "                elif c_min > np.iinfo(np.int32).min and c_max < np.iinfo(np.int32).max:\n",
        "                    df[col] = df[col].astype(np.int32)\n",
        "                elif c_min > np.iinfo(np.int64).min and c_max < np.iinfo(np.int64).max:\n",
        "                    df[col] = df[col].astype(np.int64)\n",
        "            else:\n",
        "                if c_min > np.finfo(np.float16).min and c_max < np.finfo(np.float16).max:\n",
        "                    df[col] = df[col].astype(np.float16)\n",
        "                elif c_min > np.finfo(np.float32).min and c_max < np.finfo(np.float32).max:\n",
        "                    df[col] = df[col].astype(np.float32)\n",
        "                else:\n",
        "                    df[col] = df[col].astype(np.float64)\n",
        "    end_mem = df.memory_usage().sum() / 1024**2\n",
        "    if verbose: print('Mem. usage decreased to {:5.2f} Mb ({:.1f}% reduction)'.format(end_mem, 100 * (start_mem - end_mem) / start_mem))\n",
        "    return df"
      ]
    },
    {
      "cell_type": "markdown",
      "metadata": {
        "id": "vExnbwl8_8U7"
      },
      "source": [
        "# Load the data"
      ]
    },
    {
      "cell_type": "code",
      "execution_count": null,
      "metadata": {
        "colab": {
          "base_uri": "https://localhost:8080/",
          "height": 465
        },
        "id": "PSxkejGbDCT2",
        "outputId": "3d9d3a38-7985-470a-f002-3f54a8554df9"
      },
      "outputs": [
        {
          "output_type": "stream",
          "name": "stdout",
          "text": [
            "Mounted at /content/drive\n",
            "(45974682, 119)\n"
          ]
        },
        {
          "output_type": "execute_result",
          "data": {
            "text/plain": [
              "                            id      item_id  dept_id cat_id store_id state_id  \\\n",
              "0  FOODS_1_001_CA_1_validation  FOODS_1_001  FOODS_1  FOODS     CA_1       CA   \n",
              "1  FOODS_1_001_CA_1_validation  FOODS_1_001  FOODS_1  FOODS     CA_1       CA   \n",
              "2  FOODS_1_001_CA_1_validation  FOODS_1_001  FOODS_1  FOODS     CA_1       CA   \n",
              "3  FOODS_1_001_CA_1_validation  FOODS_1_001  FOODS_1  FOODS     CA_1       CA   \n",
              "4  FOODS_1_001_CA_1_validation  FOODS_1_001  FOODS_1  FOODS     CA_1       CA   \n",
              "\n",
              "   d  sales       date  wm_yr_wk  ... enc_std_store_id_dept_id  \\\n",
              "0  1      3 2011-01-29     11101  ...                 3.357422   \n",
              "1  2      0 2011-01-30     11101  ...                 3.357422   \n",
              "2  3      0 2011-01-31     11101  ...                 3.357422   \n",
              "3  4      1 2011-02-01     11101  ...                 3.357422   \n",
              "4  5      4 2011-02-02     11101  ...                 3.357422   \n",
              "\n",
              "   enc_mean_item_id  enc_std_item_id  enc_mean_item_id_state_id  \\\n",
              "0          0.719238         1.333008                   0.968262   \n",
              "1          0.719238         1.333008                   0.968262   \n",
              "2          0.719238         1.333008                   0.968262   \n",
              "3          0.719238         1.333008                   0.968262   \n",
              "4          0.719238         1.333008                   0.968262   \n",
              "\n",
              "  enc_std_item_id_state_id enc_mean_item_id_store_id enc_std_item_id_store_id  \\\n",
              "0                 1.662109                  0.833984                    1.375   \n",
              "1                 1.662109                  0.833984                    1.375   \n",
              "2                 1.662109                  0.833984                    1.375   \n",
              "3                 1.662109                  0.833984                    1.375   \n",
              "4                 1.662109                  0.833984                    1.375   \n",
              "\n",
              "  ROP_L3  ROP_L7  ROP_L14  \n",
              "0    NaN     NaN      NaN  \n",
              "1    NaN     NaN      NaN  \n",
              "2    5.0     NaN      NaN  \n",
              "3    7.0     NaN      NaN  \n",
              "4    6.0     NaN      NaN  \n",
              "\n",
              "[5 rows x 119 columns]"
            ],
            "text/html": [
              "\n",
              "  <div id=\"df-46a19e93-fc59-461c-9481-4fe2daef8a19\" class=\"colab-df-container\">\n",
              "    <div>\n",
              "<style scoped>\n",
              "    .dataframe tbody tr th:only-of-type {\n",
              "        vertical-align: middle;\n",
              "    }\n",
              "\n",
              "    .dataframe tbody tr th {\n",
              "        vertical-align: top;\n",
              "    }\n",
              "\n",
              "    .dataframe thead th {\n",
              "        text-align: right;\n",
              "    }\n",
              "</style>\n",
              "<table border=\"1\" class=\"dataframe\">\n",
              "  <thead>\n",
              "    <tr style=\"text-align: right;\">\n",
              "      <th></th>\n",
              "      <th>id</th>\n",
              "      <th>item_id</th>\n",
              "      <th>dept_id</th>\n",
              "      <th>cat_id</th>\n",
              "      <th>store_id</th>\n",
              "      <th>state_id</th>\n",
              "      <th>d</th>\n",
              "      <th>sales</th>\n",
              "      <th>date</th>\n",
              "      <th>wm_yr_wk</th>\n",
              "      <th>...</th>\n",
              "      <th>enc_std_store_id_dept_id</th>\n",
              "      <th>enc_mean_item_id</th>\n",
              "      <th>enc_std_item_id</th>\n",
              "      <th>enc_mean_item_id_state_id</th>\n",
              "      <th>enc_std_item_id_state_id</th>\n",
              "      <th>enc_mean_item_id_store_id</th>\n",
              "      <th>enc_std_item_id_store_id</th>\n",
              "      <th>ROP_L3</th>\n",
              "      <th>ROP_L7</th>\n",
              "      <th>ROP_L14</th>\n",
              "    </tr>\n",
              "  </thead>\n",
              "  <tbody>\n",
              "    <tr>\n",
              "      <th>0</th>\n",
              "      <td>FOODS_1_001_CA_1_validation</td>\n",
              "      <td>FOODS_1_001</td>\n",
              "      <td>FOODS_1</td>\n",
              "      <td>FOODS</td>\n",
              "      <td>CA_1</td>\n",
              "      <td>CA</td>\n",
              "      <td>1</td>\n",
              "      <td>3</td>\n",
              "      <td>2011-01-29</td>\n",
              "      <td>11101</td>\n",
              "      <td>...</td>\n",
              "      <td>3.357422</td>\n",
              "      <td>0.719238</td>\n",
              "      <td>1.333008</td>\n",
              "      <td>0.968262</td>\n",
              "      <td>1.662109</td>\n",
              "      <td>0.833984</td>\n",
              "      <td>1.375</td>\n",
              "      <td>NaN</td>\n",
              "      <td>NaN</td>\n",
              "      <td>NaN</td>\n",
              "    </tr>\n",
              "    <tr>\n",
              "      <th>1</th>\n",
              "      <td>FOODS_1_001_CA_1_validation</td>\n",
              "      <td>FOODS_1_001</td>\n",
              "      <td>FOODS_1</td>\n",
              "      <td>FOODS</td>\n",
              "      <td>CA_1</td>\n",
              "      <td>CA</td>\n",
              "      <td>2</td>\n",
              "      <td>0</td>\n",
              "      <td>2011-01-30</td>\n",
              "      <td>11101</td>\n",
              "      <td>...</td>\n",
              "      <td>3.357422</td>\n",
              "      <td>0.719238</td>\n",
              "      <td>1.333008</td>\n",
              "      <td>0.968262</td>\n",
              "      <td>1.662109</td>\n",
              "      <td>0.833984</td>\n",
              "      <td>1.375</td>\n",
              "      <td>NaN</td>\n",
              "      <td>NaN</td>\n",
              "      <td>NaN</td>\n",
              "    </tr>\n",
              "    <tr>\n",
              "      <th>2</th>\n",
              "      <td>FOODS_1_001_CA_1_validation</td>\n",
              "      <td>FOODS_1_001</td>\n",
              "      <td>FOODS_1</td>\n",
              "      <td>FOODS</td>\n",
              "      <td>CA_1</td>\n",
              "      <td>CA</td>\n",
              "      <td>3</td>\n",
              "      <td>0</td>\n",
              "      <td>2011-01-31</td>\n",
              "      <td>11101</td>\n",
              "      <td>...</td>\n",
              "      <td>3.357422</td>\n",
              "      <td>0.719238</td>\n",
              "      <td>1.333008</td>\n",
              "      <td>0.968262</td>\n",
              "      <td>1.662109</td>\n",
              "      <td>0.833984</td>\n",
              "      <td>1.375</td>\n",
              "      <td>5.0</td>\n",
              "      <td>NaN</td>\n",
              "      <td>NaN</td>\n",
              "    </tr>\n",
              "    <tr>\n",
              "      <th>3</th>\n",
              "      <td>FOODS_1_001_CA_1_validation</td>\n",
              "      <td>FOODS_1_001</td>\n",
              "      <td>FOODS_1</td>\n",
              "      <td>FOODS</td>\n",
              "      <td>CA_1</td>\n",
              "      <td>CA</td>\n",
              "      <td>4</td>\n",
              "      <td>1</td>\n",
              "      <td>2011-02-01</td>\n",
              "      <td>11101</td>\n",
              "      <td>...</td>\n",
              "      <td>3.357422</td>\n",
              "      <td>0.719238</td>\n",
              "      <td>1.333008</td>\n",
              "      <td>0.968262</td>\n",
              "      <td>1.662109</td>\n",
              "      <td>0.833984</td>\n",
              "      <td>1.375</td>\n",
              "      <td>7.0</td>\n",
              "      <td>NaN</td>\n",
              "      <td>NaN</td>\n",
              "    </tr>\n",
              "    <tr>\n",
              "      <th>4</th>\n",
              "      <td>FOODS_1_001_CA_1_validation</td>\n",
              "      <td>FOODS_1_001</td>\n",
              "      <td>FOODS_1</td>\n",
              "      <td>FOODS</td>\n",
              "      <td>CA_1</td>\n",
              "      <td>CA</td>\n",
              "      <td>5</td>\n",
              "      <td>4</td>\n",
              "      <td>2011-02-02</td>\n",
              "      <td>11101</td>\n",
              "      <td>...</td>\n",
              "      <td>3.357422</td>\n",
              "      <td>0.719238</td>\n",
              "      <td>1.333008</td>\n",
              "      <td>0.968262</td>\n",
              "      <td>1.662109</td>\n",
              "      <td>0.833984</td>\n",
              "      <td>1.375</td>\n",
              "      <td>6.0</td>\n",
              "      <td>NaN</td>\n",
              "      <td>NaN</td>\n",
              "    </tr>\n",
              "  </tbody>\n",
              "</table>\n",
              "<p>5 rows × 119 columns</p>\n",
              "</div>\n",
              "    <div class=\"colab-df-buttons\">\n",
              "\n",
              "  <div class=\"colab-df-container\">\n",
              "    <button class=\"colab-df-convert\" onclick=\"convertToInteractive('df-46a19e93-fc59-461c-9481-4fe2daef8a19')\"\n",
              "            title=\"Convert this dataframe to an interactive table.\"\n",
              "            style=\"display:none;\">\n",
              "\n",
              "  <svg xmlns=\"http://www.w3.org/2000/svg\" height=\"24px\" viewBox=\"0 -960 960 960\">\n",
              "    <path d=\"M120-120v-720h720v720H120Zm60-500h600v-160H180v160Zm220 220h160v-160H400v160Zm0 220h160v-160H400v160ZM180-400h160v-160H180v160Zm440 0h160v-160H620v160ZM180-180h160v-160H180v160Zm440 0h160v-160H620v160Z\"/>\n",
              "  </svg>\n",
              "    </button>\n",
              "\n",
              "  <style>\n",
              "    .colab-df-container {\n",
              "      display:flex;\n",
              "      gap: 12px;\n",
              "    }\n",
              "\n",
              "    .colab-df-convert {\n",
              "      background-color: #E8F0FE;\n",
              "      border: none;\n",
              "      border-radius: 50%;\n",
              "      cursor: pointer;\n",
              "      display: none;\n",
              "      fill: #1967D2;\n",
              "      height: 32px;\n",
              "      padding: 0 0 0 0;\n",
              "      width: 32px;\n",
              "    }\n",
              "\n",
              "    .colab-df-convert:hover {\n",
              "      background-color: #E2EBFA;\n",
              "      box-shadow: 0px 1px 2px rgba(60, 64, 67, 0.3), 0px 1px 3px 1px rgba(60, 64, 67, 0.15);\n",
              "      fill: #174EA6;\n",
              "    }\n",
              "\n",
              "    .colab-df-buttons div {\n",
              "      margin-bottom: 4px;\n",
              "    }\n",
              "\n",
              "    [theme=dark] .colab-df-convert {\n",
              "      background-color: #3B4455;\n",
              "      fill: #D2E3FC;\n",
              "    }\n",
              "\n",
              "    [theme=dark] .colab-df-convert:hover {\n",
              "      background-color: #434B5C;\n",
              "      box-shadow: 0px 1px 3px 1px rgba(0, 0, 0, 0.15);\n",
              "      filter: drop-shadow(0px 1px 2px rgba(0, 0, 0, 0.3));\n",
              "      fill: #FFFFFF;\n",
              "    }\n",
              "  </style>\n",
              "\n",
              "    <script>\n",
              "      const buttonEl =\n",
              "        document.querySelector('#df-46a19e93-fc59-461c-9481-4fe2daef8a19 button.colab-df-convert');\n",
              "      buttonEl.style.display =\n",
              "        google.colab.kernel.accessAllowed ? 'block' : 'none';\n",
              "\n",
              "      async function convertToInteractive(key) {\n",
              "        const element = document.querySelector('#df-46a19e93-fc59-461c-9481-4fe2daef8a19');\n",
              "        const dataTable =\n",
              "          await google.colab.kernel.invokeFunction('convertToInteractive',\n",
              "                                                    [key], {});\n",
              "        if (!dataTable) return;\n",
              "\n",
              "        const docLinkHtml = 'Like what you see? Visit the ' +\n",
              "          '<a target=\"_blank\" href=https://colab.research.google.com/notebooks/data_table.ipynb>data table notebook</a>'\n",
              "          + ' to learn more about interactive tables.';\n",
              "        element.innerHTML = '';\n",
              "        dataTable['output_type'] = 'display_data';\n",
              "        await google.colab.output.renderOutput(dataTable, element);\n",
              "        const docLink = document.createElement('div');\n",
              "        docLink.innerHTML = docLinkHtml;\n",
              "        element.appendChild(docLink);\n",
              "      }\n",
              "    </script>\n",
              "  </div>\n",
              "\n",
              "\n",
              "    <div id=\"df-e1cd8949-a210-4276-8cd2-0fb71fc4b8e7\">\n",
              "      <button class=\"colab-df-quickchart\" onclick=\"quickchart('df-e1cd8949-a210-4276-8cd2-0fb71fc4b8e7')\"\n",
              "                title=\"Suggest charts\"\n",
              "                style=\"display:none;\">\n",
              "\n",
              "<svg xmlns=\"http://www.w3.org/2000/svg\" height=\"24px\"viewBox=\"0 0 24 24\"\n",
              "     width=\"24px\">\n",
              "    <g>\n",
              "        <path d=\"M19 3H5c-1.1 0-2 .9-2 2v14c0 1.1.9 2 2 2h14c1.1 0 2-.9 2-2V5c0-1.1-.9-2-2-2zM9 17H7v-7h2v7zm4 0h-2V7h2v10zm4 0h-2v-4h2v4z\"/>\n",
              "    </g>\n",
              "</svg>\n",
              "      </button>\n",
              "\n",
              "<style>\n",
              "  .colab-df-quickchart {\n",
              "      --bg-color: #E8F0FE;\n",
              "      --fill-color: #1967D2;\n",
              "      --hover-bg-color: #E2EBFA;\n",
              "      --hover-fill-color: #174EA6;\n",
              "      --disabled-fill-color: #AAA;\n",
              "      --disabled-bg-color: #DDD;\n",
              "  }\n",
              "\n",
              "  [theme=dark] .colab-df-quickchart {\n",
              "      --bg-color: #3B4455;\n",
              "      --fill-color: #D2E3FC;\n",
              "      --hover-bg-color: #434B5C;\n",
              "      --hover-fill-color: #FFFFFF;\n",
              "      --disabled-bg-color: #3B4455;\n",
              "      --disabled-fill-color: #666;\n",
              "  }\n",
              "\n",
              "  .colab-df-quickchart {\n",
              "    background-color: var(--bg-color);\n",
              "    border: none;\n",
              "    border-radius: 50%;\n",
              "    cursor: pointer;\n",
              "    display: none;\n",
              "    fill: var(--fill-color);\n",
              "    height: 32px;\n",
              "    padding: 0;\n",
              "    width: 32px;\n",
              "  }\n",
              "\n",
              "  .colab-df-quickchart:hover {\n",
              "    background-color: var(--hover-bg-color);\n",
              "    box-shadow: 0 1px 2px rgba(60, 64, 67, 0.3), 0 1px 3px 1px rgba(60, 64, 67, 0.15);\n",
              "    fill: var(--button-hover-fill-color);\n",
              "  }\n",
              "\n",
              "  .colab-df-quickchart-complete:disabled,\n",
              "  .colab-df-quickchart-complete:disabled:hover {\n",
              "    background-color: var(--disabled-bg-color);\n",
              "    fill: var(--disabled-fill-color);\n",
              "    box-shadow: none;\n",
              "  }\n",
              "\n",
              "  .colab-df-spinner {\n",
              "    border: 2px solid var(--fill-color);\n",
              "    border-color: transparent;\n",
              "    border-bottom-color: var(--fill-color);\n",
              "    animation:\n",
              "      spin 1s steps(1) infinite;\n",
              "  }\n",
              "\n",
              "  @keyframes spin {\n",
              "    0% {\n",
              "      border-color: transparent;\n",
              "      border-bottom-color: var(--fill-color);\n",
              "      border-left-color: var(--fill-color);\n",
              "    }\n",
              "    20% {\n",
              "      border-color: transparent;\n",
              "      border-left-color: var(--fill-color);\n",
              "      border-top-color: var(--fill-color);\n",
              "    }\n",
              "    30% {\n",
              "      border-color: transparent;\n",
              "      border-left-color: var(--fill-color);\n",
              "      border-top-color: var(--fill-color);\n",
              "      border-right-color: var(--fill-color);\n",
              "    }\n",
              "    40% {\n",
              "      border-color: transparent;\n",
              "      border-right-color: var(--fill-color);\n",
              "      border-top-color: var(--fill-color);\n",
              "    }\n",
              "    60% {\n",
              "      border-color: transparent;\n",
              "      border-right-color: var(--fill-color);\n",
              "    }\n",
              "    80% {\n",
              "      border-color: transparent;\n",
              "      border-right-color: var(--fill-color);\n",
              "      border-bottom-color: var(--fill-color);\n",
              "    }\n",
              "    90% {\n",
              "      border-color: transparent;\n",
              "      border-bottom-color: var(--fill-color);\n",
              "    }\n",
              "  }\n",
              "</style>\n",
              "\n",
              "      <script>\n",
              "        async function quickchart(key) {\n",
              "          const quickchartButtonEl =\n",
              "            document.querySelector('#' + key + ' button');\n",
              "          quickchartButtonEl.disabled = true;  // To prevent multiple clicks.\n",
              "          quickchartButtonEl.classList.add('colab-df-spinner');\n",
              "          try {\n",
              "            const charts = await google.colab.kernel.invokeFunction(\n",
              "                'suggestCharts', [key], {});\n",
              "          } catch (error) {\n",
              "            console.error('Error during call to suggestCharts:', error);\n",
              "          }\n",
              "          quickchartButtonEl.classList.remove('colab-df-spinner');\n",
              "          quickchartButtonEl.classList.add('colab-df-quickchart-complete');\n",
              "        }\n",
              "        (() => {\n",
              "          let quickchartButtonEl =\n",
              "            document.querySelector('#df-e1cd8949-a210-4276-8cd2-0fb71fc4b8e7 button');\n",
              "          quickchartButtonEl.style.display =\n",
              "            google.colab.kernel.accessAllowed ? 'block' : 'none';\n",
              "        })();\n",
              "      </script>\n",
              "    </div>\n",
              "\n",
              "    </div>\n",
              "  </div>\n"
            ],
            "application/vnd.google.colaboratory.intrinsic+json": {
              "type": "dataframe",
              "variable_name": "sales_long_val"
            }
          },
          "metadata": {},
          "execution_count": 4
        }
      ],
      "source": [
        "from google.colab import drive\n",
        "drive.mount('/content/drive')\n",
        "\n",
        "import pandas as pd\n",
        "\n",
        "file_path = '/content/drive/MyDrive/Colab Notebooks/Supervised Project/sales_long_val_5y.pkl'\n",
        "sales_long_val = pd.read_pickle(file_path)\n",
        "\n",
        "print(sales_long_val.shape)\n",
        "sales_long_val.head()"
      ]
    },
    {
      "cell_type": "code",
      "execution_count": null,
      "metadata": {
        "id": "Obz-sR9oDZvj",
        "colab": {
          "base_uri": "https://localhost:8080/"
        },
        "outputId": "940fcb66-7002-4c3f-8250-a8e5a91d1374"
      },
      "outputs": [
        {
          "output_type": "stream",
          "name": "stdout",
          "text": [
            "Total groups: 70\n"
          ]
        }
      ],
      "source": [
        "# Group\n",
        "group_key = ['store_id', 'dept_id']\n",
        "\n",
        "group_names = sales_long_val[group_key].drop_duplicates().values.tolist()\n",
        "print(f\"Total groups: {len(group_names)}\")"
      ]
    },
    {
      "cell_type": "code",
      "execution_count": null,
      "metadata": {
        "colab": {
          "base_uri": "https://localhost:8080/"
        },
        "id": "_uAkFVt6VKDi",
        "outputId": "11803dc9-3885-45a4-80b2-2131339f8718"
      },
      "outputs": [
        {
          "output_type": "execute_result",
          "data": {
            "text/plain": [
              "(np.int16(1), np.int16(1913))"
            ]
          },
          "metadata": {},
          "execution_count": 7
        }
      ],
      "source": [
        "sales_long_val['d'].min(), sales_long_val['d'].max()"
      ]
    },
    {
      "cell_type": "markdown",
      "metadata": {
        "id": "1ONs7RhxGGdo"
      },
      "source": [
        "# ML Forecasting"
      ]
    },
    {
      "cell_type": "code",
      "execution_count": null,
      "metadata": {
        "id": "9klW-WzzAMX4"
      },
      "outputs": [],
      "source": [
        "import pandas as pd\n",
        "import lightgbm as lgb\n",
        "import numpy as np\n",
        "from tqdm import tqdm\n",
        "\n",
        "# LightGBM Parameter settings\n",
        "lgb_params = {\n",
        "    'boosting_type': 'gbdt',\n",
        "    'objective': 'tweedie',\n",
        "    'device': 'gpu',\n",
        "    'gpu_platform_id': 0,\n",
        "    'gpu_device_id': 0,\n",
        "    'tweedie_variance_power': 1.1,\n",
        "    'metric': 'rmse',\n",
        "    'subsample': 0.7,\n",
        "    'subsample_freq': 1,\n",
        "    'learning_rate': 0.02,\n",
        "    'num_leaves': 2**7 - 1,\n",
        "    'min_data_in_leaf': 2**6 - 1,\n",
        "    'feature_fraction': 0.7,\n",
        "    'max_bin': 100,\n",
        "    'n_estimators': 2500,\n",
        "    'boost_from_average': False,\n",
        "    'verbose': -1,\n",
        "    'seed': 1995\n",
        "}\n"
      ]
    },
    {
      "cell_type": "code",
      "execution_count": null,
      "metadata": {
        "id": "4Cg4G92jHZyY"
      },
      "outputs": [],
      "source": [
        "from sklearn.preprocessing import LabelEncoder\n",
        "\n",
        "for col in ['weekday']:\n",
        "    if sales_long_val[col].dtype == 'object':\n",
        "        le = LabelEncoder()\n",
        "        sales_long_val[col] = le.fit_transform(sales_long_val[col])\n"
      ]
    },
    {
      "cell_type": "code",
      "execution_count": null,
      "metadata": {
        "colab": {
          "base_uri": "https://localhost:8080/"
        },
        "id": "9zK35S0WVCiv",
        "outputId": "1e880f94-43ce-439c-e6a7-92146aefd967"
      },
      "outputs": [
        {
          "output_type": "stream",
          "name": "stdout",
          "text": [
            "Requirement already satisfied: tqdm in /usr/local/lib/python3.12/dist-packages (4.67.1)\n"
          ]
        }
      ],
      "source": [
        "!pip install tqdm"
      ]
    },
    {
      "cell_type": "markdown",
      "metadata": {
        "id": "mIand6A_cbV3"
      },
      "source": [
        "# Result & Model Save"
      ]
    },
    {
      "cell_type": "code",
      "execution_count": null,
      "metadata": {
        "id": "zrDfwzodct7p"
      },
      "outputs": [],
      "source": [
        "label_col = 'ROP_L3'\n",
        "group_key = ['store_id', 'dept_id']\n",
        "remove_feature=[\n",
        "        # ID\n",
        "        'id', 'item_id', 'dept_id', 'cat_id', 'store_id', 'state_id',\n",
        "        'd', 'date', 'wm_yr_wk','sales',\n",
        "\n",
        "        # ROP label\n",
        "        'ROP_L3', 'ROP_L7', 'ROP_L14',\n",
        "\n",
        "        # mean encoding, avoid target leakage\n",
        "        'enc_mean_store_id', 'enc_std_store_id',\n",
        "        'enc_mean_dept_id', 'enc_std_dept_id',\n",
        "        'enc_mean_store_id_cat_id', 'enc_std_store_id_cat_id',\n",
        "        'enc_mean_state_id_dept_id', 'enc_std_state_id_dept_id',\n",
        "        'enc_mean_store_id_dept_id', 'enc_std_store_id_dept_id',\n",
        "        'enc_mean_item_id_store_id', 'enc_std_item_id_store_id']"
      ]
    },
    {
      "cell_type": "code",
      "source": [
        "import os, gc, pickle, time\n",
        "import numpy as np\n",
        "import pandas as pd\n",
        "import lightgbm as lgb\n",
        "from tqdm import tqdm\n",
        "\n",
        "# Drop training period constant to avoid LGB instability\n",
        "def _fit_lgb_safe(X_tr, y_tr, params):\n",
        "    n = X_tr.shape[0]\n",
        "    const_cols = [c for c in X_tr.columns if X_tr[c].nunique(dropna=True) <= 1]\n",
        "    if const_cols:\n",
        "        X_tr = X_tr.drop(columns=const_cols)\n",
        "\n",
        "    safe = dict(params or {})\n",
        "    safe['min_data_in_leaf'] = max(5, min(safe.get('min_data_in_leaf', 20), max(2, n // 4)))\n",
        "    safe['num_leaves']       = min(safe.get('num_leaves', 31), max(2, n - 1))\n",
        "    safe['force_row_wise']   = True\n",
        "\n",
        "    mdl = lgb.LGBMRegressor(**safe)\n",
        "    mdl.fit(X_tr, y_tr)\n",
        "    return mdl, const_cols\n",
        "\n",
        "# Calculate the d boundary of \"3 years of training + validation = the last 3 months of Y4\" (automatically do a robust mapping of date → d)\n",
        "def make_ranges_train3y_val_last3m(df, date_col='date', d_col='d', lead_time=3):\n",
        "    dd = df[[date_col, d_col]].drop_duplicates().sort_values(date_col)\n",
        "    if not np.issubdtype(dd[date_col].dtype, np.datetime64):\n",
        "        dd[date_col] = pd.to_datetime(dd[date_col])\n",
        "\n",
        "    start    = dd[date_col].min().normalize()\n",
        "    y4_end   = start + pd.DateOffset(years=4) - pd.Timedelta(days=1)\n",
        "    # The day following the last three months of the year ending in Y4 (val start)\n",
        "    val_start_date = (y4_end - pd.DateOffset(months=3)) + pd.Timedelta(days=1)\n",
        "    # 3 years before the verification starting point (train start)\n",
        "    train_start_date = val_start_date - pd.DateOffset(years=3)\n",
        "\n",
        "    # Date → d (take the minimum d >= starting point and the maximum d <= end point)\n",
        "    d_val_start = int(dd.loc[dd[date_col] >= val_start_date, d_col].min())\n",
        "    d_y4_end    = int(dd.loc[dd[date_col] <= y4_end,         d_col].max())\n",
        "    d_train_start = int(dd.loc[dd[date_col] >= train_start_date, d_col].min())\n",
        "    '''\n",
        "    The training upper bound should be reduced by L; the validation upper bound\n",
        "    should be reduced by (L-1) to avoid cross-window/Year5\n",
        "    '''\n",
        "    L = int(lead_time)\n",
        "    d_train_end = d_val_start - L\n",
        "    d_val_end   = d_y4_end  - (L - 1)\n",
        "\n",
        "    if d_train_end < d_train_start:\n",
        "        raise ValueError(\"The 3-year training window is insufficient.\")\n",
        "\n",
        "    # Record meta\n",
        "    date_at = dd.drop_duplicates(d_col).set_index(d_col)[date_col]\n",
        "    train_start_date = pd.to_datetime(date_at.loc[d_train_start]).date()\n",
        "    train_end_date   = pd.to_datetime(date_at.loc[d_train_end]).date()\n",
        "    val_start_date   = pd.to_datetime(date_at.loc[d_val_start]).date()\n",
        "    val_end_date     = pd.to_datetime(date_at.loc[d_val_end]).date()\n",
        "\n",
        "    info = {\n",
        "        \"y4_end_date\": y4_end.date(),\n",
        "        \"train_start_d\": int(d_train_start),\n",
        "        \"train_end_d\":   int(d_train_end),\n",
        "        \"val_start_d\":   int(d_val_start),\n",
        "        \"val_end_d\":     int(d_val_end),\n",
        "        \"train_start_date\": train_start_date,\n",
        "        \"train_end_date\":   train_end_date,\n",
        "        \"val_start_date\":   val_start_date,\n",
        "        \"val_end_date\":     val_end_date,\n",
        "        \"lead_time\":        L\n",
        "    }\n",
        "    return (int(d_train_start), int(d_train_end)), (int(d_val_start), int(d_val_end)), info\n",
        "\n",
        "# Main Function\n",
        "def run_train_val_train3y_val_last3m(\n",
        "    df, group_key, label_col, remove_feature, lgb_params,\n",
        "    forecast_dir, model_dir,\n",
        "    date_col='date', d_col='d', lead_time=3\n",
        "):\n",
        "    os.makedirs(forecast_dir, exist_ok=True)\n",
        "    os.makedirs(model_dir, exist_ok=True)\n",
        "\n",
        "    train_range, val_range, info = make_ranges_train3y_val_last3m(\n",
        "        df, date_col=date_col, d_col=d_col, lead_time=lead_time\n",
        "    )\n",
        "    print(f\"[SPLIT] Train: d[{train_range[0]}, {train_range[1]}] ({info['train_start_date']} → {info['train_end_date']})\")\n",
        "    print(f\"        Val  : d[{val_range[0]}, {val_range[1]}] ({info['val_start_date']} → {info['val_end_date']})\")\n",
        "    # Save meta\n",
        "    with open(os.path.join(forecast_dir, \"cv_meta.pkl\"), \"wb\") as f:\n",
        "        pickle.dump({\n",
        "            \"mode\": \"train=3y, val=Y4 last 3 months (no Y5)\",\n",
        "            **info,\n",
        "            \"date_col\": date_col,\n",
        "            \"d_col\": d_col,\n",
        "            \"group_key\": group_key,\n",
        "            \"target_col\": label_col\n",
        "        }, f)\n",
        "\n",
        "\n",
        "    group_vals_list = df[group_key].drop_duplicates().itertuples(index=False, name=None)\n",
        "    for gvals in tqdm(list(group_vals_list), desc=\"Hold-out per group\", unit=\"group\"):\n",
        "        group_id = \"_\".join(map(str, gvals))\n",
        "        f_path = os.path.join(forecast_dir, f\"forecast_{group_id}.pkl\")\n",
        "        m_path = os.path.join(model_dir,    f\"model_{group_id}.bin\")\n",
        "\n",
        "        # Skip\n",
        "        if os.path.exists(f_path) and os.path.exists(m_path):\n",
        "            tqdm.write(f\"[Skip] {group_id} already processed.\")\n",
        "            continue\n",
        "\n",
        "\n",
        "        gmask = np.ones(len(df), dtype=bool)\n",
        "        for k, v in zip(group_key, gvals):\n",
        "            gmask &= (df[k] == v)\n",
        "        gdf = df.loc[gmask].sort_values(d_col).reset_index(drop=True)\n",
        "\n",
        "        tr_mask = (gdf[d_col] >= train_range[0]) & (gdf[d_col] <= train_range[1])\n",
        "        vl_mask = (gdf[d_col] >= val_range[0])   & (gdf[d_col] <= val_range[1])\n",
        "\n",
        "        # Split\n",
        "        y_tr = gdf.loc[tr_mask, label_col].dropna()\n",
        "        X_tr = gdf.loc[y_tr.index].drop(columns=remove_feature + [label_col], errors='ignore')\n",
        "\n",
        "        y_vl = gdf.loc[vl_mask, label_col].dropna()\n",
        "        X_vl = gdf.loc[y_vl.index].drop(columns=remove_feature + [label_col], errors='ignore')\n",
        "\n",
        "        if X_tr.empty or X_vl.empty:\n",
        "            tqdm.write(f\"[Warn] {group_id} no train/val rows. Skipped.\")\n",
        "            continue\n",
        "\n",
        "        # Train\n",
        "        if os.path.exists(m_path):\n",
        "            with open(m_path, 'rb') as f:\n",
        "                model = pickle.load(f)\n",
        "            dropped_cols = []\n",
        "            secs = np.nan\n",
        "        else:\n",
        "            t0 = time.time()\n",
        "            model, dropped_cols = _fit_lgb_safe(X_tr, y_tr, lgb_params)\n",
        "            secs = time.time() - t0\n",
        "            with open(m_path, 'wb') as f:\n",
        "                pickle.dump(model, f)\n",
        "\n",
        "        # Val\n",
        "        X_vl2 = X_vl.drop(columns=dropped_cols, errors='ignore')\n",
        "        train_feats = list(model.feature_name_)\n",
        "        X_vl2 = X_vl2.reindex(columns=train_feats, fill_value=0)\n",
        "        pred = model.predict(X_vl2)\n",
        "\n",
        "        # Save results & models\n",
        "        cols_keep = ['d', 'date']\n",
        "        for c in ['item_id', 'store_id'] + (group_key if isinstance(group_key, list) else list(group_key)):\n",
        "            if c in gdf.columns and c not in cols_keep:\n",
        "                cols_keep.append(c)\n",
        "        out = gdf.loc[y_vl.index, cols_keep].copy()\n",
        "        out['true'] = y_vl.values\n",
        "        out['pred'] = pred\n",
        "        out['train_secs'] = secs\n",
        "        out.to_pickle(f_path)\n",
        "        tqdm.write(f\"[Save] Forecast -> {f_path}\")\n",
        "        tqdm.write(f\"[Save] Model    -> {m_path}\")\n",
        "\n",
        "        del gdf, X_tr, y_tr, X_vl, y_vl, model, out\n",
        "        gc.collect()\n",
        "\n",
        "    print(\"[DONE] Train=3y, Val=last 3 months of Y4 (label-safe, no Y5). Meta saved as cv_meta.pkl\")"
      ],
      "metadata": {
        "id": "ECL3hC7Z3RD6"
      },
      "execution_count": null,
      "outputs": []
    },
    {
      "cell_type": "code",
      "source": [
        "forecast_dir = \"/content/drive/MyDrive/Colab Notebooks/Supervised Project/ML/results_store_dept_3y_retrain/\"\n",
        "model_dir    = \"/content/drive/MyDrive/Colab Notebooks/Supervised Project/ML/models_store_dept_3y_retrain/\"\n",
        "\n",
        "run_train_val_train3y_val_last3m(\n",
        "    df=sales_long_val,\n",
        "    group_key=group_key,\n",
        "    label_col='ROP_L3',\n",
        "    remove_feature=remove_feature,\n",
        "    lgb_params=lgb_params,\n",
        "    forecast_dir=forecast_dir,\n",
        "    model_dir=model_dir,\n",
        "    date_col='date',\n",
        "    d_col='d',\n",
        "    lead_time=3\n",
        ")"
      ],
      "metadata": {
        "colab": {
          "base_uri": "https://localhost:8080/"
        },
        "id": "nw3eVG9G3o5O",
        "outputId": "036931be-dbb6-41fe-8741-b21ab04341f5"
      },
      "execution_count": null,
      "outputs": [
        {
          "output_type": "stream",
          "name": "stdout",
          "text": [
            "[SPLIT] Train: d[274, 1367] (2011-10-29 → 2014-10-26)\n",
            "        Val  : d[1370, 1459] (2014-10-29 → 2015-01-26)\n"
          ]
        },
        {
          "output_type": "stream",
          "name": "stderr",
          "text": [
            "Hold-out per group:   1%|▏         | 1/70 [01:02<1:11:25, 62.12s/group]"
          ]
        },
        {
          "output_type": "stream",
          "name": "stdout",
          "text": [
            "[Save] Forecast -> /content/drive/MyDrive/Colab Notebooks/Supervised Project/ML/results_store_dept_3y_retrain/forecast_CA_1_FOODS_1.pkl\n",
            "[Save] Model    -> /content/drive/MyDrive/Colab Notebooks/Supervised Project/ML/models_store_dept_3y_retrain/model_CA_1_FOODS_1.bin\n"
          ]
        },
        {
          "output_type": "stream",
          "name": "stderr",
          "text": [
            "Hold-out per group:   3%|▎         | 2/70 [01:59<1:07:04, 59.18s/group]"
          ]
        },
        {
          "output_type": "stream",
          "name": "stdout",
          "text": [
            "[Save] Forecast -> /content/drive/MyDrive/Colab Notebooks/Supervised Project/ML/results_store_dept_3y_retrain/forecast_CA_2_FOODS_1.pkl\n",
            "[Save] Model    -> /content/drive/MyDrive/Colab Notebooks/Supervised Project/ML/models_store_dept_3y_retrain/model_CA_2_FOODS_1.bin\n"
          ]
        },
        {
          "output_type": "stream",
          "name": "stderr",
          "text": [
            "Hold-out per group:   4%|▍         | 3/70 [02:56<1:04:53, 58.12s/group]"
          ]
        },
        {
          "output_type": "stream",
          "name": "stdout",
          "text": [
            "[Save] Forecast -> /content/drive/MyDrive/Colab Notebooks/Supervised Project/ML/results_store_dept_3y_retrain/forecast_CA_3_FOODS_1.pkl\n",
            "[Save] Model    -> /content/drive/MyDrive/Colab Notebooks/Supervised Project/ML/models_store_dept_3y_retrain/model_CA_3_FOODS_1.bin\n"
          ]
        },
        {
          "output_type": "stream",
          "name": "stderr",
          "text": [
            "Hold-out per group:   6%|▌         | 4/70 [03:54<1:04:16, 58.43s/group]"
          ]
        },
        {
          "output_type": "stream",
          "name": "stdout",
          "text": [
            "[Save] Forecast -> /content/drive/MyDrive/Colab Notebooks/Supervised Project/ML/results_store_dept_3y_retrain/forecast_CA_4_FOODS_1.pkl\n",
            "[Save] Model    -> /content/drive/MyDrive/Colab Notebooks/Supervised Project/ML/models_store_dept_3y_retrain/model_CA_4_FOODS_1.bin\n"
          ]
        },
        {
          "output_type": "stream",
          "name": "stderr",
          "text": [
            "Hold-out per group:   7%|▋         | 5/70 [04:54<1:03:44, 58.84s/group]"
          ]
        },
        {
          "output_type": "stream",
          "name": "stdout",
          "text": [
            "[Save] Forecast -> /content/drive/MyDrive/Colab Notebooks/Supervised Project/ML/results_store_dept_3y_retrain/forecast_TX_1_FOODS_1.pkl\n",
            "[Save] Model    -> /content/drive/MyDrive/Colab Notebooks/Supervised Project/ML/models_store_dept_3y_retrain/model_TX_1_FOODS_1.bin\n"
          ]
        },
        {
          "output_type": "stream",
          "name": "stderr",
          "text": [
            "Hold-out per group:   9%|▊         | 6/70 [05:53<1:02:40, 58.76s/group]"
          ]
        },
        {
          "output_type": "stream",
          "name": "stdout",
          "text": [
            "[Save] Forecast -> /content/drive/MyDrive/Colab Notebooks/Supervised Project/ML/results_store_dept_3y_retrain/forecast_TX_2_FOODS_1.pkl\n",
            "[Save] Model    -> /content/drive/MyDrive/Colab Notebooks/Supervised Project/ML/models_store_dept_3y_retrain/model_TX_2_FOODS_1.bin\n"
          ]
        },
        {
          "output_type": "stream",
          "name": "stderr",
          "text": [
            "Hold-out per group:  10%|█         | 7/70 [06:53<1:02:12, 59.25s/group]"
          ]
        },
        {
          "output_type": "stream",
          "name": "stdout",
          "text": [
            "[Save] Forecast -> /content/drive/MyDrive/Colab Notebooks/Supervised Project/ML/results_store_dept_3y_retrain/forecast_TX_3_FOODS_1.pkl\n",
            "[Save] Model    -> /content/drive/MyDrive/Colab Notebooks/Supervised Project/ML/models_store_dept_3y_retrain/model_TX_3_FOODS_1.bin\n"
          ]
        },
        {
          "output_type": "stream",
          "name": "stderr",
          "text": [
            "Hold-out per group:  11%|█▏        | 8/70 [07:50<1:00:21, 58.41s/group]"
          ]
        },
        {
          "output_type": "stream",
          "name": "stdout",
          "text": [
            "[Save] Forecast -> /content/drive/MyDrive/Colab Notebooks/Supervised Project/ML/results_store_dept_3y_retrain/forecast_WI_1_FOODS_1.pkl\n",
            "[Save] Model    -> /content/drive/MyDrive/Colab Notebooks/Supervised Project/ML/models_store_dept_3y_retrain/model_WI_1_FOODS_1.bin\n"
          ]
        },
        {
          "output_type": "stream",
          "name": "stderr",
          "text": [
            "Hold-out per group:  13%|█▎        | 9/70 [08:48<59:20, 58.37s/group]  "
          ]
        },
        {
          "output_type": "stream",
          "name": "stdout",
          "text": [
            "[Save] Forecast -> /content/drive/MyDrive/Colab Notebooks/Supervised Project/ML/results_store_dept_3y_retrain/forecast_WI_2_FOODS_1.pkl\n",
            "[Save] Model    -> /content/drive/MyDrive/Colab Notebooks/Supervised Project/ML/models_store_dept_3y_retrain/model_WI_2_FOODS_1.bin\n"
          ]
        },
        {
          "output_type": "stream",
          "name": "stderr",
          "text": [
            "Hold-out per group:  14%|█▍        | 10/70 [09:48<58:56, 58.95s/group]"
          ]
        },
        {
          "output_type": "stream",
          "name": "stdout",
          "text": [
            "[Save] Forecast -> /content/drive/MyDrive/Colab Notebooks/Supervised Project/ML/results_store_dept_3y_retrain/forecast_WI_3_FOODS_1.pkl\n",
            "[Save] Model    -> /content/drive/MyDrive/Colab Notebooks/Supervised Project/ML/models_store_dept_3y_retrain/model_WI_3_FOODS_1.bin\n"
          ]
        },
        {
          "output_type": "stream",
          "name": "stderr",
          "text": [
            "Hold-out per group:  16%|█▌        | 11/70 [10:57<1:00:58, 62.01s/group]"
          ]
        },
        {
          "output_type": "stream",
          "name": "stdout",
          "text": [
            "[Save] Forecast -> /content/drive/MyDrive/Colab Notebooks/Supervised Project/ML/results_store_dept_3y_retrain/forecast_CA_1_FOODS_2.pkl\n",
            "[Save] Model    -> /content/drive/MyDrive/Colab Notebooks/Supervised Project/ML/models_store_dept_3y_retrain/model_CA_1_FOODS_2.bin\n"
          ]
        },
        {
          "output_type": "stream",
          "name": "stderr",
          "text": [
            "Hold-out per group:  17%|█▋        | 12/70 [11:46<56:14, 58.18s/group]  "
          ]
        },
        {
          "output_type": "stream",
          "name": "stdout",
          "text": [
            "[Save] Forecast -> /content/drive/MyDrive/Colab Notebooks/Supervised Project/ML/results_store_dept_3y_retrain/forecast_CA_2_FOODS_2.pkl\n",
            "[Save] Model    -> /content/drive/MyDrive/Colab Notebooks/Supervised Project/ML/models_store_dept_3y_retrain/model_CA_2_FOODS_2.bin\n"
          ]
        },
        {
          "output_type": "stream",
          "name": "stderr",
          "text": [
            "Hold-out per group:  19%|█▊        | 13/70 [12:55<58:22, 61.45s/group]"
          ]
        },
        {
          "output_type": "stream",
          "name": "stdout",
          "text": [
            "[Save] Forecast -> /content/drive/MyDrive/Colab Notebooks/Supervised Project/ML/results_store_dept_3y_retrain/forecast_CA_3_FOODS_2.pkl\n",
            "[Save] Model    -> /content/drive/MyDrive/Colab Notebooks/Supervised Project/ML/models_store_dept_3y_retrain/model_CA_3_FOODS_2.bin\n"
          ]
        },
        {
          "output_type": "stream",
          "name": "stderr",
          "text": [
            "Hold-out per group:  20%|██        | 14/70 [14:07<1:00:10, 64.48s/group]"
          ]
        },
        {
          "output_type": "stream",
          "name": "stdout",
          "text": [
            "[Save] Forecast -> /content/drive/MyDrive/Colab Notebooks/Supervised Project/ML/results_store_dept_3y_retrain/forecast_CA_4_FOODS_2.pkl\n",
            "[Save] Model    -> /content/drive/MyDrive/Colab Notebooks/Supervised Project/ML/models_store_dept_3y_retrain/model_CA_4_FOODS_2.bin\n"
          ]
        },
        {
          "output_type": "stream",
          "name": "stderr",
          "text": [
            "Hold-out per group:  21%|██▏       | 15/70 [15:19<1:01:12, 66.77s/group]"
          ]
        },
        {
          "output_type": "stream",
          "name": "stdout",
          "text": [
            "[Save] Forecast -> /content/drive/MyDrive/Colab Notebooks/Supervised Project/ML/results_store_dept_3y_retrain/forecast_TX_1_FOODS_2.pkl\n",
            "[Save] Model    -> /content/drive/MyDrive/Colab Notebooks/Supervised Project/ML/models_store_dept_3y_retrain/model_TX_1_FOODS_2.bin\n"
          ]
        },
        {
          "output_type": "stream",
          "name": "stderr",
          "text": [
            "Hold-out per group:  23%|██▎       | 16/70 [16:28<1:00:34, 67.30s/group]"
          ]
        },
        {
          "output_type": "stream",
          "name": "stdout",
          "text": [
            "[Save] Forecast -> /content/drive/MyDrive/Colab Notebooks/Supervised Project/ML/results_store_dept_3y_retrain/forecast_TX_2_FOODS_2.pkl\n",
            "[Save] Model    -> /content/drive/MyDrive/Colab Notebooks/Supervised Project/ML/models_store_dept_3y_retrain/model_TX_2_FOODS_2.bin\n"
          ]
        },
        {
          "output_type": "stream",
          "name": "stderr",
          "text": [
            "Hold-out per group:  24%|██▍       | 17/70 [17:34<59:19, 67.16s/group]  "
          ]
        },
        {
          "output_type": "stream",
          "name": "stdout",
          "text": [
            "[Save] Forecast -> /content/drive/MyDrive/Colab Notebooks/Supervised Project/ML/results_store_dept_3y_retrain/forecast_TX_3_FOODS_2.pkl\n",
            "[Save] Model    -> /content/drive/MyDrive/Colab Notebooks/Supervised Project/ML/models_store_dept_3y_retrain/model_TX_3_FOODS_2.bin\n"
          ]
        },
        {
          "output_type": "stream",
          "name": "stderr",
          "text": [
            "Hold-out per group:  26%|██▌       | 18/70 [18:37<56:58, 65.75s/group]"
          ]
        },
        {
          "output_type": "stream",
          "name": "stdout",
          "text": [
            "[Save] Forecast -> /content/drive/MyDrive/Colab Notebooks/Supervised Project/ML/results_store_dept_3y_retrain/forecast_WI_1_FOODS_2.pkl\n",
            "[Save] Model    -> /content/drive/MyDrive/Colab Notebooks/Supervised Project/ML/models_store_dept_3y_retrain/model_WI_1_FOODS_2.bin\n"
          ]
        },
        {
          "output_type": "stream",
          "name": "stderr",
          "text": [
            "Hold-out per group:  27%|██▋       | 19/70 [19:44<56:21, 66.31s/group]"
          ]
        },
        {
          "output_type": "stream",
          "name": "stdout",
          "text": [
            "[Save] Forecast -> /content/drive/MyDrive/Colab Notebooks/Supervised Project/ML/results_store_dept_3y_retrain/forecast_WI_2_FOODS_2.pkl\n",
            "[Save] Model    -> /content/drive/MyDrive/Colab Notebooks/Supervised Project/ML/models_store_dept_3y_retrain/model_WI_2_FOODS_2.bin\n"
          ]
        },
        {
          "output_type": "stream",
          "name": "stderr",
          "text": [
            "Hold-out per group:  29%|██▊       | 20/70 [20:54<56:08, 67.37s/group]"
          ]
        },
        {
          "output_type": "stream",
          "name": "stdout",
          "text": [
            "[Save] Forecast -> /content/drive/MyDrive/Colab Notebooks/Supervised Project/ML/results_store_dept_3y_retrain/forecast_WI_3_FOODS_2.pkl\n",
            "[Save] Model    -> /content/drive/MyDrive/Colab Notebooks/Supervised Project/ML/models_store_dept_3y_retrain/model_WI_3_FOODS_2.bin\n"
          ]
        },
        {
          "output_type": "stream",
          "name": "stderr",
          "text": [
            "Hold-out per group:  30%|███       | 21/70 [22:28<1:01:30, 75.32s/group]"
          ]
        },
        {
          "output_type": "stream",
          "name": "stdout",
          "text": [
            "[Save] Forecast -> /content/drive/MyDrive/Colab Notebooks/Supervised Project/ML/results_store_dept_3y_retrain/forecast_CA_1_FOODS_3.pkl\n",
            "[Save] Model    -> /content/drive/MyDrive/Colab Notebooks/Supervised Project/ML/models_store_dept_3y_retrain/model_CA_1_FOODS_3.bin\n"
          ]
        },
        {
          "output_type": "stream",
          "name": "stderr",
          "text": [
            "Hold-out per group:  31%|███▏      | 22/70 [23:59<1:03:59, 80.00s/group]"
          ]
        },
        {
          "output_type": "stream",
          "name": "stdout",
          "text": [
            "[Save] Forecast -> /content/drive/MyDrive/Colab Notebooks/Supervised Project/ML/results_store_dept_3y_retrain/forecast_CA_2_FOODS_3.pkl\n",
            "[Save] Model    -> /content/drive/MyDrive/Colab Notebooks/Supervised Project/ML/models_store_dept_3y_retrain/model_CA_2_FOODS_3.bin\n"
          ]
        },
        {
          "output_type": "stream",
          "name": "stderr",
          "text": [
            "Hold-out per group:  33%|███▎      | 23/70 [25:32<1:05:48, 84.00s/group]"
          ]
        },
        {
          "output_type": "stream",
          "name": "stdout",
          "text": [
            "[Save] Forecast -> /content/drive/MyDrive/Colab Notebooks/Supervised Project/ML/results_store_dept_3y_retrain/forecast_CA_3_FOODS_3.pkl\n",
            "[Save] Model    -> /content/drive/MyDrive/Colab Notebooks/Supervised Project/ML/models_store_dept_3y_retrain/model_CA_3_FOODS_3.bin\n"
          ]
        },
        {
          "output_type": "stream",
          "name": "stderr",
          "text": [
            "Hold-out per group:  34%|███▍      | 24/70 [27:03<1:06:00, 86.10s/group]"
          ]
        },
        {
          "output_type": "stream",
          "name": "stdout",
          "text": [
            "[Save] Forecast -> /content/drive/MyDrive/Colab Notebooks/Supervised Project/ML/results_store_dept_3y_retrain/forecast_CA_4_FOODS_3.pkl\n",
            "[Save] Model    -> /content/drive/MyDrive/Colab Notebooks/Supervised Project/ML/models_store_dept_3y_retrain/model_CA_4_FOODS_3.bin\n"
          ]
        },
        {
          "output_type": "stream",
          "name": "stderr",
          "text": [
            "Hold-out per group:  36%|███▌      | 25/70 [28:37<1:06:14, 88.32s/group]"
          ]
        },
        {
          "output_type": "stream",
          "name": "stdout",
          "text": [
            "[Save] Forecast -> /content/drive/MyDrive/Colab Notebooks/Supervised Project/ML/results_store_dept_3y_retrain/forecast_TX_1_FOODS_3.pkl\n",
            "[Save] Model    -> /content/drive/MyDrive/Colab Notebooks/Supervised Project/ML/models_store_dept_3y_retrain/model_TX_1_FOODS_3.bin\n"
          ]
        },
        {
          "output_type": "stream",
          "name": "stderr",
          "text": [
            "Hold-out per group:  37%|███▋      | 26/70 [30:10<1:05:48, 89.74s/group]"
          ]
        },
        {
          "output_type": "stream",
          "name": "stdout",
          "text": [
            "[Save] Forecast -> /content/drive/MyDrive/Colab Notebooks/Supervised Project/ML/results_store_dept_3y_retrain/forecast_TX_2_FOODS_3.pkl\n",
            "[Save] Model    -> /content/drive/MyDrive/Colab Notebooks/Supervised Project/ML/models_store_dept_3y_retrain/model_TX_2_FOODS_3.bin\n"
          ]
        },
        {
          "output_type": "stream",
          "name": "stderr",
          "text": [
            "Hold-out per group:  39%|███▊      | 27/70 [31:42<1:04:48, 90.43s/group]"
          ]
        },
        {
          "output_type": "stream",
          "name": "stdout",
          "text": [
            "[Save] Forecast -> /content/drive/MyDrive/Colab Notebooks/Supervised Project/ML/results_store_dept_3y_retrain/forecast_TX_3_FOODS_3.pkl\n",
            "[Save] Model    -> /content/drive/MyDrive/Colab Notebooks/Supervised Project/ML/models_store_dept_3y_retrain/model_TX_3_FOODS_3.bin\n"
          ]
        },
        {
          "output_type": "stream",
          "name": "stderr",
          "text": [
            "Hold-out per group:  40%|████      | 28/70 [33:11<1:02:55, 89.89s/group]"
          ]
        },
        {
          "output_type": "stream",
          "name": "stdout",
          "text": [
            "[Save] Forecast -> /content/drive/MyDrive/Colab Notebooks/Supervised Project/ML/results_store_dept_3y_retrain/forecast_WI_1_FOODS_3.pkl\n",
            "[Save] Model    -> /content/drive/MyDrive/Colab Notebooks/Supervised Project/ML/models_store_dept_3y_retrain/model_WI_1_FOODS_3.bin\n"
          ]
        },
        {
          "output_type": "stream",
          "name": "stderr",
          "text": [
            "Hold-out per group:  41%|████▏     | 29/70 [34:46<1:02:32, 91.53s/group]"
          ]
        },
        {
          "output_type": "stream",
          "name": "stdout",
          "text": [
            "[Save] Forecast -> /content/drive/MyDrive/Colab Notebooks/Supervised Project/ML/results_store_dept_3y_retrain/forecast_WI_2_FOODS_3.pkl\n",
            "[Save] Model    -> /content/drive/MyDrive/Colab Notebooks/Supervised Project/ML/models_store_dept_3y_retrain/model_WI_2_FOODS_3.bin\n"
          ]
        },
        {
          "output_type": "stream",
          "name": "stderr",
          "text": [
            "Hold-out per group:  43%|████▎     | 30/70 [36:19<1:01:22, 92.07s/group]"
          ]
        },
        {
          "output_type": "stream",
          "name": "stdout",
          "text": [
            "[Save] Forecast -> /content/drive/MyDrive/Colab Notebooks/Supervised Project/ML/results_store_dept_3y_retrain/forecast_WI_3_FOODS_3.pkl\n",
            "[Save] Model    -> /content/drive/MyDrive/Colab Notebooks/Supervised Project/ML/models_store_dept_3y_retrain/model_WI_3_FOODS_3.bin\n"
          ]
        },
        {
          "output_type": "stream",
          "name": "stderr",
          "text": [
            "Hold-out per group:  44%|████▍     | 31/70 [37:32<56:04, 86.27s/group]  "
          ]
        },
        {
          "output_type": "stream",
          "name": "stdout",
          "text": [
            "[Save] Forecast -> /content/drive/MyDrive/Colab Notebooks/Supervised Project/ML/results_store_dept_3y_retrain/forecast_CA_1_HOBBIES_1.pkl\n",
            "[Save] Model    -> /content/drive/MyDrive/Colab Notebooks/Supervised Project/ML/models_store_dept_3y_retrain/model_CA_1_HOBBIES_1.bin\n"
          ]
        },
        {
          "output_type": "stream",
          "name": "stderr",
          "text": [
            "Hold-out per group:  46%|████▌     | 32/70 [38:45<52:08, 82.33s/group]"
          ]
        },
        {
          "output_type": "stream",
          "name": "stdout",
          "text": [
            "[Save] Forecast -> /content/drive/MyDrive/Colab Notebooks/Supervised Project/ML/results_store_dept_3y_retrain/forecast_CA_2_HOBBIES_1.pkl\n",
            "[Save] Model    -> /content/drive/MyDrive/Colab Notebooks/Supervised Project/ML/models_store_dept_3y_retrain/model_CA_2_HOBBIES_1.bin\n"
          ]
        },
        {
          "output_type": "stream",
          "name": "stderr",
          "text": [
            "Hold-out per group:  47%|████▋     | 33/70 [39:56<48:39, 78.89s/group]"
          ]
        },
        {
          "output_type": "stream",
          "name": "stdout",
          "text": [
            "[Save] Forecast -> /content/drive/MyDrive/Colab Notebooks/Supervised Project/ML/results_store_dept_3y_retrain/forecast_CA_3_HOBBIES_1.pkl\n",
            "[Save] Model    -> /content/drive/MyDrive/Colab Notebooks/Supervised Project/ML/models_store_dept_3y_retrain/model_CA_3_HOBBIES_1.bin\n"
          ]
        },
        {
          "output_type": "stream",
          "name": "stderr",
          "text": [
            "Hold-out per group:  49%|████▊     | 34/70 [41:07<45:51, 76.43s/group]"
          ]
        },
        {
          "output_type": "stream",
          "name": "stdout",
          "text": [
            "[Save] Forecast -> /content/drive/MyDrive/Colab Notebooks/Supervised Project/ML/results_store_dept_3y_retrain/forecast_CA_4_HOBBIES_1.pkl\n",
            "[Save] Model    -> /content/drive/MyDrive/Colab Notebooks/Supervised Project/ML/models_store_dept_3y_retrain/model_CA_4_HOBBIES_1.bin\n"
          ]
        },
        {
          "output_type": "stream",
          "name": "stderr",
          "text": [
            "Hold-out per group:  50%|█████     | 35/70 [42:22<44:18, 75.97s/group]"
          ]
        },
        {
          "output_type": "stream",
          "name": "stdout",
          "text": [
            "[Save] Forecast -> /content/drive/MyDrive/Colab Notebooks/Supervised Project/ML/results_store_dept_3y_retrain/forecast_TX_1_HOBBIES_1.pkl\n",
            "[Save] Model    -> /content/drive/MyDrive/Colab Notebooks/Supervised Project/ML/models_store_dept_3y_retrain/model_TX_1_HOBBIES_1.bin\n"
          ]
        },
        {
          "output_type": "stream",
          "name": "stderr",
          "text": [
            "Hold-out per group:  51%|█████▏    | 36/70 [43:35<42:31, 75.05s/group]"
          ]
        },
        {
          "output_type": "stream",
          "name": "stdout",
          "text": [
            "[Save] Forecast -> /content/drive/MyDrive/Colab Notebooks/Supervised Project/ML/results_store_dept_3y_retrain/forecast_TX_2_HOBBIES_1.pkl\n",
            "[Save] Model    -> /content/drive/MyDrive/Colab Notebooks/Supervised Project/ML/models_store_dept_3y_retrain/model_TX_2_HOBBIES_1.bin\n"
          ]
        },
        {
          "output_type": "stream",
          "name": "stderr",
          "text": [
            "Hold-out per group:  53%|█████▎    | 37/70 [44:47<40:47, 74.17s/group]"
          ]
        },
        {
          "output_type": "stream",
          "name": "stdout",
          "text": [
            "[Save] Forecast -> /content/drive/MyDrive/Colab Notebooks/Supervised Project/ML/results_store_dept_3y_retrain/forecast_TX_3_HOBBIES_1.pkl\n",
            "[Save] Model    -> /content/drive/MyDrive/Colab Notebooks/Supervised Project/ML/models_store_dept_3y_retrain/model_TX_3_HOBBIES_1.bin\n"
          ]
        },
        {
          "output_type": "stream",
          "name": "stderr",
          "text": [
            "Hold-out per group:  54%|█████▍    | 38/70 [45:59<39:20, 73.75s/group]"
          ]
        },
        {
          "output_type": "stream",
          "name": "stdout",
          "text": [
            "[Save] Forecast -> /content/drive/MyDrive/Colab Notebooks/Supervised Project/ML/results_store_dept_3y_retrain/forecast_WI_1_HOBBIES_1.pkl\n",
            "[Save] Model    -> /content/drive/MyDrive/Colab Notebooks/Supervised Project/ML/models_store_dept_3y_retrain/model_WI_1_HOBBIES_1.bin\n"
          ]
        },
        {
          "output_type": "stream",
          "name": "stderr",
          "text": [
            "Hold-out per group:  56%|█████▌    | 39/70 [47:15<38:22, 74.26s/group]"
          ]
        },
        {
          "output_type": "stream",
          "name": "stdout",
          "text": [
            "[Save] Forecast -> /content/drive/MyDrive/Colab Notebooks/Supervised Project/ML/results_store_dept_3y_retrain/forecast_WI_2_HOBBIES_1.pkl\n",
            "[Save] Model    -> /content/drive/MyDrive/Colab Notebooks/Supervised Project/ML/models_store_dept_3y_retrain/model_WI_2_HOBBIES_1.bin\n"
          ]
        },
        {
          "output_type": "stream",
          "name": "stderr",
          "text": [
            "Hold-out per group:  57%|█████▋    | 40/70 [48:29<37:05, 74.20s/group]"
          ]
        },
        {
          "output_type": "stream",
          "name": "stdout",
          "text": [
            "[Save] Forecast -> /content/drive/MyDrive/Colab Notebooks/Supervised Project/ML/results_store_dept_3y_retrain/forecast_WI_3_HOBBIES_1.pkl\n",
            "[Save] Model    -> /content/drive/MyDrive/Colab Notebooks/Supervised Project/ML/models_store_dept_3y_retrain/model_WI_3_HOBBIES_1.bin\n"
          ]
        },
        {
          "output_type": "stream",
          "name": "stderr",
          "text": [
            "Hold-out per group:  59%|█████▊    | 41/70 [49:18<32:17, 66.81s/group]"
          ]
        },
        {
          "output_type": "stream",
          "name": "stdout",
          "text": [
            "[Save] Forecast -> /content/drive/MyDrive/Colab Notebooks/Supervised Project/ML/results_store_dept_3y_retrain/forecast_CA_1_HOBBIES_2.pkl\n",
            "[Save] Model    -> /content/drive/MyDrive/Colab Notebooks/Supervised Project/ML/models_store_dept_3y_retrain/model_CA_1_HOBBIES_2.bin\n"
          ]
        },
        {
          "output_type": "stream",
          "name": "stderr",
          "text": [
            "Hold-out per group:  60%|██████    | 42/70 [50:09<28:51, 61.84s/group]"
          ]
        },
        {
          "output_type": "stream",
          "name": "stdout",
          "text": [
            "[Save] Forecast -> /content/drive/MyDrive/Colab Notebooks/Supervised Project/ML/results_store_dept_3y_retrain/forecast_CA_2_HOBBIES_2.pkl\n",
            "[Save] Model    -> /content/drive/MyDrive/Colab Notebooks/Supervised Project/ML/models_store_dept_3y_retrain/model_CA_2_HOBBIES_2.bin\n"
          ]
        },
        {
          "output_type": "stream",
          "name": "stderr",
          "text": [
            "Hold-out per group:  61%|██████▏   | 43/70 [50:59<26:13, 58.26s/group]"
          ]
        },
        {
          "output_type": "stream",
          "name": "stdout",
          "text": [
            "[Save] Forecast -> /content/drive/MyDrive/Colab Notebooks/Supervised Project/ML/results_store_dept_3y_retrain/forecast_CA_3_HOBBIES_2.pkl\n",
            "[Save] Model    -> /content/drive/MyDrive/Colab Notebooks/Supervised Project/ML/models_store_dept_3y_retrain/model_CA_3_HOBBIES_2.bin\n"
          ]
        },
        {
          "output_type": "stream",
          "name": "stderr",
          "text": [
            "Hold-out per group:  63%|██████▎   | 44/70 [51:46<23:52, 55.09s/group]"
          ]
        },
        {
          "output_type": "stream",
          "name": "stdout",
          "text": [
            "[Save] Forecast -> /content/drive/MyDrive/Colab Notebooks/Supervised Project/ML/results_store_dept_3y_retrain/forecast_CA_4_HOBBIES_2.pkl\n",
            "[Save] Model    -> /content/drive/MyDrive/Colab Notebooks/Supervised Project/ML/models_store_dept_3y_retrain/model_CA_4_HOBBIES_2.bin\n"
          ]
        },
        {
          "output_type": "stream",
          "name": "stderr",
          "text": [
            "Hold-out per group:  64%|██████▍   | 45/70 [52:35<22:10, 53.23s/group]"
          ]
        },
        {
          "output_type": "stream",
          "name": "stdout",
          "text": [
            "[Save] Forecast -> /content/drive/MyDrive/Colab Notebooks/Supervised Project/ML/results_store_dept_3y_retrain/forecast_TX_1_HOBBIES_2.pkl\n",
            "[Save] Model    -> /content/drive/MyDrive/Colab Notebooks/Supervised Project/ML/models_store_dept_3y_retrain/model_TX_1_HOBBIES_2.bin\n"
          ]
        },
        {
          "output_type": "stream",
          "name": "stderr",
          "text": [
            "Hold-out per group:  66%|██████▌   | 46/70 [53:27<21:05, 52.73s/group]"
          ]
        },
        {
          "output_type": "stream",
          "name": "stdout",
          "text": [
            "[Save] Forecast -> /content/drive/MyDrive/Colab Notebooks/Supervised Project/ML/results_store_dept_3y_retrain/forecast_TX_2_HOBBIES_2.pkl\n",
            "[Save] Model    -> /content/drive/MyDrive/Colab Notebooks/Supervised Project/ML/models_store_dept_3y_retrain/model_TX_2_HOBBIES_2.bin\n"
          ]
        },
        {
          "output_type": "stream",
          "name": "stderr",
          "text": [
            "Hold-out per group:  67%|██████▋   | 47/70 [54:17<19:54, 51.94s/group]"
          ]
        },
        {
          "output_type": "stream",
          "name": "stdout",
          "text": [
            "[Save] Forecast -> /content/drive/MyDrive/Colab Notebooks/Supervised Project/ML/results_store_dept_3y_retrain/forecast_TX_3_HOBBIES_2.pkl\n",
            "[Save] Model    -> /content/drive/MyDrive/Colab Notebooks/Supervised Project/ML/models_store_dept_3y_retrain/model_TX_3_HOBBIES_2.bin\n"
          ]
        },
        {
          "output_type": "stream",
          "name": "stderr",
          "text": [
            "Hold-out per group:  69%|██████▊   | 48/70 [55:05<18:40, 50.94s/group]"
          ]
        },
        {
          "output_type": "stream",
          "name": "stdout",
          "text": [
            "[Save] Forecast -> /content/drive/MyDrive/Colab Notebooks/Supervised Project/ML/results_store_dept_3y_retrain/forecast_WI_1_HOBBIES_2.pkl\n",
            "[Save] Model    -> /content/drive/MyDrive/Colab Notebooks/Supervised Project/ML/models_store_dept_3y_retrain/model_WI_1_HOBBIES_2.bin\n"
          ]
        },
        {
          "output_type": "stream",
          "name": "stderr",
          "text": [
            "Hold-out per group:  70%|███████   | 49/70 [55:54<17:36, 50.29s/group]"
          ]
        },
        {
          "output_type": "stream",
          "name": "stdout",
          "text": [
            "[Save] Forecast -> /content/drive/MyDrive/Colab Notebooks/Supervised Project/ML/results_store_dept_3y_retrain/forecast_WI_2_HOBBIES_2.pkl\n",
            "[Save] Model    -> /content/drive/MyDrive/Colab Notebooks/Supervised Project/ML/models_store_dept_3y_retrain/model_WI_2_HOBBIES_2.bin\n"
          ]
        },
        {
          "output_type": "stream",
          "name": "stderr",
          "text": [
            "Hold-out per group:  71%|███████▏  | 50/70 [56:44<16:40, 50.04s/group]"
          ]
        },
        {
          "output_type": "stream",
          "name": "stdout",
          "text": [
            "[Save] Forecast -> /content/drive/MyDrive/Colab Notebooks/Supervised Project/ML/results_store_dept_3y_retrain/forecast_WI_3_HOBBIES_2.pkl\n",
            "[Save] Model    -> /content/drive/MyDrive/Colab Notebooks/Supervised Project/ML/models_store_dept_3y_retrain/model_WI_3_HOBBIES_2.bin\n"
          ]
        },
        {
          "output_type": "stream",
          "name": "stderr",
          "text": [
            "Hold-out per group:  73%|███████▎  | 51/70 [57:57<18:05, 57.14s/group]"
          ]
        },
        {
          "output_type": "stream",
          "name": "stdout",
          "text": [
            "[Save] Forecast -> /content/drive/MyDrive/Colab Notebooks/Supervised Project/ML/results_store_dept_3y_retrain/forecast_CA_1_HOUSEHOLD_1.pkl\n",
            "[Save] Model    -> /content/drive/MyDrive/Colab Notebooks/Supervised Project/ML/models_store_dept_3y_retrain/model_CA_1_HOUSEHOLD_1.bin\n"
          ]
        },
        {
          "output_type": "stream",
          "name": "stderr",
          "text": [
            "Hold-out per group:  74%|███████▍  | 52/70 [59:11<18:37, 62.10s/group]"
          ]
        },
        {
          "output_type": "stream",
          "name": "stdout",
          "text": [
            "[Save] Forecast -> /content/drive/MyDrive/Colab Notebooks/Supervised Project/ML/results_store_dept_3y_retrain/forecast_CA_2_HOUSEHOLD_1.pkl\n",
            "[Save] Model    -> /content/drive/MyDrive/Colab Notebooks/Supervised Project/ML/models_store_dept_3y_retrain/model_CA_2_HOUSEHOLD_1.bin\n"
          ]
        },
        {
          "output_type": "stream",
          "name": "stderr",
          "text": [
            "Hold-out per group:  76%|███████▌  | 53/70 [1:00:25<18:36, 65.67s/group]"
          ]
        },
        {
          "output_type": "stream",
          "name": "stdout",
          "text": [
            "[Save] Forecast -> /content/drive/MyDrive/Colab Notebooks/Supervised Project/ML/results_store_dept_3y_retrain/forecast_CA_3_HOUSEHOLD_1.pkl\n",
            "[Save] Model    -> /content/drive/MyDrive/Colab Notebooks/Supervised Project/ML/models_store_dept_3y_retrain/model_CA_3_HOUSEHOLD_1.bin\n"
          ]
        },
        {
          "output_type": "stream",
          "name": "stderr",
          "text": [
            "Hold-out per group:  77%|███████▋  | 54/70 [1:01:41<18:21, 68.87s/group]"
          ]
        },
        {
          "output_type": "stream",
          "name": "stdout",
          "text": [
            "[Save] Forecast -> /content/drive/MyDrive/Colab Notebooks/Supervised Project/ML/results_store_dept_3y_retrain/forecast_CA_4_HOUSEHOLD_1.pkl\n",
            "[Save] Model    -> /content/drive/MyDrive/Colab Notebooks/Supervised Project/ML/models_store_dept_3y_retrain/model_CA_4_HOUSEHOLD_1.bin\n"
          ]
        },
        {
          "output_type": "stream",
          "name": "stderr",
          "text": [
            "Hold-out per group:  79%|███████▊  | 55/70 [1:02:56<17:39, 70.63s/group]"
          ]
        },
        {
          "output_type": "stream",
          "name": "stdout",
          "text": [
            "[Save] Forecast -> /content/drive/MyDrive/Colab Notebooks/Supervised Project/ML/results_store_dept_3y_retrain/forecast_TX_1_HOUSEHOLD_1.pkl\n",
            "[Save] Model    -> /content/drive/MyDrive/Colab Notebooks/Supervised Project/ML/models_store_dept_3y_retrain/model_TX_1_HOUSEHOLD_1.bin\n"
          ]
        },
        {
          "output_type": "stream",
          "name": "stderr",
          "text": [
            "Hold-out per group:  80%|████████  | 56/70 [1:04:11<16:44, 71.77s/group]"
          ]
        },
        {
          "output_type": "stream",
          "name": "stdout",
          "text": [
            "[Save] Forecast -> /content/drive/MyDrive/Colab Notebooks/Supervised Project/ML/results_store_dept_3y_retrain/forecast_TX_2_HOUSEHOLD_1.pkl\n",
            "[Save] Model    -> /content/drive/MyDrive/Colab Notebooks/Supervised Project/ML/models_store_dept_3y_retrain/model_TX_2_HOUSEHOLD_1.bin\n"
          ]
        },
        {
          "output_type": "stream",
          "name": "stderr",
          "text": [
            "Hold-out per group:  81%|████████▏ | 57/70 [1:05:25<15:43, 72.56s/group]"
          ]
        },
        {
          "output_type": "stream",
          "name": "stdout",
          "text": [
            "[Save] Forecast -> /content/drive/MyDrive/Colab Notebooks/Supervised Project/ML/results_store_dept_3y_retrain/forecast_TX_3_HOUSEHOLD_1.pkl\n",
            "[Save] Model    -> /content/drive/MyDrive/Colab Notebooks/Supervised Project/ML/models_store_dept_3y_retrain/model_TX_3_HOUSEHOLD_1.bin\n"
          ]
        },
        {
          "output_type": "stream",
          "name": "stderr",
          "text": [
            "Hold-out per group:  83%|████████▎ | 58/70 [1:06:39<14:34, 72.85s/group]"
          ]
        },
        {
          "output_type": "stream",
          "name": "stdout",
          "text": [
            "[Save] Forecast -> /content/drive/MyDrive/Colab Notebooks/Supervised Project/ML/results_store_dept_3y_retrain/forecast_WI_1_HOUSEHOLD_1.pkl\n",
            "[Save] Model    -> /content/drive/MyDrive/Colab Notebooks/Supervised Project/ML/models_store_dept_3y_retrain/model_WI_1_HOUSEHOLD_1.bin\n"
          ]
        },
        {
          "output_type": "stream",
          "name": "stderr",
          "text": [
            "Hold-out per group:  84%|████████▍ | 59/70 [1:07:53<13:27, 73.41s/group]"
          ]
        },
        {
          "output_type": "stream",
          "name": "stdout",
          "text": [
            "[Save] Forecast -> /content/drive/MyDrive/Colab Notebooks/Supervised Project/ML/results_store_dept_3y_retrain/forecast_WI_2_HOUSEHOLD_1.pkl\n",
            "[Save] Model    -> /content/drive/MyDrive/Colab Notebooks/Supervised Project/ML/models_store_dept_3y_retrain/model_WI_2_HOUSEHOLD_1.bin\n"
          ]
        },
        {
          "output_type": "stream",
          "name": "stderr",
          "text": [
            "Hold-out per group:  86%|████████▌ | 60/70 [1:09:09<12:19, 73.98s/group]"
          ]
        },
        {
          "output_type": "stream",
          "name": "stdout",
          "text": [
            "[Save] Forecast -> /content/drive/MyDrive/Colab Notebooks/Supervised Project/ML/results_store_dept_3y_retrain/forecast_WI_3_HOUSEHOLD_1.pkl\n",
            "[Save] Model    -> /content/drive/MyDrive/Colab Notebooks/Supervised Project/ML/models_store_dept_3y_retrain/model_WI_3_HOUSEHOLD_1.bin\n"
          ]
        },
        {
          "output_type": "stream",
          "name": "stderr",
          "text": [
            "Hold-out per group:  87%|████████▋ | 61/70 [1:10:28<11:19, 75.48s/group]"
          ]
        },
        {
          "output_type": "stream",
          "name": "stdout",
          "text": [
            "[Save] Forecast -> /content/drive/MyDrive/Colab Notebooks/Supervised Project/ML/results_store_dept_3y_retrain/forecast_CA_1_HOUSEHOLD_2.pkl\n",
            "[Save] Model    -> /content/drive/MyDrive/Colab Notebooks/Supervised Project/ML/models_store_dept_3y_retrain/model_CA_1_HOUSEHOLD_2.bin\n"
          ]
        },
        {
          "output_type": "stream",
          "name": "stderr",
          "text": [
            "Hold-out per group:  89%|████████▊ | 62/70 [1:11:46<10:10, 76.32s/group]"
          ]
        },
        {
          "output_type": "stream",
          "name": "stdout",
          "text": [
            "[Save] Forecast -> /content/drive/MyDrive/Colab Notebooks/Supervised Project/ML/results_store_dept_3y_retrain/forecast_CA_2_HOUSEHOLD_2.pkl\n",
            "[Save] Model    -> /content/drive/MyDrive/Colab Notebooks/Supervised Project/ML/models_store_dept_3y_retrain/model_CA_2_HOUSEHOLD_2.bin\n"
          ]
        },
        {
          "output_type": "stream",
          "name": "stderr",
          "text": [
            "Hold-out per group:  90%|█████████ | 63/70 [1:13:05<09:01, 77.32s/group]"
          ]
        },
        {
          "output_type": "stream",
          "name": "stdout",
          "text": [
            "[Save] Forecast -> /content/drive/MyDrive/Colab Notebooks/Supervised Project/ML/results_store_dept_3y_retrain/forecast_CA_3_HOUSEHOLD_2.pkl\n",
            "[Save] Model    -> /content/drive/MyDrive/Colab Notebooks/Supervised Project/ML/models_store_dept_3y_retrain/model_CA_3_HOUSEHOLD_2.bin\n"
          ]
        },
        {
          "output_type": "stream",
          "name": "stderr",
          "text": [
            "Hold-out per group:  91%|█████████▏| 64/70 [1:14:22<07:42, 77.08s/group]"
          ]
        },
        {
          "output_type": "stream",
          "name": "stdout",
          "text": [
            "[Save] Forecast -> /content/drive/MyDrive/Colab Notebooks/Supervised Project/ML/results_store_dept_3y_retrain/forecast_CA_4_HOUSEHOLD_2.pkl\n",
            "[Save] Model    -> /content/drive/MyDrive/Colab Notebooks/Supervised Project/ML/models_store_dept_3y_retrain/model_CA_4_HOUSEHOLD_2.bin\n"
          ]
        },
        {
          "output_type": "stream",
          "name": "stderr",
          "text": [
            "Hold-out per group:  93%|█████████▎| 65/70 [1:15:40<06:27, 77.45s/group]"
          ]
        },
        {
          "output_type": "stream",
          "name": "stdout",
          "text": [
            "[Save] Forecast -> /content/drive/MyDrive/Colab Notebooks/Supervised Project/ML/results_store_dept_3y_retrain/forecast_TX_1_HOUSEHOLD_2.pkl\n",
            "[Save] Model    -> /content/drive/MyDrive/Colab Notebooks/Supervised Project/ML/models_store_dept_3y_retrain/model_TX_1_HOUSEHOLD_2.bin\n"
          ]
        },
        {
          "output_type": "stream",
          "name": "stderr",
          "text": [
            "Hold-out per group:  94%|█████████▍| 66/70 [1:17:00<05:12, 78.12s/group]"
          ]
        },
        {
          "output_type": "stream",
          "name": "stdout",
          "text": [
            "[Save] Forecast -> /content/drive/MyDrive/Colab Notebooks/Supervised Project/ML/results_store_dept_3y_retrain/forecast_TX_2_HOUSEHOLD_2.pkl\n",
            "[Save] Model    -> /content/drive/MyDrive/Colab Notebooks/Supervised Project/ML/models_store_dept_3y_retrain/model_TX_2_HOUSEHOLD_2.bin\n"
          ]
        },
        {
          "output_type": "stream",
          "name": "stderr",
          "text": [
            "Hold-out per group:  96%|█████████▌| 67/70 [1:18:17<03:53, 77.88s/group]"
          ]
        },
        {
          "output_type": "stream",
          "name": "stdout",
          "text": [
            "[Save] Forecast -> /content/drive/MyDrive/Colab Notebooks/Supervised Project/ML/results_store_dept_3y_retrain/forecast_TX_3_HOUSEHOLD_2.pkl\n",
            "[Save] Model    -> /content/drive/MyDrive/Colab Notebooks/Supervised Project/ML/models_store_dept_3y_retrain/model_TX_3_HOUSEHOLD_2.bin\n"
          ]
        },
        {
          "output_type": "stream",
          "name": "stderr",
          "text": [
            "Hold-out per group:  97%|█████████▋| 68/70 [1:19:34<02:35, 77.64s/group]"
          ]
        },
        {
          "output_type": "stream",
          "name": "stdout",
          "text": [
            "[Save] Forecast -> /content/drive/MyDrive/Colab Notebooks/Supervised Project/ML/results_store_dept_3y_retrain/forecast_WI_1_HOUSEHOLD_2.pkl\n",
            "[Save] Model    -> /content/drive/MyDrive/Colab Notebooks/Supervised Project/ML/models_store_dept_3y_retrain/model_WI_1_HOUSEHOLD_2.bin\n"
          ]
        },
        {
          "output_type": "stream",
          "name": "stderr",
          "text": [
            "Hold-out per group:  99%|█████████▊| 69/70 [1:20:51<01:17, 77.40s/group]"
          ]
        },
        {
          "output_type": "stream",
          "name": "stdout",
          "text": [
            "[Save] Forecast -> /content/drive/MyDrive/Colab Notebooks/Supervised Project/ML/results_store_dept_3y_retrain/forecast_WI_2_HOUSEHOLD_2.pkl\n",
            "[Save] Model    -> /content/drive/MyDrive/Colab Notebooks/Supervised Project/ML/models_store_dept_3y_retrain/model_WI_2_HOUSEHOLD_2.bin\n"
          ]
        },
        {
          "output_type": "stream",
          "name": "stderr",
          "text": [
            "Hold-out per group: 100%|██████████| 70/70 [1:22:09<00:00, 70.42s/group]"
          ]
        },
        {
          "output_type": "stream",
          "name": "stdout",
          "text": [
            "[Save] Forecast -> /content/drive/MyDrive/Colab Notebooks/Supervised Project/ML/results_store_dept_3y_retrain/forecast_WI_3_HOUSEHOLD_2.pkl\n",
            "[Save] Model    -> /content/drive/MyDrive/Colab Notebooks/Supervised Project/ML/models_store_dept_3y_retrain/model_WI_3_HOUSEHOLD_2.bin\n",
            "[DONE] Train=3y, Val=last 3 months of Y4 (label-safe, no Y5). Meta saved as cv_meta.pkl\n"
          ]
        },
        {
          "output_type": "stream",
          "name": "stderr",
          "text": [
            "\n"
          ]
        }
      ]
    },
    {
      "cell_type": "code",
      "execution_count": null,
      "metadata": {
        "colab": {
          "base_uri": "https://localhost:8080/",
          "height": 260
        },
        "id": "tmNYbmti-N3S",
        "outputId": "c2d3efd9-e66a-490e-aa0c-a74bb6fdbbd2"
      },
      "outputs": [
        {
          "output_type": "stream",
          "name": "stdout",
          "text": [
            "Mounted at /content/drive\n"
          ]
        },
        {
          "output_type": "stream",
          "name": "stderr",
          "text": [
            "/usr/local/lib/python3.12/dist-packages/pandas/io/formats/format.py:1458: RuntimeWarning: overflow encountered in cast\n",
            "  has_large_values = (abs_vals > 1e6).any()\n"
          ]
        },
        {
          "output_type": "execute_result",
          "data": {
            "text/plain": [
              "      d       date      item_id store_id  dept_id  true      pred  train_secs\n",
              "0  1370 2014-10-29  FOODS_1_206     CA_1  FOODS_1  19.0  8.240645   52.148618\n",
              "1  1370 2014-10-29  FOODS_1_109     CA_1  FOODS_1   0.0  0.280844   52.148618\n",
              "2  1370 2014-10-29  FOODS_1_080     CA_1  FOODS_1   2.0  3.340770   52.148618\n",
              "3  1370 2014-10-29  FOODS_1_064     CA_1  FOODS_1   3.0  2.427731   52.148618\n",
              "4  1370 2014-10-29  FOODS_1_135     CA_1  FOODS_1   0.0  0.016441   52.148618"
            ],
            "text/html": [
              "\n",
              "  <div id=\"df-bf46360c-d394-40fa-8b09-9c833cb599e8\" class=\"colab-df-container\">\n",
              "    <div>\n",
              "<style scoped>\n",
              "    .dataframe tbody tr th:only-of-type {\n",
              "        vertical-align: middle;\n",
              "    }\n",
              "\n",
              "    .dataframe tbody tr th {\n",
              "        vertical-align: top;\n",
              "    }\n",
              "\n",
              "    .dataframe thead th {\n",
              "        text-align: right;\n",
              "    }\n",
              "</style>\n",
              "<table border=\"1\" class=\"dataframe\">\n",
              "  <thead>\n",
              "    <tr style=\"text-align: right;\">\n",
              "      <th></th>\n",
              "      <th>d</th>\n",
              "      <th>date</th>\n",
              "      <th>item_id</th>\n",
              "      <th>store_id</th>\n",
              "      <th>dept_id</th>\n",
              "      <th>true</th>\n",
              "      <th>pred</th>\n",
              "      <th>train_secs</th>\n",
              "    </tr>\n",
              "  </thead>\n",
              "  <tbody>\n",
              "    <tr>\n",
              "      <th>0</th>\n",
              "      <td>1370</td>\n",
              "      <td>2014-10-29</td>\n",
              "      <td>FOODS_1_206</td>\n",
              "      <td>CA_1</td>\n",
              "      <td>FOODS_1</td>\n",
              "      <td>19.0</td>\n",
              "      <td>8.240645</td>\n",
              "      <td>52.148618</td>\n",
              "    </tr>\n",
              "    <tr>\n",
              "      <th>1</th>\n",
              "      <td>1370</td>\n",
              "      <td>2014-10-29</td>\n",
              "      <td>FOODS_1_109</td>\n",
              "      <td>CA_1</td>\n",
              "      <td>FOODS_1</td>\n",
              "      <td>0.0</td>\n",
              "      <td>0.280844</td>\n",
              "      <td>52.148618</td>\n",
              "    </tr>\n",
              "    <tr>\n",
              "      <th>2</th>\n",
              "      <td>1370</td>\n",
              "      <td>2014-10-29</td>\n",
              "      <td>FOODS_1_080</td>\n",
              "      <td>CA_1</td>\n",
              "      <td>FOODS_1</td>\n",
              "      <td>2.0</td>\n",
              "      <td>3.340770</td>\n",
              "      <td>52.148618</td>\n",
              "    </tr>\n",
              "    <tr>\n",
              "      <th>3</th>\n",
              "      <td>1370</td>\n",
              "      <td>2014-10-29</td>\n",
              "      <td>FOODS_1_064</td>\n",
              "      <td>CA_1</td>\n",
              "      <td>FOODS_1</td>\n",
              "      <td>3.0</td>\n",
              "      <td>2.427731</td>\n",
              "      <td>52.148618</td>\n",
              "    </tr>\n",
              "    <tr>\n",
              "      <th>4</th>\n",
              "      <td>1370</td>\n",
              "      <td>2014-10-29</td>\n",
              "      <td>FOODS_1_135</td>\n",
              "      <td>CA_1</td>\n",
              "      <td>FOODS_1</td>\n",
              "      <td>0.0</td>\n",
              "      <td>0.016441</td>\n",
              "      <td>52.148618</td>\n",
              "    </tr>\n",
              "  </tbody>\n",
              "</table>\n",
              "</div>\n",
              "    <div class=\"colab-df-buttons\">\n",
              "\n",
              "  <div class=\"colab-df-container\">\n",
              "    <button class=\"colab-df-convert\" onclick=\"convertToInteractive('df-bf46360c-d394-40fa-8b09-9c833cb599e8')\"\n",
              "            title=\"Convert this dataframe to an interactive table.\"\n",
              "            style=\"display:none;\">\n",
              "\n",
              "  <svg xmlns=\"http://www.w3.org/2000/svg\" height=\"24px\" viewBox=\"0 -960 960 960\">\n",
              "    <path d=\"M120-120v-720h720v720H120Zm60-500h600v-160H180v160Zm220 220h160v-160H400v160Zm0 220h160v-160H400v160ZM180-400h160v-160H180v160Zm440 0h160v-160H620v160ZM180-180h160v-160H180v160Zm440 0h160v-160H620v160Z\"/>\n",
              "  </svg>\n",
              "    </button>\n",
              "\n",
              "  <style>\n",
              "    .colab-df-container {\n",
              "      display:flex;\n",
              "      gap: 12px;\n",
              "    }\n",
              "\n",
              "    .colab-df-convert {\n",
              "      background-color: #E8F0FE;\n",
              "      border: none;\n",
              "      border-radius: 50%;\n",
              "      cursor: pointer;\n",
              "      display: none;\n",
              "      fill: #1967D2;\n",
              "      height: 32px;\n",
              "      padding: 0 0 0 0;\n",
              "      width: 32px;\n",
              "    }\n",
              "\n",
              "    .colab-df-convert:hover {\n",
              "      background-color: #E2EBFA;\n",
              "      box-shadow: 0px 1px 2px rgba(60, 64, 67, 0.3), 0px 1px 3px 1px rgba(60, 64, 67, 0.15);\n",
              "      fill: #174EA6;\n",
              "    }\n",
              "\n",
              "    .colab-df-buttons div {\n",
              "      margin-bottom: 4px;\n",
              "    }\n",
              "\n",
              "    [theme=dark] .colab-df-convert {\n",
              "      background-color: #3B4455;\n",
              "      fill: #D2E3FC;\n",
              "    }\n",
              "\n",
              "    [theme=dark] .colab-df-convert:hover {\n",
              "      background-color: #434B5C;\n",
              "      box-shadow: 0px 1px 3px 1px rgba(0, 0, 0, 0.15);\n",
              "      filter: drop-shadow(0px 1px 2px rgba(0, 0, 0, 0.3));\n",
              "      fill: #FFFFFF;\n",
              "    }\n",
              "  </style>\n",
              "\n",
              "    <script>\n",
              "      const buttonEl =\n",
              "        document.querySelector('#df-bf46360c-d394-40fa-8b09-9c833cb599e8 button.colab-df-convert');\n",
              "      buttonEl.style.display =\n",
              "        google.colab.kernel.accessAllowed ? 'block' : 'none';\n",
              "\n",
              "      async function convertToInteractive(key) {\n",
              "        const element = document.querySelector('#df-bf46360c-d394-40fa-8b09-9c833cb599e8');\n",
              "        const dataTable =\n",
              "          await google.colab.kernel.invokeFunction('convertToInteractive',\n",
              "                                                    [key], {});\n",
              "        if (!dataTable) return;\n",
              "\n",
              "        const docLinkHtml = 'Like what you see? Visit the ' +\n",
              "          '<a target=\"_blank\" href=https://colab.research.google.com/notebooks/data_table.ipynb>data table notebook</a>'\n",
              "          + ' to learn more about interactive tables.';\n",
              "        element.innerHTML = '';\n",
              "        dataTable['output_type'] = 'display_data';\n",
              "        await google.colab.output.renderOutput(dataTable, element);\n",
              "        const docLink = document.createElement('div');\n",
              "        docLink.innerHTML = docLinkHtml;\n",
              "        element.appendChild(docLink);\n",
              "      }\n",
              "    </script>\n",
              "  </div>\n",
              "\n",
              "\n",
              "    <div id=\"df-3feb0e20-39bf-4f93-b290-1d442788da7a\">\n",
              "      <button class=\"colab-df-quickchart\" onclick=\"quickchart('df-3feb0e20-39bf-4f93-b290-1d442788da7a')\"\n",
              "                title=\"Suggest charts\"\n",
              "                style=\"display:none;\">\n",
              "\n",
              "<svg xmlns=\"http://www.w3.org/2000/svg\" height=\"24px\"viewBox=\"0 0 24 24\"\n",
              "     width=\"24px\">\n",
              "    <g>\n",
              "        <path d=\"M19 3H5c-1.1 0-2 .9-2 2v14c0 1.1.9 2 2 2h14c1.1 0 2-.9 2-2V5c0-1.1-.9-2-2-2zM9 17H7v-7h2v7zm4 0h-2V7h2v10zm4 0h-2v-4h2v4z\"/>\n",
              "    </g>\n",
              "</svg>\n",
              "      </button>\n",
              "\n",
              "<style>\n",
              "  .colab-df-quickchart {\n",
              "      --bg-color: #E8F0FE;\n",
              "      --fill-color: #1967D2;\n",
              "      --hover-bg-color: #E2EBFA;\n",
              "      --hover-fill-color: #174EA6;\n",
              "      --disabled-fill-color: #AAA;\n",
              "      --disabled-bg-color: #DDD;\n",
              "  }\n",
              "\n",
              "  [theme=dark] .colab-df-quickchart {\n",
              "      --bg-color: #3B4455;\n",
              "      --fill-color: #D2E3FC;\n",
              "      --hover-bg-color: #434B5C;\n",
              "      --hover-fill-color: #FFFFFF;\n",
              "      --disabled-bg-color: #3B4455;\n",
              "      --disabled-fill-color: #666;\n",
              "  }\n",
              "\n",
              "  .colab-df-quickchart {\n",
              "    background-color: var(--bg-color);\n",
              "    border: none;\n",
              "    border-radius: 50%;\n",
              "    cursor: pointer;\n",
              "    display: none;\n",
              "    fill: var(--fill-color);\n",
              "    height: 32px;\n",
              "    padding: 0;\n",
              "    width: 32px;\n",
              "  }\n",
              "\n",
              "  .colab-df-quickchart:hover {\n",
              "    background-color: var(--hover-bg-color);\n",
              "    box-shadow: 0 1px 2px rgba(60, 64, 67, 0.3), 0 1px 3px 1px rgba(60, 64, 67, 0.15);\n",
              "    fill: var(--button-hover-fill-color);\n",
              "  }\n",
              "\n",
              "  .colab-df-quickchart-complete:disabled,\n",
              "  .colab-df-quickchart-complete:disabled:hover {\n",
              "    background-color: var(--disabled-bg-color);\n",
              "    fill: var(--disabled-fill-color);\n",
              "    box-shadow: none;\n",
              "  }\n",
              "\n",
              "  .colab-df-spinner {\n",
              "    border: 2px solid var(--fill-color);\n",
              "    border-color: transparent;\n",
              "    border-bottom-color: var(--fill-color);\n",
              "    animation:\n",
              "      spin 1s steps(1) infinite;\n",
              "  }\n",
              "\n",
              "  @keyframes spin {\n",
              "    0% {\n",
              "      border-color: transparent;\n",
              "      border-bottom-color: var(--fill-color);\n",
              "      border-left-color: var(--fill-color);\n",
              "    }\n",
              "    20% {\n",
              "      border-color: transparent;\n",
              "      border-left-color: var(--fill-color);\n",
              "      border-top-color: var(--fill-color);\n",
              "    }\n",
              "    30% {\n",
              "      border-color: transparent;\n",
              "      border-left-color: var(--fill-color);\n",
              "      border-top-color: var(--fill-color);\n",
              "      border-right-color: var(--fill-color);\n",
              "    }\n",
              "    40% {\n",
              "      border-color: transparent;\n",
              "      border-right-color: var(--fill-color);\n",
              "      border-top-color: var(--fill-color);\n",
              "    }\n",
              "    60% {\n",
              "      border-color: transparent;\n",
              "      border-right-color: var(--fill-color);\n",
              "    }\n",
              "    80% {\n",
              "      border-color: transparent;\n",
              "      border-right-color: var(--fill-color);\n",
              "      border-bottom-color: var(--fill-color);\n",
              "    }\n",
              "    90% {\n",
              "      border-color: transparent;\n",
              "      border-bottom-color: var(--fill-color);\n",
              "    }\n",
              "  }\n",
              "</style>\n",
              "\n",
              "      <script>\n",
              "        async function quickchart(key) {\n",
              "          const quickchartButtonEl =\n",
              "            document.querySelector('#' + key + ' button');\n",
              "          quickchartButtonEl.disabled = true;  // To prevent multiple clicks.\n",
              "          quickchartButtonEl.classList.add('colab-df-spinner');\n",
              "          try {\n",
              "            const charts = await google.colab.kernel.invokeFunction(\n",
              "                'suggestCharts', [key], {});\n",
              "          } catch (error) {\n",
              "            console.error('Error during call to suggestCharts:', error);\n",
              "          }\n",
              "          quickchartButtonEl.classList.remove('colab-df-spinner');\n",
              "          quickchartButtonEl.classList.add('colab-df-quickchart-complete');\n",
              "        }\n",
              "        (() => {\n",
              "          let quickchartButtonEl =\n",
              "            document.querySelector('#df-3feb0e20-39bf-4f93-b290-1d442788da7a button');\n",
              "          quickchartButtonEl.style.display =\n",
              "            google.colab.kernel.accessAllowed ? 'block' : 'none';\n",
              "        })();\n",
              "      </script>\n",
              "    </div>\n",
              "\n",
              "    </div>\n",
              "  </div>\n"
            ],
            "application/vnd.google.colaboratory.intrinsic+json": {
              "type": "dataframe",
              "variable_name": "all_results"
            }
          },
          "metadata": {},
          "execution_count": 1
        }
      ],
      "source": [
        "import pandas as pd\n",
        "import os\n",
        "from glob import glob\n",
        "from google.colab import drive\n",
        "drive.mount('/content/drive')\n",
        "\n",
        "new_results_dir = \"/content/drive/MyDrive/Colab Notebooks/Supervised Project/ML/results_store_dept_3y_retrain/\"\n",
        "\n",
        "file_list = glob(os.path.join(new_results_dir, \"forecast_*.pkl\"))\n",
        "\n",
        "all_results = pd.concat([pd.read_pickle(f) for f in file_list], ignore_index=True)\n",
        "\n",
        "all_results.head()\n"
      ]
    },
    {
      "cell_type": "code",
      "source": [
        "all_results.to_pickle(\"/content/drive/MyDrive/Colab Notebooks/Supervised Project/ML/results_store_dept_3y_retrain/all_results_store_dept.pkl\")"
      ],
      "metadata": {
        "id": "1aCuWFnYKSDZ"
      },
      "execution_count": null,
      "outputs": []
    },
    {
      "cell_type": "code",
      "execution_count": null,
      "metadata": {
        "colab": {
          "base_uri": "https://localhost:8080/"
        },
        "id": "Oufvywlp-2A8",
        "outputId": "5408158a-a397-4e93-e8e9-38ccb0a41e24"
      },
      "outputs": [
        {
          "output_type": "stream",
          "name": "stdout",
          "text": [
            "Total records: 8763952\n",
            "Columns: ['fold', 'cutoff_d', 'd', 'date', 'true', 'pred', 'train_secs', 'store_id', 'dept_id']\n"
          ]
        }
      ],
      "source": [
        "print(f\"Total records: {all_results.shape[0]}\")\n",
        "print(f\"Columns: {all_results.columns.tolist()}\")"
      ]
    },
    {
      "cell_type": "markdown",
      "metadata": {
        "id": "E6TPqIzNGUhV"
      },
      "source": [
        "# Evaluation with errors"
      ]
    },
    {
      "cell_type": "code",
      "execution_count": null,
      "metadata": {
        "id": "rCWDWcDIIqCY"
      },
      "outputs": [],
      "source": [
        "import numpy as np\n",
        "import pandas as pd\n",
        "from sklearn.metrics import mean_squared_error\n",
        "\n",
        "def calculate_test_errors(test_series, forecast_series, train_series=None,\n",
        "                          series_name='y', model_name='model', print_results=False):\n",
        "\n",
        "    y_true = np.array(test_series)\n",
        "    y_pred = np.array(forecast_series)\n",
        "\n",
        "    # MAPE and sMAPE（escape 0）\n",
        "    skip_mape = (y_true == 0).any()\n",
        "    if not skip_mape:\n",
        "        mape_val = np.mean(np.abs((y_true - y_pred) / y_true)) * 100\n",
        "        smape_val = 100 * np.mean(2 * np.abs(y_pred - y_true) / (np.abs(y_pred) + np.abs(y_true)))\n",
        "\n",
        "    # RMSE\n",
        "    rmse_val = np.sqrt(mean_squared_error(y_true, y_pred))\n",
        "    me_val = np.mean(y_pred - y_true)\n",
        "    mean_test = np.mean(y_true)\n",
        "    norm_rmse = rmse_val / mean_test\n",
        "    norm_me = me_val / mean_test\n",
        "\n",
        "    # RMSSE\n",
        "    if train_series is not None:\n",
        "        y_train = np.array(train_series)\n",
        "        insample_naive = np.mean((y_train[1:] - y_train[:-1]) ** 2)\n",
        "        rmsse_val = rmse_val / np.sqrt(insample_naive) if insample_naive > 0 else np.nan\n",
        "    else:\n",
        "        rmsse_val = np.nan\n",
        "\n",
        "    if print_results:\n",
        "        print(f\"Model: {model_name} | Series: {series_name}\")\n",
        "        if not skip_mape:\n",
        "            print(f\"MAPE     : {mape_val:.2f}%\")\n",
        "            print(f\"sMAPE    : {smape_val:.2f}%\")\n",
        "        print(f\"RMSSE    : {rmsse_val:.3f}\")\n",
        "        print(f\"RMSE     : {rmse_val:.3f}\")\n",
        "        print(f\"Norm_RMSE: {norm_rmse:.3f}\")\n",
        "        print(f\"ME       : {me_val:.3f}\")\n",
        "        print(f\"Norm_ME  : {norm_me:.3f}\")\n",
        "\n",
        "    # DataFrame\n",
        "    if not skip_mape:\n",
        "        columns = ['SeriesName', 'Model', 'MAPE', 'sMAPE', 'RMSSE', 'RMSE', 'Norm_RMSE', 'ME', 'Norm_ME']\n",
        "        values = [series_name, model_name, mape_val, smape_val, rmsse_val, rmse_val, norm_rmse, me_val, norm_me]\n",
        "    else:\n",
        "        columns = ['SeriesName', 'Model', 'RMSSE', 'RMSE', 'Norm_RMSE', 'ME', 'Norm_ME']\n",
        "        values = [series_name, model_name, rmsse_val, rmse_val, norm_rmse, me_val, norm_me]\n",
        "\n",
        "    return pd.DataFrame([values], columns=columns)\n"
      ]
    },
    {
      "cell_type": "code",
      "source": [
        "def evaluate_group_errors(\n",
        "    result_df: pd.DataFrame,\n",
        "    sales_long_val: pd.DataFrame,\n",
        "    label_col: str,\n",
        "    group_key: list,\n",
        "    train_range: tuple,               # from cv_meta (train_start_d, train_end_d)\n",
        "    lead_time: int = 3,\n",
        "    model_name: str = 'ML_Holdout'\n",
        "):\n",
        "    error_summary = []\n",
        "    tr_start, tr_end = train_range\n",
        "\n",
        "    result_df = result_df.dropna(subset=['true','pred'])\n",
        "\n",
        "    for group_vals, gpred in result_df.groupby(group_key, sort=False):\n",
        "        y_true = gpred['true'].to_numpy(dtype=float)\n",
        "        y_pred = gpred['pred'].to_numpy(dtype=float)\n",
        "\n",
        "        # historical data in train set\n",
        "        mask = np.ones(len(sales_long_val), dtype=bool)\n",
        "        for k, v in zip(group_key, (group_vals if isinstance(group_vals, tuple) else (group_vals,))):\n",
        "            mask &= (sales_long_val[k] == v)\n",
        "        mask &= (sales_long_val['d'] >= tr_start) & (sales_long_val['d'] <= tr_end)\n",
        "\n",
        "        g_hist = sales_long_val.loc[mask, ['d','sales']].sort_values('d')\n",
        "        if g_hist.empty:\n",
        "            train_series = None\n",
        "        else:\n",
        "            if 'ROP' in label_col.upper():\n",
        "                # rolling L day sum, shifted forward (L-1) to prevent leakage\n",
        "                rop_train = (\n",
        "                    g_hist['sales'] # The daily sales series for the current group within the training window, sorted by day\n",
        "                    .shift(-(lead_time - 1)) # Negative shift moves the series upwards (earlier), index t looking at data from t+L-1 days ahead\n",
        "                    .rolling(lead_time)\n",
        "                    .sum() # Within each rolling window, sum the L values\n",
        "                )\n",
        "                last_t = tr_end - (lead_time - 1)\n",
        "                train_series = rop_train[g_hist['d'] <= last_t].dropna()\n",
        "            else:\n",
        "                train_series = g_hist['sales'].dropna()\n",
        "\n",
        "            if train_series is not None and len(train_series) < 2:\n",
        "                train_series = None\n",
        "\n",
        "        res = calculate_test_errors(\n",
        "            test_series=y_true,\n",
        "            forecast_series=y_pred,\n",
        "            train_series=train_series,\n",
        "            series_name=str(group_vals),\n",
        "            model_name=model_name,\n",
        "            print_results=False\n",
        "        )\n",
        "        error_summary.append(res)\n",
        "\n",
        "    return pd.concat(error_summary, ignore_index=True) if error_summary else pd.DataFrame()\n"
      ],
      "metadata": {
        "id": "AVDazIXH5S8E"
      },
      "execution_count": null,
      "outputs": []
    },
    {
      "cell_type": "code",
      "execution_count": null,
      "metadata": {
        "colab": {
          "base_uri": "https://localhost:8080/"
        },
        "id": "C2xmO5pD_1ix",
        "outputId": "bf7f615b-e21d-47f4-c511-0daa4a81c009"
      },
      "outputs": [
        {
          "output_type": "stream",
          "name": "stdout",
          "text": [
            "Number of rows containing NaNs: 0\n",
            "Total number of rows: 2650184\n",
            "NaN percentage: 0.00%\n"
          ]
        }
      ],
      "source": [
        "nan_rows = all_results[['true', 'pred']].isna().any(axis=1).sum()\n",
        "\n",
        "total_rows = len(all_results)\n",
        "\n",
        "nan_ratio = nan_rows / total_rows\n",
        "\n",
        "print(f\"Number of rows containing NaNs: {nan_rows}\")\n",
        "print(f\"Total number of rows: {total_rows}\")\n",
        "print(f\"NaN percentage: {nan_ratio:.2%}\")\n"
      ]
    },
    {
      "cell_type": "code",
      "source": [
        "import os\n",
        "import pickle\n",
        "results_dir = \"/content/drive/MyDrive/Colab Notebooks/Supervised Project/ML/results_store_dept_3y_retrain/\"\n",
        "\n",
        "\n",
        "with open(os.path.join(results_dir, \"cv_meta.pkl\"), \"rb\") as f:\n",
        "    meta = pickle.load(f)\n",
        "\n",
        "train_range = (meta[\"train_start_d\"], meta[\"train_end_d\"])\n",
        "val_range   = (meta[\"val_start_d\"],   meta[\"val_end_d\"])\n",
        "print(\"train_range d =\", train_range, \"| val_range d =\", val_range)\n",
        "\n",
        "# Call\n",
        "err_train = evaluate_group_errors(\n",
        "    result_df=all_results,\n",
        "    sales_long_val=sales_long_val,\n",
        "    label_col=label_col,\n",
        "    group_key=group_key,\n",
        "    train_range=train_range,\n",
        "    lead_time=3,\n",
        "    model_name='ML_3y'\n",
        ")\n",
        "\n",
        "err_train.head()"
      ],
      "metadata": {
        "colab": {
          "base_uri": "https://localhost:8080/",
          "height": 224
        },
        "id": "EwUmxE4H55T4",
        "outputId": "c8ac9e13-8981-413f-948c-dfcd397b91cf"
      },
      "execution_count": null,
      "outputs": [
        {
          "output_type": "stream",
          "name": "stdout",
          "text": [
            "train_range d = (274, 1367) | val_range d = (1370, 1459)\n"
          ]
        },
        {
          "output_type": "execute_result",
          "data": {
            "text/plain": [
              "            SeriesName  Model     RMSSE      RMSE  Norm_RMSE        ME  \\\n",
              "0  ('CA_1', 'FOODS_1')  ML_3y  1.052155  4.942105   0.994286 -0.512223   \n",
              "1  ('CA_2', 'FOODS_1')  ML_3y  0.843469  4.740111   1.115142 -0.564160   \n",
              "2  ('CA_3', 'FOODS_1')  ML_3y  1.015990  5.848765   1.028401 -0.583276   \n",
              "3  ('CA_4', 'FOODS_1')  ML_3y  0.928141  2.931710   1.071196 -0.191415   \n",
              "4  ('TX_1', 'FOODS_1')  ML_3y  1.111547  3.818670   1.246223 -0.638113   \n",
              "\n",
              "    Norm_ME  \n",
              "0 -0.103053  \n",
              "1 -0.132722  \n",
              "2 -0.102559  \n",
              "3 -0.069940  \n",
              "4 -0.208248  "
            ],
            "text/html": [
              "\n",
              "  <div id=\"df-74ae7f0b-3266-48c5-b9c3-f8e32145cb72\" class=\"colab-df-container\">\n",
              "    <div>\n",
              "<style scoped>\n",
              "    .dataframe tbody tr th:only-of-type {\n",
              "        vertical-align: middle;\n",
              "    }\n",
              "\n",
              "    .dataframe tbody tr th {\n",
              "        vertical-align: top;\n",
              "    }\n",
              "\n",
              "    .dataframe thead th {\n",
              "        text-align: right;\n",
              "    }\n",
              "</style>\n",
              "<table border=\"1\" class=\"dataframe\">\n",
              "  <thead>\n",
              "    <tr style=\"text-align: right;\">\n",
              "      <th></th>\n",
              "      <th>SeriesName</th>\n",
              "      <th>Model</th>\n",
              "      <th>RMSSE</th>\n",
              "      <th>RMSE</th>\n",
              "      <th>Norm_RMSE</th>\n",
              "      <th>ME</th>\n",
              "      <th>Norm_ME</th>\n",
              "    </tr>\n",
              "  </thead>\n",
              "  <tbody>\n",
              "    <tr>\n",
              "      <th>0</th>\n",
              "      <td>('CA_1', 'FOODS_1')</td>\n",
              "      <td>ML_3y</td>\n",
              "      <td>1.052155</td>\n",
              "      <td>4.942105</td>\n",
              "      <td>0.994286</td>\n",
              "      <td>-0.512223</td>\n",
              "      <td>-0.103053</td>\n",
              "    </tr>\n",
              "    <tr>\n",
              "      <th>1</th>\n",
              "      <td>('CA_2', 'FOODS_1')</td>\n",
              "      <td>ML_3y</td>\n",
              "      <td>0.843469</td>\n",
              "      <td>4.740111</td>\n",
              "      <td>1.115142</td>\n",
              "      <td>-0.564160</td>\n",
              "      <td>-0.132722</td>\n",
              "    </tr>\n",
              "    <tr>\n",
              "      <th>2</th>\n",
              "      <td>('CA_3', 'FOODS_1')</td>\n",
              "      <td>ML_3y</td>\n",
              "      <td>1.015990</td>\n",
              "      <td>5.848765</td>\n",
              "      <td>1.028401</td>\n",
              "      <td>-0.583276</td>\n",
              "      <td>-0.102559</td>\n",
              "    </tr>\n",
              "    <tr>\n",
              "      <th>3</th>\n",
              "      <td>('CA_4', 'FOODS_1')</td>\n",
              "      <td>ML_3y</td>\n",
              "      <td>0.928141</td>\n",
              "      <td>2.931710</td>\n",
              "      <td>1.071196</td>\n",
              "      <td>-0.191415</td>\n",
              "      <td>-0.069940</td>\n",
              "    </tr>\n",
              "    <tr>\n",
              "      <th>4</th>\n",
              "      <td>('TX_1', 'FOODS_1')</td>\n",
              "      <td>ML_3y</td>\n",
              "      <td>1.111547</td>\n",
              "      <td>3.818670</td>\n",
              "      <td>1.246223</td>\n",
              "      <td>-0.638113</td>\n",
              "      <td>-0.208248</td>\n",
              "    </tr>\n",
              "  </tbody>\n",
              "</table>\n",
              "</div>\n",
              "    <div class=\"colab-df-buttons\">\n",
              "\n",
              "  <div class=\"colab-df-container\">\n",
              "    <button class=\"colab-df-convert\" onclick=\"convertToInteractive('df-74ae7f0b-3266-48c5-b9c3-f8e32145cb72')\"\n",
              "            title=\"Convert this dataframe to an interactive table.\"\n",
              "            style=\"display:none;\">\n",
              "\n",
              "  <svg xmlns=\"http://www.w3.org/2000/svg\" height=\"24px\" viewBox=\"0 -960 960 960\">\n",
              "    <path d=\"M120-120v-720h720v720H120Zm60-500h600v-160H180v160Zm220 220h160v-160H400v160Zm0 220h160v-160H400v160ZM180-400h160v-160H180v160Zm440 0h160v-160H620v160ZM180-180h160v-160H180v160Zm440 0h160v-160H620v160Z\"/>\n",
              "  </svg>\n",
              "    </button>\n",
              "\n",
              "  <style>\n",
              "    .colab-df-container {\n",
              "      display:flex;\n",
              "      gap: 12px;\n",
              "    }\n",
              "\n",
              "    .colab-df-convert {\n",
              "      background-color: #E8F0FE;\n",
              "      border: none;\n",
              "      border-radius: 50%;\n",
              "      cursor: pointer;\n",
              "      display: none;\n",
              "      fill: #1967D2;\n",
              "      height: 32px;\n",
              "      padding: 0 0 0 0;\n",
              "      width: 32px;\n",
              "    }\n",
              "\n",
              "    .colab-df-convert:hover {\n",
              "      background-color: #E2EBFA;\n",
              "      box-shadow: 0px 1px 2px rgba(60, 64, 67, 0.3), 0px 1px 3px 1px rgba(60, 64, 67, 0.15);\n",
              "      fill: #174EA6;\n",
              "    }\n",
              "\n",
              "    .colab-df-buttons div {\n",
              "      margin-bottom: 4px;\n",
              "    }\n",
              "\n",
              "    [theme=dark] .colab-df-convert {\n",
              "      background-color: #3B4455;\n",
              "      fill: #D2E3FC;\n",
              "    }\n",
              "\n",
              "    [theme=dark] .colab-df-convert:hover {\n",
              "      background-color: #434B5C;\n",
              "      box-shadow: 0px 1px 3px 1px rgba(0, 0, 0, 0.15);\n",
              "      filter: drop-shadow(0px 1px 2px rgba(0, 0, 0, 0.3));\n",
              "      fill: #FFFFFF;\n",
              "    }\n",
              "  </style>\n",
              "\n",
              "    <script>\n",
              "      const buttonEl =\n",
              "        document.querySelector('#df-74ae7f0b-3266-48c5-b9c3-f8e32145cb72 button.colab-df-convert');\n",
              "      buttonEl.style.display =\n",
              "        google.colab.kernel.accessAllowed ? 'block' : 'none';\n",
              "\n",
              "      async function convertToInteractive(key) {\n",
              "        const element = document.querySelector('#df-74ae7f0b-3266-48c5-b9c3-f8e32145cb72');\n",
              "        const dataTable =\n",
              "          await google.colab.kernel.invokeFunction('convertToInteractive',\n",
              "                                                    [key], {});\n",
              "        if (!dataTable) return;\n",
              "\n",
              "        const docLinkHtml = 'Like what you see? Visit the ' +\n",
              "          '<a target=\"_blank\" href=https://colab.research.google.com/notebooks/data_table.ipynb>data table notebook</a>'\n",
              "          + ' to learn more about interactive tables.';\n",
              "        element.innerHTML = '';\n",
              "        dataTable['output_type'] = 'display_data';\n",
              "        await google.colab.output.renderOutput(dataTable, element);\n",
              "        const docLink = document.createElement('div');\n",
              "        docLink.innerHTML = docLinkHtml;\n",
              "        element.appendChild(docLink);\n",
              "      }\n",
              "    </script>\n",
              "  </div>\n",
              "\n",
              "\n",
              "    <div id=\"df-d54375ce-1d37-4d63-86fc-16c0dcabd6ba\">\n",
              "      <button class=\"colab-df-quickchart\" onclick=\"quickchart('df-d54375ce-1d37-4d63-86fc-16c0dcabd6ba')\"\n",
              "                title=\"Suggest charts\"\n",
              "                style=\"display:none;\">\n",
              "\n",
              "<svg xmlns=\"http://www.w3.org/2000/svg\" height=\"24px\"viewBox=\"0 0 24 24\"\n",
              "     width=\"24px\">\n",
              "    <g>\n",
              "        <path d=\"M19 3H5c-1.1 0-2 .9-2 2v14c0 1.1.9 2 2 2h14c1.1 0 2-.9 2-2V5c0-1.1-.9-2-2-2zM9 17H7v-7h2v7zm4 0h-2V7h2v10zm4 0h-2v-4h2v4z\"/>\n",
              "    </g>\n",
              "</svg>\n",
              "      </button>\n",
              "\n",
              "<style>\n",
              "  .colab-df-quickchart {\n",
              "      --bg-color: #E8F0FE;\n",
              "      --fill-color: #1967D2;\n",
              "      --hover-bg-color: #E2EBFA;\n",
              "      --hover-fill-color: #174EA6;\n",
              "      --disabled-fill-color: #AAA;\n",
              "      --disabled-bg-color: #DDD;\n",
              "  }\n",
              "\n",
              "  [theme=dark] .colab-df-quickchart {\n",
              "      --bg-color: #3B4455;\n",
              "      --fill-color: #D2E3FC;\n",
              "      --hover-bg-color: #434B5C;\n",
              "      --hover-fill-color: #FFFFFF;\n",
              "      --disabled-bg-color: #3B4455;\n",
              "      --disabled-fill-color: #666;\n",
              "  }\n",
              "\n",
              "  .colab-df-quickchart {\n",
              "    background-color: var(--bg-color);\n",
              "    border: none;\n",
              "    border-radius: 50%;\n",
              "    cursor: pointer;\n",
              "    display: none;\n",
              "    fill: var(--fill-color);\n",
              "    height: 32px;\n",
              "    padding: 0;\n",
              "    width: 32px;\n",
              "  }\n",
              "\n",
              "  .colab-df-quickchart:hover {\n",
              "    background-color: var(--hover-bg-color);\n",
              "    box-shadow: 0 1px 2px rgba(60, 64, 67, 0.3), 0 1px 3px 1px rgba(60, 64, 67, 0.15);\n",
              "    fill: var(--button-hover-fill-color);\n",
              "  }\n",
              "\n",
              "  .colab-df-quickchart-complete:disabled,\n",
              "  .colab-df-quickchart-complete:disabled:hover {\n",
              "    background-color: var(--disabled-bg-color);\n",
              "    fill: var(--disabled-fill-color);\n",
              "    box-shadow: none;\n",
              "  }\n",
              "\n",
              "  .colab-df-spinner {\n",
              "    border: 2px solid var(--fill-color);\n",
              "    border-color: transparent;\n",
              "    border-bottom-color: var(--fill-color);\n",
              "    animation:\n",
              "      spin 1s steps(1) infinite;\n",
              "  }\n",
              "\n",
              "  @keyframes spin {\n",
              "    0% {\n",
              "      border-color: transparent;\n",
              "      border-bottom-color: var(--fill-color);\n",
              "      border-left-color: var(--fill-color);\n",
              "    }\n",
              "    20% {\n",
              "      border-color: transparent;\n",
              "      border-left-color: var(--fill-color);\n",
              "      border-top-color: var(--fill-color);\n",
              "    }\n",
              "    30% {\n",
              "      border-color: transparent;\n",
              "      border-left-color: var(--fill-color);\n",
              "      border-top-color: var(--fill-color);\n",
              "      border-right-color: var(--fill-color);\n",
              "    }\n",
              "    40% {\n",
              "      border-color: transparent;\n",
              "      border-right-color: var(--fill-color);\n",
              "      border-top-color: var(--fill-color);\n",
              "    }\n",
              "    60% {\n",
              "      border-color: transparent;\n",
              "      border-right-color: var(--fill-color);\n",
              "    }\n",
              "    80% {\n",
              "      border-color: transparent;\n",
              "      border-right-color: var(--fill-color);\n",
              "      border-bottom-color: var(--fill-color);\n",
              "    }\n",
              "    90% {\n",
              "      border-color: transparent;\n",
              "      border-bottom-color: var(--fill-color);\n",
              "    }\n",
              "  }\n",
              "</style>\n",
              "\n",
              "      <script>\n",
              "        async function quickchart(key) {\n",
              "          const quickchartButtonEl =\n",
              "            document.querySelector('#' + key + ' button');\n",
              "          quickchartButtonEl.disabled = true;  // To prevent multiple clicks.\n",
              "          quickchartButtonEl.classList.add('colab-df-spinner');\n",
              "          try {\n",
              "            const charts = await google.colab.kernel.invokeFunction(\n",
              "                'suggestCharts', [key], {});\n",
              "          } catch (error) {\n",
              "            console.error('Error during call to suggestCharts:', error);\n",
              "          }\n",
              "          quickchartButtonEl.classList.remove('colab-df-spinner');\n",
              "          quickchartButtonEl.classList.add('colab-df-quickchart-complete');\n",
              "        }\n",
              "        (() => {\n",
              "          let quickchartButtonEl =\n",
              "            document.querySelector('#df-d54375ce-1d37-4d63-86fc-16c0dcabd6ba button');\n",
              "          quickchartButtonEl.style.display =\n",
              "            google.colab.kernel.accessAllowed ? 'block' : 'none';\n",
              "        })();\n",
              "      </script>\n",
              "    </div>\n",
              "\n",
              "    </div>\n",
              "  </div>\n"
            ],
            "application/vnd.google.colaboratory.intrinsic+json": {
              "type": "dataframe",
              "variable_name": "err_train",
              "summary": "{\n  \"name\": \"err_train\",\n  \"rows\": 70,\n  \"fields\": [\n    {\n      \"column\": \"SeriesName\",\n      \"properties\": {\n        \"dtype\": \"string\",\n        \"num_unique_values\": 70,\n        \"samples\": [\n          \"('CA_3', 'FOODS_3')\",\n          \"('CA_1', 'FOODS_1')\",\n          \"('WI_3', 'HOBBIES_2')\"\n        ],\n        \"semantic_type\": \"\",\n        \"description\": \"\"\n      }\n    },\n    {\n      \"column\": \"Model\",\n      \"properties\": {\n        \"dtype\": \"category\",\n        \"num_unique_values\": 1,\n        \"samples\": [\n          \"ML_3y\"\n        ],\n        \"semantic_type\": \"\",\n        \"description\": \"\"\n      }\n    },\n    {\n      \"column\": \"RMSSE\",\n      \"properties\": {\n        \"dtype\": \"number\",\n        \"std\": 0.4034384918198039,\n        \"min\": 0.46855714300174306,\n        \"max\": 3.114585110037565,\n        \"num_unique_values\": 70,\n        \"samples\": [\n          0.4696489841301469\n        ],\n        \"semantic_type\": \"\",\n        \"description\": \"\"\n      }\n    },\n    {\n      \"column\": \"RMSE\",\n      \"properties\": {\n        \"dtype\": \"number\",\n        \"std\": 1.7905302444906845,\n        \"min\": 0.8854103725766413,\n        \"max\": 10.272047597181047,\n        \"num_unique_values\": 70,\n        \"samples\": [\n          8.466287726460006\n        ],\n        \"semantic_type\": \"\",\n        \"description\": \"\"\n      }\n    },\n    {\n      \"column\": \"Norm_RMSE\",\n      \"properties\": {\n        \"dtype\": \"number\",\n        \"std\": 0.5294955251827861,\n        \"min\": 0.7288497682879029,\n        \"max\": 3.962006364195911,\n        \"num_unique_values\": 70,\n        \"samples\": [\n          0.8226449774245732\n        ],\n        \"semantic_type\": \"\",\n        \"description\": \"\"\n      }\n    },\n    {\n      \"column\": \"ME\",\n      \"properties\": {\n        \"dtype\": \"number\",\n        \"std\": 0.15678032754600887,\n        \"min\": -0.638112771350811,\n        \"max\": 0.005199615989324468,\n        \"num_unique_values\": 70,\n        \"samples\": [\n          -0.06303104476292337\n        ],\n        \"semantic_type\": \"\",\n        \"description\": \"\"\n      }\n    },\n    {\n      \"column\": \"Norm_ME\",\n      \"properties\": {\n        \"dtype\": \"number\",\n        \"std\": 0.09550956469523143,\n        \"min\": -0.4203447489923523,\n        \"max\": 0.003584708036142977,\n        \"num_unique_values\": 70,\n        \"samples\": [\n          -0.006124546444835181\n        ],\n        \"semantic_type\": \"\",\n        \"description\": \"\"\n      }\n    }\n  ]\n}"
            }
          },
          "metadata": {},
          "execution_count": 17
        }
      ]
    },
    {
      "cell_type": "code",
      "source": [
        "err_train.to_pickle(\"/content/drive/MyDrive/Colab Notebooks/Supervised Project/ML/results_store_dept_3y_retrain/err_train_store_dept.pkl\")"
      ],
      "metadata": {
        "id": "-I9nCgRM6uNv"
      },
      "execution_count": null,
      "outputs": []
    },
    {
      "cell_type": "code",
      "execution_count": null,
      "metadata": {
        "id": "tx8_ZdsrB9o_"
      },
      "outputs": [],
      "source": [
        "import matplotlib.pyplot as plt\n",
        "import seaborn as sns\n",
        "\n",
        "def plot_true_vs_pred(df_forecast, true_col='true', pred_col='pred', n_points=140, title='Prediction vs True'):\n",
        "    plt.figure(figsize=(18, 6))\n",
        "    plt.title(title)\n",
        "    plt.xlabel(\"Date\")\n",
        "    plt.ylabel(\"Value\")\n",
        "\n",
        "\n",
        "    y_true = df_forecast[true_col][-n_points:]\n",
        "    y_pred = df_forecast[pred_col][-n_points:]\n",
        "\n",
        "    sns.lineplot(x=y_true.index, y=y_true.values, label='True', color='black')\n",
        "    sns.lineplot(x=y_pred.index, y=y_pred.values, label='Prediction', color='blue')\n",
        "\n",
        "    plt.legend()\n",
        "    plt.grid(True)\n",
        "    plt.tight_layout()\n",
        "    plt.show()\n"
      ]
    },
    {
      "cell_type": "code",
      "execution_count": null,
      "metadata": {
        "id": "GwU6EvI7CBIo"
      },
      "outputs": [],
      "source": [
        "sample_group_df = all_results[\n",
        "    (all_results['store_id'] == 'CA_1') &\n",
        "    (all_results['dept_id'] == 'FOODS_1')\n",
        "]\n"
      ]
    },
    {
      "cell_type": "code",
      "execution_count": null,
      "metadata": {
        "colab": {
          "base_uri": "https://localhost:8080/",
          "height": 449
        },
        "id": "-OX52u8hCIgw",
        "outputId": "6954fd56-d180-4740-9cce-c5c1785c3a90"
      },
      "outputs": [
        {
          "output_type": "display_data",
          "data": {
            "text/plain": [
              "<Figure size 1800x600 with 1 Axes>"
            ],
            "image/png": "[encoded data removed]"
          },
          "metadata": {}
        }
      ],
      "source": [
        "plot_true_vs_pred(sample_group_df, true_col='true', pred_col='pred', n_points=100, title='CA_1 - FOODS_1')\n"
      ]
    }
  ],
  "metadata": {
    "accelerator": "GPU",
    "colab": {
      "gpuType": "A100",
      "machine_shape": "hm",
      "provenance": [],
      "authorship_tag": "ABX9TyO1qbFwH/qN75wODKCPOCLZ",
      "include_colab_link": true
    },
    "kernelspec": {
      "display_name": "Python 3",
      "name": "python3"
    },
    "language_info": {
      "name": "python"
    }
  },
  "nbformat": 4,
  "nbformat_minor": 0
}