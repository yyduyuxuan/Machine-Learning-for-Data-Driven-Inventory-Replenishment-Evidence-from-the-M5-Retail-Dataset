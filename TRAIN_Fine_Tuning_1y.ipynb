{
  "cells": [
    {
      "cell_type": "markdown",
      "metadata": {
        "id": "view-in-github",
        "colab_type": "text"
      },
      "source": [
        "<a href=\"https://colab.research.google.com/github/yyduyuxuan/Machine-Learning-for-Data-Driven-Inventory-Replenishment-Evidence-from-the-M5-Retail-Dataset/blob/main/TRAIN_Fine_Tuning_1y.ipynb\" target=\"_parent\"><img src=\"https://colab.research.google.com/assets/colab-badge.svg\" alt=\"Open In Colab\"/></a>"
      ]
    },
    {
      "cell_type": "code",
      "execution_count": null,
      "metadata": {
        "id": "3H15EHbtB3je"
      },
      "outputs": [],
      "source": [
        "import numpy as np\n",
        "import pandas as pd\n",
        "import os, sys, gc, time, warnings, pickle, psutil, random\n",
        "\n",
        "from math import ceil\n",
        "\n",
        "from sklearn.preprocessing import LabelEncoder\n",
        "\n",
        "warnings.filterwarnings('ignore')"
      ]
    },
    {
      "cell_type": "code",
      "execution_count": null,
      "metadata": {
        "id": "ymeJa4xkC9Et"
      },
      "outputs": [],
      "source": [
        "def get_memory_usage():\n",
        "    return np.round(psutil.Process(os.getpid()).memory_info()[0]/2.**30, 2)\n",
        "\n",
        "def sizeof_fmt(num, suffix='B'):\n",
        "    for unit in ['','Ki','Mi','Gi','Ti','Pi','Ei','Zi']:\n",
        "        if abs(num) < 1024.0:\n",
        "            return \"%3.1f%s%s\" % (num, unit, suffix)\n",
        "        num /= 1024.0\n",
        "    return \"%.1f%s%s\" % (num, 'Yi', suffix)"
      ]
    },
    {
      "cell_type": "code",
      "execution_count": null,
      "metadata": {
        "id": "IQ3KWr3CvW9S"
      },
      "outputs": [],
      "source": [
        "## Memory Reducer\n",
        "# :df pandas dataframe to reduce size             # type: pd.DataFrame()\n",
        "# :verbose                                        # type: bool\n",
        "def reduce_mem_usage(df, verbose=True):\n",
        "    numerics = ['int16', 'int32', 'int64', 'float16', 'float32', 'float64']\n",
        "    start_mem = df.memory_usage().sum() / 1024**2\n",
        "    for col in df.columns:\n",
        "        col_type = df[col].dtypes\n",
        "        if col_type in numerics:\n",
        "            c_min = df[col].min()\n",
        "            c_max = df[col].max()\n",
        "            if str(col_type)[:3] == 'int':\n",
        "                if c_min > np.iinfo(np.int8).min and c_max < np.iinfo(np.int8).max:\n",
        "                    df[col] = df[col].astype(np.int8)\n",
        "                elif c_min > np.iinfo(np.int16).min and c_max < np.iinfo(np.int16).max:\n",
        "                       df[col] = df[col].astype(np.int16)\n",
        "                elif c_min > np.iinfo(np.int32).min and c_max < np.iinfo(np.int32).max:\n",
        "                    df[col] = df[col].astype(np.int32)\n",
        "                elif c_min > np.iinfo(np.int64).min and c_max < np.iinfo(np.int64).max:\n",
        "                    df[col] = df[col].astype(np.int64)\n",
        "            else:\n",
        "                if c_min > np.finfo(np.float16).min and c_max < np.finfo(np.float16).max:\n",
        "                    df[col] = df[col].astype(np.float16)\n",
        "                elif c_min > np.finfo(np.float32).min and c_max < np.finfo(np.float32).max:\n",
        "                    df[col] = df[col].astype(np.float32)\n",
        "                else:\n",
        "                    df[col] = df[col].astype(np.float64)\n",
        "    end_mem = df.memory_usage().sum() / 1024**2\n",
        "    if verbose: print('Mem. usage decreased to {:5.2f} Mb ({:.1f}% reduction)'.format(end_mem, 100 * (start_mem - end_mem) / start_mem))\n",
        "    return df"
      ]
    },
    {
      "cell_type": "markdown",
      "metadata": {
        "id": "vExnbwl8_8U7"
      },
      "source": [
        "# Load the data"
      ]
    },
    {
      "cell_type": "code",
      "execution_count": null,
      "metadata": {
        "colab": {
          "base_uri": "https://localhost:8080/",
          "height": 536
        },
        "id": "PSxkejGbDCT2",
        "outputId": "e9460727-5588-4c05-f4f6-c15e1a37dae4"
      },
      "outputs": [
        {
          "output_type": "stream",
          "name": "stdout",
          "text": [
            "Mounted at /content/drive\n",
            "(45974682, 119)\n"
          ]
        },
        {
          "output_type": "stream",
          "name": "stderr",
          "text": [
            "/usr/local/lib/python3.12/dist-packages/pandas/io/formats/format.py:1458: RuntimeWarning: overflow encountered in cast\n",
            "  has_large_values = (abs_vals > 1e6).any()\n",
            "/usr/local/lib/python3.12/dist-packages/pandas/io/formats/format.py:1458: RuntimeWarning: overflow encountered in cast\n",
            "  has_large_values = (abs_vals > 1e6).any()\n"
          ]
        },
        {
          "output_type": "execute_result",
          "data": {
            "text/plain": [
              "                            id      item_id  dept_id cat_id store_id state_id  \\\n",
              "0  FOODS_1_001_CA_1_validation  FOODS_1_001  FOODS_1  FOODS     CA_1       CA   \n",
              "1  FOODS_1_001_CA_1_validation  FOODS_1_001  FOODS_1  FOODS     CA_1       CA   \n",
              "2  FOODS_1_001_CA_1_validation  FOODS_1_001  FOODS_1  FOODS     CA_1       CA   \n",
              "3  FOODS_1_001_CA_1_validation  FOODS_1_001  FOODS_1  FOODS     CA_1       CA   \n",
              "4  FOODS_1_001_CA_1_validation  FOODS_1_001  FOODS_1  FOODS     CA_1       CA   \n",
              "\n",
              "   d  sales       date  wm_yr_wk  ... enc_mean_store_id_cat_id  \\\n",
              "0  1      3 2011-01-29     11101  ...                     2.75   \n",
              "1  2      0 2011-01-30     11101  ...                     2.75   \n",
              "2  3      0 2011-01-31     11101  ...                     2.75   \n",
              "3  4      1 2011-02-01     11101  ...                     2.75   \n",
              "4  5      4 2011-02-02     11101  ...                     2.75   \n",
              "\n",
              "   enc_std_store_id_cat_id  enc_mean_store_id_dept_id  \\\n",
              "0                 6.753906                   1.662109   \n",
              "1                 6.753906                   1.662109   \n",
              "2                 6.753906                   1.662109   \n",
              "3                 6.753906                   1.662109   \n",
              "4                 6.753906                   1.662109   \n",
              "\n",
              "   enc_std_store_id_dept_id enc_mean_item_id enc_std_item_id  \\\n",
              "0                  3.357422         0.719238        1.333008   \n",
              "1                  3.357422         0.719238        1.333008   \n",
              "2                  3.357422         0.719238        1.333008   \n",
              "3                  3.357422         0.719238        1.333008   \n",
              "4                  3.357422         0.719238        1.333008   \n",
              "\n",
              "  enc_mean_item_id_state_id enc_std_item_id_state_id  \\\n",
              "0                  0.968262                 1.662109   \n",
              "1                  0.968262                 1.662109   \n",
              "2                  0.968262                 1.662109   \n",
              "3                  0.968262                 1.662109   \n",
              "4                  0.968262                 1.662109   \n",
              "\n",
              "   enc_mean_item_id_store_id  enc_std_item_id_store_id  \n",
              "0                   0.833984                     1.375  \n",
              "1                   0.833984                     1.375  \n",
              "2                   0.833984                     1.375  \n",
              "3                   0.833984                     1.375  \n",
              "4                   0.833984                     1.375  \n",
              "\n",
              "[5 rows x 119 columns]"
            ],
            "text/html": [
              "\n",
              "  <div id=\"df-04e70548-0f24-4f70-a997-4de69f67d2a8\" class=\"colab-df-container\">\n",
              "    <div>\n",
              "<style scoped>\n",
              "    .dataframe tbody tr th:only-of-type {\n",
              "        vertical-align: middle;\n",
              "    }\n",
              "\n",
              "    .dataframe tbody tr th {\n",
              "        vertical-align: top;\n",
              "    }\n",
              "\n",
              "    .dataframe thead th {\n",
              "        text-align: right;\n",
              "    }\n",
              "</style>\n",
              "<table border=\"1\" class=\"dataframe\">\n",
              "  <thead>\n",
              "    <tr style=\"text-align: right;\">\n",
              "      <th></th>\n",
              "      <th>id</th>\n",
              "      <th>item_id</th>\n",
              "      <th>dept_id</th>\n",
              "      <th>cat_id</th>\n",
              "      <th>store_id</th>\n",
              "      <th>state_id</th>\n",
              "      <th>d</th>\n",
              "      <th>sales</th>\n",
              "      <th>date</th>\n",
              "      <th>wm_yr_wk</th>\n",
              "      <th>...</th>\n",
              "      <th>enc_mean_store_id_cat_id</th>\n",
              "      <th>enc_std_store_id_cat_id</th>\n",
              "      <th>enc_mean_store_id_dept_id</th>\n",
              "      <th>enc_std_store_id_dept_id</th>\n",
              "      <th>enc_mean_item_id</th>\n",
              "      <th>enc_std_item_id</th>\n",
              "      <th>enc_mean_item_id_state_id</th>\n",
              "      <th>enc_std_item_id_state_id</th>\n",
              "      <th>enc_mean_item_id_store_id</th>\n",
              "      <th>enc_std_item_id_store_id</th>\n",
              "    </tr>\n",
              "  </thead>\n",
              "  <tbody>\n",
              "    <tr>\n",
              "      <th>0</th>\n",
              "      <td>FOODS_1_001_CA_1_validation</td>\n",
              "      <td>FOODS_1_001</td>\n",
              "      <td>FOODS_1</td>\n",
              "      <td>FOODS</td>\n",
              "      <td>CA_1</td>\n",
              "      <td>CA</td>\n",
              "      <td>1</td>\n",
              "      <td>3</td>\n",
              "      <td>2011-01-29</td>\n",
              "      <td>11101</td>\n",
              "      <td>...</td>\n",
              "      <td>2.75</td>\n",
              "      <td>6.753906</td>\n",
              "      <td>1.662109</td>\n",
              "      <td>3.357422</td>\n",
              "      <td>0.719238</td>\n",
              "      <td>1.333008</td>\n",
              "      <td>0.968262</td>\n",
              "      <td>1.662109</td>\n",
              "      <td>0.833984</td>\n",
              "      <td>1.375</td>\n",
              "    </tr>\n",
              "    <tr>\n",
              "      <th>1</th>\n",
              "      <td>FOODS_1_001_CA_1_validation</td>\n",
              "      <td>FOODS_1_001</td>\n",
              "      <td>FOODS_1</td>\n",
              "      <td>FOODS</td>\n",
              "      <td>CA_1</td>\n",
              "      <td>CA</td>\n",
              "      <td>2</td>\n",
              "      <td>0</td>\n",
              "      <td>2011-01-30</td>\n",
              "      <td>11101</td>\n",
              "      <td>...</td>\n",
              "      <td>2.75</td>\n",
              "      <td>6.753906</td>\n",
              "      <td>1.662109</td>\n",
              "      <td>3.357422</td>\n",
              "      <td>0.719238</td>\n",
              "      <td>1.333008</td>\n",
              "      <td>0.968262</td>\n",
              "      <td>1.662109</td>\n",
              "      <td>0.833984</td>\n",
              "      <td>1.375</td>\n",
              "    </tr>\n",
              "    <tr>\n",
              "      <th>2</th>\n",
              "      <td>FOODS_1_001_CA_1_validation</td>\n",
              "      <td>FOODS_1_001</td>\n",
              "      <td>FOODS_1</td>\n",
              "      <td>FOODS</td>\n",
              "      <td>CA_1</td>\n",
              "      <td>CA</td>\n",
              "      <td>3</td>\n",
              "      <td>0</td>\n",
              "      <td>2011-01-31</td>\n",
              "      <td>11101</td>\n",
              "      <td>...</td>\n",
              "      <td>2.75</td>\n",
              "      <td>6.753906</td>\n",
              "      <td>1.662109</td>\n",
              "      <td>3.357422</td>\n",
              "      <td>0.719238</td>\n",
              "      <td>1.333008</td>\n",
              "      <td>0.968262</td>\n",
              "      <td>1.662109</td>\n",
              "      <td>0.833984</td>\n",
              "      <td>1.375</td>\n",
              "    </tr>\n",
              "    <tr>\n",
              "      <th>3</th>\n",
              "      <td>FOODS_1_001_CA_1_validation</td>\n",
              "      <td>FOODS_1_001</td>\n",
              "      <td>FOODS_1</td>\n",
              "      <td>FOODS</td>\n",
              "      <td>CA_1</td>\n",
              "      <td>CA</td>\n",
              "      <td>4</td>\n",
              "      <td>1</td>\n",
              "      <td>2011-02-01</td>\n",
              "      <td>11101</td>\n",
              "      <td>...</td>\n",
              "      <td>2.75</td>\n",
              "      <td>6.753906</td>\n",
              "      <td>1.662109</td>\n",
              "      <td>3.357422</td>\n",
              "      <td>0.719238</td>\n",
              "      <td>1.333008</td>\n",
              "      <td>0.968262</td>\n",
              "      <td>1.662109</td>\n",
              "      <td>0.833984</td>\n",
              "      <td>1.375</td>\n",
              "    </tr>\n",
              "    <tr>\n",
              "      <th>4</th>\n",
              "      <td>FOODS_1_001_CA_1_validation</td>\n",
              "      <td>FOODS_1_001</td>\n",
              "      <td>FOODS_1</td>\n",
              "      <td>FOODS</td>\n",
              "      <td>CA_1</td>\n",
              "      <td>CA</td>\n",
              "      <td>5</td>\n",
              "      <td>4</td>\n",
              "      <td>2011-02-02</td>\n",
              "      <td>11101</td>\n",
              "      <td>...</td>\n",
              "      <td>2.75</td>\n",
              "      <td>6.753906</td>\n",
              "      <td>1.662109</td>\n",
              "      <td>3.357422</td>\n",
              "      <td>0.719238</td>\n",
              "      <td>1.333008</td>\n",
              "      <td>0.968262</td>\n",
              "      <td>1.662109</td>\n",
              "      <td>0.833984</td>\n",
              "      <td>1.375</td>\n",
              "    </tr>\n",
              "  </tbody>\n",
              "</table>\n",
              "<p>5 rows × 119 columns</p>\n",
              "</div>\n",
              "    <div class=\"colab-df-buttons\">\n",
              "\n",
              "  <div class=\"colab-df-container\">\n",
              "    <button class=\"colab-df-convert\" onclick=\"convertToInteractive('df-04e70548-0f24-4f70-a997-4de69f67d2a8')\"\n",
              "            title=\"Convert this dataframe to an interactive table.\"\n",
              "            style=\"display:none;\">\n",
              "\n",
              "  <svg xmlns=\"http://www.w3.org/2000/svg\" height=\"24px\" viewBox=\"0 -960 960 960\">\n",
              "    <path d=\"M120-120v-720h720v720H120Zm60-500h600v-160H180v160Zm220 220h160v-160H400v160Zm0 220h160v-160H400v160ZM180-400h160v-160H180v160Zm440 0h160v-160H620v160ZM180-180h160v-160H180v160Zm440 0h160v-160H620v160Z\"/>\n",
              "  </svg>\n",
              "    </button>\n",
              "\n",
              "  <style>\n",
              "    .colab-df-container {\n",
              "      display:flex;\n",
              "      gap: 12px;\n",
              "    }\n",
              "\n",
              "    .colab-df-convert {\n",
              "      background-color: #E8F0FE;\n",
              "      border: none;\n",
              "      border-radius: 50%;\n",
              "      cursor: pointer;\n",
              "      display: none;\n",
              "      fill: #1967D2;\n",
              "      height: 32px;\n",
              "      padding: 0 0 0 0;\n",
              "      width: 32px;\n",
              "    }\n",
              "\n",
              "    .colab-df-convert:hover {\n",
              "      background-color: #E2EBFA;\n",
              "      box-shadow: 0px 1px 2px rgba(60, 64, 67, 0.3), 0px 1px 3px 1px rgba(60, 64, 67, 0.15);\n",
              "      fill: #174EA6;\n",
              "    }\n",
              "\n",
              "    .colab-df-buttons div {\n",
              "      margin-bottom: 4px;\n",
              "    }\n",
              "\n",
              "    [theme=dark] .colab-df-convert {\n",
              "      background-color: #3B4455;\n",
              "      fill: #D2E3FC;\n",
              "    }\n",
              "\n",
              "    [theme=dark] .colab-df-convert:hover {\n",
              "      background-color: #434B5C;\n",
              "      box-shadow: 0px 1px 3px 1px rgba(0, 0, 0, 0.15);\n",
              "      filter: drop-shadow(0px 1px 2px rgba(0, 0, 0, 0.3));\n",
              "      fill: #FFFFFF;\n",
              "    }\n",
              "  </style>\n",
              "\n",
              "    <script>\n",
              "      const buttonEl =\n",
              "        document.querySelector('#df-04e70548-0f24-4f70-a997-4de69f67d2a8 button.colab-df-convert');\n",
              "      buttonEl.style.display =\n",
              "        google.colab.kernel.accessAllowed ? 'block' : 'none';\n",
              "\n",
              "      async function convertToInteractive(key) {\n",
              "        const element = document.querySelector('#df-04e70548-0f24-4f70-a997-4de69f67d2a8');\n",
              "        const dataTable =\n",
              "          await google.colab.kernel.invokeFunction('convertToInteractive',\n",
              "                                                    [key], {});\n",
              "        if (!dataTable) return;\n",
              "\n",
              "        const docLinkHtml = 'Like what you see? Visit the ' +\n",
              "          '<a target=\"_blank\" href=https://colab.research.google.com/notebooks/data_table.ipynb>data table notebook</a>'\n",
              "          + ' to learn more about interactive tables.';\n",
              "        element.innerHTML = '';\n",
              "        dataTable['output_type'] = 'display_data';\n",
              "        await google.colab.output.renderOutput(dataTable, element);\n",
              "        const docLink = document.createElement('div');\n",
              "        docLink.innerHTML = docLinkHtml;\n",
              "        element.appendChild(docLink);\n",
              "      }\n",
              "    </script>\n",
              "  </div>\n",
              "\n",
              "\n",
              "    <div id=\"df-f3c1e14a-1613-4453-a9e4-38bd6b351489\">\n",
              "      <button class=\"colab-df-quickchart\" onclick=\"quickchart('df-f3c1e14a-1613-4453-a9e4-38bd6b351489')\"\n",
              "                title=\"Suggest charts\"\n",
              "                style=\"display:none;\">\n",
              "\n",
              "<svg xmlns=\"http://www.w3.org/2000/svg\" height=\"24px\"viewBox=\"0 0 24 24\"\n",
              "     width=\"24px\">\n",
              "    <g>\n",
              "        <path d=\"M19 3H5c-1.1 0-2 .9-2 2v14c0 1.1.9 2 2 2h14c1.1 0 2-.9 2-2V5c0-1.1-.9-2-2-2zM9 17H7v-7h2v7zm4 0h-2V7h2v10zm4 0h-2v-4h2v4z\"/>\n",
              "    </g>\n",
              "</svg>\n",
              "      </button>\n",
              "\n",
              "<style>\n",
              "  .colab-df-quickchart {\n",
              "      --bg-color: #E8F0FE;\n",
              "      --fill-color: #1967D2;\n",
              "      --hover-bg-color: #E2EBFA;\n",
              "      --hover-fill-color: #174EA6;\n",
              "      --disabled-fill-color: #AAA;\n",
              "      --disabled-bg-color: #DDD;\n",
              "  }\n",
              "\n",
              "  [theme=dark] .colab-df-quickchart {\n",
              "      --bg-color: #3B4455;\n",
              "      --fill-color: #D2E3FC;\n",
              "      --hover-bg-color: #434B5C;\n",
              "      --hover-fill-color: #FFFFFF;\n",
              "      --disabled-bg-color: #3B4455;\n",
              "      --disabled-fill-color: #666;\n",
              "  }\n",
              "\n",
              "  .colab-df-quickchart {\n",
              "    background-color: var(--bg-color);\n",
              "    border: none;\n",
              "    border-radius: 50%;\n",
              "    cursor: pointer;\n",
              "    display: none;\n",
              "    fill: var(--fill-color);\n",
              "    height: 32px;\n",
              "    padding: 0;\n",
              "    width: 32px;\n",
              "  }\n",
              "\n",
              "  .colab-df-quickchart:hover {\n",
              "    background-color: var(--hover-bg-color);\n",
              "    box-shadow: 0 1px 2px rgba(60, 64, 67, 0.3), 0 1px 3px 1px rgba(60, 64, 67, 0.15);\n",
              "    fill: var(--button-hover-fill-color);\n",
              "  }\n",
              "\n",
              "  .colab-df-quickchart-complete:disabled,\n",
              "  .colab-df-quickchart-complete:disabled:hover {\n",
              "    background-color: var(--disabled-bg-color);\n",
              "    fill: var(--disabled-fill-color);\n",
              "    box-shadow: none;\n",
              "  }\n",
              "\n",
              "  .colab-df-spinner {\n",
              "    border: 2px solid var(--fill-color);\n",
              "    border-color: transparent;\n",
              "    border-bottom-color: var(--fill-color);\n",
              "    animation:\n",
              "      spin 1s steps(1) infinite;\n",
              "  }\n",
              "\n",
              "  @keyframes spin {\n",
              "    0% {\n",
              "      border-color: transparent;\n",
              "      border-bottom-color: var(--fill-color);\n",
              "      border-left-color: var(--fill-color);\n",
              "    }\n",
              "    20% {\n",
              "      border-color: transparent;\n",
              "      border-left-color: var(--fill-color);\n",
              "      border-top-color: var(--fill-color);\n",
              "    }\n",
              "    30% {\n",
              "      border-color: transparent;\n",
              "      border-left-color: var(--fill-color);\n",
              "      border-top-color: var(--fill-color);\n",
              "      border-right-color: var(--fill-color);\n",
              "    }\n",
              "    40% {\n",
              "      border-color: transparent;\n",
              "      border-right-color: var(--fill-color);\n",
              "      border-top-color: var(--fill-color);\n",
              "    }\n",
              "    60% {\n",
              "      border-color: transparent;\n",
              "      border-right-color: var(--fill-color);\n",
              "    }\n",
              "    80% {\n",
              "      border-color: transparent;\n",
              "      border-right-color: var(--fill-color);\n",
              "      border-bottom-color: var(--fill-color);\n",
              "    }\n",
              "    90% {\n",
              "      border-color: transparent;\n",
              "      border-bottom-color: var(--fill-color);\n",
              "    }\n",
              "  }\n",
              "</style>\n",
              "\n",
              "      <script>\n",
              "        async function quickchart(key) {\n",
              "          const quickchartButtonEl =\n",
              "            document.querySelector('#' + key + ' button');\n",
              "          quickchartButtonEl.disabled = true;  // To prevent multiple clicks.\n",
              "          quickchartButtonEl.classList.add('colab-df-spinner');\n",
              "          try {\n",
              "            const charts = await google.colab.kernel.invokeFunction(\n",
              "                'suggestCharts', [key], {});\n",
              "          } catch (error) {\n",
              "            console.error('Error during call to suggestCharts:', error);\n",
              "          }\n",
              "          quickchartButtonEl.classList.remove('colab-df-spinner');\n",
              "          quickchartButtonEl.classList.add('colab-df-quickchart-complete');\n",
              "        }\n",
              "        (() => {\n",
              "          let quickchartButtonEl =\n",
              "            document.querySelector('#df-f3c1e14a-1613-4453-a9e4-38bd6b351489 button');\n",
              "          quickchartButtonEl.style.display =\n",
              "            google.colab.kernel.accessAllowed ? 'block' : 'none';\n",
              "        })();\n",
              "      </script>\n",
              "    </div>\n",
              "\n",
              "    </div>\n",
              "  </div>\n"
            ],
            "application/vnd.google.colaboratory.intrinsic+json": {
              "type": "dataframe",
              "variable_name": "sales_long_val"
            }
          },
          "metadata": {},
          "execution_count": 3
        }
      ],
      "source": [
        "from google.colab import drive\n",
        "drive.mount('/content/drive')\n",
        "\n",
        "import pandas as pd\n",
        "\n",
        "file_path = '/content/drive/MyDrive/Colab Notebooks/Supervised Project/sales_long_val_5y.pkl'\n",
        "sales_long_val = pd.read_pickle(file_path)\n",
        "\n",
        "print(sales_long_val.shape)\n",
        "sales_long_val.head()"
      ]
    },
    {
      "cell_type": "code",
      "execution_count": null,
      "metadata": {
        "colab": {
          "base_uri": "https://localhost:8080/"
        },
        "id": "Obz-sR9oDZvj",
        "outputId": "61af2ab5-3308-41bb-b0d1-bfa90c322d33"
      },
      "outputs": [
        {
          "name": "stdout",
          "output_type": "stream",
          "text": [
            "Total groups: 70\n"
          ]
        }
      ],
      "source": [
        "# Group\n",
        "group_key = ['store_id', 'dept_id']\n",
        "\n",
        "group_names = sales_long_val[group_key].drop_duplicates().values.tolist()\n",
        "print(f\"Total groups: {len(group_names)}\")"
      ]
    },
    {
      "cell_type": "code",
      "execution_count": null,
      "metadata": {
        "colab": {
          "base_uri": "https://localhost:8080/"
        },
        "id": "_uAkFVt6VKDi",
        "outputId": "11803dc9-3885-45a4-80b2-2131339f8718"
      },
      "outputs": [
        {
          "output_type": "execute_result",
          "data": {
            "text/plain": [
              "(np.int16(1), np.int16(1913))"
            ]
          },
          "metadata": {},
          "execution_count": 7
        }
      ],
      "source": [
        "sales_long_val['d'].min(), sales_long_val['d'].max()"
      ]
    },
    {
      "cell_type": "markdown",
      "metadata": {
        "id": "P8u1QAf2ADrm"
      },
      "source": [
        "# Data grouping"
      ]
    },
    {
      "cell_type": "code",
      "execution_count": null,
      "metadata": {
        "colab": {
          "base_uri": "https://localhost:8080/"
        },
        "id": "PwLieUf71pUK",
        "outputId": "d834fddd-7918-4457-c3e8-8156ad745b83"
      },
      "outputs": [
        {
          "name": "stdout",
          "output_type": "stream",
          "text": [
            "Final categorical variables used for training:\n",
            "['price_change_flag', 'store_id', 'is_weekend', 'snap_CA', 'event_name_1', 'is_discontinued', 'event_type_2', 'snap_WI', 'event_type_1', 'event_name_2', 'item_id', 'cat_id', 'snap_TX']\n"
          ]
        }
      ],
      "source": [
        "# Remove features not used in training (usually unique identifiers, raw fields)\n",
        "remove_feature = [\n",
        "    'id',\n",
        "    #'state_id',\n",
        "    'store_id',\n",
        "    #'cat_id',\n",
        "    #'item_id',\n",
        "    'dept_id',\n",
        "    'date',\n",
        "    'd',\n",
        "    'wm_yr_wk',\n",
        "    'sales'\n",
        "]\n",
        "\n",
        "# Build a set of categorical variables (including original + new)\n",
        "cat_var = [\n",
        "    'item_id', 'dept_id', 'store_id', 'cat_id', 'state_id',\n",
        "    'event_name_1', 'event_name_2', 'event_type_1', 'event_type_2',\n",
        "    'snap_CA', 'snap_TX', 'snap_WI',\n",
        "    'is_weekend',\n",
        "    'price_change_flag',\n",
        "    'is_discontinued'\n",
        "]\n",
        "\n",
        "# Remove those features we marked as \"remove_feature\"\n",
        "cat_var = list(set(cat_var) - set(remove_feature))\n",
        "\n",
        "# Finally, cat_var is the list of category variables\n",
        "print(\"Final categorical variables used for training:\")\n",
        "print(cat_var)"
      ]
    },
    {
      "cell_type": "code",
      "execution_count": null,
      "metadata": {
        "id": "Uno7NlyU8O5i"
      },
      "outputs": [],
      "source": [
        "id_cols = ['id', 'item_id', 'dept_id', 'cat_id', 'store_id', 'state_id', 'd', 'date', 'wm_yr_wk']\n",
        "lag_features = [\n",
        "    'lag_1', 'lag_7', 'lag_14', 'lag_28',\n",
        "    'lag_29', 'lag_30', 'lag_31', 'lag_32', 'lag_33', 'lag_34',\n",
        "    'lag_35', 'lag_36', 'lag_37', 'lag_38', 'lag_39', 'lag_40',\n",
        "    'lag_41', 'lag_42'\n",
        "]\n",
        "lag_diff_features = ['lag_1_minus_7', 'lag_7_minus_14', 'lag_14_minus_28']\n",
        "\n",
        "rolling_features = [\n",
        "    'rolling_mean_7', 'rolling_std_7',\n",
        "    'rolling_mean_14', 'rolling_std_14',\n",
        "    'rolling_mean_30', 'rolling_std_30',\n",
        "    'rolling_mean_60', 'rolling_std_60',\n",
        "    'rolling_mean_180', 'rolling_std_180'\n",
        "]\n",
        "\n",
        "rolling_tmp_features = [\n",
        "    'rolling_mean_tmp_1_7', 'rolling_mean_tmp_1_14', 'rolling_mean_tmp_1_30', 'rolling_mean_tmp_1_60',\n",
        "    'rolling_mean_tmp_7_7', 'rolling_mean_tmp_7_14', 'rolling_mean_tmp_7_30', 'rolling_mean_tmp_7_60',\n",
        "    'rolling_mean_tmp_14_7', 'rolling_mean_tmp_14_14', 'rolling_mean_tmp_14_30', 'rolling_mean_tmp_14_60'\n",
        "]\n",
        "\n",
        "intermittency_features = ['ADI_30', 'CV2_30', 'ADI_60', 'CV2_60', 'ADI_90', 'CV2_90']\n",
        "\n",
        "time_features = ['weekday', 'wday', 'month', 'year', 'day_of_year', 'sin_doy', 'cos_doy',\n",
        "                 'tm_w', 'tm_m', 'tm_y', 'tm_wm', 'tm_dw', 'tm_w_end', 'is_weekend']\n",
        "\n",
        "event_features = ['event_name_1', 'event_type_1', 'event_name_2', 'event_type_2',\n",
        "                  'snap_CA', 'snap_TX', 'snap_WI']\n",
        "\n",
        "price_features = [\n",
        "    'sell_price', 'price_lag_7', 'price_change_flag', 'price_max', 'price_min',\n",
        "    'price_mean', 'price_std', 'price_norm', 'price_nunique', 'item_nunique',\n",
        "    'price_momentum', 'price_momentum_m', 'price_momentum_y'\n",
        "]\n",
        "\n",
        "lifecycle_features = ['release', 'is_discontinued']\n",
        "\n",
        "\n",
        "mean_encoding_features = [\n",
        "    'enc_mean_state_id', 'enc_std_state_id',\n",
        "    'enc_mean_store_id', 'enc_std_store_id',\n",
        "    'enc_mean_cat_id', 'enc_std_cat_id',\n",
        "    'enc_mean_dept_id', 'enc_std_dept_id',\n",
        "    'enc_mean_state_id_cat_id', 'enc_std_state_id_cat_id',\n",
        "    'enc_mean_state_id_dept_id', 'enc_std_state_id_dept_id',\n",
        "    'enc_mean_store_id_cat_id', 'enc_std_store_id_cat_id',\n",
        "    'enc_mean_store_id_dept_id', 'enc_std_store_id_dept_id',\n",
        "    'enc_mean_item_id', 'enc_std_item_id',\n",
        "    'enc_mean_item_id_state_id', 'enc_std_item_id_state_id',\n",
        "    'enc_mean_item_id_store_id', 'enc_std_item_id_store_id'\n",
        "]"
      ]
    },
    {
      "cell_type": "code",
      "execution_count": null,
      "metadata": {
        "id": "52Khxbdk_hUS"
      },
      "outputs": [],
      "source": [
        "feature_cols = (\n",
        "    lag_features + lag_diff_features + rolling_features + rolling_tmp_features +\n",
        "    intermittency_features + time_features + event_features + price_features +\n",
        "    lifecycle_features + mean_encoding_features\n",
        ")"
      ]
    },
    {
      "cell_type": "markdown",
      "metadata": {
        "id": "1ONs7RhxGGdo"
      },
      "source": [
        "# ML Forecasting"
      ]
    },
    {
      "cell_type": "code",
      "execution_count": null,
      "metadata": {
        "id": "9klW-WzzAMX4"
      },
      "outputs": [],
      "source": [
        "import pandas as pd\n",
        "import lightgbm as lgb\n",
        "import numpy as np\n",
        "from tqdm import tqdm\n",
        "\n",
        "# LightGBM Parameter settings\n",
        "lgb_params = {\n",
        "    'boosting_type': 'gbdt',\n",
        "    'objective': 'tweedie',\n",
        "    'device': 'gpu',\n",
        "    'gpu_platform_id': 0,\n",
        "    'gpu_device_id': 0,\n",
        "    'tweedie_variance_power': 1.1,\n",
        "    'metric': 'rmse',\n",
        "    'subsample': 0.7,\n",
        "    'subsample_freq': 1,\n",
        "    'learning_rate': 0.02,\n",
        "    'num_leaves': 2**7 - 1,\n",
        "    'min_data_in_leaf': 2**6 - 1,\n",
        "    'feature_fraction': 0.7,\n",
        "    'max_bin': 100,\n",
        "    'n_estimators': 2500,\n",
        "    'boost_from_average': False,\n",
        "    'verbose': -1,\n",
        "    'seed': 1995\n",
        "}\n"
      ]
    },
    {
      "cell_type": "code",
      "execution_count": null,
      "metadata": {
        "colab": {
          "base_uri": "https://localhost:8080/"
        },
        "id": "AMB2cOJfG6dy",
        "outputId": "14ee2efe-5b64-4b31-bdac-78c16bae3daf"
      },
      "outputs": [
        {
          "name": "stdout",
          "output_type": "stream",
          "text": [
            "Memory after base data merge: 11.72 GB\n",
            "Mem. usage decreased to 11750.43 Mb (0.0% reduction)\n"
          ]
        }
      ],
      "source": [
        "print(\"Memory after base data merge:\", get_memory_usage(), \"GB\")\n",
        "sales_long_val = reduce_mem_usage(sales_long_val)"
      ]
    },
    {
      "cell_type": "code",
      "execution_count": null,
      "metadata": {
        "id": "4Cg4G92jHZyY"
      },
      "outputs": [],
      "source": [
        "from sklearn.preprocessing import LabelEncoder\n",
        "\n",
        "for col in ['weekday']:\n",
        "    if sales_long_val[col].dtype == 'object':\n",
        "        le = LabelEncoder()\n",
        "        sales_long_val[col] = le.fit_transform(sales_long_val[col])\n"
      ]
    },
    {
      "cell_type": "code",
      "execution_count": null,
      "metadata": {
        "colab": {
          "base_uri": "https://localhost:8080/"
        },
        "id": "9zK35S0WVCiv",
        "outputId": "1ae23815-8a03-4903-9fdc-3244f4f011d3"
      },
      "outputs": [
        {
          "output_type": "stream",
          "name": "stdout",
          "text": [
            "Requirement already satisfied: tqdm in /usr/local/lib/python3.12/dist-packages (4.67.1)\n"
          ]
        }
      ],
      "source": [
        "!pip install tqdm"
      ]
    },
    {
      "cell_type": "markdown",
      "metadata": {
        "id": "mIand6A_cbV3"
      },
      "source": [
        "# Result & Model Save"
      ]
    },
    {
      "cell_type": "code",
      "execution_count": null,
      "metadata": {
        "id": "zrDfwzodct7p"
      },
      "outputs": [],
      "source": [
        "label_col = 'ROP_L3'\n",
        "group_key = ['store_id', 'dept_id']\n",
        "remove_feature=[\n",
        "        # ID\n",
        "        'id', 'item_id', 'dept_id', 'cat_id', 'store_id', 'state_id',\n",
        "        'd', 'date', 'wm_yr_wk','sales',\n",
        "\n",
        "        # ROP label\n",
        "        'ROP_L3', 'ROP_L7', 'ROP_L14',\n",
        "\n",
        "        # mean encoding, avoid target leakage\n",
        "        'enc_mean_store_id', 'enc_std_store_id',\n",
        "        'enc_mean_dept_id', 'enc_std_dept_id',\n",
        "        'enc_mean_store_id_cat_id', 'enc_std_store_id_cat_id',\n",
        "        'enc_mean_state_id_dept_id', 'enc_std_state_id_dept_id',\n",
        "        'enc_mean_store_id_dept_id', 'enc_std_store_id_dept_id',\n",
        "        'enc_mean_item_id_store_id', 'enc_std_item_id_store_id']"
      ]
    },
    {
      "cell_type": "code",
      "source": [
        "import os, gc, pickle, time\n",
        "import numpy as np\n",
        "import pandas as pd\n",
        "import lightgbm as lgb\n",
        "from tqdm import tqdm\n",
        "\n",
        "# Y3 for train Y4 for val\n",
        "def make_ranges_by_df(df, years_train=1, date_col='date', d_col='d'):\n",
        "    df = df.copy()\n",
        "    if not np.issubdtype(df[date_col].dtype, np.datetime64):\n",
        "        df[date_col] = pd.to_datetime(df[date_col])\n",
        "\n",
        "    start_date  = df[date_col].min().normalize()\n",
        "    y3_end_date = start_date + pd.DateOffset(years=3) - pd.Timedelta(days=1)\n",
        "    y4_end_date = start_date + pd.DateOffset(years=4) - pd.Timedelta(days=1)\n",
        "\n",
        "    # Training start: Y3_end forward years_train years + 1 day\n",
        "    train_start_date = y3_end_date - pd.DateOffset(years=years_train) + pd.Timedelta(days=1)\n",
        "    val_start_date   = y3_end_date + pd.Timedelta(days=1)\n",
        "\n",
        "    d_train_start = int(df.loc[df[date_col] >= train_start_date, d_col].min())\n",
        "    d_train_end   = int(df.loc[df[date_col] <= y3_end_date,     d_col].max())\n",
        "    d_val_start   = d_train_end + 1\n",
        "    d_val_end     = int(df.loc[df[date_col] <= y4_end_date,     d_col].max())\n",
        "\n",
        "    info = {\n",
        "        \"start_date\": start_date.date(),\n",
        "        \"train_start_date\": train_start_date.date(),\n",
        "        \"y3_end_date\": y3_end_date.date(),\n",
        "        \"val_start_date\": val_start_date.date(),\n",
        "        \"y4_end_date\": y4_end_date.date(),\n",
        "        \"train_range_d\": (d_train_start, d_train_end),\n",
        "        \"val_range_d\":   (d_val_start, d_val_end),\n",
        "    }\n",
        "    return (d_train_start, d_train_end), (d_val_start, d_val_end), info\n",
        "\n",
        "# LightGBM\n",
        "def _fit_lgb_safe(X_tr, y_tr, params):\n",
        "    n = X_tr.shape[0]\n",
        "    const_cols = [c for c in X_tr.columns if X_tr[c].nunique(dropna=True) <= 1]\n",
        "    if const_cols:\n",
        "        X_tr = X_tr.drop(columns=const_cols)\n",
        "\n",
        "    safe = dict(params or {})\n",
        "    safe['min_data_in_leaf'] = max(5, min(safe.get('min_data_in_leaf', 20), max(2, n // 4)))\n",
        "    safe['num_leaves']       = min(safe.get('num_leaves', 31), max(2, n - 1))\n",
        "    safe['force_row_wise']   = True\n",
        "\n",
        "    mdl = lgb.LGBMRegressor(**safe)\n",
        "    mdl.fit(X_tr, y_tr)\n",
        "    return mdl, const_cols\n",
        "\n",
        "def run_train_val_y3_y4(\n",
        "    df, group_key, label_col, remove_feature, lgb_params,\n",
        "    forecast_dir, model_dir,\n",
        "    date_col='date', d_col='d'\n",
        "):\n",
        "    os.makedirs(forecast_dir, exist_ok=True)\n",
        "    os.makedirs(model_dir, exist_ok=True)\n",
        "\n",
        "    train_range, val_range, info = make_ranges_by_df(df, years_train=1, date_col=date_col, d_col=d_col)\n",
        "    print(f\"[SPLIT] start={info['start_date']}, \"\n",
        "          f\"TRAIN: {info['train_start_date']} → {info['y3_end_date']}  d={train_range} | \"\n",
        "          f\"VAL: {info['val_start_date']} → {info['y4_end_date']}  d={val_range}\")\n",
        "\n",
        "    for grp_vals, gdf in tqdm(df.groupby(group_key, sort=False), desc=\"Hold-out per group\"):\n",
        "        group_id = \"_\".join(map(str, grp_vals if isinstance(grp_vals, tuple) else (grp_vals,)))\n",
        "        f_path = os.path.join(forecast_dir, f\"forecast_{group_id}.pkl\")\n",
        "        m_path = os.path.join(model_dir,    f\"model_{group_id}.bin\")\n",
        "\n",
        "\n",
        "        if os.path.exists(f_path) and os.path.exists(m_path):\n",
        "            print(f\"[Skip] {group_id} already processed.\")\n",
        "            continue\n",
        "\n",
        "        # Split\n",
        "        tr_mask = (gdf[d_col] >= train_range[0]) & (gdf[d_col] <= train_range[1])\n",
        "        vl_mask = (gdf[d_col] >= val_range[0])   & (gdf[d_col] <= val_range[1])\n",
        "\n",
        "        X_tr = gdf.loc[tr_mask].drop(columns=remove_feature + [label_col], errors='ignore')\n",
        "        y_tr = gdf.loc[tr_mask, label_col]\n",
        "        X_vl = gdf.loc[vl_mask].drop(columns=remove_feature + [label_col], errors='ignore')\n",
        "        y_vl = gdf.loc[vl_mask, label_col]\n",
        "\n",
        "        if X_tr.empty or X_vl.empty:\n",
        "            print(f\"[Warn] {group_id} no train/val rows. Skipped.\")\n",
        "            continue\n",
        "\n",
        "        # Train\n",
        "        t0 = time.time()\n",
        "        model, dropped_cols = _fit_lgb_safe(X_tr, y_tr, lgb_params)\n",
        "        secs = time.time() - t0\n",
        "\n",
        "        # Val\n",
        "        X_vl2 = X_vl.drop(columns=dropped_cols, errors='ignore')\n",
        "        pred = model.predict(X_vl2)\n",
        "\n",
        "        # Save results\n",
        "        cols_keep = ['d', 'date']\n",
        "        for c in ['item_id', 'store_id'] + (group_key if isinstance(group_key, list) else list(group_key)):\n",
        "            if c in gdf.columns and c not in cols_keep:\n",
        "                cols_keep.append(c)\n",
        "        out = gdf.loc[vl_mask, cols_keep].copy()\n",
        "        out['true'] = y_vl.values\n",
        "        out['pred'] = pred\n",
        "        out['train_secs'] = secs\n",
        "        out.to_pickle(f_path)\n",
        "        print(f\"[Save] Forecast -> {f_path}\")\n",
        "\n",
        "        # Save models\n",
        "        with open(m_path, 'wb') as f:\n",
        "            pickle.dump(model, f)\n",
        "        print(f\"[Save] Model -> {m_path}\")\n",
        "\n",
        "        del X_tr, y_tr, X_vl, y_vl, model, gdf, out\n",
        "        gc.collect()\n",
        "\n",
        "# Call\n",
        "forecast_dir = \"/content/drive/MyDrive/Colab Notebooks/Supervised Project/Fine Tuning/train_store_dept_1y1y/\"\n",
        "model_dir    = \"/content/drive/MyDrive/Colab Notebooks/Supervised Project/Fine Tuning/models_store_dept_1y1y/\"\n",
        "\n",
        "run_train_val_y3_y4(\n",
        "    df=sales_long_val,\n",
        "    group_key=group_key,\n",
        "    label_col=label_col,\n",
        "    remove_feature=remove_feature,\n",
        "    lgb_params=lgb_params,\n",
        "    forecast_dir=forecast_dir,\n",
        "    model_dir=model_dir,\n",
        "    date_col='date',\n",
        "    d_col='d'\n",
        ")\n"
      ],
      "metadata": {
        "colab": {
          "base_uri": "https://localhost:8080/"
        },
        "id": "B2x2MfTxC7eg",
        "outputId": "289e3547-6c40-447a-eebc-396f68f7ac00"
      },
      "execution_count": null,
      "outputs": [
        {
          "metadata": {
            "tags": null
          },
          "name": "stdout",
          "output_type": "stream",
          "text": [
            "[SPLIT] start=2011-01-29, TRAIN: 2013-01-29 → 2014-01-28  d=(732, 1096) | VAL: 2014-01-29 → 2015-01-28  d=(1097, 1461)\n"
          ]
        },
        {
          "metadata": {
            "tags": null
          },
          "name": "stderr",
          "output_type": "stream",
          "text": [
            "\rHold-out per group:   0%|          | 0/70 [00:00<?, ?it/s]"
          ]
        },
        {
          "metadata": {
            "tags": null
          },
          "name": "stdout",
          "output_type": "stream",
          "text": [
            "[Save] Forecast -> /content/drive/MyDrive/Colab Notebooks/Supervised Project/Fine Tuning/train_store_dept_1y1y/forecast_CA_1_FOODS_1.pkl\n"
          ]
        },
        {
          "metadata": {
            "tags": null
          },
          "name": "stderr",
          "output_type": "stream",
          "text": [
            "\rHold-out per group:   1%|▏         | 1/70 [01:25<1:38:37, 85.76s/it]"
          ]
        },
        {
          "metadata": {
            "tags": null
          },
          "name": "stdout",
          "output_type": "stream",
          "text": [
            "[Save] Model -> /content/drive/MyDrive/Colab Notebooks/Supervised Project/Fine Tuning/models_store_dept_1y1y/model_CA_1_FOODS_1.bin\n",
            "[Save] Forecast -> /content/drive/MyDrive/Colab Notebooks/Supervised Project/Fine Tuning/train_store_dept_1y1y/forecast_CA_2_FOODS_1.pkl\n"
          ]
        },
        {
          "metadata": {
            "tags": null
          },
          "name": "stderr",
          "output_type": "stream",
          "text": [
            "\rHold-out per group:   3%|▎         | 2/70 [02:12<1:11:19, 62.93s/it]"
          ]
        },
        {
          "metadata": {
            "tags": null
          },
          "name": "stdout",
          "output_type": "stream",
          "text": [
            "[Save] Model -> /content/drive/MyDrive/Colab Notebooks/Supervised Project/Fine Tuning/models_store_dept_1y1y/model_CA_2_FOODS_1.bin\n",
            "[Save] Forecast -> /content/drive/MyDrive/Colab Notebooks/Supervised Project/Fine Tuning/train_store_dept_1y1y/forecast_CA_3_FOODS_1.pkl\n"
          ]
        },
        {
          "metadata": {
            "tags": null
          },
          "name": "stderr",
          "output_type": "stream",
          "text": [
            "\rHold-out per group:   4%|▍         | 3/70 [02:59<1:01:59, 55.52s/it]"
          ]
        },
        {
          "metadata": {
            "tags": null
          },
          "name": "stdout",
          "output_type": "stream",
          "text": [
            "[Save] Model -> /content/drive/MyDrive/Colab Notebooks/Supervised Project/Fine Tuning/models_store_dept_1y1y/model_CA_3_FOODS_1.bin\n",
            "[Save] Forecast -> /content/drive/MyDrive/Colab Notebooks/Supervised Project/Fine Tuning/train_store_dept_1y1y/forecast_CA_4_FOODS_1.pkl\n"
          ]
        },
        {
          "metadata": {
            "tags": null
          },
          "name": "stderr",
          "output_type": "stream",
          "text": [
            "\rHold-out per group:   6%|▌         | 4/70 [03:46<57:37, 52.38s/it]  "
          ]
        },
        {
          "metadata": {
            "tags": null
          },
          "name": "stdout",
          "output_type": "stream",
          "text": [
            "[Save] Model -> /content/drive/MyDrive/Colab Notebooks/Supervised Project/Fine Tuning/models_store_dept_1y1y/model_CA_4_FOODS_1.bin\n",
            "[Save] Forecast -> /content/drive/MyDrive/Colab Notebooks/Supervised Project/Fine Tuning/train_store_dept_1y1y/forecast_TX_1_FOODS_1.pkl\n"
          ]
        },
        {
          "metadata": {
            "tags": null
          },
          "name": "stderr",
          "output_type": "stream",
          "text": [
            "\rHold-out per group:   7%|▋         | 5/70 [04:34<54:46, 50.56s/it]"
          ]
        },
        {
          "metadata": {
            "tags": null
          },
          "name": "stdout",
          "output_type": "stream",
          "text": [
            "[Save] Model -> /content/drive/MyDrive/Colab Notebooks/Supervised Project/Fine Tuning/models_store_dept_1y1y/model_TX_1_FOODS_1.bin\n",
            "[Save] Forecast -> /content/drive/MyDrive/Colab Notebooks/Supervised Project/Fine Tuning/train_store_dept_1y1y/forecast_TX_2_FOODS_1.pkl\n"
          ]
        },
        {
          "metadata": {
            "tags": null
          },
          "name": "stderr",
          "output_type": "stream",
          "text": [
            "\rHold-out per group:   9%|▊         | 6/70 [05:21<52:47, 49.49s/it]"
          ]
        },
        {
          "metadata": {
            "tags": null
          },
          "name": "stdout",
          "output_type": "stream",
          "text": [
            "[Save] Model -> /content/drive/MyDrive/Colab Notebooks/Supervised Project/Fine Tuning/models_store_dept_1y1y/model_TX_2_FOODS_1.bin\n",
            "[Save] Forecast -> /content/drive/MyDrive/Colab Notebooks/Supervised Project/Fine Tuning/train_store_dept_1y1y/forecast_TX_3_FOODS_1.pkl\n"
          ]
        },
        {
          "metadata": {
            "tags": null
          },
          "name": "stderr",
          "output_type": "stream",
          "text": [
            "\rHold-out per group:  10%|█         | 7/70 [06:09<51:27, 49.00s/it]"
          ]
        },
        {
          "metadata": {
            "tags": null
          },
          "name": "stdout",
          "output_type": "stream",
          "text": [
            "[Save] Model -> /content/drive/MyDrive/Colab Notebooks/Supervised Project/Fine Tuning/models_store_dept_1y1y/model_TX_3_FOODS_1.bin\n",
            "[Save] Forecast -> /content/drive/MyDrive/Colab Notebooks/Supervised Project/Fine Tuning/train_store_dept_1y1y/forecast_WI_1_FOODS_1.pkl\n"
          ]
        },
        {
          "metadata": {
            "tags": null
          },
          "name": "stderr",
          "output_type": "stream",
          "text": [
            "\rHold-out per group:  11%|█▏        | 8/70 [06:57<50:09, 48.55s/it]"
          ]
        },
        {
          "metadata": {
            "tags": null
          },
          "name": "stdout",
          "output_type": "stream",
          "text": [
            "[Save] Model -> /content/drive/MyDrive/Colab Notebooks/Supervised Project/Fine Tuning/models_store_dept_1y1y/model_WI_1_FOODS_1.bin\n",
            "[Save] Forecast -> /content/drive/MyDrive/Colab Notebooks/Supervised Project/Fine Tuning/train_store_dept_1y1y/forecast_WI_2_FOODS_1.pkl\n"
          ]
        },
        {
          "metadata": {
            "tags": null
          },
          "name": "stderr",
          "output_type": "stream",
          "text": [
            "\rHold-out per group:  13%|█▎        | 9/70 [07:45<49:13, 48.42s/it]"
          ]
        },
        {
          "metadata": {
            "tags": null
          },
          "name": "stdout",
          "output_type": "stream",
          "text": [
            "[Save] Model -> /content/drive/MyDrive/Colab Notebooks/Supervised Project/Fine Tuning/models_store_dept_1y1y/model_WI_2_FOODS_1.bin\n",
            "[Save] Forecast -> /content/drive/MyDrive/Colab Notebooks/Supervised Project/Fine Tuning/train_store_dept_1y1y/forecast_WI_3_FOODS_1.pkl\n"
          ]
        },
        {
          "metadata": {
            "tags": null
          },
          "name": "stderr",
          "output_type": "stream",
          "text": [
            "\rHold-out per group:  14%|█▍        | 10/70 [08:33<48:13, 48.22s/it]"
          ]
        },
        {
          "metadata": {
            "tags": null
          },
          "name": "stdout",
          "output_type": "stream",
          "text": [
            "[Save] Model -> /content/drive/MyDrive/Colab Notebooks/Supervised Project/Fine Tuning/models_store_dept_1y1y/model_WI_3_FOODS_1.bin\n",
            "[Save] Forecast -> /content/drive/MyDrive/Colab Notebooks/Supervised Project/Fine Tuning/train_store_dept_1y1y/forecast_CA_1_FOODS_2.pkl\n"
          ]
        },
        {
          "metadata": {
            "tags": null
          },
          "name": "stderr",
          "output_type": "stream",
          "text": [
            "\rHold-out per group:  16%|█▌        | 11/70 [09:29<49:52, 50.72s/it]"
          ]
        },
        {
          "metadata": {
            "tags": null
          },
          "name": "stdout",
          "output_type": "stream",
          "text": [
            "[Save] Model -> /content/drive/MyDrive/Colab Notebooks/Supervised Project/Fine Tuning/models_store_dept_1y1y/model_CA_1_FOODS_2.bin\n",
            "[Save] Forecast -> /content/drive/MyDrive/Colab Notebooks/Supervised Project/Fine Tuning/train_store_dept_1y1y/forecast_CA_2_FOODS_2.pkl\n"
          ]
        },
        {
          "metadata": {
            "tags": null
          },
          "name": "stderr",
          "output_type": "stream",
          "text": [
            "\rHold-out per group:  17%|█▋        | 12/70 [10:10<46:08, 47.73s/it]"
          ]
        },
        {
          "metadata": {
            "tags": null
          },
          "name": "stdout",
          "output_type": "stream",
          "text": [
            "[Save] Model -> /content/drive/MyDrive/Colab Notebooks/Supervised Project/Fine Tuning/models_store_dept_1y1y/model_CA_2_FOODS_2.bin\n",
            "[Save] Forecast -> /content/drive/MyDrive/Colab Notebooks/Supervised Project/Fine Tuning/train_store_dept_1y1y/forecast_CA_3_FOODS_2.pkl\n"
          ]
        },
        {
          "metadata": {
            "tags": null
          },
          "name": "stderr",
          "output_type": "stream",
          "text": [
            "\rHold-out per group:  19%|█▊        | 13/70 [11:06<47:39, 50.16s/it]"
          ]
        },
        {
          "metadata": {
            "tags": null
          },
          "name": "stdout",
          "output_type": "stream",
          "text": [
            "[Save] Model -> /content/drive/MyDrive/Colab Notebooks/Supervised Project/Fine Tuning/models_store_dept_1y1y/model_CA_3_FOODS_2.bin\n",
            "[Save] Forecast -> /content/drive/MyDrive/Colab Notebooks/Supervised Project/Fine Tuning/train_store_dept_1y1y/forecast_CA_4_FOODS_2.pkl\n"
          ]
        },
        {
          "metadata": {
            "tags": null
          },
          "name": "stderr",
          "output_type": "stream",
          "text": [
            "\rHold-out per group:  20%|██        | 14/70 [12:03<48:40, 52.15s/it]"
          ]
        },
        {
          "metadata": {
            "tags": null
          },
          "name": "stdout",
          "output_type": "stream",
          "text": [
            "[Save] Model -> /content/drive/MyDrive/Colab Notebooks/Supervised Project/Fine Tuning/models_store_dept_1y1y/model_CA_4_FOODS_2.bin\n",
            "[Save] Forecast -> /content/drive/MyDrive/Colab Notebooks/Supervised Project/Fine Tuning/train_store_dept_1y1y/forecast_TX_1_FOODS_2.pkl\n"
          ]
        },
        {
          "metadata": {
            "tags": null
          },
          "name": "stderr",
          "output_type": "stream",
          "text": [
            "\rHold-out per group:  21%|██▏       | 15/70 [12:59<48:58, 53.42s/it]"
          ]
        },
        {
          "metadata": {
            "tags": null
          },
          "name": "stdout",
          "output_type": "stream",
          "text": [
            "[Save] Model -> /content/drive/MyDrive/Colab Notebooks/Supervised Project/Fine Tuning/models_store_dept_1y1y/model_TX_1_FOODS_2.bin\n",
            "[Save] Forecast -> /content/drive/MyDrive/Colab Notebooks/Supervised Project/Fine Tuning/train_store_dept_1y1y/forecast_TX_2_FOODS_2.pkl\n"
          ]
        },
        {
          "metadata": {
            "tags": null
          },
          "name": "stderr",
          "output_type": "stream",
          "text": [
            "\rHold-out per group:  23%|██▎       | 16/70 [13:55<48:48, 54.23s/it]"
          ]
        },
        {
          "metadata": {
            "tags": null
          },
          "name": "stdout",
          "output_type": "stream",
          "text": [
            "[Save] Model -> /content/drive/MyDrive/Colab Notebooks/Supervised Project/Fine Tuning/models_store_dept_1y1y/model_TX_2_FOODS_2.bin\n",
            "[Save] Forecast -> /content/drive/MyDrive/Colab Notebooks/Supervised Project/Fine Tuning/train_store_dept_1y1y/forecast_TX_3_FOODS_2.pkl\n"
          ]
        },
        {
          "metadata": {
            "tags": null
          },
          "name": "stderr",
          "output_type": "stream",
          "text": [
            "\rHold-out per group:  24%|██▍       | 17/70 [14:51<48:30, 54.92s/it]"
          ]
        },
        {
          "metadata": {
            "tags": null
          },
          "name": "stdout",
          "output_type": "stream",
          "text": [
            "[Save] Model -> /content/drive/MyDrive/Colab Notebooks/Supervised Project/Fine Tuning/models_store_dept_1y1y/model_TX_3_FOODS_2.bin\n",
            "[Save] Forecast -> /content/drive/MyDrive/Colab Notebooks/Supervised Project/Fine Tuning/train_store_dept_1y1y/forecast_WI_1_FOODS_2.pkl\n"
          ]
        },
        {
          "metadata": {
            "tags": null
          },
          "name": "stderr",
          "output_type": "stream",
          "text": [
            "\rHold-out per group:  26%|██▌       | 18/70 [15:47<47:38, 54.97s/it]"
          ]
        },
        {
          "metadata": {
            "tags": null
          },
          "name": "stdout",
          "output_type": "stream",
          "text": [
            "[Save] Model -> /content/drive/MyDrive/Colab Notebooks/Supervised Project/Fine Tuning/models_store_dept_1y1y/model_WI_1_FOODS_2.bin\n",
            "[Save] Forecast -> /content/drive/MyDrive/Colab Notebooks/Supervised Project/Fine Tuning/train_store_dept_1y1y/forecast_WI_2_FOODS_2.pkl\n"
          ]
        },
        {
          "metadata": {
            "tags": null
          },
          "name": "stderr",
          "output_type": "stream",
          "text": [
            "\rHold-out per group:  27%|██▋       | 19/70 [16:43<47:06, 55.42s/it]"
          ]
        },
        {
          "metadata": {
            "tags": null
          },
          "name": "stdout",
          "output_type": "stream",
          "text": [
            "[Save] Model -> /content/drive/MyDrive/Colab Notebooks/Supervised Project/Fine Tuning/models_store_dept_1y1y/model_WI_2_FOODS_2.bin\n",
            "[Save] Forecast -> /content/drive/MyDrive/Colab Notebooks/Supervised Project/Fine Tuning/train_store_dept_1y1y/forecast_WI_3_FOODS_2.pkl\n"
          ]
        },
        {
          "metadata": {
            "tags": null
          },
          "name": "stderr",
          "output_type": "stream",
          "text": [
            "\rHold-out per group:  29%|██▊       | 20/70 [17:40<46:35, 55.91s/it]"
          ]
        },
        {
          "metadata": {
            "tags": null
          },
          "name": "stdout",
          "output_type": "stream",
          "text": [
            "[Save] Model -> /content/drive/MyDrive/Colab Notebooks/Supervised Project/Fine Tuning/models_store_dept_1y1y/model_WI_3_FOODS_2.bin\n",
            "[Save] Forecast -> /content/drive/MyDrive/Colab Notebooks/Supervised Project/Fine Tuning/train_store_dept_1y1y/forecast_CA_1_FOODS_3.pkl\n"
          ]
        },
        {
          "metadata": {
            "tags": null
          },
          "name": "stderr",
          "output_type": "stream",
          "text": [
            "\rHold-out per group:  30%|███       | 21/70 [18:59<51:17, 62.81s/it]"
          ]
        },
        {
          "metadata": {
            "tags": null
          },
          "name": "stdout",
          "output_type": "stream",
          "text": [
            "[Save] Model -> /content/drive/MyDrive/Colab Notebooks/Supervised Project/Fine Tuning/models_store_dept_1y1y/model_CA_1_FOODS_3.bin\n",
            "[Save] Forecast -> /content/drive/MyDrive/Colab Notebooks/Supervised Project/Fine Tuning/train_store_dept_1y1y/forecast_CA_2_FOODS_3.pkl\n"
          ]
        },
        {
          "metadata": {
            "tags": null
          },
          "name": "stderr",
          "output_type": "stream",
          "text": [
            "\rHold-out per group:  31%|███▏      | 22/70 [20:15<53:21, 66.70s/it]"
          ]
        },
        {
          "metadata": {
            "tags": null
          },
          "name": "stdout",
          "output_type": "stream",
          "text": [
            "[Save] Model -> /content/drive/MyDrive/Colab Notebooks/Supervised Project/Fine Tuning/models_store_dept_1y1y/model_CA_2_FOODS_3.bin\n",
            "[Save] Forecast -> /content/drive/MyDrive/Colab Notebooks/Supervised Project/Fine Tuning/train_store_dept_1y1y/forecast_CA_3_FOODS_3.pkl\n"
          ]
        },
        {
          "metadata": {
            "tags": null
          },
          "name": "stderr",
          "output_type": "stream",
          "text": [
            "\rHold-out per group:  33%|███▎      | 23/70 [21:33<54:55, 70.11s/it]"
          ]
        },
        {
          "metadata": {
            "tags": null
          },
          "name": "stdout",
          "output_type": "stream",
          "text": [
            "[Save] Model -> /content/drive/MyDrive/Colab Notebooks/Supervised Project/Fine Tuning/models_store_dept_1y1y/model_CA_3_FOODS_3.bin\n",
            "[Save] Forecast -> /content/drive/MyDrive/Colab Notebooks/Supervised Project/Fine Tuning/train_store_dept_1y1y/forecast_CA_4_FOODS_3.pkl\n"
          ]
        },
        {
          "metadata": {
            "tags": null
          },
          "name": "stderr",
          "output_type": "stream",
          "text": [
            "\rHold-out per group:  34%|███▍      | 24/70 [22:49<55:13, 72.03s/it]"
          ]
        },
        {
          "metadata": {
            "tags": null
          },
          "name": "stdout",
          "output_type": "stream",
          "text": [
            "[Save] Model -> /content/drive/MyDrive/Colab Notebooks/Supervised Project/Fine Tuning/models_store_dept_1y1y/model_CA_4_FOODS_3.bin\n",
            "[Save] Forecast -> /content/drive/MyDrive/Colab Notebooks/Supervised Project/Fine Tuning/train_store_dept_1y1y/forecast_TX_1_FOODS_3.pkl\n"
          ]
        },
        {
          "metadata": {
            "tags": null
          },
          "name": "stderr",
          "output_type": "stream",
          "text": [
            "\rHold-out per group:  36%|███▌      | 25/70 [24:08<55:25, 73.89s/it]"
          ]
        },
        {
          "metadata": {
            "tags": null
          },
          "name": "stdout",
          "output_type": "stream",
          "text": [
            "[Save] Model -> /content/drive/MyDrive/Colab Notebooks/Supervised Project/Fine Tuning/models_store_dept_1y1y/model_TX_1_FOODS_3.bin\n",
            "[Save] Forecast -> /content/drive/MyDrive/Colab Notebooks/Supervised Project/Fine Tuning/train_store_dept_1y1y/forecast_TX_2_FOODS_3.pkl\n"
          ]
        },
        {
          "metadata": {
            "tags": null
          },
          "name": "stderr",
          "output_type": "stream",
          "text": [
            "\rHold-out per group:  37%|███▋      | 26/70 [25:25<54:53, 74.85s/it]"
          ]
        },
        {
          "output_type": "stream",
          "name": "stdout",
          "text": [
            "[Save] Model -> /content/drive/MyDrive/Colab Notebooks/Supervised Project/Fine Tuning/models_store_dept_1y1y/model_TX_2_FOODS_3.bin\n",
            "[Save] Forecast -> /content/drive/MyDrive/Colab Notebooks/Supervised Project/Fine Tuning/train_store_dept_1y1y/forecast_TX_3_FOODS_3.pkl\n"
          ]
        },
        {
          "output_type": "stream",
          "name": "stderr",
          "text": [
            "\rHold-out per group:  39%|███▊      | 27/70 [26:42<54:06, 75.51s/it]"
          ]
        },
        {
          "output_type": "stream",
          "name": "stdout",
          "text": [
            "[Save] Model -> /content/drive/MyDrive/Colab Notebooks/Supervised Project/Fine Tuning/models_store_dept_1y1y/model_TX_3_FOODS_3.bin\n",
            "[Save] Forecast -> /content/drive/MyDrive/Colab Notebooks/Supervised Project/Fine Tuning/train_store_dept_1y1y/forecast_WI_1_FOODS_3.pkl\n"
          ]
        },
        {
          "output_type": "stream",
          "name": "stderr",
          "text": [
            "\rHold-out per group:  40%|████      | 28/70 [27:57<52:52, 75.52s/it]"
          ]
        },
        {
          "output_type": "stream",
          "name": "stdout",
          "text": [
            "[Save] Model -> /content/drive/MyDrive/Colab Notebooks/Supervised Project/Fine Tuning/models_store_dept_1y1y/model_WI_1_FOODS_3.bin\n",
            "[Save] Forecast -> /content/drive/MyDrive/Colab Notebooks/Supervised Project/Fine Tuning/train_store_dept_1y1y/forecast_WI_2_FOODS_3.pkl\n"
          ]
        },
        {
          "output_type": "stream",
          "name": "stderr",
          "text": [
            "\rHold-out per group:  41%|████▏     | 29/70 [29:18<52:39, 77.07s/it]"
          ]
        },
        {
          "output_type": "stream",
          "name": "stdout",
          "text": [
            "[Save] Model -> /content/drive/MyDrive/Colab Notebooks/Supervised Project/Fine Tuning/models_store_dept_1y1y/model_WI_2_FOODS_3.bin\n",
            "[Save] Forecast -> /content/drive/MyDrive/Colab Notebooks/Supervised Project/Fine Tuning/train_store_dept_1y1y/forecast_WI_3_FOODS_3.pkl\n"
          ]
        },
        {
          "output_type": "stream",
          "name": "stderr",
          "text": [
            "\rHold-out per group:  43%|████▎     | 30/70 [30:36<51:29, 77.23s/it]"
          ]
        },
        {
          "output_type": "stream",
          "name": "stdout",
          "text": [
            "[Save] Model -> /content/drive/MyDrive/Colab Notebooks/Supervised Project/Fine Tuning/models_store_dept_1y1y/model_WI_3_FOODS_3.bin\n",
            "[Save] Forecast -> /content/drive/MyDrive/Colab Notebooks/Supervised Project/Fine Tuning/train_store_dept_1y1y/forecast_CA_1_HOBBIES_1.pkl\n"
          ]
        },
        {
          "output_type": "stream",
          "name": "stderr",
          "text": [
            "\rHold-out per group:  44%|████▍     | 31/70 [31:34<46:32, 71.59s/it]"
          ]
        },
        {
          "output_type": "stream",
          "name": "stdout",
          "text": [
            "[Save] Model -> /content/drive/MyDrive/Colab Notebooks/Supervised Project/Fine Tuning/models_store_dept_1y1y/model_CA_1_HOBBIES_1.bin\n",
            "[Save] Forecast -> /content/drive/MyDrive/Colab Notebooks/Supervised Project/Fine Tuning/train_store_dept_1y1y/forecast_CA_2_HOBBIES_1.pkl\n"
          ]
        },
        {
          "output_type": "stream",
          "name": "stderr",
          "text": [
            "\rHold-out per group:  46%|████▌     | 32/70 [32:34<43:04, 68.01s/it]"
          ]
        },
        {
          "output_type": "stream",
          "name": "stdout",
          "text": [
            "[Save] Model -> /content/drive/MyDrive/Colab Notebooks/Supervised Project/Fine Tuning/models_store_dept_1y1y/model_CA_2_HOBBIES_1.bin\n",
            "[Save] Forecast -> /content/drive/MyDrive/Colab Notebooks/Supervised Project/Fine Tuning/train_store_dept_1y1y/forecast_CA_3_HOBBIES_1.pkl\n"
          ]
        },
        {
          "output_type": "stream",
          "name": "stderr",
          "text": [
            "\rHold-out per group:  47%|████▋     | 33/70 [33:32<40:04, 64.98s/it]"
          ]
        },
        {
          "output_type": "stream",
          "name": "stdout",
          "text": [
            "[Save] Model -> /content/drive/MyDrive/Colab Notebooks/Supervised Project/Fine Tuning/models_store_dept_1y1y/model_CA_3_HOBBIES_1.bin\n",
            "[Save] Forecast -> /content/drive/MyDrive/Colab Notebooks/Supervised Project/Fine Tuning/train_store_dept_1y1y/forecast_CA_4_HOBBIES_1.pkl\n"
          ]
        },
        {
          "output_type": "stream",
          "name": "stderr",
          "text": [
            "\rHold-out per group:  49%|████▊     | 34/70 [34:30<37:49, 63.05s/it]"
          ]
        },
        {
          "output_type": "stream",
          "name": "stdout",
          "text": [
            "[Save] Model -> /content/drive/MyDrive/Colab Notebooks/Supervised Project/Fine Tuning/models_store_dept_1y1y/model_CA_4_HOBBIES_1.bin\n",
            "[Save] Forecast -> /content/drive/MyDrive/Colab Notebooks/Supervised Project/Fine Tuning/train_store_dept_1y1y/forecast_TX_1_HOBBIES_1.pkl\n"
          ]
        },
        {
          "output_type": "stream",
          "name": "stderr",
          "text": [
            "\rHold-out per group:  50%|█████     | 35/70 [35:30<36:11, 62.03s/it]"
          ]
        },
        {
          "output_type": "stream",
          "name": "stdout",
          "text": [
            "[Save] Model -> /content/drive/MyDrive/Colab Notebooks/Supervised Project/Fine Tuning/models_store_dept_1y1y/model_TX_1_HOBBIES_1.bin\n",
            "[Save] Forecast -> /content/drive/MyDrive/Colab Notebooks/Supervised Project/Fine Tuning/train_store_dept_1y1y/forecast_TX_2_HOBBIES_1.pkl\n"
          ]
        },
        {
          "output_type": "stream",
          "name": "stderr",
          "text": [
            "\rHold-out per group:  51%|█████▏    | 36/70 [36:29<34:36, 61.07s/it]"
          ]
        },
        {
          "output_type": "stream",
          "name": "stdout",
          "text": [
            "[Save] Model -> /content/drive/MyDrive/Colab Notebooks/Supervised Project/Fine Tuning/models_store_dept_1y1y/model_TX_2_HOBBIES_1.bin\n",
            "[Save] Forecast -> /content/drive/MyDrive/Colab Notebooks/Supervised Project/Fine Tuning/train_store_dept_1y1y/forecast_TX_3_HOBBIES_1.pkl\n"
          ]
        },
        {
          "output_type": "stream",
          "name": "stderr",
          "text": [
            "\rHold-out per group:  53%|█████▎    | 37/70 [37:27<33:11, 60.34s/it]"
          ]
        },
        {
          "output_type": "stream",
          "name": "stdout",
          "text": [
            "[Save] Model -> /content/drive/MyDrive/Colab Notebooks/Supervised Project/Fine Tuning/models_store_dept_1y1y/model_TX_3_HOBBIES_1.bin\n",
            "[Save] Forecast -> /content/drive/MyDrive/Colab Notebooks/Supervised Project/Fine Tuning/train_store_dept_1y1y/forecast_WI_1_HOBBIES_1.pkl\n"
          ]
        },
        {
          "output_type": "stream",
          "name": "stderr",
          "text": [
            "\rHold-out per group:  54%|█████▍    | 38/70 [38:26<31:56, 59.89s/it]"
          ]
        },
        {
          "output_type": "stream",
          "name": "stdout",
          "text": [
            "[Save] Model -> /content/drive/MyDrive/Colab Notebooks/Supervised Project/Fine Tuning/models_store_dept_1y1y/model_WI_1_HOBBIES_1.bin\n",
            "[Save] Forecast -> /content/drive/MyDrive/Colab Notebooks/Supervised Project/Fine Tuning/train_store_dept_1y1y/forecast_WI_2_HOBBIES_1.pkl\n"
          ]
        },
        {
          "output_type": "stream",
          "name": "stderr",
          "text": [
            "\rHold-out per group:  56%|█████▌    | 39/70 [39:26<30:52, 59.77s/it]"
          ]
        },
        {
          "output_type": "stream",
          "name": "stdout",
          "text": [
            "[Save] Model -> /content/drive/MyDrive/Colab Notebooks/Supervised Project/Fine Tuning/models_store_dept_1y1y/model_WI_2_HOBBIES_1.bin\n",
            "[Save] Forecast -> /content/drive/MyDrive/Colab Notebooks/Supervised Project/Fine Tuning/train_store_dept_1y1y/forecast_WI_3_HOBBIES_1.pkl\n"
          ]
        },
        {
          "output_type": "stream",
          "name": "stderr",
          "text": [
            "\rHold-out per group:  57%|█████▋    | 40/70 [40:25<29:47, 59.59s/it]"
          ]
        },
        {
          "output_type": "stream",
          "name": "stdout",
          "text": [
            "[Save] Model -> /content/drive/MyDrive/Colab Notebooks/Supervised Project/Fine Tuning/models_store_dept_1y1y/model_WI_3_HOBBIES_1.bin\n",
            "[Save] Forecast -> /content/drive/MyDrive/Colab Notebooks/Supervised Project/Fine Tuning/train_store_dept_1y1y/forecast_CA_1_HOBBIES_2.pkl\n"
          ]
        },
        {
          "output_type": "stream",
          "name": "stderr",
          "text": [
            "\rHold-out per group:  59%|█████▊    | 41/70 [41:05<25:55, 53.66s/it]"
          ]
        },
        {
          "output_type": "stream",
          "name": "stdout",
          "text": [
            "[Save] Model -> /content/drive/MyDrive/Colab Notebooks/Supervised Project/Fine Tuning/models_store_dept_1y1y/model_CA_1_HOBBIES_2.bin\n",
            "[Save] Forecast -> /content/drive/MyDrive/Colab Notebooks/Supervised Project/Fine Tuning/train_store_dept_1y1y/forecast_CA_2_HOBBIES_2.pkl\n"
          ]
        },
        {
          "output_type": "stream",
          "name": "stderr",
          "text": [
            "\rHold-out per group:  60%|██████    | 42/70 [41:45<23:11, 49.69s/it]"
          ]
        },
        {
          "output_type": "stream",
          "name": "stdout",
          "text": [
            "[Save] Model -> /content/drive/MyDrive/Colab Notebooks/Supervised Project/Fine Tuning/models_store_dept_1y1y/model_CA_2_HOBBIES_2.bin\n",
            "[Save] Forecast -> /content/drive/MyDrive/Colab Notebooks/Supervised Project/Fine Tuning/train_store_dept_1y1y/forecast_CA_3_HOBBIES_2.pkl\n"
          ]
        },
        {
          "output_type": "stream",
          "name": "stderr",
          "text": [
            "\rHold-out per group:  61%|██████▏   | 43/70 [42:25<21:06, 46.92s/it]"
          ]
        },
        {
          "output_type": "stream",
          "name": "stdout",
          "text": [
            "[Save] Model -> /content/drive/MyDrive/Colab Notebooks/Supervised Project/Fine Tuning/models_store_dept_1y1y/model_CA_3_HOBBIES_2.bin\n",
            "[Save] Forecast -> /content/drive/MyDrive/Colab Notebooks/Supervised Project/Fine Tuning/train_store_dept_1y1y/forecast_CA_4_HOBBIES_2.pkl\n"
          ]
        },
        {
          "output_type": "stream",
          "name": "stderr",
          "text": [
            "\rHold-out per group:  63%|██████▎   | 44/70 [43:04<19:17, 44.54s/it]"
          ]
        },
        {
          "output_type": "stream",
          "name": "stdout",
          "text": [
            "[Save] Model -> /content/drive/MyDrive/Colab Notebooks/Supervised Project/Fine Tuning/models_store_dept_1y1y/model_CA_4_HOBBIES_2.bin\n",
            "[Save] Forecast -> /content/drive/MyDrive/Colab Notebooks/Supervised Project/Fine Tuning/train_store_dept_1y1y/forecast_TX_1_HOBBIES_2.pkl\n"
          ]
        },
        {
          "output_type": "stream",
          "name": "stderr",
          "text": [
            "\rHold-out per group:  64%|██████▍   | 45/70 [43:44<17:56, 43.05s/it]"
          ]
        },
        {
          "output_type": "stream",
          "name": "stdout",
          "text": [
            "[Save] Model -> /content/drive/MyDrive/Colab Notebooks/Supervised Project/Fine Tuning/models_store_dept_1y1y/model_TX_1_HOBBIES_2.bin\n",
            "[Save] Forecast -> /content/drive/MyDrive/Colab Notebooks/Supervised Project/Fine Tuning/train_store_dept_1y1y/forecast_TX_2_HOBBIES_2.pkl\n"
          ]
        },
        {
          "output_type": "stream",
          "name": "stderr",
          "text": [
            "\rHold-out per group:  66%|██████▌   | 46/70 [44:25<16:57, 42.38s/it]"
          ]
        },
        {
          "output_type": "stream",
          "name": "stdout",
          "text": [
            "[Save] Model -> /content/drive/MyDrive/Colab Notebooks/Supervised Project/Fine Tuning/models_store_dept_1y1y/model_TX_2_HOBBIES_2.bin\n",
            "[Save] Forecast -> /content/drive/MyDrive/Colab Notebooks/Supervised Project/Fine Tuning/train_store_dept_1y1y/forecast_TX_3_HOBBIES_2.pkl\n"
          ]
        },
        {
          "output_type": "stream",
          "name": "stderr",
          "text": [
            "\rHold-out per group:  67%|██████▋   | 47/70 [45:05<16:01, 41.80s/it]"
          ]
        },
        {
          "output_type": "stream",
          "name": "stdout",
          "text": [
            "[Save] Model -> /content/drive/MyDrive/Colab Notebooks/Supervised Project/Fine Tuning/models_store_dept_1y1y/model_TX_3_HOBBIES_2.bin\n",
            "[Save] Forecast -> /content/drive/MyDrive/Colab Notebooks/Supervised Project/Fine Tuning/train_store_dept_1y1y/forecast_WI_1_HOBBIES_2.pkl\n"
          ]
        },
        {
          "output_type": "stream",
          "name": "stderr",
          "text": [
            "\rHold-out per group:  69%|██████▊   | 48/70 [45:45<15:08, 41.29s/it]"
          ]
        },
        {
          "output_type": "stream",
          "name": "stdout",
          "text": [
            "[Save] Model -> /content/drive/MyDrive/Colab Notebooks/Supervised Project/Fine Tuning/models_store_dept_1y1y/model_WI_1_HOBBIES_2.bin\n",
            "[Save] Forecast -> /content/drive/MyDrive/Colab Notebooks/Supervised Project/Fine Tuning/train_store_dept_1y1y/forecast_WI_2_HOBBIES_2.pkl\n"
          ]
        },
        {
          "output_type": "stream",
          "name": "stderr",
          "text": [
            "\rHold-out per group:  70%|███████   | 49/70 [46:25<14:15, 40.75s/it]"
          ]
        },
        {
          "output_type": "stream",
          "name": "stdout",
          "text": [
            "[Save] Model -> /content/drive/MyDrive/Colab Notebooks/Supervised Project/Fine Tuning/models_store_dept_1y1y/model_WI_2_HOBBIES_2.bin\n",
            "[Save] Forecast -> /content/drive/MyDrive/Colab Notebooks/Supervised Project/Fine Tuning/train_store_dept_1y1y/forecast_WI_3_HOBBIES_2.pkl\n"
          ]
        },
        {
          "output_type": "stream",
          "name": "stderr",
          "text": [
            "\rHold-out per group:  71%|███████▏  | 50/70 [47:03<13:21, 40.07s/it]"
          ]
        },
        {
          "output_type": "stream",
          "name": "stdout",
          "text": [
            "[Save] Model -> /content/drive/MyDrive/Colab Notebooks/Supervised Project/Fine Tuning/models_store_dept_1y1y/model_WI_3_HOBBIES_2.bin\n",
            "[Save] Forecast -> /content/drive/MyDrive/Colab Notebooks/Supervised Project/Fine Tuning/train_store_dept_1y1y/forecast_CA_1_HOUSEHOLD_1.pkl\n"
          ]
        },
        {
          "output_type": "stream",
          "name": "stderr",
          "text": [
            "\rHold-out per group:  73%|███████▎  | 51/70 [48:03<14:35, 46.09s/it]"
          ]
        },
        {
          "output_type": "stream",
          "name": "stdout",
          "text": [
            "[Save] Model -> /content/drive/MyDrive/Colab Notebooks/Supervised Project/Fine Tuning/models_store_dept_1y1y/model_CA_1_HOUSEHOLD_1.bin\n",
            "[Save] Forecast -> /content/drive/MyDrive/Colab Notebooks/Supervised Project/Fine Tuning/train_store_dept_1y1y/forecast_CA_2_HOUSEHOLD_1.pkl\n"
          ]
        },
        {
          "output_type": "stream",
          "name": "stderr",
          "text": [
            "\rHold-out per group:  74%|███████▍  | 52/70 [49:04<15:08, 50.49s/it]"
          ]
        },
        {
          "output_type": "stream",
          "name": "stdout",
          "text": [
            "[Save] Model -> /content/drive/MyDrive/Colab Notebooks/Supervised Project/Fine Tuning/models_store_dept_1y1y/model_CA_2_HOUSEHOLD_1.bin\n",
            "[Save] Forecast -> /content/drive/MyDrive/Colab Notebooks/Supervised Project/Fine Tuning/train_store_dept_1y1y/forecast_CA_3_HOUSEHOLD_1.pkl\n"
          ]
        },
        {
          "output_type": "stream",
          "name": "stderr",
          "text": [
            "\rHold-out per group:  76%|███████▌  | 53/70 [50:05<15:10, 53.53s/it]"
          ]
        },
        {
          "output_type": "stream",
          "name": "stdout",
          "text": [
            "[Save] Model -> /content/drive/MyDrive/Colab Notebooks/Supervised Project/Fine Tuning/models_store_dept_1y1y/model_CA_3_HOUSEHOLD_1.bin\n",
            "[Save] Forecast -> /content/drive/MyDrive/Colab Notebooks/Supervised Project/Fine Tuning/train_store_dept_1y1y/forecast_CA_4_HOUSEHOLD_1.pkl\n"
          ]
        },
        {
          "output_type": "stream",
          "name": "stderr",
          "text": [
            "\rHold-out per group:  77%|███████▋  | 54/70 [51:05<14:46, 55.42s/it]"
          ]
        },
        {
          "output_type": "stream",
          "name": "stdout",
          "text": [
            "[Save] Model -> /content/drive/MyDrive/Colab Notebooks/Supervised Project/Fine Tuning/models_store_dept_1y1y/model_CA_4_HOUSEHOLD_1.bin\n",
            "[Save] Forecast -> /content/drive/MyDrive/Colab Notebooks/Supervised Project/Fine Tuning/train_store_dept_1y1y/forecast_TX_1_HOUSEHOLD_1.pkl\n"
          ]
        },
        {
          "output_type": "stream",
          "name": "stderr",
          "text": [
            "\rHold-out per group:  79%|███████▊  | 55/70 [52:05<14:13, 56.88s/it]"
          ]
        },
        {
          "output_type": "stream",
          "name": "stdout",
          "text": [
            "[Save] Model -> /content/drive/MyDrive/Colab Notebooks/Supervised Project/Fine Tuning/models_store_dept_1y1y/model_TX_1_HOUSEHOLD_1.bin\n",
            "[Save] Forecast -> /content/drive/MyDrive/Colab Notebooks/Supervised Project/Fine Tuning/train_store_dept_1y1y/forecast_TX_2_HOUSEHOLD_1.pkl\n"
          ]
        },
        {
          "output_type": "stream",
          "name": "stderr",
          "text": [
            "\rHold-out per group:  80%|████████  | 56/70 [53:06<13:33, 58.08s/it]"
          ]
        },
        {
          "output_type": "stream",
          "name": "stdout",
          "text": [
            "[Save] Model -> /content/drive/MyDrive/Colab Notebooks/Supervised Project/Fine Tuning/models_store_dept_1y1y/model_TX_2_HOUSEHOLD_1.bin\n",
            "[Save] Forecast -> /content/drive/MyDrive/Colab Notebooks/Supervised Project/Fine Tuning/train_store_dept_1y1y/forecast_TX_3_HOUSEHOLD_1.pkl\n"
          ]
        },
        {
          "output_type": "stream",
          "name": "stderr",
          "text": [
            "\rHold-out per group:  81%|████████▏ | 57/70 [54:06<12:43, 58.75s/it]"
          ]
        },
        {
          "output_type": "stream",
          "name": "stdout",
          "text": [
            "[Save] Model -> /content/drive/MyDrive/Colab Notebooks/Supervised Project/Fine Tuning/models_store_dept_1y1y/model_TX_3_HOUSEHOLD_1.bin\n",
            "[Save] Forecast -> /content/drive/MyDrive/Colab Notebooks/Supervised Project/Fine Tuning/train_store_dept_1y1y/forecast_WI_1_HOUSEHOLD_1.pkl\n"
          ]
        },
        {
          "output_type": "stream",
          "name": "stderr",
          "text": [
            "\rHold-out per group:  83%|████████▎ | 58/70 [55:06<11:49, 59.11s/it]"
          ]
        },
        {
          "output_type": "stream",
          "name": "stdout",
          "text": [
            "[Save] Model -> /content/drive/MyDrive/Colab Notebooks/Supervised Project/Fine Tuning/models_store_dept_1y1y/model_WI_1_HOUSEHOLD_1.bin\n",
            "[Save] Forecast -> /content/drive/MyDrive/Colab Notebooks/Supervised Project/Fine Tuning/train_store_dept_1y1y/forecast_WI_2_HOUSEHOLD_1.pkl\n"
          ]
        },
        {
          "output_type": "stream",
          "name": "stderr",
          "text": [
            "\rHold-out per group:  84%|████████▍ | 59/70 [56:07<10:56, 59.72s/it]"
          ]
        },
        {
          "output_type": "stream",
          "name": "stdout",
          "text": [
            "[Save] Model -> /content/drive/MyDrive/Colab Notebooks/Supervised Project/Fine Tuning/models_store_dept_1y1y/model_WI_2_HOUSEHOLD_1.bin\n",
            "[Save] Forecast -> /content/drive/MyDrive/Colab Notebooks/Supervised Project/Fine Tuning/train_store_dept_1y1y/forecast_WI_3_HOUSEHOLD_1.pkl\n"
          ]
        },
        {
          "output_type": "stream",
          "name": "stderr",
          "text": [
            "\rHold-out per group:  86%|████████▌ | 60/70 [57:08<10:00, 60.05s/it]"
          ]
        },
        {
          "output_type": "stream",
          "name": "stdout",
          "text": [
            "[Save] Model -> /content/drive/MyDrive/Colab Notebooks/Supervised Project/Fine Tuning/models_store_dept_1y1y/model_WI_3_HOUSEHOLD_1.bin\n",
            "[Save] Forecast -> /content/drive/MyDrive/Colab Notebooks/Supervised Project/Fine Tuning/train_store_dept_1y1y/forecast_CA_1_HOUSEHOLD_2.pkl\n"
          ]
        },
        {
          "output_type": "stream",
          "name": "stderr",
          "text": [
            "\rHold-out per group:  87%|████████▋ | 61/70 [58:08<09:00, 60.06s/it]"
          ]
        },
        {
          "output_type": "stream",
          "name": "stdout",
          "text": [
            "[Save] Model -> /content/drive/MyDrive/Colab Notebooks/Supervised Project/Fine Tuning/models_store_dept_1y1y/model_CA_1_HOUSEHOLD_2.bin\n",
            "[Save] Forecast -> /content/drive/MyDrive/Colab Notebooks/Supervised Project/Fine Tuning/train_store_dept_1y1y/forecast_CA_2_HOUSEHOLD_2.pkl\n"
          ]
        },
        {
          "output_type": "stream",
          "name": "stderr",
          "text": [
            "\rHold-out per group:  89%|████████▊ | 62/70 [59:08<08:00, 60.03s/it]"
          ]
        },
        {
          "output_type": "stream",
          "name": "stdout",
          "text": [
            "[Save] Model -> /content/drive/MyDrive/Colab Notebooks/Supervised Project/Fine Tuning/models_store_dept_1y1y/model_CA_2_HOUSEHOLD_2.bin\n",
            "[Save] Forecast -> /content/drive/MyDrive/Colab Notebooks/Supervised Project/Fine Tuning/train_store_dept_1y1y/forecast_CA_3_HOUSEHOLD_2.pkl\n"
          ]
        },
        {
          "output_type": "stream",
          "name": "stderr",
          "text": [
            "\rHold-out per group:  90%|█████████ | 63/70 [1:00:09<07:01, 60.23s/it]"
          ]
        },
        {
          "output_type": "stream",
          "name": "stdout",
          "text": [
            "[Save] Model -> /content/drive/MyDrive/Colab Notebooks/Supervised Project/Fine Tuning/models_store_dept_1y1y/model_CA_3_HOUSEHOLD_2.bin\n",
            "[Save] Forecast -> /content/drive/MyDrive/Colab Notebooks/Supervised Project/Fine Tuning/train_store_dept_1y1y/forecast_CA_4_HOUSEHOLD_2.pkl\n"
          ]
        },
        {
          "output_type": "stream",
          "name": "stderr",
          "text": [
            "\rHold-out per group:  91%|█████████▏| 64/70 [1:01:09<06:00, 60.08s/it]"
          ]
        },
        {
          "output_type": "stream",
          "name": "stdout",
          "text": [
            "[Save] Model -> /content/drive/MyDrive/Colab Notebooks/Supervised Project/Fine Tuning/models_store_dept_1y1y/model_CA_4_HOUSEHOLD_2.bin\n",
            "[Save] Forecast -> /content/drive/MyDrive/Colab Notebooks/Supervised Project/Fine Tuning/train_store_dept_1y1y/forecast_TX_1_HOUSEHOLD_2.pkl\n"
          ]
        },
        {
          "output_type": "stream",
          "name": "stderr",
          "text": [
            "\rHold-out per group:  93%|█████████▎| 65/70 [1:02:09<05:01, 60.29s/it]"
          ]
        },
        {
          "output_type": "stream",
          "name": "stdout",
          "text": [
            "[Save] Model -> /content/drive/MyDrive/Colab Notebooks/Supervised Project/Fine Tuning/models_store_dept_1y1y/model_TX_1_HOUSEHOLD_2.bin\n",
            "[Save] Forecast -> /content/drive/MyDrive/Colab Notebooks/Supervised Project/Fine Tuning/train_store_dept_1y1y/forecast_TX_2_HOUSEHOLD_2.pkl\n"
          ]
        },
        {
          "output_type": "stream",
          "name": "stderr",
          "text": [
            "\rHold-out per group:  94%|█████████▍| 66/70 [1:03:10<04:01, 60.45s/it]"
          ]
        },
        {
          "output_type": "stream",
          "name": "stdout",
          "text": [
            "[Save] Model -> /content/drive/MyDrive/Colab Notebooks/Supervised Project/Fine Tuning/models_store_dept_1y1y/model_TX_2_HOUSEHOLD_2.bin\n",
            "[Save] Forecast -> /content/drive/MyDrive/Colab Notebooks/Supervised Project/Fine Tuning/train_store_dept_1y1y/forecast_TX_3_HOUSEHOLD_2.pkl\n"
          ]
        },
        {
          "output_type": "stream",
          "name": "stderr",
          "text": [
            "\rHold-out per group:  96%|█████████▌| 67/70 [1:04:10<03:00, 60.24s/it]"
          ]
        },
        {
          "output_type": "stream",
          "name": "stdout",
          "text": [
            "[Save] Model -> /content/drive/MyDrive/Colab Notebooks/Supervised Project/Fine Tuning/models_store_dept_1y1y/model_TX_3_HOUSEHOLD_2.bin\n",
            "[Save] Forecast -> /content/drive/MyDrive/Colab Notebooks/Supervised Project/Fine Tuning/train_store_dept_1y1y/forecast_WI_1_HOUSEHOLD_2.pkl\n"
          ]
        },
        {
          "output_type": "stream",
          "name": "stderr",
          "text": [
            "\rHold-out per group:  97%|█████████▋| 68/70 [1:05:10<02:00, 60.21s/it]"
          ]
        },
        {
          "output_type": "stream",
          "name": "stdout",
          "text": [
            "[Save] Model -> /content/drive/MyDrive/Colab Notebooks/Supervised Project/Fine Tuning/models_store_dept_1y1y/model_WI_1_HOUSEHOLD_2.bin\n",
            "[Save] Forecast -> /content/drive/MyDrive/Colab Notebooks/Supervised Project/Fine Tuning/train_store_dept_1y1y/forecast_WI_2_HOUSEHOLD_2.pkl\n"
          ]
        },
        {
          "output_type": "stream",
          "name": "stderr",
          "text": [
            "\rHold-out per group:  99%|█████████▊| 69/70 [1:06:11<01:00, 60.41s/it]"
          ]
        },
        {
          "output_type": "stream",
          "name": "stdout",
          "text": [
            "[Save] Model -> /content/drive/MyDrive/Colab Notebooks/Supervised Project/Fine Tuning/models_store_dept_1y1y/model_WI_2_HOUSEHOLD_2.bin\n",
            "[Save] Forecast -> /content/drive/MyDrive/Colab Notebooks/Supervised Project/Fine Tuning/train_store_dept_1y1y/forecast_WI_3_HOUSEHOLD_2.pkl\n"
          ]
        },
        {
          "output_type": "stream",
          "name": "stderr",
          "text": [
            "Hold-out per group: 100%|██████████| 70/70 [1:07:11<00:00, 57.59s/it]"
          ]
        },
        {
          "output_type": "stream",
          "name": "stdout",
          "text": [
            "[Save] Model -> /content/drive/MyDrive/Colab Notebooks/Supervised Project/Fine Tuning/models_store_dept_1y1y/model_WI_3_HOUSEHOLD_2.bin\n"
          ]
        },
        {
          "output_type": "stream",
          "name": "stderr",
          "text": [
            "\n"
          ]
        }
      ]
    },
    {
      "cell_type": "code",
      "execution_count": null,
      "metadata": {
        "colab": {
          "base_uri": "https://localhost:8080/",
          "height": 280
        },
        "id": "tmNYbmti-N3S",
        "outputId": "b1083253-1b7b-4395-bb2c-05181b3c363a"
      },
      "outputs": [
        {
          "output_type": "stream",
          "name": "stdout",
          "text": [
            "Drive already mounted at /content/drive; to attempt to forcibly remount, call drive.mount(\"/content/drive\", force_remount=True).\n"
          ]
        },
        {
          "output_type": "stream",
          "name": "stderr",
          "text": [
            "/usr/local/lib/python3.12/dist-packages/pandas/io/formats/format.py:1458: RuntimeWarning: overflow encountered in cast\n",
            "  has_large_values = (abs_vals > 1e6).any()\n"
          ]
        },
        {
          "output_type": "execute_result",
          "data": {
            "text/plain": [
              "      d       date      item_id store_id  dept_id  true      pred  train_secs\n",
              "0  1097 2014-01-29  FOODS_1_001     CA_1  FOODS_1   0.0  0.002509   42.879864\n",
              "1  1098 2014-01-30  FOODS_1_001     CA_1  FOODS_1   0.0  0.004378   42.879864\n",
              "2  1099 2014-01-31  FOODS_1_001     CA_1  FOODS_1   0.0  0.005309   42.879864\n",
              "3  1100 2014-02-01  FOODS_1_001     CA_1  FOODS_1   0.0  0.005121   42.879864\n",
              "4  1101 2014-02-02  FOODS_1_001     CA_1  FOODS_1   0.0  0.004135   42.879864"
            ],
            "text/html": [
              "\n",
              "  <div id=\"df-de8256da-9aba-4c5a-a28f-30d7dee3ad9e\" class=\"colab-df-container\">\n",
              "    <div>\n",
              "<style scoped>\n",
              "    .dataframe tbody tr th:only-of-type {\n",
              "        vertical-align: middle;\n",
              "    }\n",
              "\n",
              "    .dataframe tbody tr th {\n",
              "        vertical-align: top;\n",
              "    }\n",
              "\n",
              "    .dataframe thead th {\n",
              "        text-align: right;\n",
              "    }\n",
              "</style>\n",
              "<table border=\"1\" class=\"dataframe\">\n",
              "  <thead>\n",
              "    <tr style=\"text-align: right;\">\n",
              "      <th></th>\n",
              "      <th>d</th>\n",
              "      <th>date</th>\n",
              "      <th>item_id</th>\n",
              "      <th>store_id</th>\n",
              "      <th>dept_id</th>\n",
              "      <th>true</th>\n",
              "      <th>pred</th>\n",
              "      <th>train_secs</th>\n",
              "    </tr>\n",
              "  </thead>\n",
              "  <tbody>\n",
              "    <tr>\n",
              "      <th>0</th>\n",
              "      <td>1097</td>\n",
              "      <td>2014-01-29</td>\n",
              "      <td>FOODS_1_001</td>\n",
              "      <td>CA_1</td>\n",
              "      <td>FOODS_1</td>\n",
              "      <td>0.0</td>\n",
              "      <td>0.002509</td>\n",
              "      <td>42.879864</td>\n",
              "    </tr>\n",
              "    <tr>\n",
              "      <th>1</th>\n",
              "      <td>1098</td>\n",
              "      <td>2014-01-30</td>\n",
              "      <td>FOODS_1_001</td>\n",
              "      <td>CA_1</td>\n",
              "      <td>FOODS_1</td>\n",
              "      <td>0.0</td>\n",
              "      <td>0.004378</td>\n",
              "      <td>42.879864</td>\n",
              "    </tr>\n",
              "    <tr>\n",
              "      <th>2</th>\n",
              "      <td>1099</td>\n",
              "      <td>2014-01-31</td>\n",
              "      <td>FOODS_1_001</td>\n",
              "      <td>CA_1</td>\n",
              "      <td>FOODS_1</td>\n",
              "      <td>0.0</td>\n",
              "      <td>0.005309</td>\n",
              "      <td>42.879864</td>\n",
              "    </tr>\n",
              "    <tr>\n",
              "      <th>3</th>\n",
              "      <td>1100</td>\n",
              "      <td>2014-02-01</td>\n",
              "      <td>FOODS_1_001</td>\n",
              "      <td>CA_1</td>\n",
              "      <td>FOODS_1</td>\n",
              "      <td>0.0</td>\n",
              "      <td>0.005121</td>\n",
              "      <td>42.879864</td>\n",
              "    </tr>\n",
              "    <tr>\n",
              "      <th>4</th>\n",
              "      <td>1101</td>\n",
              "      <td>2014-02-02</td>\n",
              "      <td>FOODS_1_001</td>\n",
              "      <td>CA_1</td>\n",
              "      <td>FOODS_1</td>\n",
              "      <td>0.0</td>\n",
              "      <td>0.004135</td>\n",
              "      <td>42.879864</td>\n",
              "    </tr>\n",
              "  </tbody>\n",
              "</table>\n",
              "</div>\n",
              "    <div class=\"colab-df-buttons\">\n",
              "\n",
              "  <div class=\"colab-df-container\">\n",
              "    <button class=\"colab-df-convert\" onclick=\"convertToInteractive('df-de8256da-9aba-4c5a-a28f-30d7dee3ad9e')\"\n",
              "            title=\"Convert this dataframe to an interactive table.\"\n",
              "            style=\"display:none;\">\n",
              "\n",
              "  <svg xmlns=\"http://www.w3.org/2000/svg\" height=\"24px\" viewBox=\"0 -960 960 960\">\n",
              "    <path d=\"M120-120v-720h720v720H120Zm60-500h600v-160H180v160Zm220 220h160v-160H400v160Zm0 220h160v-160H400v160ZM180-400h160v-160H180v160Zm440 0h160v-160H620v160ZM180-180h160v-160H180v160Zm440 0h160v-160H620v160Z\"/>\n",
              "  </svg>\n",
              "    </button>\n",
              "\n",
              "  <style>\n",
              "    .colab-df-container {\n",
              "      display:flex;\n",
              "      gap: 12px;\n",
              "    }\n",
              "\n",
              "    .colab-df-convert {\n",
              "      background-color: #E8F0FE;\n",
              "      border: none;\n",
              "      border-radius: 50%;\n",
              "      cursor: pointer;\n",
              "      display: none;\n",
              "      fill: #1967D2;\n",
              "      height: 32px;\n",
              "      padding: 0 0 0 0;\n",
              "      width: 32px;\n",
              "    }\n",
              "\n",
              "    .colab-df-convert:hover {\n",
              "      background-color: #E2EBFA;\n",
              "      box-shadow: 0px 1px 2px rgba(60, 64, 67, 0.3), 0px 1px 3px 1px rgba(60, 64, 67, 0.15);\n",
              "      fill: #174EA6;\n",
              "    }\n",
              "\n",
              "    .colab-df-buttons div {\n",
              "      margin-bottom: 4px;\n",
              "    }\n",
              "\n",
              "    [theme=dark] .colab-df-convert {\n",
              "      background-color: #3B4455;\n",
              "      fill: #D2E3FC;\n",
              "    }\n",
              "\n",
              "    [theme=dark] .colab-df-convert:hover {\n",
              "      background-color: #434B5C;\n",
              "      box-shadow: 0px 1px 3px 1px rgba(0, 0, 0, 0.15);\n",
              "      filter: drop-shadow(0px 1px 2px rgba(0, 0, 0, 0.3));\n",
              "      fill: #FFFFFF;\n",
              "    }\n",
              "  </style>\n",
              "\n",
              "    <script>\n",
              "      const buttonEl =\n",
              "        document.querySelector('#df-de8256da-9aba-4c5a-a28f-30d7dee3ad9e button.colab-df-convert');\n",
              "      buttonEl.style.display =\n",
              "        google.colab.kernel.accessAllowed ? 'block' : 'none';\n",
              "\n",
              "      async function convertToInteractive(key) {\n",
              "        const element = document.querySelector('#df-de8256da-9aba-4c5a-a28f-30d7dee3ad9e');\n",
              "        const dataTable =\n",
              "          await google.colab.kernel.invokeFunction('convertToInteractive',\n",
              "                                                    [key], {});\n",
              "        if (!dataTable) return;\n",
              "\n",
              "        const docLinkHtml = 'Like what you see? Visit the ' +\n",
              "          '<a target=\"_blank\" href=https://colab.research.google.com/notebooks/data_table.ipynb>data table notebook</a>'\n",
              "          + ' to learn more about interactive tables.';\n",
              "        element.innerHTML = '';\n",
              "        dataTable['output_type'] = 'display_data';\n",
              "        await google.colab.output.renderOutput(dataTable, element);\n",
              "        const docLink = document.createElement('div');\n",
              "        docLink.innerHTML = docLinkHtml;\n",
              "        element.appendChild(docLink);\n",
              "      }\n",
              "    </script>\n",
              "  </div>\n",
              "\n",
              "\n",
              "    <div id=\"df-79cdc11d-bfb7-42aa-bf59-7736cfa86572\">\n",
              "      <button class=\"colab-df-quickchart\" onclick=\"quickchart('df-79cdc11d-bfb7-42aa-bf59-7736cfa86572')\"\n",
              "                title=\"Suggest charts\"\n",
              "                style=\"display:none;\">\n",
              "\n",
              "<svg xmlns=\"http://www.w3.org/2000/svg\" height=\"24px\"viewBox=\"0 0 24 24\"\n",
              "     width=\"24px\">\n",
              "    <g>\n",
              "        <path d=\"M19 3H5c-1.1 0-2 .9-2 2v14c0 1.1.9 2 2 2h14c1.1 0 2-.9 2-2V5c0-1.1-.9-2-2-2zM9 17H7v-7h2v7zm4 0h-2V7h2v10zm4 0h-2v-4h2v4z\"/>\n",
              "    </g>\n",
              "</svg>\n",
              "      </button>\n",
              "\n",
              "<style>\n",
              "  .colab-df-quickchart {\n",
              "      --bg-color: #E8F0FE;\n",
              "      --fill-color: #1967D2;\n",
              "      --hover-bg-color: #E2EBFA;\n",
              "      --hover-fill-color: #174EA6;\n",
              "      --disabled-fill-color: #AAA;\n",
              "      --disabled-bg-color: #DDD;\n",
              "  }\n",
              "\n",
              "  [theme=dark] .colab-df-quickchart {\n",
              "      --bg-color: #3B4455;\n",
              "      --fill-color: #D2E3FC;\n",
              "      --hover-bg-color: #434B5C;\n",
              "      --hover-fill-color: #FFFFFF;\n",
              "      --disabled-bg-color: #3B4455;\n",
              "      --disabled-fill-color: #666;\n",
              "  }\n",
              "\n",
              "  .colab-df-quickchart {\n",
              "    background-color: var(--bg-color);\n",
              "    border: none;\n",
              "    border-radius: 50%;\n",
              "    cursor: pointer;\n",
              "    display: none;\n",
              "    fill: var(--fill-color);\n",
              "    height: 32px;\n",
              "    padding: 0;\n",
              "    width: 32px;\n",
              "  }\n",
              "\n",
              "  .colab-df-quickchart:hover {\n",
              "    background-color: var(--hover-bg-color);\n",
              "    box-shadow: 0 1px 2px rgba(60, 64, 67, 0.3), 0 1px 3px 1px rgba(60, 64, 67, 0.15);\n",
              "    fill: var(--button-hover-fill-color);\n",
              "  }\n",
              "\n",
              "  .colab-df-quickchart-complete:disabled,\n",
              "  .colab-df-quickchart-complete:disabled:hover {\n",
              "    background-color: var(--disabled-bg-color);\n",
              "    fill: var(--disabled-fill-color);\n",
              "    box-shadow: none;\n",
              "  }\n",
              "\n",
              "  .colab-df-spinner {\n",
              "    border: 2px solid var(--fill-color);\n",
              "    border-color: transparent;\n",
              "    border-bottom-color: var(--fill-color);\n",
              "    animation:\n",
              "      spin 1s steps(1) infinite;\n",
              "  }\n",
              "\n",
              "  @keyframes spin {\n",
              "    0% {\n",
              "      border-color: transparent;\n",
              "      border-bottom-color: var(--fill-color);\n",
              "      border-left-color: var(--fill-color);\n",
              "    }\n",
              "    20% {\n",
              "      border-color: transparent;\n",
              "      border-left-color: var(--fill-color);\n",
              "      border-top-color: var(--fill-color);\n",
              "    }\n",
              "    30% {\n",
              "      border-color: transparent;\n",
              "      border-left-color: var(--fill-color);\n",
              "      border-top-color: var(--fill-color);\n",
              "      border-right-color: var(--fill-color);\n",
              "    }\n",
              "    40% {\n",
              "      border-color: transparent;\n",
              "      border-right-color: var(--fill-color);\n",
              "      border-top-color: var(--fill-color);\n",
              "    }\n",
              "    60% {\n",
              "      border-color: transparent;\n",
              "      border-right-color: var(--fill-color);\n",
              "    }\n",
              "    80% {\n",
              "      border-color: transparent;\n",
              "      border-right-color: var(--fill-color);\n",
              "      border-bottom-color: var(--fill-color);\n",
              "    }\n",
              "    90% {\n",
              "      border-color: transparent;\n",
              "      border-bottom-color: var(--fill-color);\n",
              "    }\n",
              "  }\n",
              "</style>\n",
              "\n",
              "      <script>\n",
              "        async function quickchart(key) {\n",
              "          const quickchartButtonEl =\n",
              "            document.querySelector('#' + key + ' button');\n",
              "          quickchartButtonEl.disabled = true;  // To prevent multiple clicks.\n",
              "          quickchartButtonEl.classList.add('colab-df-spinner');\n",
              "          try {\n",
              "            const charts = await google.colab.kernel.invokeFunction(\n",
              "                'suggestCharts', [key], {});\n",
              "          } catch (error) {\n",
              "            console.error('Error during call to suggestCharts:', error);\n",
              "          }\n",
              "          quickchartButtonEl.classList.remove('colab-df-spinner');\n",
              "          quickchartButtonEl.classList.add('colab-df-quickchart-complete');\n",
              "        }\n",
              "        (() => {\n",
              "          let quickchartButtonEl =\n",
              "            document.querySelector('#df-79cdc11d-bfb7-42aa-bf59-7736cfa86572 button');\n",
              "          quickchartButtonEl.style.display =\n",
              "            google.colab.kernel.accessAllowed ? 'block' : 'none';\n",
              "        })();\n",
              "      </script>\n",
              "    </div>\n",
              "\n",
              "    </div>\n",
              "  </div>\n"
            ],
            "application/vnd.google.colaboratory.intrinsic+json": {
              "type": "dataframe",
              "variable_name": "all_results"
            }
          },
          "metadata": {},
          "execution_count": 9
        }
      ],
      "source": [
        "import pandas as pd\n",
        "import os\n",
        "from glob import glob\n",
        "from google.colab import drive\n",
        "drive.mount('/content/drive')\n",
        "\n",
        "new_results_dir = \"/content/drive/MyDrive/Colab Notebooks/Supervised Project/Fine Tuning/train_store_dept_1y1y/\"\n",
        "\n",
        "file_list = glob(os.path.join(new_results_dir, \"forecast_*.pkl\"))\n",
        "\n",
        "all_results = pd.concat([pd.read_pickle(f) for f in file_list], ignore_index=True)\n",
        "\n",
        "all_results.head()\n"
      ]
    },
    {
      "cell_type": "code",
      "execution_count": null,
      "metadata": {
        "colab": {
          "base_uri": "https://localhost:8080/"
        },
        "id": "Oufvywlp-2A8",
        "outputId": "d591ccc0-2ccd-471c-c8ed-959da8322aa3"
      },
      "outputs": [
        {
          "output_type": "stream",
          "name": "stdout",
          "text": [
            "Total records: 10377296\n",
            "Columns: ['d', 'date', 'item_id', 'store_id', 'dept_id', 'true', 'pred', 'train_secs']\n"
          ]
        }
      ],
      "source": [
        "print(f\"Total records: {all_results.shape[0]}\")\n",
        "print(f\"Columns: {all_results.columns.tolist()}\")"
      ]
    },
    {
      "cell_type": "markdown",
      "metadata": {
        "id": "E6TPqIzNGUhV"
      },
      "source": [
        "# Evaluation with errors"
      ]
    },
    {
      "cell_type": "code",
      "execution_count": null,
      "metadata": {
        "id": "rCWDWcDIIqCY"
      },
      "outputs": [],
      "source": [
        "import numpy as np\n",
        "import pandas as pd\n",
        "from sklearn.metrics import mean_squared_error\n",
        "\n",
        "def calculate_test_errors(test_series, forecast_series, train_series=None,\n",
        "                          series_name='y', model_name='model', print_results=False):\n",
        "\n",
        "    y_true = np.array(test_series)\n",
        "    y_pred = np.array(forecast_series)\n",
        "\n",
        "    # MAPE and sMAPE（escape 0）\n",
        "    skip_mape = (y_true == 0).any()\n",
        "    if not skip_mape:\n",
        "        mape_val = np.mean(np.abs((y_true - y_pred) / y_true)) * 100\n",
        "        smape_val = 100 * np.mean(2 * np.abs(y_pred - y_true) / (np.abs(y_pred) + np.abs(y_true)))\n",
        "\n",
        "    # RMSE\n",
        "    rmse_val = np.sqrt(mean_squared_error(y_true, y_pred))\n",
        "    me_val = np.mean(y_pred - y_true)\n",
        "    mean_test = np.mean(y_true)\n",
        "    norm_rmse = rmse_val / mean_test\n",
        "    norm_me = me_val / mean_test\n",
        "\n",
        "    # RMSSE\n",
        "    if train_series is not None:\n",
        "        y_train = np.array(train_series)\n",
        "        insample_naive = np.mean((y_train[1:] - y_train[:-1]) ** 2)\n",
        "        rmsse_val = rmse_val / np.sqrt(insample_naive) if insample_naive > 0 else np.nan\n",
        "    else:\n",
        "        rmsse_val = np.nan\n",
        "\n",
        "    if print_results:\n",
        "        print(f\"Model: {model_name} | Series: {series_name}\")\n",
        "        if not skip_mape:\n",
        "            print(f\"MAPE     : {mape_val:.2f}%\")\n",
        "            print(f\"sMAPE    : {smape_val:.2f}%\")\n",
        "        print(f\"RMSSE    : {rmsse_val:.3f}\")\n",
        "        print(f\"RMSE     : {rmse_val:.3f}\")\n",
        "        print(f\"Norm_RMSE: {norm_rmse:.3f}\")\n",
        "        print(f\"ME       : {me_val:.3f}\")\n",
        "        print(f\"Norm_ME  : {norm_me:.3f}\")\n",
        "\n",
        "    # DataFrame\n",
        "    if not skip_mape:\n",
        "        columns = ['SeriesName', 'Model', 'MAPE', 'sMAPE', 'RMSSE', 'RMSE', 'Norm_RMSE', 'ME', 'Norm_ME']\n",
        "        values = [series_name, model_name, mape_val, smape_val, rmsse_val, rmse_val, norm_rmse, me_val, norm_me]\n",
        "    else:\n",
        "        columns = ['SeriesName', 'Model', 'RMSSE', 'RMSE', 'Norm_RMSE', 'ME', 'Norm_ME']\n",
        "        values = [series_name, model_name, rmsse_val, rmse_val, norm_rmse, me_val, norm_me]\n",
        "\n",
        "    return pd.DataFrame([values], columns=columns)\n"
      ]
    },
    {
      "cell_type": "code",
      "execution_count": null,
      "metadata": {
        "id": "fOzWtSEsGLwI"
      },
      "outputs": [],
      "source": [
        "import numpy as np\n",
        "import pandas as pd\n",
        "\n",
        "def evaluate_group_errors(\n",
        "    result_df: pd.DataFrame,\n",
        "    sales_long_val: pd.DataFrame,\n",
        "    label_col: str,\n",
        "    group_key: list,\n",
        "    train_range: tuple = (732, 1096),   # validation window\n",
        "    lead_time: int = 3,\n",
        "    model_name: str = 'ML_Holdout'\n",
        "):\n",
        "    \"\"\"\n",
        "    result_df: Validation set details containing ['d', *group_key, 'true', 'pred']\n",
        "    sales_long_val: Full history (at least ['d', 'sales', *group_key])\n",
        "    label_col: Evaluation target ('ROP_L3')\n",
        "    group_key: Grouping key (e.g., ['store_id', 'dept_id'])\n",
        "    train_range: Constructs the RMSSE denominator using only the training window to prevent lookahead\n",
        "    lead_time: L interval used for aggregation when label is ROP\n",
        "    \"\"\"\n",
        "\n",
        "    error_summary = []\n",
        "    tr_start, tr_end = train_range\n",
        "\n",
        "    # groups\n",
        "    for group_vals, gpred in result_df.groupby(group_key, sort=False):\n",
        "        y_true = gpred['true'].to_numpy(dtype=float)\n",
        "        y_pred = gpred['pred'].to_numpy(dtype=float)\n",
        "\n",
        "        # Construct the history of this group + training window\n",
        "        mask = np.ones(len(sales_long_val), dtype=bool)\n",
        "        for k, v in zip(group_key, (group_vals if isinstance(group_vals, tuple) else (group_vals,))):\n",
        "            mask &= (sales_long_val[k] == v)\n",
        "        mask &= (sales_long_val['d'] >= tr_start) & (sales_long_val['d'] <= tr_end)\n",
        "\n",
        "        g_hist = sales_long_val.loc[mask, ['d', 'sales']].sort_values('d')\n",
        "        if g_hist.empty:\n",
        "            train_series = None\n",
        "        else:\n",
        "            if 'ROP' in label_col.upper():\n",
        "                # Construction within the training window ROP_train = rolling L day sum, forward L-1 anti-leakage\n",
        "                rop_train = (\n",
        "                    g_hist['sales']\n",
        "                    .shift(-(lead_time - 1))\n",
        "                    .rolling(lead_time)\n",
        "                    .sum()\n",
        "                )\n",
        "                # Only ROPs that fall completely within the training window are retained (the last L-1 days without true values ​​are not counted)\n",
        "                last_t = tr_end - (lead_time - 1)\n",
        "                train_series = rop_train[g_hist['d'] <= last_t].dropna()\n",
        "            else:\n",
        "                # Daily sales\n",
        "                train_series = g_hist['sales'].dropna()\n",
        "\n",
        "            if train_series is not None and len(train_series) < 2:\n",
        "                train_series = None\n",
        "\n",
        "        # Error calculation\n",
        "        res = calculate_test_errors(\n",
        "            test_series=y_true,\n",
        "            forecast_series=y_pred,\n",
        "            train_series=train_series,\n",
        "            series_name=str(group_vals),\n",
        "            model_name=model_name,\n",
        "            print_results=False\n",
        "        )\n",
        "        error_summary.append(res)\n",
        "\n",
        "    return pd.concat(error_summary, ignore_index=True) if error_summary else pd.DataFrame()"
      ]
    },
    {
      "cell_type": "code",
      "execution_count": null,
      "metadata": {
        "colab": {
          "base_uri": "https://localhost:8080/"
        },
        "id": "-qMjdHiG_e-X",
        "outputId": "f25beeca-51b7-4b69-b0f0-f46e63fe2a05"
      },
      "outputs": [
        {
          "output_type": "stream",
          "name": "stdout",
          "text": [
            "Group ('CA_1', 'FOODS_1') has 22 NaN rows.\n",
            "Group ('CA_1', 'FOODS_2') has 130 NaN rows.\n",
            "Group ('CA_1', 'FOODS_3') has 182 NaN rows.\n",
            "Group ('CA_1', 'HOBBIES_1') has 66 NaN rows.\n",
            "Group ('CA_1', 'HOBBIES_2') has 46 NaN rows.\n",
            "Group ('CA_1', 'HOUSEHOLD_1') has 140 NaN rows.\n",
            "Group ('CA_1', 'HOUSEHOLD_2') has 98 NaN rows.\n",
            "Group ('CA_2', 'FOODS_1') has 22 NaN rows.\n",
            "Group ('CA_2', 'FOODS_2') has 80 NaN rows.\n",
            "Group ('CA_2', 'FOODS_3') has 226 NaN rows.\n",
            "Group ('CA_2', 'HOBBIES_1') has 62 NaN rows.\n",
            "Group ('CA_2', 'HOBBIES_2') has 42 NaN rows.\n",
            "Group ('CA_2', 'HOUSEHOLD_1') has 156 NaN rows.\n",
            "Group ('CA_2', 'HOUSEHOLD_2') has 110 NaN rows.\n",
            "Group ('CA_3', 'FOODS_1') has 22 NaN rows.\n",
            "Group ('CA_3', 'FOODS_2') has 124 NaN rows.\n",
            "Group ('CA_3', 'FOODS_3') has 186 NaN rows.\n",
            "Group ('CA_3', 'HOBBIES_1') has 64 NaN rows.\n",
            "Group ('CA_3', 'HOBBIES_2') has 44 NaN rows.\n",
            "Group ('CA_3', 'HOUSEHOLD_1') has 154 NaN rows.\n",
            "Group ('CA_3', 'HOUSEHOLD_2') has 88 NaN rows.\n",
            "Group ('CA_4', 'FOODS_1') has 26 NaN rows.\n",
            "Group ('CA_4', 'FOODS_2') has 126 NaN rows.\n",
            "Group ('CA_4', 'FOODS_3') has 192 NaN rows.\n",
            "Group ('CA_4', 'HOBBIES_1') has 94 NaN rows.\n",
            "Group ('CA_4', 'HOBBIES_2') has 62 NaN rows.\n",
            "Group ('CA_4', 'HOUSEHOLD_1') has 170 NaN rows.\n",
            "Group ('CA_4', 'HOUSEHOLD_2') has 114 NaN rows.\n",
            "Group ('TX_1', 'FOODS_1') has 18 NaN rows.\n",
            "Group ('TX_1', 'FOODS_2') has 126 NaN rows.\n",
            "Group ('TX_1', 'FOODS_3') has 194 NaN rows.\n",
            "Group ('TX_1', 'HOBBIES_1') has 66 NaN rows.\n",
            "Group ('TX_1', 'HOBBIES_2') has 58 NaN rows.\n",
            "Group ('TX_1', 'HOUSEHOLD_1') has 150 NaN rows.\n",
            "Group ('TX_1', 'HOUSEHOLD_2') has 102 NaN rows.\n",
            "Group ('TX_2', 'FOODS_1') has 18 NaN rows.\n",
            "Group ('TX_2', 'FOODS_2') has 124 NaN rows.\n",
            "Group ('TX_2', 'FOODS_3') has 184 NaN rows.\n",
            "Group ('TX_2', 'HOBBIES_1') has 62 NaN rows.\n",
            "Group ('TX_2', 'HOBBIES_2') has 40 NaN rows.\n",
            "Group ('TX_2', 'HOUSEHOLD_1') has 146 NaN rows.\n",
            "Group ('TX_2', 'HOUSEHOLD_2') has 100 NaN rows.\n",
            "Group ('TX_3', 'FOODS_1') has 18 NaN rows.\n",
            "Group ('TX_3', 'FOODS_2') has 122 NaN rows.\n",
            "Group ('TX_3', 'FOODS_3') has 196 NaN rows.\n",
            "Group ('TX_3', 'HOBBIES_1') has 74 NaN rows.\n",
            "Group ('TX_3', 'HOBBIES_2') has 38 NaN rows.\n",
            "Group ('TX_3', 'HOUSEHOLD_1') has 152 NaN rows.\n",
            "Group ('TX_3', 'HOUSEHOLD_2') has 102 NaN rows.\n",
            "Group ('WI_1', 'FOODS_1') has 18 NaN rows.\n",
            "Group ('WI_1', 'FOODS_2') has 122 NaN rows.\n",
            "Group ('WI_1', 'FOODS_3') has 180 NaN rows.\n",
            "Group ('WI_1', 'HOBBIES_1') has 68 NaN rows.\n",
            "Group ('WI_1', 'HOBBIES_2') has 40 NaN rows.\n",
            "Group ('WI_1', 'HOUSEHOLD_1') has 148 NaN rows.\n",
            "Group ('WI_1', 'HOUSEHOLD_2') has 108 NaN rows.\n",
            "Group ('WI_2', 'FOODS_1') has 18 NaN rows.\n",
            "Group ('WI_2', 'FOODS_2') has 122 NaN rows.\n",
            "Group ('WI_2', 'FOODS_3') has 164 NaN rows.\n",
            "Group ('WI_2', 'HOBBIES_1') has 72 NaN rows.\n",
            "Group ('WI_2', 'HOBBIES_2') has 46 NaN rows.\n",
            "Group ('WI_2', 'HOUSEHOLD_1') has 166 NaN rows.\n",
            "Group ('WI_2', 'HOUSEHOLD_2') has 102 NaN rows.\n",
            "Group ('WI_3', 'FOODS_1') has 18 NaN rows.\n",
            "Group ('WI_3', 'FOODS_2') has 120 NaN rows.\n",
            "Group ('WI_3', 'FOODS_3') has 172 NaN rows.\n",
            "Group ('WI_3', 'HOBBIES_1') has 60 NaN rows.\n",
            "Group ('WI_3', 'HOBBIES_2') has 42 NaN rows.\n",
            "Group ('WI_3', 'HOUSEHOLD_1') has 142 NaN rows.\n",
            "Group ('WI_3', 'HOUSEHOLD_2') has 108 NaN rows.\n",
            " Total rows with NaN in 'true' or 'pred': 6974\n"
          ]
        }
      ],
      "source": [
        "total_nan_rows = 0\n",
        "\n",
        "for group_vals, group_df in all_results.groupby(group_key):\n",
        "    nan_mask = group_df[['true', 'pred']].isna().any(axis=1)\n",
        "    nan_count = nan_mask.sum()\n",
        "\n",
        "    if nan_count > 0:\n",
        "        print(f\"Group {group_vals} has {nan_count} NaN rows.\")\n",
        "        total_nan_rows += nan_count\n",
        "\n",
        "print(f\" Total rows with NaN in 'true' or 'pred': {total_nan_rows}\")\n"
      ]
    },
    {
      "cell_type": "code",
      "execution_count": null,
      "metadata": {
        "colab": {
          "base_uri": "https://localhost:8080/"
        },
        "id": "C2xmO5pD_1ix",
        "outputId": "2e7a32c5-fe97-4d49-a389-08d37abe543f"
      },
      "outputs": [
        {
          "name": "stdout",
          "output_type": "stream",
          "text": [
            "Number of rows containing NaNs: 6974\n",
            "Total number of rows: 10377296\n",
            "NaN percentage: 0.07%\n"
          ]
        }
      ],
      "source": [
        "nan_rows = all_results[['true', 'pred']].isna().any(axis=1).sum()\n",
        "\n",
        "total_rows = len(all_results)\n",
        "\n",
        "nan_ratio = nan_rows / total_rows\n",
        "\n",
        "print(f\"Number of rows containing NaNs: {nan_rows}\")\n",
        "print(f\"Total number of rows: {total_rows}\")\n",
        "print(f\"NaN percentage: {nan_ratio:.2%}\")\n"
      ]
    },
    {
      "cell_type": "code",
      "execution_count": null,
      "metadata": {
        "id": "68tx-JAZcxmr"
      },
      "outputs": [],
      "source": [
        "all_results_clean = all_results.dropna(subset=['true', 'pred'])\n",
        "error_df = evaluate_group_errors(result_df=all_results_clean,\n",
        "                                 sales_long_val=sales_long_val,\n",
        "                                 label_col=label_col,\n",
        "                                 group_key=group_key)"
      ]
    },
    {
      "cell_type": "code",
      "execution_count": null,
      "metadata": {
        "id": "S1G4SiN5BNbh",
        "colab": {
          "base_uri": "https://localhost:8080/",
          "height": 363
        },
        "outputId": "1402fed1-c622-4944-ca37-77dba488d98b"
      },
      "outputs": [
        {
          "output_type": "execute_result",
          "data": {
            "text/plain": [
              "            SeriesName       Model     RMSSE      RMSE  Norm_RMSE        ME  \\\n",
              "0  ('CA_1', 'FOODS_1')  ML_Holdout  0.741788  3.468516   0.727281 -0.579873   \n",
              "1  ('CA_2', 'FOODS_1')  ML_Holdout  0.643034  3.668151   0.722945 -0.270635   \n",
              "2  ('CA_3', 'FOODS_1')  ML_Holdout  0.760417  4.194421   0.760264 -0.418527   \n",
              "3  ('CA_4', 'FOODS_1')  ML_Holdout  0.772978  2.360023   0.824277 -0.291968   \n",
              "4  ('TX_1', 'FOODS_1')  ML_Holdout  0.980447  3.103439   1.099597 -0.392542   \n",
              "5  ('TX_2', 'FOODS_1')  ML_Holdout  0.595704  2.983457   0.830320 -0.293035   \n",
              "6  ('TX_3', 'FOODS_1')  ML_Holdout  0.862819  3.324551   0.944061 -0.521682   \n",
              "7  ('WI_1', 'FOODS_1')  ML_Holdout  0.649033  2.695979   0.713391 -0.308798   \n",
              "8  ('WI_2', 'FOODS_1')  ML_Holdout  0.688878  4.009613   0.925034 -0.426460   \n",
              "9  ('WI_3', 'FOODS_1')  ML_Holdout  0.679560  2.359380   0.956939 -0.282418   \n",
              "\n",
              "    Norm_ME  \n",
              "0 -0.121588  \n",
              "1 -0.053339  \n",
              "2 -0.075861  \n",
              "3 -0.101975  \n",
              "4 -0.139084  \n",
              "5 -0.081554  \n",
              "6 -0.148140  \n",
              "7 -0.081712  \n",
              "8 -0.098386  \n",
              "9 -0.114546  "
            ],
            "text/html": [
              "\n",
              "  <div id=\"df-cac1129c-638e-49ee-bdc1-e81dc9a8e306\" class=\"colab-df-container\">\n",
              "    <div>\n",
              "<style scoped>\n",
              "    .dataframe tbody tr th:only-of-type {\n",
              "        vertical-align: middle;\n",
              "    }\n",
              "\n",
              "    .dataframe tbody tr th {\n",
              "        vertical-align: top;\n",
              "    }\n",
              "\n",
              "    .dataframe thead th {\n",
              "        text-align: right;\n",
              "    }\n",
              "</style>\n",
              "<table border=\"1\" class=\"dataframe\">\n",
              "  <thead>\n",
              "    <tr style=\"text-align: right;\">\n",
              "      <th></th>\n",
              "      <th>SeriesName</th>\n",
              "      <th>Model</th>\n",
              "      <th>RMSSE</th>\n",
              "      <th>RMSE</th>\n",
              "      <th>Norm_RMSE</th>\n",
              "      <th>ME</th>\n",
              "      <th>Norm_ME</th>\n",
              "    </tr>\n",
              "  </thead>\n",
              "  <tbody>\n",
              "    <tr>\n",
              "      <th>0</th>\n",
              "      <td>('CA_1', 'FOODS_1')</td>\n",
              "      <td>ML_Holdout</td>\n",
              "      <td>0.741788</td>\n",
              "      <td>3.468516</td>\n",
              "      <td>0.727281</td>\n",
              "      <td>-0.579873</td>\n",
              "      <td>-0.121588</td>\n",
              "    </tr>\n",
              "    <tr>\n",
              "      <th>1</th>\n",
              "      <td>('CA_2', 'FOODS_1')</td>\n",
              "      <td>ML_Holdout</td>\n",
              "      <td>0.643034</td>\n",
              "      <td>3.668151</td>\n",
              "      <td>0.722945</td>\n",
              "      <td>-0.270635</td>\n",
              "      <td>-0.053339</td>\n",
              "    </tr>\n",
              "    <tr>\n",
              "      <th>2</th>\n",
              "      <td>('CA_3', 'FOODS_1')</td>\n",
              "      <td>ML_Holdout</td>\n",
              "      <td>0.760417</td>\n",
              "      <td>4.194421</td>\n",
              "      <td>0.760264</td>\n",
              "      <td>-0.418527</td>\n",
              "      <td>-0.075861</td>\n",
              "    </tr>\n",
              "    <tr>\n",
              "      <th>3</th>\n",
              "      <td>('CA_4', 'FOODS_1')</td>\n",
              "      <td>ML_Holdout</td>\n",
              "      <td>0.772978</td>\n",
              "      <td>2.360023</td>\n",
              "      <td>0.824277</td>\n",
              "      <td>-0.291968</td>\n",
              "      <td>-0.101975</td>\n",
              "    </tr>\n",
              "    <tr>\n",
              "      <th>4</th>\n",
              "      <td>('TX_1', 'FOODS_1')</td>\n",
              "      <td>ML_Holdout</td>\n",
              "      <td>0.980447</td>\n",
              "      <td>3.103439</td>\n",
              "      <td>1.099597</td>\n",
              "      <td>-0.392542</td>\n",
              "      <td>-0.139084</td>\n",
              "    </tr>\n",
              "    <tr>\n",
              "      <th>5</th>\n",
              "      <td>('TX_2', 'FOODS_1')</td>\n",
              "      <td>ML_Holdout</td>\n",
              "      <td>0.595704</td>\n",
              "      <td>2.983457</td>\n",
              "      <td>0.830320</td>\n",
              "      <td>-0.293035</td>\n",
              "      <td>-0.081554</td>\n",
              "    </tr>\n",
              "    <tr>\n",
              "      <th>6</th>\n",
              "      <td>('TX_3', 'FOODS_1')</td>\n",
              "      <td>ML_Holdout</td>\n",
              "      <td>0.862819</td>\n",
              "      <td>3.324551</td>\n",
              "      <td>0.944061</td>\n",
              "      <td>-0.521682</td>\n",
              "      <td>-0.148140</td>\n",
              "    </tr>\n",
              "    <tr>\n",
              "      <th>7</th>\n",
              "      <td>('WI_1', 'FOODS_1')</td>\n",
              "      <td>ML_Holdout</td>\n",
              "      <td>0.649033</td>\n",
              "      <td>2.695979</td>\n",
              "      <td>0.713391</td>\n",
              "      <td>-0.308798</td>\n",
              "      <td>-0.081712</td>\n",
              "    </tr>\n",
              "    <tr>\n",
              "      <th>8</th>\n",
              "      <td>('WI_2', 'FOODS_1')</td>\n",
              "      <td>ML_Holdout</td>\n",
              "      <td>0.688878</td>\n",
              "      <td>4.009613</td>\n",
              "      <td>0.925034</td>\n",
              "      <td>-0.426460</td>\n",
              "      <td>-0.098386</td>\n",
              "    </tr>\n",
              "    <tr>\n",
              "      <th>9</th>\n",
              "      <td>('WI_3', 'FOODS_1')</td>\n",
              "      <td>ML_Holdout</td>\n",
              "      <td>0.679560</td>\n",
              "      <td>2.359380</td>\n",
              "      <td>0.956939</td>\n",
              "      <td>-0.282418</td>\n",
              "      <td>-0.114546</td>\n",
              "    </tr>\n",
              "  </tbody>\n",
              "</table>\n",
              "</div>\n",
              "    <div class=\"colab-df-buttons\">\n",
              "\n",
              "  <div class=\"colab-df-container\">\n",
              "    <button class=\"colab-df-convert\" onclick=\"convertToInteractive('df-cac1129c-638e-49ee-bdc1-e81dc9a8e306')\"\n",
              "            title=\"Convert this dataframe to an interactive table.\"\n",
              "            style=\"display:none;\">\n",
              "\n",
              "  <svg xmlns=\"http://www.w3.org/2000/svg\" height=\"24px\" viewBox=\"0 -960 960 960\">\n",
              "    <path d=\"M120-120v-720h720v720H120Zm60-500h600v-160H180v160Zm220 220h160v-160H400v160Zm0 220h160v-160H400v160ZM180-400h160v-160H180v160Zm440 0h160v-160H620v160ZM180-180h160v-160H180v160Zm440 0h160v-160H620v160Z\"/>\n",
              "  </svg>\n",
              "    </button>\n",
              "\n",
              "  <style>\n",
              "    .colab-df-container {\n",
              "      display:flex;\n",
              "      gap: 12px;\n",
              "    }\n",
              "\n",
              "    .colab-df-convert {\n",
              "      background-color: #E8F0FE;\n",
              "      border: none;\n",
              "      border-radius: 50%;\n",
              "      cursor: pointer;\n",
              "      display: none;\n",
              "      fill: #1967D2;\n",
              "      height: 32px;\n",
              "      padding: 0 0 0 0;\n",
              "      width: 32px;\n",
              "    }\n",
              "\n",
              "    .colab-df-convert:hover {\n",
              "      background-color: #E2EBFA;\n",
              "      box-shadow: 0px 1px 2px rgba(60, 64, 67, 0.3), 0px 1px 3px 1px rgba(60, 64, 67, 0.15);\n",
              "      fill: #174EA6;\n",
              "    }\n",
              "\n",
              "    .colab-df-buttons div {\n",
              "      margin-bottom: 4px;\n",
              "    }\n",
              "\n",
              "    [theme=dark] .colab-df-convert {\n",
              "      background-color: #3B4455;\n",
              "      fill: #D2E3FC;\n",
              "    }\n",
              "\n",
              "    [theme=dark] .colab-df-convert:hover {\n",
              "      background-color: #434B5C;\n",
              "      box-shadow: 0px 1px 3px 1px rgba(0, 0, 0, 0.15);\n",
              "      filter: drop-shadow(0px 1px 2px rgba(0, 0, 0, 0.3));\n",
              "      fill: #FFFFFF;\n",
              "    }\n",
              "  </style>\n",
              "\n",
              "    <script>\n",
              "      const buttonEl =\n",
              "        document.querySelector('#df-cac1129c-638e-49ee-bdc1-e81dc9a8e306 button.colab-df-convert');\n",
              "      buttonEl.style.display =\n",
              "        google.colab.kernel.accessAllowed ? 'block' : 'none';\n",
              "\n",
              "      async function convertToInteractive(key) {\n",
              "        const element = document.querySelector('#df-cac1129c-638e-49ee-bdc1-e81dc9a8e306');\n",
              "        const dataTable =\n",
              "          await google.colab.kernel.invokeFunction('convertToInteractive',\n",
              "                                                    [key], {});\n",
              "        if (!dataTable) return;\n",
              "\n",
              "        const docLinkHtml = 'Like what you see? Visit the ' +\n",
              "          '<a target=\"_blank\" href=https://colab.research.google.com/notebooks/data_table.ipynb>data table notebook</a>'\n",
              "          + ' to learn more about interactive tables.';\n",
              "        element.innerHTML = '';\n",
              "        dataTable['output_type'] = 'display_data';\n",
              "        await google.colab.output.renderOutput(dataTable, element);\n",
              "        const docLink = document.createElement('div');\n",
              "        docLink.innerHTML = docLinkHtml;\n",
              "        element.appendChild(docLink);\n",
              "      }\n",
              "    </script>\n",
              "  </div>\n",
              "\n",
              "\n",
              "    <div id=\"df-a42c12a7-94f5-4b0b-b468-6a41cf7a37fb\">\n",
              "      <button class=\"colab-df-quickchart\" onclick=\"quickchart('df-a42c12a7-94f5-4b0b-b468-6a41cf7a37fb')\"\n",
              "                title=\"Suggest charts\"\n",
              "                style=\"display:none;\">\n",
              "\n",
              "<svg xmlns=\"http://www.w3.org/2000/svg\" height=\"24px\"viewBox=\"0 0 24 24\"\n",
              "     width=\"24px\">\n",
              "    <g>\n",
              "        <path d=\"M19 3H5c-1.1 0-2 .9-2 2v14c0 1.1.9 2 2 2h14c1.1 0 2-.9 2-2V5c0-1.1-.9-2-2-2zM9 17H7v-7h2v7zm4 0h-2V7h2v10zm4 0h-2v-4h2v4z\"/>\n",
              "    </g>\n",
              "</svg>\n",
              "      </button>\n",
              "\n",
              "<style>\n",
              "  .colab-df-quickchart {\n",
              "      --bg-color: #E8F0FE;\n",
              "      --fill-color: #1967D2;\n",
              "      --hover-bg-color: #E2EBFA;\n",
              "      --hover-fill-color: #174EA6;\n",
              "      --disabled-fill-color: #AAA;\n",
              "      --disabled-bg-color: #DDD;\n",
              "  }\n",
              "\n",
              "  [theme=dark] .colab-df-quickchart {\n",
              "      --bg-color: #3B4455;\n",
              "      --fill-color: #D2E3FC;\n",
              "      --hover-bg-color: #434B5C;\n",
              "      --hover-fill-color: #FFFFFF;\n",
              "      --disabled-bg-color: #3B4455;\n",
              "      --disabled-fill-color: #666;\n",
              "  }\n",
              "\n",
              "  .colab-df-quickchart {\n",
              "    background-color: var(--bg-color);\n",
              "    border: none;\n",
              "    border-radius: 50%;\n",
              "    cursor: pointer;\n",
              "    display: none;\n",
              "    fill: var(--fill-color);\n",
              "    height: 32px;\n",
              "    padding: 0;\n",
              "    width: 32px;\n",
              "  }\n",
              "\n",
              "  .colab-df-quickchart:hover {\n",
              "    background-color: var(--hover-bg-color);\n",
              "    box-shadow: 0 1px 2px rgba(60, 64, 67, 0.3), 0 1px 3px 1px rgba(60, 64, 67, 0.15);\n",
              "    fill: var(--button-hover-fill-color);\n",
              "  }\n",
              "\n",
              "  .colab-df-quickchart-complete:disabled,\n",
              "  .colab-df-quickchart-complete:disabled:hover {\n",
              "    background-color: var(--disabled-bg-color);\n",
              "    fill: var(--disabled-fill-color);\n",
              "    box-shadow: none;\n",
              "  }\n",
              "\n",
              "  .colab-df-spinner {\n",
              "    border: 2px solid var(--fill-color);\n",
              "    border-color: transparent;\n",
              "    border-bottom-color: var(--fill-color);\n",
              "    animation:\n",
              "      spin 1s steps(1) infinite;\n",
              "  }\n",
              "\n",
              "  @keyframes spin {\n",
              "    0% {\n",
              "      border-color: transparent;\n",
              "      border-bottom-color: var(--fill-color);\n",
              "      border-left-color: var(--fill-color);\n",
              "    }\n",
              "    20% {\n",
              "      border-color: transparent;\n",
              "      border-left-color: var(--fill-color);\n",
              "      border-top-color: var(--fill-color);\n",
              "    }\n",
              "    30% {\n",
              "      border-color: transparent;\n",
              "      border-left-color: var(--fill-color);\n",
              "      border-top-color: var(--fill-color);\n",
              "      border-right-color: var(--fill-color);\n",
              "    }\n",
              "    40% {\n",
              "      border-color: transparent;\n",
              "      border-right-color: var(--fill-color);\n",
              "      border-top-color: var(--fill-color);\n",
              "    }\n",
              "    60% {\n",
              "      border-color: transparent;\n",
              "      border-right-color: var(--fill-color);\n",
              "    }\n",
              "    80% {\n",
              "      border-color: transparent;\n",
              "      border-right-color: var(--fill-color);\n",
              "      border-bottom-color: var(--fill-color);\n",
              "    }\n",
              "    90% {\n",
              "      border-color: transparent;\n",
              "      border-bottom-color: var(--fill-color);\n",
              "    }\n",
              "  }\n",
              "</style>\n",
              "\n",
              "      <script>\n",
              "        async function quickchart(key) {\n",
              "          const quickchartButtonEl =\n",
              "            document.querySelector('#' + key + ' button');\n",
              "          quickchartButtonEl.disabled = true;  // To prevent multiple clicks.\n",
              "          quickchartButtonEl.classList.add('colab-df-spinner');\n",
              "          try {\n",
              "            const charts = await google.colab.kernel.invokeFunction(\n",
              "                'suggestCharts', [key], {});\n",
              "          } catch (error) {\n",
              "            console.error('Error during call to suggestCharts:', error);\n",
              "          }\n",
              "          quickchartButtonEl.classList.remove('colab-df-spinner');\n",
              "          quickchartButtonEl.classList.add('colab-df-quickchart-complete');\n",
              "        }\n",
              "        (() => {\n",
              "          let quickchartButtonEl =\n",
              "            document.querySelector('#df-a42c12a7-94f5-4b0b-b468-6a41cf7a37fb button');\n",
              "          quickchartButtonEl.style.display =\n",
              "            google.colab.kernel.accessAllowed ? 'block' : 'none';\n",
              "        })();\n",
              "      </script>\n",
              "    </div>\n",
              "\n",
              "    </div>\n",
              "  </div>\n"
            ],
            "application/vnd.google.colaboratory.intrinsic+json": {
              "type": "dataframe",
              "variable_name": "error_df",
              "summary": "{\n  \"name\": \"error_df\",\n  \"rows\": 70,\n  \"fields\": [\n    {\n      \"column\": \"SeriesName\",\n      \"properties\": {\n        \"dtype\": \"string\",\n        \"num_unique_values\": 70,\n        \"samples\": [\n          \"('CA_3', 'FOODS_3')\",\n          \"('CA_1', 'FOODS_1')\",\n          \"('WI_3', 'HOBBIES_2')\"\n        ],\n        \"semantic_type\": \"\",\n        \"description\": \"\"\n      }\n    },\n    {\n      \"column\": \"Model\",\n      \"properties\": {\n        \"dtype\": \"category\",\n        \"num_unique_values\": 1,\n        \"samples\": [\n          \"ML_Holdout\"\n        ],\n        \"semantic_type\": \"\",\n        \"description\": \"\"\n      }\n    },\n    {\n      \"column\": \"RMSSE\",\n      \"properties\": {\n        \"dtype\": \"number\",\n        \"std\": 0.2806266436272478,\n        \"min\": 0.38850131238105207,\n        \"max\": 1.8481639452183969,\n        \"num_unique_values\": 70,\n        \"samples\": [\n          0.42798089609676065\n        ],\n        \"semantic_type\": \"\",\n        \"description\": \"\"\n      }\n    },\n    {\n      \"column\": \"RMSE\",\n      \"properties\": {\n        \"dtype\": \"number\",\n        \"std\": 1.494030441752164,\n        \"min\": 0.8239524095317229,\n        \"max\": 7.832609062347675,\n        \"num_unique_values\": 70,\n        \"samples\": [\n          7.659059210221377\n        ],\n        \"semantic_type\": \"\",\n        \"description\": \"\"\n      }\n    },\n    {\n      \"column\": \"Norm_RMSE\",\n      \"properties\": {\n        \"dtype\": \"number\",\n        \"std\": 0.42454063906524114,\n        \"min\": 0.5525364353756704,\n        \"max\": 2.3456735915711753,\n        \"num_unique_values\": 70,\n        \"samples\": [\n          0.6129743487753223\n        ],\n        \"semantic_type\": \"\",\n        \"description\": \"\"\n      }\n    },\n    {\n      \"column\": \"ME\",\n      \"properties\": {\n        \"dtype\": \"number\",\n        \"std\": 0.13886595754304726,\n        \"min\": -0.5798734973834871,\n        \"max\": 0.07972088151939571,\n        \"num_unique_values\": 70,\n        \"samples\": [\n          -0.3628800885486988\n        ],\n        \"semantic_type\": \"\",\n        \"description\": \"\"\n      }\n    },\n    {\n      \"column\": \"Norm_ME\",\n      \"properties\": {\n        \"dtype\": \"number\",\n        \"std\": 0.11885520242101633,\n        \"min\": -0.5378198984926867,\n        \"max\": 0.040397961665839324,\n        \"num_unique_values\": 70,\n        \"samples\": [\n          -0.029042233498445647\n        ],\n        \"semantic_type\": \"\",\n        \"description\": \"\"\n      }\n    }\n  ]\n}"
            }
          },
          "metadata": {},
          "execution_count": 14
        }
      ],
      "source": [
        "error_df.head(10)"
      ]
    },
    {
      "cell_type": "code",
      "execution_count": null,
      "metadata": {
        "colab": {
          "base_uri": "https://localhost:8080/",
          "height": 677
        },
        "id": "znROg-RrwGuo",
        "outputId": "4166487b-33a5-43a5-9eb4-6b51d54e23b9"
      },
      "outputs": [
        {
          "output_type": "execute_result",
          "data": {
            "text/plain": [
              "             SeriesName       Model     RMSSE      RMSE  Norm_RMSE        ME  \\\n",
              "0   ('CA_1', 'FOODS_1')  ML_Holdout  0.741788  3.468516   0.727281 -0.579873   \n",
              "1   ('CA_2', 'FOODS_1')  ML_Holdout  0.643034  3.668151   0.722945 -0.270635   \n",
              "2   ('CA_3', 'FOODS_1')  ML_Holdout  0.760417  4.194421   0.760264 -0.418527   \n",
              "3   ('CA_4', 'FOODS_1')  ML_Holdout  0.772978  2.360023   0.824277 -0.291968   \n",
              "4   ('TX_1', 'FOODS_1')  ML_Holdout  0.980447  3.103439   1.099597 -0.392542   \n",
              "5   ('TX_2', 'FOODS_1')  ML_Holdout  0.595704  2.983457   0.830320 -0.293035   \n",
              "6   ('TX_3', 'FOODS_1')  ML_Holdout  0.862819  3.324551   0.944061 -0.521682   \n",
              "7   ('WI_1', 'FOODS_1')  ML_Holdout  0.649033  2.695979   0.713391 -0.308798   \n",
              "8   ('WI_2', 'FOODS_1')  ML_Holdout  0.688878  4.009613   0.925034 -0.426460   \n",
              "9   ('WI_3', 'FOODS_1')  ML_Holdout  0.679560  2.359380   0.956939 -0.282418   \n",
              "10  ('CA_1', 'FOODS_2')  ML_Holdout  0.614508  2.751993   0.739040 -0.262877   \n",
              "11  ('CA_2', 'FOODS_2')  ML_Holdout  0.684454  2.204473   0.785143 -0.307519   \n",
              "12  ('CA_3', 'FOODS_2')  ML_Holdout  0.602663  3.074010   0.622001 -0.343427   \n",
              "13  ('CA_4', 'FOODS_2')  ML_Holdout  0.819037  1.868603   0.806997 -0.204169   \n",
              "14  ('TX_1', 'FOODS_2')  ML_Holdout  0.775008  2.190943   0.811362 -0.240527   \n",
              "15  ('TX_2', 'FOODS_2')  ML_Holdout  0.639133  2.324978   0.784143 -0.191087   \n",
              "16  ('TX_3', 'FOODS_2')  ML_Holdout  0.639151  2.583854   0.772983 -0.351417   \n",
              "17  ('WI_1', 'FOODS_2')  ML_Holdout  0.909369  2.487064   0.711151 -0.395416   \n",
              "18  ('WI_2', 'FOODS_2')  ML_Holdout  0.661022  4.680651   0.850324 -0.481394   \n",
              "19  ('WI_3', 'FOODS_2')  ML_Holdout  0.606431  2.103923   0.793938 -0.178246   \n",
              "\n",
              "     Norm_ME  \n",
              "0  -0.121588  \n",
              "1  -0.053339  \n",
              "2  -0.075861  \n",
              "3  -0.101975  \n",
              "4  -0.139084  \n",
              "5  -0.081554  \n",
              "6  -0.148140  \n",
              "7  -0.081712  \n",
              "8  -0.098386  \n",
              "9  -0.114546  \n",
              "10 -0.070595  \n",
              "11 -0.109526  \n",
              "12 -0.069490  \n",
              "13 -0.088175  \n",
              "14 -0.089073  \n",
              "15 -0.064448  \n",
              "16 -0.105129  \n",
              "17 -0.113065  \n",
              "18 -0.087454  \n",
              "19 -0.067263  "
            ],
            "text/html": [
              "\n",
              "  <div id=\"df-f49d8568-b709-4242-8498-59eee1d1eb3c\" class=\"colab-df-container\">\n",
              "    <div>\n",
              "<style scoped>\n",
              "    .dataframe tbody tr th:only-of-type {\n",
              "        vertical-align: middle;\n",
              "    }\n",
              "\n",
              "    .dataframe tbody tr th {\n",
              "        vertical-align: top;\n",
              "    }\n",
              "\n",
              "    .dataframe thead th {\n",
              "        text-align: right;\n",
              "    }\n",
              "</style>\n",
              "<table border=\"1\" class=\"dataframe\">\n",
              "  <thead>\n",
              "    <tr style=\"text-align: right;\">\n",
              "      <th></th>\n",
              "      <th>SeriesName</th>\n",
              "      <th>Model</th>\n",
              "      <th>RMSSE</th>\n",
              "      <th>RMSE</th>\n",
              "      <th>Norm_RMSE</th>\n",
              "      <th>ME</th>\n",
              "      <th>Norm_ME</th>\n",
              "    </tr>\n",
              "  </thead>\n",
              "  <tbody>\n",
              "    <tr>\n",
              "      <th>0</th>\n",
              "      <td>('CA_1', 'FOODS_1')</td>\n",
              "      <td>ML_Holdout</td>\n",
              "      <td>0.741788</td>\n",
              "      <td>3.468516</td>\n",
              "      <td>0.727281</td>\n",
              "      <td>-0.579873</td>\n",
              "      <td>-0.121588</td>\n",
              "    </tr>\n",
              "    <tr>\n",
              "      <th>1</th>\n",
              "      <td>('CA_2', 'FOODS_1')</td>\n",
              "      <td>ML_Holdout</td>\n",
              "      <td>0.643034</td>\n",
              "      <td>3.668151</td>\n",
              "      <td>0.722945</td>\n",
              "      <td>-0.270635</td>\n",
              "      <td>-0.053339</td>\n",
              "    </tr>\n",
              "    <tr>\n",
              "      <th>2</th>\n",
              "      <td>('CA_3', 'FOODS_1')</td>\n",
              "      <td>ML_Holdout</td>\n",
              "      <td>0.760417</td>\n",
              "      <td>4.194421</td>\n",
              "      <td>0.760264</td>\n",
              "      <td>-0.418527</td>\n",
              "      <td>-0.075861</td>\n",
              "    </tr>\n",
              "    <tr>\n",
              "      <th>3</th>\n",
              "      <td>('CA_4', 'FOODS_1')</td>\n",
              "      <td>ML_Holdout</td>\n",
              "      <td>0.772978</td>\n",
              "      <td>2.360023</td>\n",
              "      <td>0.824277</td>\n",
              "      <td>-0.291968</td>\n",
              "      <td>-0.101975</td>\n",
              "    </tr>\n",
              "    <tr>\n",
              "      <th>4</th>\n",
              "      <td>('TX_1', 'FOODS_1')</td>\n",
              "      <td>ML_Holdout</td>\n",
              "      <td>0.980447</td>\n",
              "      <td>3.103439</td>\n",
              "      <td>1.099597</td>\n",
              "      <td>-0.392542</td>\n",
              "      <td>-0.139084</td>\n",
              "    </tr>\n",
              "    <tr>\n",
              "      <th>5</th>\n",
              "      <td>('TX_2', 'FOODS_1')</td>\n",
              "      <td>ML_Holdout</td>\n",
              "      <td>0.595704</td>\n",
              "      <td>2.983457</td>\n",
              "      <td>0.830320</td>\n",
              "      <td>-0.293035</td>\n",
              "      <td>-0.081554</td>\n",
              "    </tr>\n",
              "    <tr>\n",
              "      <th>6</th>\n",
              "      <td>('TX_3', 'FOODS_1')</td>\n",
              "      <td>ML_Holdout</td>\n",
              "      <td>0.862819</td>\n",
              "      <td>3.324551</td>\n",
              "      <td>0.944061</td>\n",
              "      <td>-0.521682</td>\n",
              "      <td>-0.148140</td>\n",
              "    </tr>\n",
              "    <tr>\n",
              "      <th>7</th>\n",
              "      <td>('WI_1', 'FOODS_1')</td>\n",
              "      <td>ML_Holdout</td>\n",
              "      <td>0.649033</td>\n",
              "      <td>2.695979</td>\n",
              "      <td>0.713391</td>\n",
              "      <td>-0.308798</td>\n",
              "      <td>-0.081712</td>\n",
              "    </tr>\n",
              "    <tr>\n",
              "      <th>8</th>\n",
              "      <td>('WI_2', 'FOODS_1')</td>\n",
              "      <td>ML_Holdout</td>\n",
              "      <td>0.688878</td>\n",
              "      <td>4.009613</td>\n",
              "      <td>0.925034</td>\n",
              "      <td>-0.426460</td>\n",
              "      <td>-0.098386</td>\n",
              "    </tr>\n",
              "    <tr>\n",
              "      <th>9</th>\n",
              "      <td>('WI_3', 'FOODS_1')</td>\n",
              "      <td>ML_Holdout</td>\n",
              "      <td>0.679560</td>\n",
              "      <td>2.359380</td>\n",
              "      <td>0.956939</td>\n",
              "      <td>-0.282418</td>\n",
              "      <td>-0.114546</td>\n",
              "    </tr>\n",
              "    <tr>\n",
              "      <th>10</th>\n",
              "      <td>('CA_1', 'FOODS_2')</td>\n",
              "      <td>ML_Holdout</td>\n",
              "      <td>0.614508</td>\n",
              "      <td>2.751993</td>\n",
              "      <td>0.739040</td>\n",
              "      <td>-0.262877</td>\n",
              "      <td>-0.070595</td>\n",
              "    </tr>\n",
              "    <tr>\n",
              "      <th>11</th>\n",
              "      <td>('CA_2', 'FOODS_2')</td>\n",
              "      <td>ML_Holdout</td>\n",
              "      <td>0.684454</td>\n",
              "      <td>2.204473</td>\n",
              "      <td>0.785143</td>\n",
              "      <td>-0.307519</td>\n",
              "      <td>-0.109526</td>\n",
              "    </tr>\n",
              "    <tr>\n",
              "      <th>12</th>\n",
              "      <td>('CA_3', 'FOODS_2')</td>\n",
              "      <td>ML_Holdout</td>\n",
              "      <td>0.602663</td>\n",
              "      <td>3.074010</td>\n",
              "      <td>0.622001</td>\n",
              "      <td>-0.343427</td>\n",
              "      <td>-0.069490</td>\n",
              "    </tr>\n",
              "    <tr>\n",
              "      <th>13</th>\n",
              "      <td>('CA_4', 'FOODS_2')</td>\n",
              "      <td>ML_Holdout</td>\n",
              "      <td>0.819037</td>\n",
              "      <td>1.868603</td>\n",
              "      <td>0.806997</td>\n",
              "      <td>-0.204169</td>\n",
              "      <td>-0.088175</td>\n",
              "    </tr>\n",
              "    <tr>\n",
              "      <th>14</th>\n",
              "      <td>('TX_1', 'FOODS_2')</td>\n",
              "      <td>ML_Holdout</td>\n",
              "      <td>0.775008</td>\n",
              "      <td>2.190943</td>\n",
              "      <td>0.811362</td>\n",
              "      <td>-0.240527</td>\n",
              "      <td>-0.089073</td>\n",
              "    </tr>\n",
              "    <tr>\n",
              "      <th>15</th>\n",
              "      <td>('TX_2', 'FOODS_2')</td>\n",
              "      <td>ML_Holdout</td>\n",
              "      <td>0.639133</td>\n",
              "      <td>2.324978</td>\n",
              "      <td>0.784143</td>\n",
              "      <td>-0.191087</td>\n",
              "      <td>-0.064448</td>\n",
              "    </tr>\n",
              "    <tr>\n",
              "      <th>16</th>\n",
              "      <td>('TX_3', 'FOODS_2')</td>\n",
              "      <td>ML_Holdout</td>\n",
              "      <td>0.639151</td>\n",
              "      <td>2.583854</td>\n",
              "      <td>0.772983</td>\n",
              "      <td>-0.351417</td>\n",
              "      <td>-0.105129</td>\n",
              "    </tr>\n",
              "    <tr>\n",
              "      <th>17</th>\n",
              "      <td>('WI_1', 'FOODS_2')</td>\n",
              "      <td>ML_Holdout</td>\n",
              "      <td>0.909369</td>\n",
              "      <td>2.487064</td>\n",
              "      <td>0.711151</td>\n",
              "      <td>-0.395416</td>\n",
              "      <td>-0.113065</td>\n",
              "    </tr>\n",
              "    <tr>\n",
              "      <th>18</th>\n",
              "      <td>('WI_2', 'FOODS_2')</td>\n",
              "      <td>ML_Holdout</td>\n",
              "      <td>0.661022</td>\n",
              "      <td>4.680651</td>\n",
              "      <td>0.850324</td>\n",
              "      <td>-0.481394</td>\n",
              "      <td>-0.087454</td>\n",
              "    </tr>\n",
              "    <tr>\n",
              "      <th>19</th>\n",
              "      <td>('WI_3', 'FOODS_2')</td>\n",
              "      <td>ML_Holdout</td>\n",
              "      <td>0.606431</td>\n",
              "      <td>2.103923</td>\n",
              "      <td>0.793938</td>\n",
              "      <td>-0.178246</td>\n",
              "      <td>-0.067263</td>\n",
              "    </tr>\n",
              "  </tbody>\n",
              "</table>\n",
              "</div>\n",
              "    <div class=\"colab-df-buttons\">\n",
              "\n",
              "  <div class=\"colab-df-container\">\n",
              "    <button class=\"colab-df-convert\" onclick=\"convertToInteractive('df-f49d8568-b709-4242-8498-59eee1d1eb3c')\"\n",
              "            title=\"Convert this dataframe to an interactive table.\"\n",
              "            style=\"display:none;\">\n",
              "\n",
              "  <svg xmlns=\"http://www.w3.org/2000/svg\" height=\"24px\" viewBox=\"0 -960 960 960\">\n",
              "    <path d=\"M120-120v-720h720v720H120Zm60-500h600v-160H180v160Zm220 220h160v-160H400v160Zm0 220h160v-160H400v160ZM180-400h160v-160H180v160Zm440 0h160v-160H620v160ZM180-180h160v-160H180v160Zm440 0h160v-160H620v160Z\"/>\n",
              "  </svg>\n",
              "    </button>\n",
              "\n",
              "  <style>\n",
              "    .colab-df-container {\n",
              "      display:flex;\n",
              "      gap: 12px;\n",
              "    }\n",
              "\n",
              "    .colab-df-convert {\n",
              "      background-color: #E8F0FE;\n",
              "      border: none;\n",
              "      border-radius: 50%;\n",
              "      cursor: pointer;\n",
              "      display: none;\n",
              "      fill: #1967D2;\n",
              "      height: 32px;\n",
              "      padding: 0 0 0 0;\n",
              "      width: 32px;\n",
              "    }\n",
              "\n",
              "    .colab-df-convert:hover {\n",
              "      background-color: #E2EBFA;\n",
              "      box-shadow: 0px 1px 2px rgba(60, 64, 67, 0.3), 0px 1px 3px 1px rgba(60, 64, 67, 0.15);\n",
              "      fill: #174EA6;\n",
              "    }\n",
              "\n",
              "    .colab-df-buttons div {\n",
              "      margin-bottom: 4px;\n",
              "    }\n",
              "\n",
              "    [theme=dark] .colab-df-convert {\n",
              "      background-color: #3B4455;\n",
              "      fill: #D2E3FC;\n",
              "    }\n",
              "\n",
              "    [theme=dark] .colab-df-convert:hover {\n",
              "      background-color: #434B5C;\n",
              "      box-shadow: 0px 1px 3px 1px rgba(0, 0, 0, 0.15);\n",
              "      filter: drop-shadow(0px 1px 2px rgba(0, 0, 0, 0.3));\n",
              "      fill: #FFFFFF;\n",
              "    }\n",
              "  </style>\n",
              "\n",
              "    <script>\n",
              "      const buttonEl =\n",
              "        document.querySelector('#df-f49d8568-b709-4242-8498-59eee1d1eb3c button.colab-df-convert');\n",
              "      buttonEl.style.display =\n",
              "        google.colab.kernel.accessAllowed ? 'block' : 'none';\n",
              "\n",
              "      async function convertToInteractive(key) {\n",
              "        const element = document.querySelector('#df-f49d8568-b709-4242-8498-59eee1d1eb3c');\n",
              "        const dataTable =\n",
              "          await google.colab.kernel.invokeFunction('convertToInteractive',\n",
              "                                                    [key], {});\n",
              "        if (!dataTable) return;\n",
              "\n",
              "        const docLinkHtml = 'Like what you see? Visit the ' +\n",
              "          '<a target=\"_blank\" href=https://colab.research.google.com/notebooks/data_table.ipynb>data table notebook</a>'\n",
              "          + ' to learn more about interactive tables.';\n",
              "        element.innerHTML = '';\n",
              "        dataTable['output_type'] = 'display_data';\n",
              "        await google.colab.output.renderOutput(dataTable, element);\n",
              "        const docLink = document.createElement('div');\n",
              "        docLink.innerHTML = docLinkHtml;\n",
              "        element.appendChild(docLink);\n",
              "      }\n",
              "    </script>\n",
              "  </div>\n",
              "\n",
              "\n",
              "    <div id=\"df-19095504-85b5-4b51-8ffe-7e49f61bf1b8\">\n",
              "      <button class=\"colab-df-quickchart\" onclick=\"quickchart('df-19095504-85b5-4b51-8ffe-7e49f61bf1b8')\"\n",
              "                title=\"Suggest charts\"\n",
              "                style=\"display:none;\">\n",
              "\n",
              "<svg xmlns=\"http://www.w3.org/2000/svg\" height=\"24px\"viewBox=\"0 0 24 24\"\n",
              "     width=\"24px\">\n",
              "    <g>\n",
              "        <path d=\"M19 3H5c-1.1 0-2 .9-2 2v14c0 1.1.9 2 2 2h14c1.1 0 2-.9 2-2V5c0-1.1-.9-2-2-2zM9 17H7v-7h2v7zm4 0h-2V7h2v10zm4 0h-2v-4h2v4z\"/>\n",
              "    </g>\n",
              "</svg>\n",
              "      </button>\n",
              "\n",
              "<style>\n",
              "  .colab-df-quickchart {\n",
              "      --bg-color: #E8F0FE;\n",
              "      --fill-color: #1967D2;\n",
              "      --hover-bg-color: #E2EBFA;\n",
              "      --hover-fill-color: #174EA6;\n",
              "      --disabled-fill-color: #AAA;\n",
              "      --disabled-bg-color: #DDD;\n",
              "  }\n",
              "\n",
              "  [theme=dark] .colab-df-quickchart {\n",
              "      --bg-color: #3B4455;\n",
              "      --fill-color: #D2E3FC;\n",
              "      --hover-bg-color: #434B5C;\n",
              "      --hover-fill-color: #FFFFFF;\n",
              "      --disabled-bg-color: #3B4455;\n",
              "      --disabled-fill-color: #666;\n",
              "  }\n",
              "\n",
              "  .colab-df-quickchart {\n",
              "    background-color: var(--bg-color);\n",
              "    border: none;\n",
              "    border-radius: 50%;\n",
              "    cursor: pointer;\n",
              "    display: none;\n",
              "    fill: var(--fill-color);\n",
              "    height: 32px;\n",
              "    padding: 0;\n",
              "    width: 32px;\n",
              "  }\n",
              "\n",
              "  .colab-df-quickchart:hover {\n",
              "    background-color: var(--hover-bg-color);\n",
              "    box-shadow: 0 1px 2px rgba(60, 64, 67, 0.3), 0 1px 3px 1px rgba(60, 64, 67, 0.15);\n",
              "    fill: var(--button-hover-fill-color);\n",
              "  }\n",
              "\n",
              "  .colab-df-quickchart-complete:disabled,\n",
              "  .colab-df-quickchart-complete:disabled:hover {\n",
              "    background-color: var(--disabled-bg-color);\n",
              "    fill: var(--disabled-fill-color);\n",
              "    box-shadow: none;\n",
              "  }\n",
              "\n",
              "  .colab-df-spinner {\n",
              "    border: 2px solid var(--fill-color);\n",
              "    border-color: transparent;\n",
              "    border-bottom-color: var(--fill-color);\n",
              "    animation:\n",
              "      spin 1s steps(1) infinite;\n",
              "  }\n",
              "\n",
              "  @keyframes spin {\n",
              "    0% {\n",
              "      border-color: transparent;\n",
              "      border-bottom-color: var(--fill-color);\n",
              "      border-left-color: var(--fill-color);\n",
              "    }\n",
              "    20% {\n",
              "      border-color: transparent;\n",
              "      border-left-color: var(--fill-color);\n",
              "      border-top-color: var(--fill-color);\n",
              "    }\n",
              "    30% {\n",
              "      border-color: transparent;\n",
              "      border-left-color: var(--fill-color);\n",
              "      border-top-color: var(--fill-color);\n",
              "      border-right-color: var(--fill-color);\n",
              "    }\n",
              "    40% {\n",
              "      border-color: transparent;\n",
              "      border-right-color: var(--fill-color);\n",
              "      border-top-color: var(--fill-color);\n",
              "    }\n",
              "    60% {\n",
              "      border-color: transparent;\n",
              "      border-right-color: var(--fill-color);\n",
              "    }\n",
              "    80% {\n",
              "      border-color: transparent;\n",
              "      border-right-color: var(--fill-color);\n",
              "      border-bottom-color: var(--fill-color);\n",
              "    }\n",
              "    90% {\n",
              "      border-color: transparent;\n",
              "      border-bottom-color: var(--fill-color);\n",
              "    }\n",
              "  }\n",
              "</style>\n",
              "\n",
              "      <script>\n",
              "        async function quickchart(key) {\n",
              "          const quickchartButtonEl =\n",
              "            document.querySelector('#' + key + ' button');\n",
              "          quickchartButtonEl.disabled = true;  // To prevent multiple clicks.\n",
              "          quickchartButtonEl.classList.add('colab-df-spinner');\n",
              "          try {\n",
              "            const charts = await google.colab.kernel.invokeFunction(\n",
              "                'suggestCharts', [key], {});\n",
              "          } catch (error) {\n",
              "            console.error('Error during call to suggestCharts:', error);\n",
              "          }\n",
              "          quickchartButtonEl.classList.remove('colab-df-spinner');\n",
              "          quickchartButtonEl.classList.add('colab-df-quickchart-complete');\n",
              "        }\n",
              "        (() => {\n",
              "          let quickchartButtonEl =\n",
              "            document.querySelector('#df-19095504-85b5-4b51-8ffe-7e49f61bf1b8 button');\n",
              "          quickchartButtonEl.style.display =\n",
              "            google.colab.kernel.accessAllowed ? 'block' : 'none';\n",
              "        })();\n",
              "      </script>\n",
              "    </div>\n",
              "\n",
              "    </div>\n",
              "  </div>\n"
            ],
            "application/vnd.google.colaboratory.intrinsic+json": {
              "type": "dataframe",
              "variable_name": "error_df",
              "summary": "{\n  \"name\": \"error_df\",\n  \"rows\": 70,\n  \"fields\": [\n    {\n      \"column\": \"SeriesName\",\n      \"properties\": {\n        \"dtype\": \"string\",\n        \"num_unique_values\": 70,\n        \"samples\": [\n          \"('CA_3', 'FOODS_3')\",\n          \"('CA_1', 'FOODS_1')\",\n          \"('WI_3', 'HOBBIES_2')\"\n        ],\n        \"semantic_type\": \"\",\n        \"description\": \"\"\n      }\n    },\n    {\n      \"column\": \"Model\",\n      \"properties\": {\n        \"dtype\": \"category\",\n        \"num_unique_values\": 1,\n        \"samples\": [\n          \"ML_Holdout\"\n        ],\n        \"semantic_type\": \"\",\n        \"description\": \"\"\n      }\n    },\n    {\n      \"column\": \"RMSSE\",\n      \"properties\": {\n        \"dtype\": \"number\",\n        \"std\": 0.2806266436272478,\n        \"min\": 0.38850131238105207,\n        \"max\": 1.8481639452183969,\n        \"num_unique_values\": 70,\n        \"samples\": [\n          0.42798089609676065\n        ],\n        \"semantic_type\": \"\",\n        \"description\": \"\"\n      }\n    },\n    {\n      \"column\": \"RMSE\",\n      \"properties\": {\n        \"dtype\": \"number\",\n        \"std\": 1.494030441752164,\n        \"min\": 0.8239524095317229,\n        \"max\": 7.832609062347675,\n        \"num_unique_values\": 70,\n        \"samples\": [\n          7.659059210221377\n        ],\n        \"semantic_type\": \"\",\n        \"description\": \"\"\n      }\n    },\n    {\n      \"column\": \"Norm_RMSE\",\n      \"properties\": {\n        \"dtype\": \"number\",\n        \"std\": 0.42454063906524114,\n        \"min\": 0.5525364353756704,\n        \"max\": 2.3456735915711753,\n        \"num_unique_values\": 70,\n        \"samples\": [\n          0.6129743487753223\n        ],\n        \"semantic_type\": \"\",\n        \"description\": \"\"\n      }\n    },\n    {\n      \"column\": \"ME\",\n      \"properties\": {\n        \"dtype\": \"number\",\n        \"std\": 0.13886595754304726,\n        \"min\": -0.5798734973834871,\n        \"max\": 0.07972088151939571,\n        \"num_unique_values\": 70,\n        \"samples\": [\n          -0.3628800885486988\n        ],\n        \"semantic_type\": \"\",\n        \"description\": \"\"\n      }\n    },\n    {\n      \"column\": \"Norm_ME\",\n      \"properties\": {\n        \"dtype\": \"number\",\n        \"std\": 0.11885520242101633,\n        \"min\": -0.5378198984926867,\n        \"max\": 0.040397961665839324,\n        \"num_unique_values\": 70,\n        \"samples\": [\n          -0.029042233498445647\n        ],\n        \"semantic_type\": \"\",\n        \"description\": \"\"\n      }\n    }\n  ]\n}"
            }
          },
          "metadata": {},
          "execution_count": 15
        }
      ],
      "source": [
        "error_df.head(20)"
      ]
    },
    {
      "cell_type": "code",
      "source": [
        "error_df.to_pickle(\"/content/drive/MyDrive/Colab Notebooks/Supervised Project/Fine Tuning/1y1y_error_df.pkl\")"
      ],
      "metadata": {
        "id": "4EgrBeGCTKbT"
      },
      "execution_count": null,
      "outputs": []
    },
    {
      "cell_type": "code",
      "execution_count": null,
      "metadata": {
        "id": "tx8_ZdsrB9o_"
      },
      "outputs": [],
      "source": [
        "import matplotlib.pyplot as plt\n",
        "import seaborn as sns\n",
        "\n",
        "def plot_true_vs_pred(df_forecast, true_col='true', pred_col='pred', n_points=140, title='Prediction vs True'):\n",
        "    plt.figure(figsize=(18, 6))\n",
        "    plt.title(title)\n",
        "    plt.xlabel(\"Date\")\n",
        "    plt.ylabel(\"Value\")\n",
        "\n",
        "\n",
        "    y_true = df_forecast[true_col][-n_points:]\n",
        "    y_pred = df_forecast[pred_col][-n_points:]\n",
        "\n",
        "    sns.lineplot(x=y_true.index, y=y_true.values, label='True', color='black')\n",
        "    sns.lineplot(x=y_pred.index, y=y_pred.values, label='Prediction', color='blue')\n",
        "\n",
        "    plt.legend()\n",
        "    plt.grid(True)\n",
        "    plt.tight_layout()\n",
        "    plt.show()\n"
      ]
    },
    {
      "cell_type": "code",
      "execution_count": null,
      "metadata": {
        "id": "GwU6EvI7CBIo"
      },
      "outputs": [],
      "source": [
        "sample_group_df = all_results[\n",
        "    (all_results['store_id'] == 'CA_1') &\n",
        "    (all_results['dept_id'] == 'FOODS_1')\n",
        "]\n"
      ]
    },
    {
      "cell_type": "code",
      "execution_count": null,
      "metadata": {
        "colab": {
          "base_uri": "https://localhost:8080/",
          "height": 349
        },
        "id": "-OX52u8hCIgw",
        "outputId": "c268ee05-3184-4b13-8b6c-3fb83042f6ac"
      },
      "outputs": [
        {
          "output_type": "display_data",
          "data": {
            "text/plain": [
              "<Figure size 1800x600 with 1 Axes>"
            ],
            "image/png": "[encoded data removed]"
          },
          "metadata": {}
        }
      ],
      "source": [
        "plot_true_vs_pred(sample_group_df, true_col='true', pred_col='pred', n_points=100, title='CA_1 - FOODS_1')\n"
      ]
    }
  ],
  "metadata": {
    "accelerator": "GPU",
    "colab": {
      "gpuType": "A100",
      "machine_shape": "hm",
      "provenance": [],
      "toc_visible": true,
      "authorship_tag": "ABX9TyNTv+YBMKwfPO4jW8xiVFnS",
      "include_colab_link": true
    },
    "kernelspec": {
      "display_name": "Python 3",
      "name": "python3"
    },
    "language_info": {
      "name": "python"
    }
  },
  "nbformat": 4,
  "nbformat_minor": 0
}