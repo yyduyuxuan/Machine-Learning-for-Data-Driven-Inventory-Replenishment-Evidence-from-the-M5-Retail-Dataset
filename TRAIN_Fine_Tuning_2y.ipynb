{
  "cells": [
    {
      "cell_type": "markdown",
      "metadata": {
        "id": "view-in-github",
        "colab_type": "text"
      },
      "source": [
        "<a href=\"https://colab.research.google.com/github/yyduyuxuan/Machine-Learning-for-Data-Driven-Inventory-Replenishment-Evidence-from-the-M5-Retail-Dataset/blob/main/TRAIN_Fine_Tuning_2y.ipynb\" target=\"_parent\"><img src=\"https://colab.research.google.com/assets/colab-badge.svg\" alt=\"Open In Colab\"/></a>"
      ]
    },
    {
      "cell_type": "code",
      "execution_count": null,
      "metadata": {
        "colab": {
          "base_uri": "https://localhost:8080/"
        },
        "id": "R3MbzyUWJRCw",
        "outputId": "a155b379-c67d-4bbe-cd7f-e60c9bdba680"
      },
      "outputs": [
        {
          "name": "stdout",
          "output_type": "stream",
          "text": [
            "✅ GPU setting accepted.\n"
          ]
        }
      ],
      "source": [
        "import lightgbm as lgb\n",
        "from lightgbm import LGBMRegressor\n",
        "\n",
        "try:\n",
        "    model = LGBMRegressor(device='gpu', n_estimators=10)\n",
        "    print(\"✅ GPU setting accepted.\")\n",
        "except:\n",
        "    print(\"❌ GPU setting not supported by current LightGBM.\")\n"
      ]
    },
    {
      "cell_type": "code",
      "execution_count": null,
      "metadata": {
        "colab": {
          "base_uri": "https://localhost:8080/"
        },
        "id": "8jviFGYmsYm6",
        "outputId": "c5aad94e-bdfe-4ad5-9130-403a75b752dd"
      },
      "outputs": [
        {
          "name": "stdout",
          "output_type": "stream",
          "text": [
            "Cloning into 'LightGBM'...\n",
            "remote: Enumerating objects: 35473, done.\u001b[K\n",
            "remote: Counting objects: 100% (254/254), done.\u001b[K\n",
            "remote: Compressing objects: 100% (166/166), done.\u001b[K\n",
            "remote: Total 35473 (delta 169), reused 87 (delta 87), pack-reused 35219 (from 2)\u001b[K\n",
            "Receiving objects: 100% (35473/35473), 24.03 MiB | 32.12 MiB/s, done.\n",
            "Resolving deltas: 100% (26370/26370), done.\n",
            "Submodule 'include/boost/compute' (https://github.com/boostorg/compute) registered for path 'external_libs/compute'\n",
            "Submodule 'eigen' (https://gitlab.com/libeigen/eigen.git) registered for path 'external_libs/eigen'\n",
            "Submodule 'external_libs/fast_double_parser' (https://github.com/lemire/fast_double_parser.git) registered for path 'external_libs/fast_double_parser'\n",
            "Submodule 'external_libs/fmt' (https://github.com/fmtlib/fmt.git) registered for path 'external_libs/fmt'\n",
            "Cloning into '/content/LightGBM/external_libs/compute'...\n",
            "remote: Enumerating objects: 21818, done.        \n",
            "remote: Counting objects: 100% (40/40), done.        \n",
            "remote: Compressing objects: 100% (24/24), done.        \n",
            "remote: Total 21818 (delta 21), reused 18 (delta 16), pack-reused 21778 (from 2)        \n",
            "Receiving objects: 100% (21818/21818), 8.54 MiB | 26.66 MiB/s, done.\n",
            "Resolving deltas: 100% (17608/17608), done.\n",
            "Cloning into '/content/LightGBM/external_libs/eigen'...\n",
            "remote: Enumerating objects: 128544, done.        \n",
            "remote: Counting objects: 100% (140/140), done.        \n",
            "remote: Compressing objects: 100% (90/90), done.        \n",
            "remote: Total 128544 (delta 74), reused 100 (delta 50), pack-reused 128404 (from 1)        \n",
            "Receiving objects: 100% (128544/128544), 106.44 MiB | 33.46 MiB/s, done.\n",
            "Resolving deltas: 100% (106709/106709), done.\n",
            "Cloning into '/content/LightGBM/external_libs/fast_double_parser'...\n",
            "remote: Enumerating objects: 871, done.        \n",
            "remote: Counting objects: 100% (136/136), done.        \n",
            "remote: Compressing objects: 100% (21/21), done.        \n",
            "remote: Total 871 (delta 122), reused 115 (delta 115), pack-reused 735 (from 2)        \n",
            "Receiving objects: 100% (871/871), 858.42 KiB | 6.65 MiB/s, done.\n",
            "Resolving deltas: 100% (437/437), done.\n",
            "Cloning into '/content/LightGBM/external_libs/fmt'...\n",
            "remote: Enumerating objects: 39810, done.        \n",
            "remote: Counting objects: 100% (302/302), done.        \n",
            "remote: Compressing objects: 100% (137/137), done.        \n",
            "remote: Total 39810 (delta 212), reused 165 (delta 165), pack-reused 39508 (from 4)        \n",
            "Receiving objects: 100% (39810/39810), 16.29 MiB | 29.06 MiB/s, done.\n",
            "Resolving deltas: 100% (26855/26855), done.\n",
            "Submodule path 'external_libs/compute': checked out '36350b7de849300bd3d72a05d8bf890ca405a014'\n",
            "Submodule path 'external_libs/eigen': checked out '3147391d946bb4b6c68edd901f2add6ac1f31f8c'\n",
            "Submodule path 'external_libs/fast_double_parser': checked out '252029ddac664370bdda3f0761675785d92a1573'\n",
            "Submodule 'benchmark/dependencies/abseil-cpp' (https://github.com/abseil/abseil-cpp.git) registered for path 'external_libs/fast_double_parser/benchmarks/dependencies/abseil-cpp'\n",
            "Submodule 'benchmark/dependencies/double-conversion' (https://github.com/google/double-conversion.git) registered for path 'external_libs/fast_double_parser/benchmarks/dependencies/double-conversion'\n",
            "Cloning into '/content/LightGBM/external_libs/fast_double_parser/benchmarks/dependencies/abseil-cpp'...\n",
            "remote: Enumerating objects: 32067, done.        \n",
            "remote: Counting objects: 100% (55/55), done.        \n",
            "remote: Compressing objects: 100% (38/38), done.        \n",
            "remote: Total 32067 (delta 18), reused 18 (delta 17), pack-reused 32012 (from 3)        \n",
            "Receiving objects: 100% (32067/32067), 18.29 MiB | 26.53 MiB/s, done.\n",
            "Resolving deltas: 100% (25086/25086), done.\n",
            "Cloning into '/content/LightGBM/external_libs/fast_double_parser/benchmarks/dependencies/double-conversion'...\n",
            "remote: Enumerating objects: 1573, done.        \n",
            "remote: Counting objects: 100% (448/448), done.        \n",
            "remote: Compressing objects: 100% (116/116), done.        \n",
            "remote: Total 1573 (delta 387), reused 334 (delta 332), pack-reused 1125 (from 3)        \n",
            "Receiving objects: 100% (1573/1573), 7.12 MiB | 20.84 MiB/s, done.\n",
            "Resolving deltas: 100% (1027/1027), done.\n",
            "Submodule path 'external_libs/fast_double_parser/benchmarks/dependencies/abseil-cpp': checked out 'd936052d32a5b7ca08b0199a6724724aea432309'\n",
            "Submodule path 'external_libs/fast_double_parser/benchmarks/dependencies/double-conversion': checked out 'f4cb2384efa55dee0e6652f8674b05763441ab09'\n",
            "Submodule path 'external_libs/fmt': checked out '8303d140a1a11f19b982a9f664bbe59a1ccda3f4'\n",
            "/content/LightGBM\n",
            "/content/LightGBM/build\n",
            "-- The C compiler identification is GNU 11.4.0\n",
            "-- The CXX compiler identification is GNU 11.4.0\n",
            "-- Detecting C compiler ABI info\n",
            "-- Detecting C compiler ABI info - done\n",
            "-- Check for working C compiler: /usr/bin/cc - skipped\n",
            "-- Detecting C compile features\n",
            "-- Detecting C compile features - done\n",
            "-- Detecting CXX compiler ABI info\n",
            "-- Detecting CXX compiler ABI info - done\n",
            "-- Check for working CXX compiler: /usr/bin/c++ - skipped\n",
            "-- Detecting CXX compile features\n",
            "-- Detecting CXX compile features - done\n",
            "-- Found OpenMP_C: -fopenmp (found version \"4.5\")\n",
            "-- Found OpenMP_CXX: -fopenmp (found version \"4.5\")\n",
            "-- Found OpenMP: TRUE (found version \"4.5\")\n",
            "-- Looking for CL_VERSION_3_0\n",
            "-- Looking for CL_VERSION_3_0 - found\n",
            "-- Found OpenCL: /usr/lib/x86_64-linux-gnu/libOpenCL.so (found version \"3.0\")\n",
            "-- OpenCL include directory: /usr/include\n",
            "\u001b[33mCMake Warning (dev) at CMakeLists.txt:196 (find_package):\n",
            "  Policy CMP0167 is not set: The FindBoost module is removed.  Run \"cmake\n",
            "  --help-policy CMP0167\" for policy details.  Use the cmake_policy command to\n",
            "  set the policy and suppress this warning.\n",
            "\n",
            "This warning is for project developers.  Use -Wno-dev to suppress it.\n",
            "\u001b[0m\n",
            "-- Found Boost: /usr/lib/x86_64-linux-gnu/cmake/Boost-1.74.0/BoostConfig.cmake (found suitable version \"1.74.0\", minimum required is \"1.56.0\") found components: filesystem system\n",
            "-- Performing Test MM_PREFETCH\n",
            "-- Performing Test MM_PREFETCH - Success\n",
            "-- Using _mm_prefetch\n",
            "-- Performing Test MM_MALLOC\n",
            "-- Performing Test MM_MALLOC - Success\n",
            "-- Using _mm_malloc\n",
            "-- Configuring done (1.5s)\n",
            "-- Generating done (0.0s)\n",
            "-- Build files have been written to: /content/LightGBM/build\n",
            "[  2%] \u001b[32mBuilding CXX object CMakeFiles/lightgbm_capi_objs.dir/src/c_api.cpp.o\u001b[0m\n",
            "[  5%] \u001b[32mBuilding CXX object CMakeFiles/lightgbm_objs.dir/src/boosting/boosting.cpp.o\u001b[0m\n",
            "[  7%] \u001b[32mBuilding CXX object CMakeFiles/lightgbm_objs.dir/src/boosting/gbdt_model_text.cpp.o\u001b[0m\n",
            "[ 10%] \u001b[32mBuilding CXX object CMakeFiles/lightgbm_objs.dir/src/boosting/gbdt_prediction.cpp.o\u001b[0m\n",
            "[ 12%] \u001b[32mBuilding CXX object CMakeFiles/lightgbm_objs.dir/src/boosting/gbdt.cpp.o\u001b[0m\n",
            "[ 15%] \u001b[32mBuilding CXX object CMakeFiles/lightgbm_objs.dir/src/boosting/prediction_early_stop.cpp.o\u001b[0m\n",
            "[ 17%] \u001b[32mBuilding CXX object CMakeFiles/lightgbm_objs.dir/src/boosting/sample_strategy.cpp.o\u001b[0m\n",
            "[ 20%] \u001b[32mBuilding CXX object CMakeFiles/lightgbm_objs.dir/src/io/bin.cpp.o\u001b[0m\n",
            "[ 23%] \u001b[32mBuilding CXX object CMakeFiles/lightgbm_objs.dir/src/io/config_auto.cpp.o\u001b[0m\n",
            "[ 25%] \u001b[32mBuilding CXX object CMakeFiles/lightgbm_objs.dir/src/io/config.cpp.o\u001b[0m\n",
            "[ 25%] Built target lightgbm_capi_objs\n",
            "[ 28%] \u001b[32mBuilding CXX object CMakeFiles/lightgbm_objs.dir/src/io/dataset_loader.cpp.o\u001b[0m\n",
            "[ 30%] \u001b[32mBuilding CXX object CMakeFiles/lightgbm_objs.dir/src/io/dataset.cpp.o\u001b[0m\n",
            "[ 33%] \u001b[32mBuilding CXX object CMakeFiles/lightgbm_objs.dir/src/io/file_io.cpp.o\u001b[0m\n",
            "[ 35%] \u001b[32mBuilding CXX object CMakeFiles/lightgbm_objs.dir/src/io/json11.cpp.o\u001b[0m\n",
            "[ 38%] \u001b[32mBuilding CXX object CMakeFiles/lightgbm_objs.dir/src/io/metadata.cpp.o\u001b[0m\n",
            "[ 41%] \u001b[32mBuilding CXX object CMakeFiles/lightgbm_objs.dir/src/io/parser.cpp.o\u001b[0m\n",
            "[ 43%] \u001b[32mBuilding CXX object CMakeFiles/lightgbm_objs.dir/src/io/train_share_states.cpp.o\u001b[0m\n",
            "[ 46%] \u001b[32mBuilding CXX object CMakeFiles/lightgbm_objs.dir/src/io/tree.cpp.o\u001b[0m\n",
            "[ 48%] \u001b[32mBuilding CXX object CMakeFiles/lightgbm_objs.dir/src/metric/dcg_calculator.cpp.o\u001b[0m\n",
            "[ 51%] \u001b[32mBuilding CXX object CMakeFiles/lightgbm_objs.dir/src/metric/metric.cpp.o\u001b[0m\n",
            "[ 53%] \u001b[32mBuilding CXX object CMakeFiles/lightgbm_objs.dir/src/network/linker_topo.cpp.o\u001b[0m\n",
            "[ 56%] \u001b[32mBuilding CXX object CMakeFiles/lightgbm_objs.dir/src/network/linkers_mpi.cpp.o\u001b[0m\n",
            "[ 58%] \u001b[32mBuilding CXX object CMakeFiles/lightgbm_objs.dir/src/network/linkers_socket.cpp.o\u001b[0m\n",
            "[ 61%] \u001b[32mBuilding CXX object CMakeFiles/lightgbm_objs.dir/src/network/network.cpp.o\u001b[0m\n",
            "[ 64%] \u001b[32mBuilding CXX object CMakeFiles/lightgbm_objs.dir/src/objective/objective_function.cpp.o\u001b[0m\n",
            "[ 66%] \u001b[32mBuilding CXX object CMakeFiles/lightgbm_objs.dir/src/treelearner/data_parallel_tree_learner.cpp.o\u001b[0m\n",
            "[ 69%] \u001b[32mBuilding CXX object CMakeFiles/lightgbm_objs.dir/src/treelearner/feature_histogram.cpp.o\u001b[0m\n",
            "[ 71%] \u001b[32mBuilding CXX object CMakeFiles/lightgbm_objs.dir/src/treelearner/feature_parallel_tree_learner.cpp.o\u001b[0m\n",
            "In file included from \u001b[01m\u001b[K/usr/include/CL/cl.h:20\u001b[m\u001b[K,\n",
            "                 from \u001b[01m\u001b[K/content/LightGBM/external_libs/compute/include/boost/compute/cl.hpp:19\u001b[m\u001b[K,\n",
            "                 from \u001b[01m\u001b[K/content/LightGBM/external_libs/compute/include/boost/compute/config.hpp:16\u001b[m\u001b[K,\n",
            "                 from \u001b[01m\u001b[K/content/LightGBM/external_libs/compute/include/boost/compute/buffer.hpp:14\u001b[m\u001b[K,\n",
            "                 from \u001b[01m\u001b[K/content/LightGBM/external_libs/compute/include/boost/compute/core.hpp:18\u001b[m\u001b[K,\n",
            "                 from \u001b[01m\u001b[K/content/LightGBM/src/treelearner/gpu_tree_learner.h:33\u001b[m\u001b[K,\n",
            "                 from \u001b[01m\u001b[K/content/LightGBM/src/treelearner/parallel_tree_learner.h:15\u001b[m\u001b[K,\n",
            "                 from \u001b[01m\u001b[K/content/LightGBM/src/treelearner/data_parallel_tree_learner.cpp:9\u001b[m\u001b[K:\n",
            "\u001b[01m\u001b[K/usr/include/CL/cl_version.h:22:104:\u001b[m\u001b[K \u001b[01;36m\u001b[Knote: \u001b[m\u001b[K‘\u001b[01m\u001b[K#pragma message: cl_version.h: CL_TARGET_OPENCL_VERSION is not defined. Defaulting to 300 (OpenCL 3.0)\u001b[m\u001b[K’\n",
            "   22 | #pragma message(\"cl_version.h: CL_TARGET_OPENCL_VERSION is not defined. Defaulting to 300 (OpenCL 3.0)\"\u001b[01;36m\u001b[K)\u001b[m\u001b[K\n",
            "      |                                                                                                        \u001b[01;36m\u001b[K^\u001b[m\u001b[K\n",
            "In file included from \u001b[01m\u001b[K/usr/include/CL/cl.h:20\u001b[m\u001b[K,\n",
            "                 from \u001b[01m\u001b[K/content/LightGBM/external_libs/compute/include/boost/compute/cl.hpp:19\u001b[m\u001b[K,\n",
            "                 from \u001b[01m\u001b[K/content/LightGBM/external_libs/compute/include/boost/compute/config.hpp:16\u001b[m\u001b[K,\n",
            "                 from \u001b[01m\u001b[K/content/LightGBM/external_libs/compute/include/boost/compute/buffer.hpp:14\u001b[m\u001b[K,\n",
            "                 from \u001b[01m\u001b[K/content/LightGBM/external_libs/compute/include/boost/compute/core.hpp:18\u001b[m\u001b[K,\n",
            "                 from \u001b[01m\u001b[K/content/LightGBM/src/treelearner/gpu_tree_learner.h:33\u001b[m\u001b[K,\n",
            "                 from \u001b[01m\u001b[K/content/LightGBM/src/treelearner/parallel_tree_learner.h:15\u001b[m\u001b[K,\n",
            "                 from \u001b[01m\u001b[K/content/LightGBM/src/treelearner/feature_parallel_tree_learner.cpp:8\u001b[m\u001b[K:\n",
            "\u001b[01m\u001b[K/usr/include/CL/cl_version.h:22:104:\u001b[m\u001b[K \u001b[01;36m\u001b[Knote: \u001b[m\u001b[K‘\u001b[01m\u001b[K#pragma message: cl_version.h: CL_TARGET_OPENCL_VERSION is not defined. Defaulting to 300 (OpenCL 3.0)\u001b[m\u001b[K’\n",
            "   22 | #pragma message(\"cl_version.h: CL_TARGET_OPENCL_VERSION is not defined. Defaulting to 300 (OpenCL 3.0)\"\u001b[01;36m\u001b[K)\u001b[m\u001b[K\n",
            "      |                                                                                                        \u001b[01;36m\u001b[K^\u001b[m\u001b[K\n",
            "In file included from \u001b[01m\u001b[K/usr/include/boost/smart_ptr/detail/sp_thread_sleep.hpp:22\u001b[m\u001b[K,\n",
            "                 from \u001b[01m\u001b[K/usr/include/boost/smart_ptr/detail/yield_k.hpp:23\u001b[m\u001b[K,\n",
            "                 from \u001b[01m\u001b[K/usr/include/boost/smart_ptr/detail/spinlock_gcc_atomic.hpp:14\u001b[m\u001b[K,\n",
            "                 from \u001b[01m\u001b[K/usr/include/boost/smart_ptr/detail/spinlock.hpp:42\u001b[m\u001b[K,\n",
            "                 from \u001b[01m\u001b[K/usr/include/boost/smart_ptr/detail/spinlock_pool.hpp:25\u001b[m\u001b[K,\n",
            "                 from \u001b[01m\u001b[K/usr/include/boost/smart_ptr/shared_ptr.hpp:29\u001b[m\u001b[K,\n",
            "                 from \u001b[01m\u001b[K/usr/include/boost/shared_ptr.hpp:17\u001b[m\u001b[K,\n",
            "                 from \u001b[01m\u001b[K/content/LightGBM/external_libs/compute/include/boost/compute/utility/program_cache.hpp:17\u001b[m\u001b[K,\n",
            "                 from \u001b[01m\u001b[K/content/LightGBM/external_libs/compute/include/boost/compute/detail/meta_kernel.hpp:40\u001b[m\u001b[K,\n",
            "                 from \u001b[01m\u001b[K/content/LightGBM/external_libs/compute/include/boost/compute/types/complex.hpp:20\u001b[m\u001b[K,\n",
            "                 from \u001b[01m\u001b[K/content/LightGBM/external_libs/compute/include/boost/compute/types.hpp:18\u001b[m\u001b[K,\n",
            "                 from \u001b[01m\u001b[K/content/LightGBM/external_libs/compute/include/boost/compute/core.hpp:25\u001b[m\u001b[K,\n",
            "                 from \u001b[01m\u001b[K/content/LightGBM/src/treelearner/gpu_tree_learner.h:33\u001b[m\u001b[K,\n",
            "                 from \u001b[01m\u001b[K/content/LightGBM/src/treelearner/parallel_tree_learner.h:15\u001b[m\u001b[K,\n",
            "                 from \u001b[01m\u001b[K/content/LightGBM/src/treelearner/data_parallel_tree_learner.cpp:9\u001b[m\u001b[K:\n",
            "\u001b[01m\u001b[K/usr/include/boost/bind.hpp:36:1:\u001b[m\u001b[K \u001b[01;36m\u001b[Knote: \u001b[m\u001b[K‘\u001b[01m\u001b[K#pragma message: The practice of declaring the Bind placeholders (_1, _2, ...) in the global namespace is deprecated. Please use <boost/bind/bind.hpp> + using namespace boost::placeholders, or define BOOST_BIND_GLOBAL_PLACEHOLDERS to retain the current behavior.\u001b[m\u001b[K’\n",
            "   36 | \u001b[01;36m\u001b[KBOOST_PRAGMA_MESSAGE\u001b[m\u001b[K(\n",
            "      | \u001b[01;36m\u001b[K^~~~~~~~~~~~~~~~~~~~\u001b[m\u001b[K\n",
            "In file included from \u001b[01m\u001b[K/usr/include/boost/smart_ptr/detail/sp_thread_sleep.hpp:22\u001b[m\u001b[K,\n",
            "                 from \u001b[01m\u001b[K/usr/include/boost/smart_ptr/detail/yield_k.hpp:23\u001b[m\u001b[K,\n",
            "                 from \u001b[01m\u001b[K/usr/include/boost/smart_ptr/detail/spinlock_gcc_atomic.hpp:14\u001b[m\u001b[K,\n",
            "                 from \u001b[01m\u001b[K/usr/include/boost/smart_ptr/detail/spinlock.hpp:42\u001b[m\u001b[K,\n",
            "                 from \u001b[01m\u001b[K/usr/include/boost/smart_ptr/detail/spinlock_pool.hpp:25\u001b[m\u001b[K,\n",
            "                 from \u001b[01m\u001b[K/usr/include/boost/smart_ptr/shared_ptr.hpp:29\u001b[m\u001b[K,\n",
            "                 from \u001b[01m\u001b[K/usr/include/boost/shared_ptr.hpp:17\u001b[m\u001b[K,\n",
            "                 from \u001b[01m\u001b[K/content/LightGBM/external_libs/compute/include/boost/compute/utility/program_cache.hpp:17\u001b[m\u001b[K,\n",
            "                 from \u001b[01m\u001b[K/content/LightGBM/external_libs/compute/include/boost/compute/detail/meta_kernel.hpp:40\u001b[m\u001b[K,\n",
            "                 from \u001b[01m\u001b[K/content/LightGBM/external_libs/compute/include/boost/compute/types/complex.hpp:20\u001b[m\u001b[K,\n",
            "                 from \u001b[01m\u001b[K/content/LightGBM/external_libs/compute/include/boost/compute/types.hpp:18\u001b[m\u001b[K,\n",
            "                 from \u001b[01m\u001b[K/content/LightGBM/external_libs/compute/include/boost/compute/core.hpp:25\u001b[m\u001b[K,\n",
            "                 from \u001b[01m\u001b[K/content/LightGBM/src/treelearner/gpu_tree_learner.h:33\u001b[m\u001b[K,\n",
            "                 from \u001b[01m\u001b[K/content/LightGBM/src/treelearner/parallel_tree_learner.h:15\u001b[m\u001b[K,\n",
            "                 from \u001b[01m\u001b[K/content/LightGBM/src/treelearner/feature_parallel_tree_learner.cpp:8\u001b[m\u001b[K:\n",
            "\u001b[01m\u001b[K/usr/include/boost/bind.hpp:36:1:\u001b[m\u001b[K \u001b[01;36m\u001b[Knote: \u001b[m\u001b[K‘\u001b[01m\u001b[K#pragma message: The practice of declaring the Bind placeholders (_1, _2, ...) in the global namespace is deprecated. Please use <boost/bind/bind.hpp> + using namespace boost::placeholders, or define BOOST_BIND_GLOBAL_PLACEHOLDERS to retain the current behavior.\u001b[m\u001b[K’\n",
            "   36 | \u001b[01;36m\u001b[KBOOST_PRAGMA_MESSAGE\u001b[m\u001b[K(\n",
            "      | \u001b[01;36m\u001b[K^~~~~~~~~~~~~~~~~~~~\u001b[m\u001b[K\n",
            "[ 74%] \u001b[32mBuilding CXX object CMakeFiles/lightgbm_objs.dir/src/treelearner/gpu_tree_learner.cpp.o\u001b[0m\n",
            "In file included from \u001b[01m\u001b[K/usr/include/CL/cl.h:20\u001b[m\u001b[K,\n",
            "                 from \u001b[01m\u001b[K/content/LightGBM/external_libs/compute/include/boost/compute/cl.hpp:19\u001b[m\u001b[K,\n",
            "                 from \u001b[01m\u001b[K/content/LightGBM/external_libs/compute/include/boost/compute/config.hpp:16\u001b[m\u001b[K,\n",
            "                 from \u001b[01m\u001b[K/content/LightGBM/external_libs/compute/include/boost/compute/buffer.hpp:14\u001b[m\u001b[K,\n",
            "                 from \u001b[01m\u001b[K/content/LightGBM/external_libs/compute/include/boost/compute/core.hpp:18\u001b[m\u001b[K,\n",
            "                 from \u001b[01m\u001b[K/content/LightGBM/src/treelearner/gpu_tree_learner.h:33\u001b[m\u001b[K,\n",
            "                 from \u001b[01m\u001b[K/content/LightGBM/src/treelearner/gpu_tree_learner.cpp:7\u001b[m\u001b[K:\n",
            "\u001b[01m\u001b[K/usr/include/CL/cl_version.h:22:104:\u001b[m\u001b[K \u001b[01;36m\u001b[Knote: \u001b[m\u001b[K‘\u001b[01m\u001b[K#pragma message: cl_version.h: CL_TARGET_OPENCL_VERSION is not defined. Defaulting to 300 (OpenCL 3.0)\u001b[m\u001b[K’\n",
            "   22 | #pragma message(\"cl_version.h: CL_TARGET_OPENCL_VERSION is not defined. Defaulting to 300 (OpenCL 3.0)\"\u001b[01;36m\u001b[K)\u001b[m\u001b[K\n",
            "      |                                                                                                        \u001b[01;36m\u001b[K^\u001b[m\u001b[K\n",
            "In file included from \u001b[01m\u001b[K/usr/include/boost/smart_ptr/detail/sp_thread_sleep.hpp:22\u001b[m\u001b[K,\n",
            "                 from \u001b[01m\u001b[K/usr/include/boost/smart_ptr/detail/yield_k.hpp:23\u001b[m\u001b[K,\n",
            "                 from \u001b[01m\u001b[K/usr/include/boost/smart_ptr/detail/spinlock_gcc_atomic.hpp:14\u001b[m\u001b[K,\n",
            "                 from \u001b[01m\u001b[K/usr/include/boost/smart_ptr/detail/spinlock.hpp:42\u001b[m\u001b[K,\n",
            "                 from \u001b[01m\u001b[K/usr/include/boost/smart_ptr/detail/spinlock_pool.hpp:25\u001b[m\u001b[K,\n",
            "                 from \u001b[01m\u001b[K/usr/include/boost/smart_ptr/shared_ptr.hpp:29\u001b[m\u001b[K,\n",
            "                 from \u001b[01m\u001b[K/usr/include/boost/shared_ptr.hpp:17\u001b[m\u001b[K,\n",
            "                 from \u001b[01m\u001b[K/content/LightGBM/external_libs/compute/include/boost/compute/utility/program_cache.hpp:17\u001b[m\u001b[K,\n",
            "                 from \u001b[01m\u001b[K/content/LightGBM/external_libs/compute/include/boost/compute/detail/meta_kernel.hpp:40\u001b[m\u001b[K,\n",
            "                 from \u001b[01m\u001b[K/content/LightGBM/external_libs/compute/include/boost/compute/types/complex.hpp:20\u001b[m\u001b[K,\n",
            "                 from \u001b[01m\u001b[K/content/LightGBM/external_libs/compute/include/boost/compute/types.hpp:18\u001b[m\u001b[K,\n",
            "                 from \u001b[01m\u001b[K/content/LightGBM/external_libs/compute/include/boost/compute/core.hpp:25\u001b[m\u001b[K,\n",
            "                 from \u001b[01m\u001b[K/content/LightGBM/src/treelearner/gpu_tree_learner.h:33\u001b[m\u001b[K,\n",
            "                 from \u001b[01m\u001b[K/content/LightGBM/src/treelearner/gpu_tree_learner.cpp:7\u001b[m\u001b[K:\n",
            "\u001b[01m\u001b[K/usr/include/boost/bind.hpp:36:1:\u001b[m\u001b[K \u001b[01;36m\u001b[Knote: \u001b[m\u001b[K‘\u001b[01m\u001b[K#pragma message: The practice of declaring the Bind placeholders (_1, _2, ...) in the global namespace is deprecated. Please use <boost/bind/bind.hpp> + using namespace boost::placeholders, or define BOOST_BIND_GLOBAL_PLACEHOLDERS to retain the current behavior.\u001b[m\u001b[K’\n",
            "   36 | \u001b[01;36m\u001b[KBOOST_PRAGMA_MESSAGE\u001b[m\u001b[K(\n",
            "      | \u001b[01;36m\u001b[K^~~~~~~~~~~~~~~~~~~~\u001b[m\u001b[K\n",
            "[ 76%] \u001b[32mBuilding CXX object CMakeFiles/lightgbm_objs.dir/src/treelearner/gradient_discretizer.cpp.o\u001b[0m\n",
            "[ 79%] \u001b[32mBuilding CXX object CMakeFiles/lightgbm_objs.dir/src/treelearner/linear_tree_learner.cpp.o\u001b[0m\n",
            "In file included from \u001b[01m\u001b[K/usr/include/CL/cl.h:20\u001b[m\u001b[K,\n",
            "                 from \u001b[01m\u001b[K/content/LightGBM/external_libs/compute/include/boost/compute/cl.hpp:19\u001b[m\u001b[K,\n",
            "                 from \u001b[01m\u001b[K/content/LightGBM/external_libs/compute/include/boost/compute/config.hpp:16\u001b[m\u001b[K,\n",
            "                 from \u001b[01m\u001b[K/content/LightGBM/external_libs/compute/include/boost/compute/buffer.hpp:14\u001b[m\u001b[K,\n",
            "                 from \u001b[01m\u001b[K/content/LightGBM/external_libs/compute/include/boost/compute/core.hpp:18\u001b[m\u001b[K,\n",
            "                 from \u001b[01m\u001b[K/content/LightGBM/src/treelearner/gpu_tree_learner.h:33\u001b[m\u001b[K,\n",
            "                 from \u001b[01m\u001b[K/content/LightGBM/src/treelearner/linear_tree_learner.h:14\u001b[m\u001b[K,\n",
            "                 from \u001b[01m\u001b[K/content/LightGBM/src/treelearner/linear_tree_learner.cpp:5\u001b[m\u001b[K:\n",
            "\u001b[01m\u001b[K/usr/include/CL/cl_version.h:22:104:\u001b[m\u001b[K \u001b[01;36m\u001b[Knote: \u001b[m\u001b[K‘\u001b[01m\u001b[K#pragma message: cl_version.h: CL_TARGET_OPENCL_VERSION is not defined. Defaulting to 300 (OpenCL 3.0)\u001b[m\u001b[K’\n",
            "   22 | #pragma message(\"cl_version.h: CL_TARGET_OPENCL_VERSION is not defined. Defaulting to 300 (OpenCL 3.0)\"\u001b[01;36m\u001b[K)\u001b[m\u001b[K\n",
            "      |                                                                                                        \u001b[01;36m\u001b[K^\u001b[m\u001b[K\n",
            "In file included from \u001b[01m\u001b[K/usr/include/boost/smart_ptr/detail/sp_thread_sleep.hpp:22\u001b[m\u001b[K,\n",
            "                 from \u001b[01m\u001b[K/usr/include/boost/smart_ptr/detail/yield_k.hpp:23\u001b[m\u001b[K,\n",
            "                 from \u001b[01m\u001b[K/usr/include/boost/smart_ptr/detail/spinlock_gcc_atomic.hpp:14\u001b[m\u001b[K,\n",
            "                 from \u001b[01m\u001b[K/usr/include/boost/smart_ptr/detail/spinlock.hpp:42\u001b[m\u001b[K,\n",
            "                 from \u001b[01m\u001b[K/usr/include/boost/smart_ptr/detail/spinlock_pool.hpp:25\u001b[m\u001b[K,\n",
            "                 from \u001b[01m\u001b[K/usr/include/boost/smart_ptr/shared_ptr.hpp:29\u001b[m\u001b[K,\n",
            "                 from \u001b[01m\u001b[K/usr/include/boost/shared_ptr.hpp:17\u001b[m\u001b[K,\n",
            "                 from \u001b[01m\u001b[K/content/LightGBM/external_libs/compute/include/boost/compute/utility/program_cache.hpp:17\u001b[m\u001b[K,\n",
            "                 from \u001b[01m\u001b[K/content/LightGBM/external_libs/compute/include/boost/compute/detail/meta_kernel.hpp:40\u001b[m\u001b[K,\n",
            "                 from \u001b[01m\u001b[K/content/LightGBM/external_libs/compute/include/boost/compute/types/complex.hpp:20\u001b[m\u001b[K,\n",
            "                 from \u001b[01m\u001b[K/content/LightGBM/external_libs/compute/include/boost/compute/types.hpp:18\u001b[m\u001b[K,\n",
            "                 from \u001b[01m\u001b[K/content/LightGBM/external_libs/compute/include/boost/compute/core.hpp:25\u001b[m\u001b[K,\n",
            "                 from \u001b[01m\u001b[K/content/LightGBM/src/treelearner/gpu_tree_learner.h:33\u001b[m\u001b[K,\n",
            "                 from \u001b[01m\u001b[K/content/LightGBM/src/treelearner/linear_tree_learner.h:14\u001b[m\u001b[K,\n",
            "                 from \u001b[01m\u001b[K/content/LightGBM/src/treelearner/linear_tree_learner.cpp:5\u001b[m\u001b[K:\n",
            "\u001b[01m\u001b[K/usr/include/boost/bind.hpp:36:1:\u001b[m\u001b[K \u001b[01;36m\u001b[Knote: \u001b[m\u001b[K‘\u001b[01m\u001b[K#pragma message: The practice of declaring the Bind placeholders (_1, _2, ...) in the global namespace is deprecated. Please use <boost/bind/bind.hpp> + using namespace boost::placeholders, or define BOOST_BIND_GLOBAL_PLACEHOLDERS to retain the current behavior.\u001b[m\u001b[K’\n",
            "   36 | \u001b[01;36m\u001b[KBOOST_PRAGMA_MESSAGE\u001b[m\u001b[K(\n",
            "      | \u001b[01;36m\u001b[K^~~~~~~~~~~~~~~~~~~~\u001b[m\u001b[K\n",
            "[ 82%] \u001b[32mBuilding CXX object CMakeFiles/lightgbm_objs.dir/src/treelearner/serial_tree_learner.cpp.o\u001b[0m\n",
            "[ 84%] \u001b[32mBuilding CXX object CMakeFiles/lightgbm_objs.dir/src/treelearner/tree_learner.cpp.o\u001b[0m\n",
            "In file included from \u001b[01m\u001b[K/usr/include/CL/cl.h:20\u001b[m\u001b[K,\n",
            "                 from \u001b[01m\u001b[K/content/LightGBM/external_libs/compute/include/boost/compute/cl.hpp:19\u001b[m\u001b[K,\n",
            "                 from \u001b[01m\u001b[K/content/LightGBM/external_libs/compute/include/boost/compute/config.hpp:16\u001b[m\u001b[K,\n",
            "                 from \u001b[01m\u001b[K/content/LightGBM/external_libs/compute/include/boost/compute/buffer.hpp:14\u001b[m\u001b[K,\n",
            "                 from \u001b[01m\u001b[K/content/LightGBM/external_libs/compute/include/boost/compute/core.hpp:18\u001b[m\u001b[K,\n",
            "                 from \u001b[01m\u001b[K/content/LightGBM/src/treelearner/gpu_tree_learner.h:33\u001b[m\u001b[K,\n",
            "                 from \u001b[01m\u001b[K/content/LightGBM/src/treelearner/tree_learner.cpp:7\u001b[m\u001b[K:\n",
            "\u001b[01m\u001b[K/usr/include/CL/cl_version.h:22:104:\u001b[m\u001b[K \u001b[01;36m\u001b[Knote: \u001b[m\u001b[K‘\u001b[01m\u001b[K#pragma message: cl_version.h: CL_TARGET_OPENCL_VERSION is not defined. Defaulting to 300 (OpenCL 3.0)\u001b[m\u001b[K’\n",
            "   22 | #pragma message(\"cl_version.h: CL_TARGET_OPENCL_VERSION is not defined. Defaulting to 300 (OpenCL 3.0)\"\u001b[01;36m\u001b[K)\u001b[m\u001b[K\n",
            "      |                                                                                                        \u001b[01;36m\u001b[K^\u001b[m\u001b[K\n",
            "In file included from \u001b[01m\u001b[K/usr/include/boost/smart_ptr/detail/sp_thread_sleep.hpp:22\u001b[m\u001b[K,\n",
            "                 from \u001b[01m\u001b[K/usr/include/boost/smart_ptr/detail/yield_k.hpp:23\u001b[m\u001b[K,\n",
            "                 from \u001b[01m\u001b[K/usr/include/boost/smart_ptr/detail/spinlock_gcc_atomic.hpp:14\u001b[m\u001b[K,\n",
            "                 from \u001b[01m\u001b[K/usr/include/boost/smart_ptr/detail/spinlock.hpp:42\u001b[m\u001b[K,\n",
            "                 from \u001b[01m\u001b[K/usr/include/boost/smart_ptr/detail/spinlock_pool.hpp:25\u001b[m\u001b[K,\n",
            "                 from \u001b[01m\u001b[K/usr/include/boost/smart_ptr/shared_ptr.hpp:29\u001b[m\u001b[K,\n",
            "                 from \u001b[01m\u001b[K/usr/include/boost/shared_ptr.hpp:17\u001b[m\u001b[K,\n",
            "                 from \u001b[01m\u001b[K/content/LightGBM/external_libs/compute/include/boost/compute/utility/program_cache.hpp:17\u001b[m\u001b[K,\n",
            "                 from \u001b[01m\u001b[K/content/LightGBM/external_libs/compute/include/boost/compute/detail/meta_kernel.hpp:40\u001b[m\u001b[K,\n",
            "                 from \u001b[01m\u001b[K/content/LightGBM/external_libs/compute/include/boost/compute/types/complex.hpp:20\u001b[m\u001b[K,\n",
            "                 from \u001b[01m\u001b[K/content/LightGBM/external_libs/compute/include/boost/compute/types.hpp:18\u001b[m\u001b[K,\n",
            "                 from \u001b[01m\u001b[K/content/LightGBM/external_libs/compute/include/boost/compute/core.hpp:25\u001b[m\u001b[K,\n",
            "                 from \u001b[01m\u001b[K/content/LightGBM/src/treelearner/gpu_tree_learner.h:33\u001b[m\u001b[K,\n",
            "                 from \u001b[01m\u001b[K/content/LightGBM/src/treelearner/tree_learner.cpp:7\u001b[m\u001b[K:\n",
            "\u001b[01m\u001b[K/usr/include/boost/bind.hpp:36:1:\u001b[m\u001b[K \u001b[01;36m\u001b[Knote: \u001b[m\u001b[K‘\u001b[01m\u001b[K#pragma message: The practice of declaring the Bind placeholders (_1, _2, ...) in the global namespace is deprecated. Please use <boost/bind/bind.hpp> + using namespace boost::placeholders, or define BOOST_BIND_GLOBAL_PLACEHOLDERS to retain the current behavior.\u001b[m\u001b[K’\n",
            "   36 | \u001b[01;36m\u001b[KBOOST_PRAGMA_MESSAGE\u001b[m\u001b[K(\n",
            "      | \u001b[01;36m\u001b[K^~~~~~~~~~~~~~~~~~~~\u001b[m\u001b[K\n",
            "[ 87%] \u001b[32mBuilding CXX object CMakeFiles/lightgbm_objs.dir/src/treelearner/voting_parallel_tree_learner.cpp.o\u001b[0m\n",
            "[ 89%] \u001b[32mBuilding CXX object CMakeFiles/lightgbm_objs.dir/src/utils/openmp_wrapper.cpp.o\u001b[0m\n",
            "In file included from \u001b[01m\u001b[K/usr/include/CL/cl.h:20\u001b[m\u001b[K,\n",
            "                 from \u001b[01m\u001b[K/content/LightGBM/external_libs/compute/include/boost/compute/cl.hpp:19\u001b[m\u001b[K,\n",
            "                 from \u001b[01m\u001b[K/content/LightGBM/external_libs/compute/include/boost/compute/config.hpp:16\u001b[m\u001b[K,\n",
            "                 from \u001b[01m\u001b[K/content/LightGBM/external_libs/compute/include/boost/compute/buffer.hpp:14\u001b[m\u001b[K,\n",
            "                 from \u001b[01m\u001b[K/content/LightGBM/external_libs/compute/include/boost/compute/core.hpp:18\u001b[m\u001b[K,\n",
            "                 from \u001b[01m\u001b[K/content/LightGBM/src/treelearner/gpu_tree_learner.h:33\u001b[m\u001b[K,\n",
            "                 from \u001b[01m\u001b[K/content/LightGBM/src/treelearner/parallel_tree_learner.h:15\u001b[m\u001b[K,\n",
            "                 from \u001b[01m\u001b[K/content/LightGBM/src/treelearner/voting_parallel_tree_learner.cpp:11\u001b[m\u001b[K:\n",
            "\u001b[01m\u001b[K/usr/include/CL/cl_version.h:22:104:\u001b[m\u001b[K \u001b[01;36m\u001b[Knote: \u001b[m\u001b[K‘\u001b[01m\u001b[K#pragma message: cl_version.h: CL_TARGET_OPENCL_VERSION is not defined. Defaulting to 300 (OpenCL 3.0)\u001b[m\u001b[K’\n",
            "   22 | #pragma message(\"cl_version.h: CL_TARGET_OPENCL_VERSION is not defined. Defaulting to 300 (OpenCL 3.0)\"\u001b[01;36m\u001b[K)\u001b[m\u001b[K\n",
            "      |                                                                                                        \u001b[01;36m\u001b[K^\u001b[m\u001b[K\n",
            "In file included from \u001b[01m\u001b[K/usr/include/boost/smart_ptr/detail/sp_thread_sleep.hpp:22\u001b[m\u001b[K,\n",
            "                 from \u001b[01m\u001b[K/usr/include/boost/smart_ptr/detail/yield_k.hpp:23\u001b[m\u001b[K,\n",
            "                 from \u001b[01m\u001b[K/usr/include/boost/smart_ptr/detail/spinlock_gcc_atomic.hpp:14\u001b[m\u001b[K,\n",
            "                 from \u001b[01m\u001b[K/usr/include/boost/smart_ptr/detail/spinlock.hpp:42\u001b[m\u001b[K,\n",
            "                 from \u001b[01m\u001b[K/usr/include/boost/smart_ptr/detail/spinlock_pool.hpp:25\u001b[m\u001b[K,\n",
            "                 from \u001b[01m\u001b[K/usr/include/boost/smart_ptr/shared_ptr.hpp:29\u001b[m\u001b[K,\n",
            "                 from \u001b[01m\u001b[K/usr/include/boost/shared_ptr.hpp:17\u001b[m\u001b[K,\n",
            "                 from \u001b[01m\u001b[K/content/LightGBM/external_libs/compute/include/boost/compute/utility/program_cache.hpp:17\u001b[m\u001b[K,\n",
            "                 from \u001b[01m\u001b[K/content/LightGBM/external_libs/compute/include/boost/compute/detail/meta_kernel.hpp:40\u001b[m\u001b[K,\n",
            "                 from \u001b[01m\u001b[K/content/LightGBM/external_libs/compute/include/boost/compute/types/complex.hpp:20\u001b[m\u001b[K,\n",
            "                 from \u001b[01m\u001b[K/content/LightGBM/external_libs/compute/include/boost/compute/types.hpp:18\u001b[m\u001b[K,\n",
            "                 from \u001b[01m\u001b[K/content/LightGBM/external_libs/compute/include/boost/compute/core.hpp:25\u001b[m\u001b[K,\n",
            "                 from \u001b[01m\u001b[K/content/LightGBM/src/treelearner/gpu_tree_learner.h:33\u001b[m\u001b[K,\n",
            "                 from \u001b[01m\u001b[K/content/LightGBM/src/treelearner/parallel_tree_learner.h:15\u001b[m\u001b[K,\n",
            "                 from \u001b[01m\u001b[K/content/LightGBM/src/treelearner/voting_parallel_tree_learner.cpp:11\u001b[m\u001b[K:\n",
            "\u001b[01m\u001b[K/usr/include/boost/bind.hpp:36:1:\u001b[m\u001b[K \u001b[01;36m\u001b[Knote: \u001b[m\u001b[K‘\u001b[01m\u001b[K#pragma message: The practice of declaring the Bind placeholders (_1, _2, ...) in the global namespace is deprecated. Please use <boost/bind/bind.hpp> + using namespace boost::placeholders, or define BOOST_BIND_GLOBAL_PLACEHOLDERS to retain the current behavior.\u001b[m\u001b[K’\n",
            "   36 | \u001b[01;36m\u001b[KBOOST_PRAGMA_MESSAGE\u001b[m\u001b[K(\n",
            "      | \u001b[01;36m\u001b[K^~~~~~~~~~~~~~~~~~~~\u001b[m\u001b[K\n",
            "[ 89%] Built target lightgbm_objs\n",
            "[ 92%] \u001b[32mBuilding CXX object CMakeFiles/lightgbm.dir/src/main.cpp.o\u001b[0m\n",
            "[ 94%] \u001b[32mBuilding CXX object CMakeFiles/lightgbm.dir/src/application/application.cpp.o\u001b[0m\n",
            "[ 97%] \u001b[32m\u001b[1mLinking CXX shared library /content/LightGBM/lib_lightgbm.so\u001b[0m\n",
            "[ 97%] Built target _lightgbm\n",
            "[100%] \u001b[32m\u001b[1mLinking CXX executable /content/LightGBM/lightgbm\u001b[0m\n",
            "[100%] Built target lightgbm\n",
            "/content/LightGBM/python-package\n",
            "python3: can't open file '/content/LightGBM/python-package/setup.py': [Errno 2] No such file or directory\n"
          ]
        }
      ],
      "source": [
        "# Install the GPU version of LightGBM\n",
        "!apt-get install -y -qq libboost-all-dev\n",
        "!pip uninstall -y lightgbm -q\n",
        "!git clone --recursive https://github.com/microsoft/LightGBM\n",
        "%cd LightGBM\n",
        "!mkdir build\n",
        "%cd build\n",
        "!cmake -DUSE_GPU=1 ..\n",
        "!make -j4\n",
        "%cd ../python-package\n",
        "!python setup.py install\n"
      ]
    },
    {
      "cell_type": "code",
      "execution_count": null,
      "metadata": {
        "id": "3H15EHbtB3je"
      },
      "outputs": [],
      "source": [
        "import numpy as np\n",
        "import pandas as pd\n",
        "import os, sys, gc, time, warnings, pickle, psutil, random\n",
        "\n",
        "from math import ceil\n",
        "\n",
        "from sklearn.preprocessing import LabelEncoder\n",
        "\n",
        "warnings.filterwarnings('ignore')"
      ]
    },
    {
      "cell_type": "code",
      "execution_count": null,
      "metadata": {
        "id": "ymeJa4xkC9Et"
      },
      "outputs": [],
      "source": [
        "def get_memory_usage():\n",
        "    return np.round(psutil.Process(os.getpid()).memory_info()[0]/2.**30, 2)\n",
        "\n",
        "def sizeof_fmt(num, suffix='B'):\n",
        "    for unit in ['','Ki','Mi','Gi','Ti','Pi','Ei','Zi']:\n",
        "        if abs(num) < 1024.0:\n",
        "            return \"%3.1f%s%s\" % (num, unit, suffix)\n",
        "        num /= 1024.0\n",
        "    return \"%.1f%s%s\" % (num, 'Yi', suffix)"
      ]
    },
    {
      "cell_type": "code",
      "execution_count": null,
      "metadata": {
        "id": "IQ3KWr3CvW9S"
      },
      "outputs": [],
      "source": [
        "## Memory Reducer\n",
        "# :df pandas dataframe to reduce size             # type: pd.DataFrame()\n",
        "# :verbose                                        # type: bool\n",
        "def reduce_mem_usage(df, verbose=True):\n",
        "    numerics = ['int16', 'int32', 'int64', 'float16', 'float32', 'float64']\n",
        "    start_mem = df.memory_usage().sum() / 1024**2\n",
        "    for col in df.columns:\n",
        "        col_type = df[col].dtypes\n",
        "        if col_type in numerics:\n",
        "            c_min = df[col].min()\n",
        "            c_max = df[col].max()\n",
        "            if str(col_type)[:3] == 'int':\n",
        "                if c_min > np.iinfo(np.int8).min and c_max < np.iinfo(np.int8).max:\n",
        "                    df[col] = df[col].astype(np.int8)\n",
        "                elif c_min > np.iinfo(np.int16).min and c_max < np.iinfo(np.int16).max:\n",
        "                       df[col] = df[col].astype(np.int16)\n",
        "                elif c_min > np.iinfo(np.int32).min and c_max < np.iinfo(np.int32).max:\n",
        "                    df[col] = df[col].astype(np.int32)\n",
        "                elif c_min > np.iinfo(np.int64).min and c_max < np.iinfo(np.int64).max:\n",
        "                    df[col] = df[col].astype(np.int64)\n",
        "            else:\n",
        "                if c_min > np.finfo(np.float16).min and c_max < np.finfo(np.float16).max:\n",
        "                    df[col] = df[col].astype(np.float16)\n",
        "                elif c_min > np.finfo(np.float32).min and c_max < np.finfo(np.float32).max:\n",
        "                    df[col] = df[col].astype(np.float32)\n",
        "                else:\n",
        "                    df[col] = df[col].astype(np.float64)\n",
        "    end_mem = df.memory_usage().sum() / 1024**2\n",
        "    if verbose: print('Mem. usage decreased to {:5.2f} Mb ({:.1f}% reduction)'.format(end_mem, 100 * (start_mem - end_mem) / start_mem))\n",
        "    return df"
      ]
    },
    {
      "cell_type": "markdown",
      "metadata": {
        "id": "vExnbwl8_8U7"
      },
      "source": [
        "# Load the data"
      ]
    },
    {
      "cell_type": "code",
      "execution_count": null,
      "metadata": {
        "colab": {
          "base_uri": "https://localhost:8080/",
          "height": 465
        },
        "id": "PSxkejGbDCT2",
        "outputId": "75991280-f2b0-4f2c-fdf4-84936d25e8c0"
      },
      "outputs": [
        {
          "output_type": "stream",
          "name": "stdout",
          "text": [
            "Mounted at /content/drive\n",
            "(45974682, 119)\n"
          ]
        },
        {
          "output_type": "execute_result",
          "data": {
            "text/plain": [
              "                            id      item_id  dept_id cat_id store_id state_id  \\\n",
              "0  FOODS_1_001_CA_1_validation  FOODS_1_001  FOODS_1  FOODS     CA_1       CA   \n",
              "1  FOODS_1_001_CA_1_validation  FOODS_1_001  FOODS_1  FOODS     CA_1       CA   \n",
              "2  FOODS_1_001_CA_1_validation  FOODS_1_001  FOODS_1  FOODS     CA_1       CA   \n",
              "3  FOODS_1_001_CA_1_validation  FOODS_1_001  FOODS_1  FOODS     CA_1       CA   \n",
              "4  FOODS_1_001_CA_1_validation  FOODS_1_001  FOODS_1  FOODS     CA_1       CA   \n",
              "\n",
              "   d  sales       date  wm_yr_wk  ... enc_mean_store_id_cat_id  \\\n",
              "0  1      3 2011-01-29     11101  ...                     2.75   \n",
              "1  2      0 2011-01-30     11101  ...                     2.75   \n",
              "2  3      0 2011-01-31     11101  ...                     2.75   \n",
              "3  4      1 2011-02-01     11101  ...                     2.75   \n",
              "4  5      4 2011-02-02     11101  ...                     2.75   \n",
              "\n",
              "   enc_std_store_id_cat_id  enc_mean_store_id_dept_id  \\\n",
              "0                 6.753906                   1.662109   \n",
              "1                 6.753906                   1.662109   \n",
              "2                 6.753906                   1.662109   \n",
              "3                 6.753906                   1.662109   \n",
              "4                 6.753906                   1.662109   \n",
              "\n",
              "   enc_std_store_id_dept_id enc_mean_item_id enc_std_item_id  \\\n",
              "0                  3.357422         0.719238        1.333008   \n",
              "1                  3.357422         0.719238        1.333008   \n",
              "2                  3.357422         0.719238        1.333008   \n",
              "3                  3.357422         0.719238        1.333008   \n",
              "4                  3.357422         0.719238        1.333008   \n",
              "\n",
              "  enc_mean_item_id_state_id enc_std_item_id_state_id  \\\n",
              "0                  0.968262                 1.662109   \n",
              "1                  0.968262                 1.662109   \n",
              "2                  0.968262                 1.662109   \n",
              "3                  0.968262                 1.662109   \n",
              "4                  0.968262                 1.662109   \n",
              "\n",
              "   enc_mean_item_id_store_id  enc_std_item_id_store_id  \n",
              "0                   0.833984                     1.375  \n",
              "1                   0.833984                     1.375  \n",
              "2                   0.833984                     1.375  \n",
              "3                   0.833984                     1.375  \n",
              "4                   0.833984                     1.375  \n",
              "\n",
              "[5 rows x 119 columns]"
            ],
            "text/html": [
              "\n",
              "  <div id=\"df-f92e9db7-fe49-4403-9cc8-d3af830ae88e\" class=\"colab-df-container\">\n",
              "    <div>\n",
              "<style scoped>\n",
              "    .dataframe tbody tr th:only-of-type {\n",
              "        vertical-align: middle;\n",
              "    }\n",
              "\n",
              "    .dataframe tbody tr th {\n",
              "        vertical-align: top;\n",
              "    }\n",
              "\n",
              "    .dataframe thead th {\n",
              "        text-align: right;\n",
              "    }\n",
              "</style>\n",
              "<table border=\"1\" class=\"dataframe\">\n",
              "  <thead>\n",
              "    <tr style=\"text-align: right;\">\n",
              "      <th></th>\n",
              "      <th>id</th>\n",
              "      <th>item_id</th>\n",
              "      <th>dept_id</th>\n",
              "      <th>cat_id</th>\n",
              "      <th>store_id</th>\n",
              "      <th>state_id</th>\n",
              "      <th>d</th>\n",
              "      <th>sales</th>\n",
              "      <th>date</th>\n",
              "      <th>wm_yr_wk</th>\n",
              "      <th>...</th>\n",
              "      <th>enc_mean_store_id_cat_id</th>\n",
              "      <th>enc_std_store_id_cat_id</th>\n",
              "      <th>enc_mean_store_id_dept_id</th>\n",
              "      <th>enc_std_store_id_dept_id</th>\n",
              "      <th>enc_mean_item_id</th>\n",
              "      <th>enc_std_item_id</th>\n",
              "      <th>enc_mean_item_id_state_id</th>\n",
              "      <th>enc_std_item_id_state_id</th>\n",
              "      <th>enc_mean_item_id_store_id</th>\n",
              "      <th>enc_std_item_id_store_id</th>\n",
              "    </tr>\n",
              "  </thead>\n",
              "  <tbody>\n",
              "    <tr>\n",
              "      <th>0</th>\n",
              "      <td>FOODS_1_001_CA_1_validation</td>\n",
              "      <td>FOODS_1_001</td>\n",
              "      <td>FOODS_1</td>\n",
              "      <td>FOODS</td>\n",
              "      <td>CA_1</td>\n",
              "      <td>CA</td>\n",
              "      <td>1</td>\n",
              "      <td>3</td>\n",
              "      <td>2011-01-29</td>\n",
              "      <td>11101</td>\n",
              "      <td>...</td>\n",
              "      <td>2.75</td>\n",
              "      <td>6.753906</td>\n",
              "      <td>1.662109</td>\n",
              "      <td>3.357422</td>\n",
              "      <td>0.719238</td>\n",
              "      <td>1.333008</td>\n",
              "      <td>0.968262</td>\n",
              "      <td>1.662109</td>\n",
              "      <td>0.833984</td>\n",
              "      <td>1.375</td>\n",
              "    </tr>\n",
              "    <tr>\n",
              "      <th>1</th>\n",
              "      <td>FOODS_1_001_CA_1_validation</td>\n",
              "      <td>FOODS_1_001</td>\n",
              "      <td>FOODS_1</td>\n",
              "      <td>FOODS</td>\n",
              "      <td>CA_1</td>\n",
              "      <td>CA</td>\n",
              "      <td>2</td>\n",
              "      <td>0</td>\n",
              "      <td>2011-01-30</td>\n",
              "      <td>11101</td>\n",
              "      <td>...</td>\n",
              "      <td>2.75</td>\n",
              "      <td>6.753906</td>\n",
              "      <td>1.662109</td>\n",
              "      <td>3.357422</td>\n",
              "      <td>0.719238</td>\n",
              "      <td>1.333008</td>\n",
              "      <td>0.968262</td>\n",
              "      <td>1.662109</td>\n",
              "      <td>0.833984</td>\n",
              "      <td>1.375</td>\n",
              "    </tr>\n",
              "    <tr>\n",
              "      <th>2</th>\n",
              "      <td>FOODS_1_001_CA_1_validation</td>\n",
              "      <td>FOODS_1_001</td>\n",
              "      <td>FOODS_1</td>\n",
              "      <td>FOODS</td>\n",
              "      <td>CA_1</td>\n",
              "      <td>CA</td>\n",
              "      <td>3</td>\n",
              "      <td>0</td>\n",
              "      <td>2011-01-31</td>\n",
              "      <td>11101</td>\n",
              "      <td>...</td>\n",
              "      <td>2.75</td>\n",
              "      <td>6.753906</td>\n",
              "      <td>1.662109</td>\n",
              "      <td>3.357422</td>\n",
              "      <td>0.719238</td>\n",
              "      <td>1.333008</td>\n",
              "      <td>0.968262</td>\n",
              "      <td>1.662109</td>\n",
              "      <td>0.833984</td>\n",
              "      <td>1.375</td>\n",
              "    </tr>\n",
              "    <tr>\n",
              "      <th>3</th>\n",
              "      <td>FOODS_1_001_CA_1_validation</td>\n",
              "      <td>FOODS_1_001</td>\n",
              "      <td>FOODS_1</td>\n",
              "      <td>FOODS</td>\n",
              "      <td>CA_1</td>\n",
              "      <td>CA</td>\n",
              "      <td>4</td>\n",
              "      <td>1</td>\n",
              "      <td>2011-02-01</td>\n",
              "      <td>11101</td>\n",
              "      <td>...</td>\n",
              "      <td>2.75</td>\n",
              "      <td>6.753906</td>\n",
              "      <td>1.662109</td>\n",
              "      <td>3.357422</td>\n",
              "      <td>0.719238</td>\n",
              "      <td>1.333008</td>\n",
              "      <td>0.968262</td>\n",
              "      <td>1.662109</td>\n",
              "      <td>0.833984</td>\n",
              "      <td>1.375</td>\n",
              "    </tr>\n",
              "    <tr>\n",
              "      <th>4</th>\n",
              "      <td>FOODS_1_001_CA_1_validation</td>\n",
              "      <td>FOODS_1_001</td>\n",
              "      <td>FOODS_1</td>\n",
              "      <td>FOODS</td>\n",
              "      <td>CA_1</td>\n",
              "      <td>CA</td>\n",
              "      <td>5</td>\n",
              "      <td>4</td>\n",
              "      <td>2011-02-02</td>\n",
              "      <td>11101</td>\n",
              "      <td>...</td>\n",
              "      <td>2.75</td>\n",
              "      <td>6.753906</td>\n",
              "      <td>1.662109</td>\n",
              "      <td>3.357422</td>\n",
              "      <td>0.719238</td>\n",
              "      <td>1.333008</td>\n",
              "      <td>0.968262</td>\n",
              "      <td>1.662109</td>\n",
              "      <td>0.833984</td>\n",
              "      <td>1.375</td>\n",
              "    </tr>\n",
              "  </tbody>\n",
              "</table>\n",
              "<p>5 rows × 119 columns</p>\n",
              "</div>\n",
              "    <div class=\"colab-df-buttons\">\n",
              "\n",
              "  <div class=\"colab-df-container\">\n",
              "    <button class=\"colab-df-convert\" onclick=\"convertToInteractive('df-f92e9db7-fe49-4403-9cc8-d3af830ae88e')\"\n",
              "            title=\"Convert this dataframe to an interactive table.\"\n",
              "            style=\"display:none;\">\n",
              "\n",
              "  <svg xmlns=\"http://www.w3.org/2000/svg\" height=\"24px\" viewBox=\"0 -960 960 960\">\n",
              "    <path d=\"M120-120v-720h720v720H120Zm60-500h600v-160H180v160Zm220 220h160v-160H400v160Zm0 220h160v-160H400v160ZM180-400h160v-160H180v160Zm440 0h160v-160H620v160ZM180-180h160v-160H180v160Zm440 0h160v-160H620v160Z\"/>\n",
              "  </svg>\n",
              "    </button>\n",
              "\n",
              "  <style>\n",
              "    .colab-df-container {\n",
              "      display:flex;\n",
              "      gap: 12px;\n",
              "    }\n",
              "\n",
              "    .colab-df-convert {\n",
              "      background-color: #E8F0FE;\n",
              "      border: none;\n",
              "      border-radius: 50%;\n",
              "      cursor: pointer;\n",
              "      display: none;\n",
              "      fill: #1967D2;\n",
              "      height: 32px;\n",
              "      padding: 0 0 0 0;\n",
              "      width: 32px;\n",
              "    }\n",
              "\n",
              "    .colab-df-convert:hover {\n",
              "      background-color: #E2EBFA;\n",
              "      box-shadow: 0px 1px 2px rgba(60, 64, 67, 0.3), 0px 1px 3px 1px rgba(60, 64, 67, 0.15);\n",
              "      fill: #174EA6;\n",
              "    }\n",
              "\n",
              "    .colab-df-buttons div {\n",
              "      margin-bottom: 4px;\n",
              "    }\n",
              "\n",
              "    [theme=dark] .colab-df-convert {\n",
              "      background-color: #3B4455;\n",
              "      fill: #D2E3FC;\n",
              "    }\n",
              "\n",
              "    [theme=dark] .colab-df-convert:hover {\n",
              "      background-color: #434B5C;\n",
              "      box-shadow: 0px 1px 3px 1px rgba(0, 0, 0, 0.15);\n",
              "      filter: drop-shadow(0px 1px 2px rgba(0, 0, 0, 0.3));\n",
              "      fill: #FFFFFF;\n",
              "    }\n",
              "  </style>\n",
              "\n",
              "    <script>\n",
              "      const buttonEl =\n",
              "        document.querySelector('#df-f92e9db7-fe49-4403-9cc8-d3af830ae88e button.colab-df-convert');\n",
              "      buttonEl.style.display =\n",
              "        google.colab.kernel.accessAllowed ? 'block' : 'none';\n",
              "\n",
              "      async function convertToInteractive(key) {\n",
              "        const element = document.querySelector('#df-f92e9db7-fe49-4403-9cc8-d3af830ae88e');\n",
              "        const dataTable =\n",
              "          await google.colab.kernel.invokeFunction('convertToInteractive',\n",
              "                                                    [key], {});\n",
              "        if (!dataTable) return;\n",
              "\n",
              "        const docLinkHtml = 'Like what you see? Visit the ' +\n",
              "          '<a target=\"_blank\" href=https://colab.research.google.com/notebooks/data_table.ipynb>data table notebook</a>'\n",
              "          + ' to learn more about interactive tables.';\n",
              "        element.innerHTML = '';\n",
              "        dataTable['output_type'] = 'display_data';\n",
              "        await google.colab.output.renderOutput(dataTable, element);\n",
              "        const docLink = document.createElement('div');\n",
              "        docLink.innerHTML = docLinkHtml;\n",
              "        element.appendChild(docLink);\n",
              "      }\n",
              "    </script>\n",
              "  </div>\n",
              "\n",
              "\n",
              "    <div id=\"df-b6c6ac76-90cd-4281-a54f-9f4eac9c8f5d\">\n",
              "      <button class=\"colab-df-quickchart\" onclick=\"quickchart('df-b6c6ac76-90cd-4281-a54f-9f4eac9c8f5d')\"\n",
              "                title=\"Suggest charts\"\n",
              "                style=\"display:none;\">\n",
              "\n",
              "<svg xmlns=\"http://www.w3.org/2000/svg\" height=\"24px\"viewBox=\"0 0 24 24\"\n",
              "     width=\"24px\">\n",
              "    <g>\n",
              "        <path d=\"M19 3H5c-1.1 0-2 .9-2 2v14c0 1.1.9 2 2 2h14c1.1 0 2-.9 2-2V5c0-1.1-.9-2-2-2zM9 17H7v-7h2v7zm4 0h-2V7h2v10zm4 0h-2v-4h2v4z\"/>\n",
              "    </g>\n",
              "</svg>\n",
              "      </button>\n",
              "\n",
              "<style>\n",
              "  .colab-df-quickchart {\n",
              "      --bg-color: #E8F0FE;\n",
              "      --fill-color: #1967D2;\n",
              "      --hover-bg-color: #E2EBFA;\n",
              "      --hover-fill-color: #174EA6;\n",
              "      --disabled-fill-color: #AAA;\n",
              "      --disabled-bg-color: #DDD;\n",
              "  }\n",
              "\n",
              "  [theme=dark] .colab-df-quickchart {\n",
              "      --bg-color: #3B4455;\n",
              "      --fill-color: #D2E3FC;\n",
              "      --hover-bg-color: #434B5C;\n",
              "      --hover-fill-color: #FFFFFF;\n",
              "      --disabled-bg-color: #3B4455;\n",
              "      --disabled-fill-color: #666;\n",
              "  }\n",
              "\n",
              "  .colab-df-quickchart {\n",
              "    background-color: var(--bg-color);\n",
              "    border: none;\n",
              "    border-radius: 50%;\n",
              "    cursor: pointer;\n",
              "    display: none;\n",
              "    fill: var(--fill-color);\n",
              "    height: 32px;\n",
              "    padding: 0;\n",
              "    width: 32px;\n",
              "  }\n",
              "\n",
              "  .colab-df-quickchart:hover {\n",
              "    background-color: var(--hover-bg-color);\n",
              "    box-shadow: 0 1px 2px rgba(60, 64, 67, 0.3), 0 1px 3px 1px rgba(60, 64, 67, 0.15);\n",
              "    fill: var(--button-hover-fill-color);\n",
              "  }\n",
              "\n",
              "  .colab-df-quickchart-complete:disabled,\n",
              "  .colab-df-quickchart-complete:disabled:hover {\n",
              "    background-color: var(--disabled-bg-color);\n",
              "    fill: var(--disabled-fill-color);\n",
              "    box-shadow: none;\n",
              "  }\n",
              "\n",
              "  .colab-df-spinner {\n",
              "    border: 2px solid var(--fill-color);\n",
              "    border-color: transparent;\n",
              "    border-bottom-color: var(--fill-color);\n",
              "    animation:\n",
              "      spin 1s steps(1) infinite;\n",
              "  }\n",
              "\n",
              "  @keyframes spin {\n",
              "    0% {\n",
              "      border-color: transparent;\n",
              "      border-bottom-color: var(--fill-color);\n",
              "      border-left-color: var(--fill-color);\n",
              "    }\n",
              "    20% {\n",
              "      border-color: transparent;\n",
              "      border-left-color: var(--fill-color);\n",
              "      border-top-color: var(--fill-color);\n",
              "    }\n",
              "    30% {\n",
              "      border-color: transparent;\n",
              "      border-left-color: var(--fill-color);\n",
              "      border-top-color: var(--fill-color);\n",
              "      border-right-color: var(--fill-color);\n",
              "    }\n",
              "    40% {\n",
              "      border-color: transparent;\n",
              "      border-right-color: var(--fill-color);\n",
              "      border-top-color: var(--fill-color);\n",
              "    }\n",
              "    60% {\n",
              "      border-color: transparent;\n",
              "      border-right-color: var(--fill-color);\n",
              "    }\n",
              "    80% {\n",
              "      border-color: transparent;\n",
              "      border-right-color: var(--fill-color);\n",
              "      border-bottom-color: var(--fill-color);\n",
              "    }\n",
              "    90% {\n",
              "      border-color: transparent;\n",
              "      border-bottom-color: var(--fill-color);\n",
              "    }\n",
              "  }\n",
              "</style>\n",
              "\n",
              "      <script>\n",
              "        async function quickchart(key) {\n",
              "          const quickchartButtonEl =\n",
              "            document.querySelector('#' + key + ' button');\n",
              "          quickchartButtonEl.disabled = true;  // To prevent multiple clicks.\n",
              "          quickchartButtonEl.classList.add('colab-df-spinner');\n",
              "          try {\n",
              "            const charts = await google.colab.kernel.invokeFunction(\n",
              "                'suggestCharts', [key], {});\n",
              "          } catch (error) {\n",
              "            console.error('Error during call to suggestCharts:', error);\n",
              "          }\n",
              "          quickchartButtonEl.classList.remove('colab-df-spinner');\n",
              "          quickchartButtonEl.classList.add('colab-df-quickchart-complete');\n",
              "        }\n",
              "        (() => {\n",
              "          let quickchartButtonEl =\n",
              "            document.querySelector('#df-b6c6ac76-90cd-4281-a54f-9f4eac9c8f5d button');\n",
              "          quickchartButtonEl.style.display =\n",
              "            google.colab.kernel.accessAllowed ? 'block' : 'none';\n",
              "        })();\n",
              "      </script>\n",
              "    </div>\n",
              "\n",
              "    </div>\n",
              "  </div>\n"
            ],
            "application/vnd.google.colaboratory.intrinsic+json": {
              "type": "dataframe",
              "variable_name": "sales_long_val"
            }
          },
          "metadata": {},
          "execution_count": 4
        }
      ],
      "source": [
        "from google.colab import drive\n",
        "drive.mount('/content/drive')\n",
        "\n",
        "import pandas as pd\n",
        "\n",
        "file_path = '/content/drive/MyDrive/Colab Notebooks/Supervised Project/sales_long_val_5y.pkl'\n",
        "sales_long_val = pd.read_pickle(file_path)\n",
        "\n",
        "print(sales_long_val.shape)\n",
        "sales_long_val.head()"
      ]
    },
    {
      "cell_type": "code",
      "execution_count": null,
      "metadata": {
        "colab": {
          "base_uri": "https://localhost:8080/"
        },
        "id": "Obz-sR9oDZvj",
        "outputId": "61af2ab5-3308-41bb-b0d1-bfa90c322d33"
      },
      "outputs": [
        {
          "name": "stdout",
          "output_type": "stream",
          "text": [
            "Total groups: 70\n"
          ]
        }
      ],
      "source": [
        "# Group\n",
        "group_key = ['store_id', 'dept_id']\n",
        "\n",
        "group_names = sales_long_val[group_key].drop_duplicates().values.tolist()\n",
        "print(f\"Total groups: {len(group_names)}\")"
      ]
    },
    {
      "cell_type": "code",
      "execution_count": null,
      "metadata": {
        "colab": {
          "base_uri": "https://localhost:8080/"
        },
        "id": "_uAkFVt6VKDi",
        "outputId": "11803dc9-3885-45a4-80b2-2131339f8718"
      },
      "outputs": [
        {
          "output_type": "execute_result",
          "data": {
            "text/plain": [
              "(np.int16(1), np.int16(1913))"
            ]
          },
          "metadata": {},
          "execution_count": 7
        }
      ],
      "source": [
        "sales_long_val['d'].min(), sales_long_val['d'].max()"
      ]
    },
    {
      "cell_type": "markdown",
      "metadata": {
        "id": "P8u1QAf2ADrm"
      },
      "source": [
        "# Data grouping"
      ]
    },
    {
      "cell_type": "code",
      "execution_count": null,
      "metadata": {
        "colab": {
          "base_uri": "https://localhost:8080/"
        },
        "id": "PwLieUf71pUK",
        "outputId": "d834fddd-7918-4457-c3e8-8156ad745b83"
      },
      "outputs": [
        {
          "name": "stdout",
          "output_type": "stream",
          "text": [
            "Final categorical variables used for training:\n",
            "['price_change_flag', 'store_id', 'is_weekend', 'snap_CA', 'event_name_1', 'is_discontinued', 'event_type_2', 'snap_WI', 'event_type_1', 'event_name_2', 'item_id', 'cat_id', 'snap_TX']\n"
          ]
        }
      ],
      "source": [
        "# Remove features not used in training (usually unique identifiers, raw fields)\n",
        "remove_feature = [\n",
        "    'id',\n",
        "    #'state_id',\n",
        "    'store_id',\n",
        "    #'cat_id',\n",
        "    #'item_id',\n",
        "    'dept_id',\n",
        "    'date',\n",
        "    'd',\n",
        "    'wm_yr_wk',\n",
        "    'sales'\n",
        "]\n",
        "\n",
        "# Build a set of categorical variables (including original + new)\n",
        "cat_var = [\n",
        "    'item_id', 'dept_id', 'store_id', 'cat_id', 'state_id',\n",
        "    'event_name_1', 'event_name_2', 'event_type_1', 'event_type_2',\n",
        "    'snap_CA', 'snap_TX', 'snap_WI',\n",
        "    'is_weekend',\n",
        "    'price_change_flag',\n",
        "    'is_discontinued'\n",
        "]\n",
        "\n",
        "# Remove those features we marked as \"remove_feature\"\n",
        "cat_var = list(set(cat_var) - set(remove_feature))\n",
        "\n",
        "# Finally, cat_var is the list of category variables\n",
        "print(\"Final categorical variables used for training:\")\n",
        "print(cat_var)"
      ]
    },
    {
      "cell_type": "code",
      "execution_count": null,
      "metadata": {
        "id": "Uno7NlyU8O5i"
      },
      "outputs": [],
      "source": [
        "id_cols = ['id', 'item_id', 'dept_id', 'cat_id', 'store_id', 'state_id', 'd', 'date', 'wm_yr_wk']\n",
        "lag_features = [\n",
        "    'lag_1', 'lag_7', 'lag_14', 'lag_28',\n",
        "    'lag_29', 'lag_30', 'lag_31', 'lag_32', 'lag_33', 'lag_34',\n",
        "    'lag_35', 'lag_36', 'lag_37', 'lag_38', 'lag_39', 'lag_40',\n",
        "    'lag_41', 'lag_42'\n",
        "]\n",
        "lag_diff_features = ['lag_1_minus_7', 'lag_7_minus_14', 'lag_14_minus_28']\n",
        "\n",
        "rolling_features = [\n",
        "    'rolling_mean_7', 'rolling_std_7',\n",
        "    'rolling_mean_14', 'rolling_std_14',\n",
        "    'rolling_mean_30', 'rolling_std_30',\n",
        "    'rolling_mean_60', 'rolling_std_60',\n",
        "    'rolling_mean_180', 'rolling_std_180'\n",
        "]\n",
        "\n",
        "rolling_tmp_features = [\n",
        "    'rolling_mean_tmp_1_7', 'rolling_mean_tmp_1_14', 'rolling_mean_tmp_1_30', 'rolling_mean_tmp_1_60',\n",
        "    'rolling_mean_tmp_7_7', 'rolling_mean_tmp_7_14', 'rolling_mean_tmp_7_30', 'rolling_mean_tmp_7_60',\n",
        "    'rolling_mean_tmp_14_7', 'rolling_mean_tmp_14_14', 'rolling_mean_tmp_14_30', 'rolling_mean_tmp_14_60'\n",
        "]\n",
        "\n",
        "intermittency_features = ['ADI_30', 'CV2_30', 'ADI_60', 'CV2_60', 'ADI_90', 'CV2_90']\n",
        "\n",
        "time_features = ['weekday', 'wday', 'month', 'year', 'day_of_year', 'sin_doy', 'cos_doy',\n",
        "                 'tm_w', 'tm_m', 'tm_y', 'tm_wm', 'tm_dw', 'tm_w_end', 'is_weekend']\n",
        "\n",
        "event_features = ['event_name_1', 'event_type_1', 'event_name_2', 'event_type_2',\n",
        "                  'snap_CA', 'snap_TX', 'snap_WI']\n",
        "\n",
        "price_features = [\n",
        "    'sell_price', 'price_lag_7', 'price_change_flag', 'price_max', 'price_min',\n",
        "    'price_mean', 'price_std', 'price_norm', 'price_nunique', 'item_nunique',\n",
        "    'price_momentum', 'price_momentum_m', 'price_momentum_y'\n",
        "]\n",
        "\n",
        "lifecycle_features = ['release', 'is_discontinued']\n",
        "\n",
        "\n",
        "mean_encoding_features = [\n",
        "    'enc_mean_state_id', 'enc_std_state_id',\n",
        "    'enc_mean_store_id', 'enc_std_store_id',\n",
        "    'enc_mean_cat_id', 'enc_std_cat_id',\n",
        "    'enc_mean_dept_id', 'enc_std_dept_id',\n",
        "    'enc_mean_state_id_cat_id', 'enc_std_state_id_cat_id',\n",
        "    'enc_mean_state_id_dept_id', 'enc_std_state_id_dept_id',\n",
        "    'enc_mean_store_id_cat_id', 'enc_std_store_id_cat_id',\n",
        "    'enc_mean_store_id_dept_id', 'enc_std_store_id_dept_id',\n",
        "    'enc_mean_item_id', 'enc_std_item_id',\n",
        "    'enc_mean_item_id_state_id', 'enc_std_item_id_state_id',\n",
        "    'enc_mean_item_id_store_id', 'enc_std_item_id_store_id'\n",
        "]"
      ]
    },
    {
      "cell_type": "code",
      "execution_count": null,
      "metadata": {
        "id": "52Khxbdk_hUS"
      },
      "outputs": [],
      "source": [
        "feature_cols = (\n",
        "    lag_features + lag_diff_features + rolling_features + rolling_tmp_features +\n",
        "    intermittency_features + time_features + event_features + price_features +\n",
        "    lifecycle_features + mean_encoding_features\n",
        ")"
      ]
    },
    {
      "cell_type": "markdown",
      "metadata": {
        "id": "1ONs7RhxGGdo"
      },
      "source": [
        "# ML Forecasting"
      ]
    },
    {
      "cell_type": "code",
      "execution_count": null,
      "metadata": {
        "id": "9klW-WzzAMX4"
      },
      "outputs": [],
      "source": [
        "import pandas as pd\n",
        "import lightgbm as lgb\n",
        "import numpy as np\n",
        "from tqdm import tqdm\n",
        "\n",
        "# LightGBM Parameter settings\n",
        "lgb_params = {\n",
        "    'boosting_type': 'gbdt',\n",
        "    'objective': 'tweedie',\n",
        "    'device': 'gpu',\n",
        "    'gpu_platform_id': 0,\n",
        "    'gpu_device_id': 0,\n",
        "    'tweedie_variance_power': 1.1,\n",
        "    'metric': 'rmse',\n",
        "    'subsample': 0.7,\n",
        "    'subsample_freq': 1,\n",
        "    'learning_rate': 0.02,\n",
        "    'num_leaves': 2**7 - 1,\n",
        "    'min_data_in_leaf': 2**6 - 1,\n",
        "    'feature_fraction': 0.7,\n",
        "    'max_bin': 100,\n",
        "    'n_estimators': 2500,\n",
        "    'boost_from_average': False,\n",
        "    'verbose': -1,\n",
        "    'seed': 1995\n",
        "}\n"
      ]
    },
    {
      "cell_type": "code",
      "execution_count": null,
      "metadata": {
        "id": "4wRFc_BkUJvq"
      },
      "outputs": [],
      "source": [
        "import time\n",
        "import numpy as np\n",
        "import pandas as pd\n",
        "import lightgbm as lgb\n",
        "from tqdm import tqdm\n",
        "\n",
        "def holdout_predict_only(\n",
        "    data: pd.DataFrame,\n",
        "    group_key: list,\n",
        "    remove_feature: list,\n",
        "    target_col: str = 'ROP_L3',\n",
        "    train_range: tuple = (None, None),  # (train_start_d, train_end_d)\n",
        "    val_range: tuple = (None, None),    # (val_start_d, val_end_d)\n",
        "    lgb_params: dict | None = None,\n",
        "    return_models: bool = False\n",
        "):\n",
        "\n",
        "    tr_start, tr_end = train_range\n",
        "    vl_start, vl_end = val_range\n",
        "    assert None not in train_range + val_range, \"Train and validation ranges cannot be None.\"\n",
        "\n",
        "    pred_rows, models = [], {}\n",
        "\n",
        "    for grp_vals, gdf in tqdm(\n",
        "        data.groupby(group_key, sort=False), desc=\"Hold-out training → validation predict\"\n",
        "    ):\n",
        "        # train/val split\n",
        "        tr_mask = (gdf['d'] >= tr_start) & (gdf['d'] <= tr_end)\n",
        "        vl_mask = (gdf['d'] >= vl_start) & (gdf['d'] <= vl_end)\n",
        "\n",
        "        X_tr = gdf.loc[tr_mask].drop(columns=remove_feature + [target_col], errors='ignore')\n",
        "        y_tr = gdf.loc[tr_mask, target_col]\n",
        "        X_vl = gdf.loc[vl_mask].drop(columns=remove_feature + [target_col], errors='ignore')\n",
        "        y_vl = gdf.loc[vl_mask, target_col]\n",
        "\n",
        "        if X_tr.empty or X_vl.empty:\n",
        "            continue\n",
        "\n",
        "\n",
        "        t0 = time.time()\n",
        "        model = lgb.LGBMRegressor(**(lgb_params or {}))\n",
        "        model.fit(X_tr, y_tr)\n",
        "        train_secs = time.time() - t0\n",
        "\n",
        "\n",
        "        y_hat = model.predict(X_vl)\n",
        "        out = gdf.loc[vl_mask, ['d'] + group_key].copy()\n",
        "        out['true'] = y_vl.values\n",
        "        out['pred'] = y_hat\n",
        "        out['train_secs'] = train_secs\n",
        "        pred_rows.append(out)\n",
        "\n",
        "        if return_models:\n",
        "            gid = \"_\".join(map(str, grp_vals))\n",
        "            models[gid] = model\n",
        "\n",
        "    preds_df = pd.concat(pred_rows, axis=0).reset_index(drop=True) if pred_rows else pd.DataFrame()\n",
        "    return (preds_df, models) if return_models else preds_df"
      ]
    },
    {
      "cell_type": "code",
      "execution_count": null,
      "metadata": {
        "colab": {
          "base_uri": "https://localhost:8080/"
        },
        "id": "AMB2cOJfG6dy",
        "outputId": "14ee2efe-5b64-4b31-bdac-78c16bae3daf"
      },
      "outputs": [
        {
          "name": "stdout",
          "output_type": "stream",
          "text": [
            "Memory after base data merge: 11.72 GB\n",
            "Mem. usage decreased to 11750.43 Mb (0.0% reduction)\n"
          ]
        }
      ],
      "source": [
        "print(\"Memory after base data merge:\", get_memory_usage(), \"GB\")\n",
        "sales_long_val = reduce_mem_usage(sales_long_val)"
      ]
    },
    {
      "cell_type": "code",
      "execution_count": null,
      "metadata": {
        "id": "4Cg4G92jHZyY"
      },
      "outputs": [],
      "source": [
        "from sklearn.preprocessing import LabelEncoder\n",
        "\n",
        "for col in ['weekday']:\n",
        "    if sales_long_val[col].dtype == 'object':\n",
        "        le = LabelEncoder()\n",
        "        sales_long_val[col] = le.fit_transform(sales_long_val[col])\n"
      ]
    },
    {
      "cell_type": "code",
      "execution_count": null,
      "metadata": {
        "colab": {
          "base_uri": "https://localhost:8080/"
        },
        "id": "9zK35S0WVCiv",
        "outputId": "4c647b8d-43d0-4de6-864b-23c1cf3b2ea5"
      },
      "outputs": [
        {
          "output_type": "stream",
          "name": "stdout",
          "text": [
            "Requirement already satisfied: tqdm in /usr/local/lib/python3.12/dist-packages (4.67.1)\n"
          ]
        }
      ],
      "source": [
        "!pip install tqdm"
      ]
    },
    {
      "cell_type": "markdown",
      "metadata": {
        "id": "mIand6A_cbV3"
      },
      "source": [
        "# Result & Model Save"
      ]
    },
    {
      "cell_type": "code",
      "execution_count": null,
      "metadata": {
        "id": "zrDfwzodct7p"
      },
      "outputs": [],
      "source": [
        "label_col = 'ROP_L3'\n",
        "group_key = ['store_id', 'dept_id']\n",
        "remove_feature=[\n",
        "        # ID\n",
        "        'id', 'item_id', 'dept_id', 'cat_id', 'store_id', 'state_id',\n",
        "        'd', 'date', 'wm_yr_wk','sales',\n",
        "\n",
        "        # ROP label\n",
        "        'ROP_L3', 'ROP_L7', 'ROP_L14',\n",
        "\n",
        "        # mean encoding, avoid target leakage\n",
        "        'enc_mean_store_id', 'enc_std_store_id',\n",
        "        'enc_mean_dept_id', 'enc_std_dept_id',\n",
        "        'enc_mean_store_id_cat_id', 'enc_std_store_id_cat_id',\n",
        "        'enc_mean_state_id_dept_id', 'enc_std_state_id_dept_id',\n",
        "        'enc_mean_store_id_dept_id', 'enc_std_store_id_dept_id',\n",
        "        'enc_mean_item_id_store_id', 'enc_std_item_id_store_id']"
      ]
    },
    {
      "cell_type": "code",
      "source": [
        "import os, gc, pickle, time\n",
        "import numpy as np\n",
        "import pandas as pd\n",
        "import lightgbm as lgb\n",
        "from tqdm import tqdm\n",
        "\n",
        "# Training window = years_train years forward from the end of Y3 as the anchor point (2 years for train / 1 year for val)\n",
        "def make_ranges_by_df(df, years_train=2, date_col='date', d_col='d'):\n",
        "    df = df.copy()\n",
        "    if not np.issubdtype(df[date_col].dtype, np.datetime64):\n",
        "        df[date_col] = pd.to_datetime(df[date_col])\n",
        "\n",
        "    start_date = df[date_col].min().normalize()\n",
        "    y3_end_date = start_date + pd.DateOffset(years=3) - pd.Timedelta(days=1)\n",
        "    y4_end_date = start_date + pd.DateOffset(years=4) - pd.Timedelta(days=1)\n",
        "\n",
        "    # Training start point (Y3 forward years_train years + 1 day)\n",
        "    train_start_date = y3_end_date - pd.DateOffset(years=years_train) + pd.Timedelta(days=1)\n",
        "\n",
        "    # Robust mapping of date boundaries to d\n",
        "    d_train_start = int(df.loc[df[date_col] >= train_start_date, d_col].min())\n",
        "    d_train_end   = int(df.loc[df[date_col] <= y3_end_date,     d_col].max())\n",
        "    d_val_start   = d_train_end + 1\n",
        "    d_val_end     = int(df.loc[df[date_col] <= y4_end_date,     d_col].max())\n",
        "\n",
        "    info = {\n",
        "        \"start_date\": start_date.date(),\n",
        "        \"train_start_date\": train_start_date.date(),\n",
        "        \"y3_end_date\": y3_end_date.date(),\n",
        "        \"y4_end_date\": y4_end_date.date(),\n",
        "        \"train_range_d\": (d_train_start, d_train_end),\n",
        "        \"val_range_d\":   (d_val_start, d_val_end),\n",
        "    }\n",
        "    return (d_train_start, d_train_end), (d_val_start, d_val_end), info\n",
        "\n",
        "# LightGBM\n",
        "def _fit_lgb_safe(X_tr, y_tr, params):\n",
        "    n = X_tr.shape[0]\n",
        "    const_cols = [c for c in X_tr.columns if X_tr[c].nunique(dropna=True) <= 1]\n",
        "    if const_cols:\n",
        "        X_tr = X_tr.drop(columns=const_cols)\n",
        "\n",
        "    safe = dict(params or {})\n",
        "    safe['min_data_in_leaf'] = max(5, min(safe.get('min_data_in_leaf', 20), max(2, n // 4)))\n",
        "    safe['num_leaves']       = min(safe.get('num_leaves', 31), max(2, n - 1))\n",
        "    safe['force_row_wise']   = True\n",
        "\n",
        "    mdl = lgb.LGBMRegressor(**safe)\n",
        "    mdl.fit(X_tr, y_tr)\n",
        "    return mdl, const_cols\n",
        "\n",
        "def run_train_val_y2y3_y4(\n",
        "    df, group_key, label_col, remove_feature, lgb_params,\n",
        "    forecast_dir, model_dir,\n",
        "    date_col='date', d_col='d'\n",
        "):\n",
        "    os.makedirs(forecast_dir, exist_ok=True)\n",
        "    os.makedirs(model_dir, exist_ok=True)\n",
        "\n",
        "    # Y2+Y3 train, Y4 val\n",
        "    train_range, val_range, info = make_ranges_by_df(df, years_train=2, date_col=date_col, d_col=d_col)\n",
        "    print(f\"[SPLIT] start={info['start_date']}, train_from={info['train_start_date']}→Y3_end={info['y3_end_date']}, \"\n",
        "          f\"Y4_end={info['y4_end_date']}, train_d={info['train_range_d']}, val_d={info['val_range_d']}\")\n",
        "\n",
        "    for grp_vals, gdf in tqdm(df.groupby(group_key, sort=False), desc=\"Hold-out per group\"):\n",
        "        group_id = \"_\".join(map(str, grp_vals if isinstance(grp_vals, tuple) else (grp_vals,)))\n",
        "        f_path = os.path.join(forecast_dir, f\"forecast_{group_id}.pkl\")\n",
        "        m_path = os.path.join(model_dir,    f\"model_{group_id}.bin\")\n",
        "\n",
        "\n",
        "        if os.path.exists(f_path) and os.path.exists(m_path):\n",
        "            print(f\"[Skip] {group_id} already processed.\")\n",
        "            continue\n",
        "\n",
        "        # Split\n",
        "        tr_mask = (gdf[d_col] >= train_range[0]) & (gdf[d_col] <= train_range[1])\n",
        "        vl_mask = (gdf[d_col] >= val_range[0])   & (gdf[d_col] <= val_range[1])\n",
        "\n",
        "        X_tr = gdf.loc[tr_mask].drop(columns=remove_feature + [label_col], errors='ignore')\n",
        "        y_tr = gdf.loc[tr_mask, label_col]\n",
        "        X_vl = gdf.loc[vl_mask].drop(columns=remove_feature + [label_col], errors='ignore')\n",
        "        y_vl = gdf.loc[vl_mask, label_col]\n",
        "\n",
        "        if X_tr.empty or X_vl.empty:\n",
        "            print(f\"[Warn] {group_id} no train/val rows. Skipped.\")\n",
        "            continue\n",
        "\n",
        "        # train\n",
        "        t0 = time.time()\n",
        "        model, dropped_cols = _fit_lgb_safe(X_tr, y_tr, lgb_params)\n",
        "        secs = time.time() - t0\n",
        "\n",
        "        # val\n",
        "        X_vl2 = X_vl.drop(columns=dropped_cols, errors='ignore')\n",
        "        pred = model.predict(X_vl2)\n",
        "\n",
        "        # Save results\n",
        "        cols_keep = ['d', 'date']\n",
        "        for c in ['item_id', 'store_id'] + (group_key if isinstance(group_key, list) else list(group_key)):\n",
        "            if c in gdf.columns and c not in cols_keep:\n",
        "                cols_keep.append(c)\n",
        "        out = gdf.loc[vl_mask, cols_keep].copy()\n",
        "        out['true'] = y_vl.values\n",
        "        out['pred'] = pred\n",
        "        out['train_secs'] = secs\n",
        "        out.to_pickle(f_path)\n",
        "        print(f\"[Save] Forecast -> {f_path}\")\n",
        "\n",
        "        # Save models\n",
        "        with open(m_path, 'wb') as f:\n",
        "            pickle.dump(model, f)\n",
        "        print(f\"[Save] Model -> {m_path}\")\n",
        "\n",
        "        del X_tr, y_tr, X_vl, y_vl, model, gdf, out\n",
        "        gc.collect()\n",
        "\n",
        "forecast_dir = \"/content/drive/MyDrive/Colab Notebooks/Supervised Project/Fine Tuning/train_store_dept_2y1y/\"\n",
        "model_dir    = \"/content/drive/MyDrive/Colab Notebooks/Supervised Project/Fine Tuning/models_store_dept_2y1y/\"\n",
        "\n",
        "run_train_val_y2y3_y4(\n",
        "    df=sales_long_val,\n",
        "    group_key=group_key,\n",
        "    label_col=label_col,\n",
        "    remove_feature=remove_feature,\n",
        "    lgb_params=lgb_params,\n",
        "    forecast_dir=forecast_dir,\n",
        "    model_dir=model_dir,\n",
        "    date_col='date',\n",
        "    d_col='d'\n",
        ")\n"
      ],
      "metadata": {
        "colab": {
          "base_uri": "https://localhost:8080/"
        },
        "id": "IJkp_HDXmNxt",
        "outputId": "dbff303b-2a68-4d17-b63c-0edca7aa580a"
      },
      "execution_count": null,
      "outputs": [
        {
          "metadata": {
            "tags": null
          },
          "name": "stdout",
          "output_type": "stream",
          "text": [
            "[SPLIT] start=2011-01-29, train_from=2012-01-29→Y3_end=2014-01-28, Y4_end=2015-01-28, train_d=(366, 1096), val_d=(1097, 1461)\n"
          ]
        },
        {
          "metadata": {
            "tags": null
          },
          "name": "stderr",
          "output_type": "stream",
          "text": [
            "\rHold-out per group:   0%|          | 0/70 [00:00<?, ?it/s]"
          ]
        },
        {
          "metadata": {
            "tags": null
          },
          "name": "stdout",
          "output_type": "stream",
          "text": [
            "[Save] Forecast -> /content/drive/MyDrive/Colab Notebooks/Supervised Project/Fine Tuning/train_store_dept_2y1y/forecast_CA_1_FOODS_1.pkl\n"
          ]
        },
        {
          "metadata": {
            "tags": null
          },
          "name": "stderr",
          "output_type": "stream",
          "text": [
            "\rHold-out per group:   1%|▏         | 1/70 [01:26<1:39:31, 86.54s/it]"
          ]
        },
        {
          "metadata": {
            "tags": null
          },
          "name": "stdout",
          "output_type": "stream",
          "text": [
            "[Save] Model -> /content/drive/MyDrive/Colab Notebooks/Supervised Project/Fine Tuning/models_store_dept_2y1y/model_CA_1_FOODS_1.bin\n",
            "[Save] Forecast -> /content/drive/MyDrive/Colab Notebooks/Supervised Project/Fine Tuning/train_store_dept_2y1y/forecast_CA_2_FOODS_1.pkl\n"
          ]
        },
        {
          "metadata": {
            "tags": null
          },
          "name": "stderr",
          "output_type": "stream",
          "text": [
            "\rHold-out per group:   3%|▎         | 2/70 [02:15<1:12:44, 64.18s/it]"
          ]
        },
        {
          "metadata": {
            "tags": null
          },
          "name": "stdout",
          "output_type": "stream",
          "text": [
            "[Save] Model -> /content/drive/MyDrive/Colab Notebooks/Supervised Project/Fine Tuning/models_store_dept_2y1y/model_CA_2_FOODS_1.bin\n",
            "[Save] Forecast -> /content/drive/MyDrive/Colab Notebooks/Supervised Project/Fine Tuning/train_store_dept_2y1y/forecast_CA_3_FOODS_1.pkl\n"
          ]
        },
        {
          "metadata": {
            "tags": null
          },
          "name": "stderr",
          "output_type": "stream",
          "text": [
            "\rHold-out per group:   4%|▍         | 3/70 [03:03<1:03:39, 57.00s/it]"
          ]
        },
        {
          "metadata": {
            "tags": null
          },
          "name": "stdout",
          "output_type": "stream",
          "text": [
            "[Save] Model -> /content/drive/MyDrive/Colab Notebooks/Supervised Project/Fine Tuning/models_store_dept_2y1y/model_CA_3_FOODS_1.bin\n",
            "[Save] Forecast -> /content/drive/MyDrive/Colab Notebooks/Supervised Project/Fine Tuning/train_store_dept_2y1y/forecast_CA_4_FOODS_1.pkl\n"
          ]
        },
        {
          "metadata": {
            "tags": null
          },
          "name": "stderr",
          "output_type": "stream",
          "text": [
            "\rHold-out per group:   6%|▌         | 4/70 [03:52<59:20, 53.94s/it]  "
          ]
        },
        {
          "metadata": {
            "tags": null
          },
          "name": "stdout",
          "output_type": "stream",
          "text": [
            "[Save] Model -> /content/drive/MyDrive/Colab Notebooks/Supervised Project/Fine Tuning/models_store_dept_2y1y/model_CA_4_FOODS_1.bin\n",
            "[Save] Forecast -> /content/drive/MyDrive/Colab Notebooks/Supervised Project/Fine Tuning/train_store_dept_2y1y/forecast_TX_1_FOODS_1.pkl\n"
          ]
        },
        {
          "metadata": {
            "tags": null
          },
          "name": "stderr",
          "output_type": "stream",
          "text": [
            "\rHold-out per group:   7%|▋         | 5/70 [04:42<56:42, 52.34s/it]"
          ]
        },
        {
          "metadata": {
            "tags": null
          },
          "name": "stdout",
          "output_type": "stream",
          "text": [
            "[Save] Model -> /content/drive/MyDrive/Colab Notebooks/Supervised Project/Fine Tuning/models_store_dept_2y1y/model_TX_1_FOODS_1.bin\n",
            "[Save] Forecast -> /content/drive/MyDrive/Colab Notebooks/Supervised Project/Fine Tuning/train_store_dept_2y1y/forecast_TX_2_FOODS_1.pkl\n"
          ]
        },
        {
          "metadata": {
            "tags": null
          },
          "name": "stderr",
          "output_type": "stream",
          "text": [
            "\rHold-out per group:   9%|▊         | 6/70 [05:31<54:52, 51.44s/it]"
          ]
        },
        {
          "metadata": {
            "tags": null
          },
          "name": "stdout",
          "output_type": "stream",
          "text": [
            "[Save] Model -> /content/drive/MyDrive/Colab Notebooks/Supervised Project/Fine Tuning/models_store_dept_2y1y/model_TX_2_FOODS_1.bin\n",
            "[Save] Forecast -> /content/drive/MyDrive/Colab Notebooks/Supervised Project/Fine Tuning/train_store_dept_2y1y/forecast_TX_3_FOODS_1.pkl\n"
          ]
        },
        {
          "metadata": {
            "tags": null
          },
          "name": "stderr",
          "output_type": "stream",
          "text": [
            "\rHold-out per group:  10%|█         | 7/70 [06:22<53:33, 51.00s/it]"
          ]
        },
        {
          "metadata": {
            "tags": null
          },
          "name": "stdout",
          "output_type": "stream",
          "text": [
            "[Save] Model -> /content/drive/MyDrive/Colab Notebooks/Supervised Project/Fine Tuning/models_store_dept_2y1y/model_TX_3_FOODS_1.bin\n",
            "[Save] Forecast -> /content/drive/MyDrive/Colab Notebooks/Supervised Project/Fine Tuning/train_store_dept_2y1y/forecast_WI_1_FOODS_1.pkl\n"
          ]
        },
        {
          "metadata": {
            "tags": null
          },
          "name": "stderr",
          "output_type": "stream",
          "text": [
            "\rHold-out per group:  11%|█▏        | 8/70 [07:11<52:04, 50.40s/it]"
          ]
        },
        {
          "metadata": {
            "tags": null
          },
          "name": "stdout",
          "output_type": "stream",
          "text": [
            "[Save] Model -> /content/drive/MyDrive/Colab Notebooks/Supervised Project/Fine Tuning/models_store_dept_2y1y/model_WI_1_FOODS_1.bin\n",
            "[Save] Forecast -> /content/drive/MyDrive/Colab Notebooks/Supervised Project/Fine Tuning/train_store_dept_2y1y/forecast_WI_2_FOODS_1.pkl\n"
          ]
        },
        {
          "metadata": {
            "tags": null
          },
          "name": "stderr",
          "output_type": "stream",
          "text": [
            "\rHold-out per group:  13%|█▎        | 9/70 [08:00<50:55, 50.10s/it]"
          ]
        },
        {
          "metadata": {
            "tags": null
          },
          "name": "stdout",
          "output_type": "stream",
          "text": [
            "[Save] Model -> /content/drive/MyDrive/Colab Notebooks/Supervised Project/Fine Tuning/models_store_dept_2y1y/model_WI_2_FOODS_1.bin\n",
            "[Save] Forecast -> /content/drive/MyDrive/Colab Notebooks/Supervised Project/Fine Tuning/train_store_dept_2y1y/forecast_WI_3_FOODS_1.pkl\n"
          ]
        },
        {
          "metadata": {
            "tags": null
          },
          "name": "stderr",
          "output_type": "stream",
          "text": [
            "\rHold-out per group:  14%|█▍        | 10/70 [08:50<50:10, 50.18s/it]"
          ]
        },
        {
          "metadata": {
            "tags": null
          },
          "name": "stdout",
          "output_type": "stream",
          "text": [
            "[Save] Model -> /content/drive/MyDrive/Colab Notebooks/Supervised Project/Fine Tuning/models_store_dept_2y1y/model_WI_3_FOODS_1.bin\n",
            "[Save] Forecast -> /content/drive/MyDrive/Colab Notebooks/Supervised Project/Fine Tuning/train_store_dept_2y1y/forecast_CA_1_FOODS_2.pkl\n"
          ]
        },
        {
          "metadata": {
            "tags": null
          },
          "name": "stderr",
          "output_type": "stream",
          "text": [
            "\rHold-out per group:  16%|█▌        | 11/70 [09:50<52:12, 53.09s/it]"
          ]
        },
        {
          "metadata": {
            "tags": null
          },
          "name": "stdout",
          "output_type": "stream",
          "text": [
            "[Save] Model -> /content/drive/MyDrive/Colab Notebooks/Supervised Project/Fine Tuning/models_store_dept_2y1y/model_CA_1_FOODS_2.bin\n",
            "[Save] Forecast -> /content/drive/MyDrive/Colab Notebooks/Supervised Project/Fine Tuning/train_store_dept_2y1y/forecast_CA_2_FOODS_2.pkl\n"
          ]
        },
        {
          "metadata": {
            "tags": null
          },
          "name": "stderr",
          "output_type": "stream",
          "text": [
            "\rHold-out per group:  17%|█▋        | 12/70 [10:31<47:41, 49.34s/it]"
          ]
        },
        {
          "metadata": {
            "tags": null
          },
          "name": "stdout",
          "output_type": "stream",
          "text": [
            "[Save] Model -> /content/drive/MyDrive/Colab Notebooks/Supervised Project/Fine Tuning/models_store_dept_2y1y/model_CA_2_FOODS_2.bin\n",
            "[Save] Forecast -> /content/drive/MyDrive/Colab Notebooks/Supervised Project/Fine Tuning/train_store_dept_2y1y/forecast_CA_3_FOODS_2.pkl\n"
          ]
        },
        {
          "metadata": {
            "tags": null
          },
          "name": "stderr",
          "output_type": "stream",
          "text": [
            "\rHold-out per group:  19%|█▊        | 13/70 [11:30<49:47, 52.42s/it]"
          ]
        },
        {
          "metadata": {
            "tags": null
          },
          "name": "stdout",
          "output_type": "stream",
          "text": [
            "[Save] Model -> /content/drive/MyDrive/Colab Notebooks/Supervised Project/Fine Tuning/models_store_dept_2y1y/model_CA_3_FOODS_2.bin\n",
            "[Save] Forecast -> /content/drive/MyDrive/Colab Notebooks/Supervised Project/Fine Tuning/train_store_dept_2y1y/forecast_CA_4_FOODS_2.pkl\n"
          ]
        },
        {
          "metadata": {
            "tags": null
          },
          "name": "stderr",
          "output_type": "stream",
          "text": [
            "\rHold-out per group:  20%|██        | 14/70 [12:29<50:42, 54.32s/it]"
          ]
        },
        {
          "metadata": {
            "tags": null
          },
          "name": "stdout",
          "output_type": "stream",
          "text": [
            "[Save] Model -> /content/drive/MyDrive/Colab Notebooks/Supervised Project/Fine Tuning/models_store_dept_2y1y/model_CA_4_FOODS_2.bin\n",
            "[Save] Forecast -> /content/drive/MyDrive/Colab Notebooks/Supervised Project/Fine Tuning/train_store_dept_2y1y/forecast_TX_1_FOODS_2.pkl\n"
          ]
        },
        {
          "metadata": {
            "tags": null
          },
          "name": "stderr",
          "output_type": "stream",
          "text": [
            "\rHold-out per group:  21%|██▏       | 15/70 [13:31<51:54, 56.63s/it]"
          ]
        },
        {
          "metadata": {
            "tags": null
          },
          "name": "stdout",
          "output_type": "stream",
          "text": [
            "[Save] Model -> /content/drive/MyDrive/Colab Notebooks/Supervised Project/Fine Tuning/models_store_dept_2y1y/model_TX_1_FOODS_2.bin\n",
            "[Save] Forecast -> /content/drive/MyDrive/Colab Notebooks/Supervised Project/Fine Tuning/train_store_dept_2y1y/forecast_TX_2_FOODS_2.pkl\n"
          ]
        },
        {
          "metadata": {
            "tags": null
          },
          "name": "stderr",
          "output_type": "stream",
          "text": [
            "\rHold-out per group:  23%|██▎       | 16/70 [14:31<51:44, 57.50s/it]"
          ]
        },
        {
          "metadata": {
            "tags": null
          },
          "name": "stdout",
          "output_type": "stream",
          "text": [
            "[Save] Model -> /content/drive/MyDrive/Colab Notebooks/Supervised Project/Fine Tuning/models_store_dept_2y1y/model_TX_2_FOODS_2.bin\n",
            "[Save] Forecast -> /content/drive/MyDrive/Colab Notebooks/Supervised Project/Fine Tuning/train_store_dept_2y1y/forecast_TX_3_FOODS_2.pkl\n"
          ]
        },
        {
          "metadata": {
            "tags": null
          },
          "name": "stderr",
          "output_type": "stream",
          "text": [
            "\rHold-out per group:  24%|██▍       | 17/70 [15:29<51:01, 57.76s/it]"
          ]
        },
        {
          "metadata": {
            "tags": null
          },
          "name": "stdout",
          "output_type": "stream",
          "text": [
            "[Save] Model -> /content/drive/MyDrive/Colab Notebooks/Supervised Project/Fine Tuning/models_store_dept_2y1y/model_TX_3_FOODS_2.bin\n",
            "[Save] Forecast -> /content/drive/MyDrive/Colab Notebooks/Supervised Project/Fine Tuning/train_store_dept_2y1y/forecast_WI_1_FOODS_2.pkl\n"
          ]
        },
        {
          "metadata": {
            "tags": null
          },
          "name": "stderr",
          "output_type": "stream",
          "text": [
            "\rHold-out per group:  26%|██▌       | 18/70 [16:24<49:26, 57.05s/it]"
          ]
        },
        {
          "metadata": {
            "tags": null
          },
          "name": "stdout",
          "output_type": "stream",
          "text": [
            "[Save] Model -> /content/drive/MyDrive/Colab Notebooks/Supervised Project/Fine Tuning/models_store_dept_2y1y/model_WI_1_FOODS_2.bin\n",
            "[Save] Forecast -> /content/drive/MyDrive/Colab Notebooks/Supervised Project/Fine Tuning/train_store_dept_2y1y/forecast_WI_2_FOODS_2.pkl\n"
          ]
        },
        {
          "metadata": {
            "tags": null
          },
          "name": "stderr",
          "output_type": "stream",
          "text": [
            "\rHold-out per group:  27%|██▋       | 19/70 [17:24<49:15, 57.95s/it]"
          ]
        },
        {
          "metadata": {
            "tags": null
          },
          "name": "stdout",
          "output_type": "stream",
          "text": [
            "[Save] Model -> /content/drive/MyDrive/Colab Notebooks/Supervised Project/Fine Tuning/models_store_dept_2y1y/model_WI_2_FOODS_2.bin\n",
            "[Save] Forecast -> /content/drive/MyDrive/Colab Notebooks/Supervised Project/Fine Tuning/train_store_dept_2y1y/forecast_WI_3_FOODS_2.pkl\n"
          ]
        },
        {
          "metadata": {
            "tags": null
          },
          "name": "stderr",
          "output_type": "stream",
          "text": [
            "\rHold-out per group:  29%|██▊       | 20/70 [18:24<48:47, 58.55s/it]"
          ]
        },
        {
          "metadata": {
            "tags": null
          },
          "name": "stdout",
          "output_type": "stream",
          "text": [
            "[Save] Model -> /content/drive/MyDrive/Colab Notebooks/Supervised Project/Fine Tuning/models_store_dept_2y1y/model_WI_3_FOODS_2.bin\n",
            "[Save] Forecast -> /content/drive/MyDrive/Colab Notebooks/Supervised Project/Fine Tuning/train_store_dept_2y1y/forecast_CA_1_FOODS_3.pkl\n"
          ]
        },
        {
          "metadata": {
            "tags": null
          },
          "name": "stderr",
          "output_type": "stream",
          "text": [
            "\rHold-out per group:  30%|███       | 21/70 [19:50<54:31, 66.77s/it]"
          ]
        },
        {
          "metadata": {
            "tags": null
          },
          "name": "stdout",
          "output_type": "stream",
          "text": [
            "[Save] Model -> /content/drive/MyDrive/Colab Notebooks/Supervised Project/Fine Tuning/models_store_dept_2y1y/model_CA_1_FOODS_3.bin\n",
            "[Save] Forecast -> /content/drive/MyDrive/Colab Notebooks/Supervised Project/Fine Tuning/train_store_dept_2y1y/forecast_CA_2_FOODS_3.pkl\n"
          ]
        },
        {
          "metadata": {
            "tags": null
          },
          "name": "stderr",
          "output_type": "stream",
          "text": [
            "\rHold-out per group:  31%|███▏      | 22/70 [21:13<57:07, 71.41s/it]"
          ]
        },
        {
          "metadata": {
            "tags": null
          },
          "name": "stdout",
          "output_type": "stream",
          "text": [
            "[Save] Model -> /content/drive/MyDrive/Colab Notebooks/Supervised Project/Fine Tuning/models_store_dept_2y1y/model_CA_2_FOODS_3.bin\n",
            "[Save] Forecast -> /content/drive/MyDrive/Colab Notebooks/Supervised Project/Fine Tuning/train_store_dept_2y1y/forecast_CA_3_FOODS_3.pkl\n"
          ]
        },
        {
          "metadata": {
            "tags": null
          },
          "name": "stderr",
          "output_type": "stream",
          "text": [
            "\rHold-out per group:  33%|███▎      | 23/70 [22:39<59:21, 75.79s/it]"
          ]
        },
        {
          "metadata": {
            "tags": null
          },
          "name": "stdout",
          "output_type": "stream",
          "text": [
            "[Save] Model -> /content/drive/MyDrive/Colab Notebooks/Supervised Project/Fine Tuning/models_store_dept_2y1y/model_CA_3_FOODS_3.bin\n",
            "[Save] Forecast -> /content/drive/MyDrive/Colab Notebooks/Supervised Project/Fine Tuning/train_store_dept_2y1y/forecast_CA_4_FOODS_3.pkl\n"
          ]
        },
        {
          "metadata": {
            "tags": null
          },
          "name": "stderr",
          "output_type": "stream",
          "text": [
            "\rHold-out per group:  34%|███▍      | 24/70 [24:03<59:59, 78.25s/it]"
          ]
        },
        {
          "metadata": {
            "tags": null
          },
          "name": "stdout",
          "output_type": "stream",
          "text": [
            "[Save] Model -> /content/drive/MyDrive/Colab Notebooks/Supervised Project/Fine Tuning/models_store_dept_2y1y/model_CA_4_FOODS_3.bin\n",
            "[Save] Forecast -> /content/drive/MyDrive/Colab Notebooks/Supervised Project/Fine Tuning/train_store_dept_2y1y/forecast_TX_1_FOODS_3.pkl\n"
          ]
        },
        {
          "metadata": {
            "tags": null
          },
          "name": "stderr",
          "output_type": "stream",
          "text": [
            "\rHold-out per group:  36%|███▌      | 25/70 [25:28<1:00:23, 80.51s/it]"
          ]
        },
        {
          "metadata": {
            "tags": null
          },
          "name": "stdout",
          "output_type": "stream",
          "text": [
            "[Save] Model -> /content/drive/MyDrive/Colab Notebooks/Supervised Project/Fine Tuning/models_store_dept_2y1y/model_TX_1_FOODS_3.bin\n",
            "[Save] Forecast -> /content/drive/MyDrive/Colab Notebooks/Supervised Project/Fine Tuning/train_store_dept_2y1y/forecast_TX_2_FOODS_3.pkl\n"
          ]
        },
        {
          "metadata": {
            "tags": null
          },
          "name": "stderr",
          "output_type": "stream",
          "text": [
            "\rHold-out per group:  37%|███▋      | 26/70 [26:54<1:00:09, 82.05s/it]"
          ]
        },
        {
          "metadata": {
            "tags": null
          },
          "name": "stdout",
          "output_type": "stream",
          "text": [
            "[Save] Model -> /content/drive/MyDrive/Colab Notebooks/Supervised Project/Fine Tuning/models_store_dept_2y1y/model_TX_2_FOODS_3.bin\n",
            "[Save] Forecast -> /content/drive/MyDrive/Colab Notebooks/Supervised Project/Fine Tuning/train_store_dept_2y1y/forecast_TX_3_FOODS_3.pkl\n"
          ]
        },
        {
          "metadata": {
            "tags": null
          },
          "name": "stderr",
          "output_type": "stream",
          "text": [
            "\rHold-out per group:  39%|███▊      | 27/70 [28:19<59:28, 83.00s/it]  "
          ]
        },
        {
          "metadata": {
            "tags": null
          },
          "name": "stdout",
          "output_type": "stream",
          "text": [
            "[Save] Model -> /content/drive/MyDrive/Colab Notebooks/Supervised Project/Fine Tuning/models_store_dept_2y1y/model_TX_3_FOODS_3.bin\n",
            "[Save] Forecast -> /content/drive/MyDrive/Colab Notebooks/Supervised Project/Fine Tuning/train_store_dept_2y1y/forecast_WI_1_FOODS_3.pkl\n"
          ]
        },
        {
          "metadata": {
            "tags": null
          },
          "name": "stderr",
          "output_type": "stream",
          "text": [
            "\rHold-out per group:  40%|████      | 28/70 [29:42<58:04, 82.96s/it]"
          ]
        },
        {
          "metadata": {
            "tags": null
          },
          "name": "stdout",
          "output_type": "stream",
          "text": [
            "[Save] Model -> /content/drive/MyDrive/Colab Notebooks/Supervised Project/Fine Tuning/models_store_dept_2y1y/model_WI_1_FOODS_3.bin\n",
            "[Save] Forecast -> /content/drive/MyDrive/Colab Notebooks/Supervised Project/Fine Tuning/train_store_dept_2y1y/forecast_WI_2_FOODS_3.pkl\n"
          ]
        },
        {
          "metadata": {
            "tags": null
          },
          "name": "stderr",
          "output_type": "stream",
          "text": [
            "\rHold-out per group:  41%|████▏     | 29/70 [31:11<57:53, 84.72s/it]"
          ]
        },
        {
          "metadata": {
            "tags": null
          },
          "name": "stdout",
          "output_type": "stream",
          "text": [
            "[Save] Model -> /content/drive/MyDrive/Colab Notebooks/Supervised Project/Fine Tuning/models_store_dept_2y1y/model_WI_2_FOODS_3.bin\n",
            "[Save] Forecast -> /content/drive/MyDrive/Colab Notebooks/Supervised Project/Fine Tuning/train_store_dept_2y1y/forecast_WI_3_FOODS_3.pkl\n"
          ]
        },
        {
          "metadata": {
            "tags": null
          },
          "name": "stderr",
          "output_type": "stream",
          "text": [
            "\rHold-out per group:  43%|████▎     | 30/70 [32:38<56:57, 85.44s/it]"
          ]
        },
        {
          "metadata": {
            "tags": null
          },
          "name": "stdout",
          "output_type": "stream",
          "text": [
            "[Save] Model -> /content/drive/MyDrive/Colab Notebooks/Supervised Project/Fine Tuning/models_store_dept_2y1y/model_WI_3_FOODS_3.bin\n",
            "[Save] Forecast -> /content/drive/MyDrive/Colab Notebooks/Supervised Project/Fine Tuning/train_store_dept_2y1y/forecast_CA_1_HOBBIES_1.pkl\n"
          ]
        },
        {
          "metadata": {
            "tags": null
          },
          "name": "stderr",
          "output_type": "stream",
          "text": [
            "\rHold-out per group:  44%|████▍     | 31/70 [33:40<51:03, 78.54s/it]"
          ]
        },
        {
          "metadata": {
            "tags": null
          },
          "name": "stdout",
          "output_type": "stream",
          "text": [
            "[Save] Model -> /content/drive/MyDrive/Colab Notebooks/Supervised Project/Fine Tuning/models_store_dept_2y1y/model_CA_1_HOBBIES_1.bin\n",
            "[Save] Forecast -> /content/drive/MyDrive/Colab Notebooks/Supervised Project/Fine Tuning/train_store_dept_2y1y/forecast_CA_2_HOBBIES_1.pkl\n"
          ]
        },
        {
          "metadata": {
            "tags": null
          },
          "name": "stderr",
          "output_type": "stream",
          "text": [
            "\rHold-out per group:  46%|████▌     | 32/70 [34:45<46:59, 74.20s/it]"
          ]
        },
        {
          "metadata": {
            "tags": null
          },
          "name": "stdout",
          "output_type": "stream",
          "text": [
            "[Save] Model -> /content/drive/MyDrive/Colab Notebooks/Supervised Project/Fine Tuning/models_store_dept_2y1y/model_CA_2_HOBBIES_1.bin\n",
            "[Save] Forecast -> /content/drive/MyDrive/Colab Notebooks/Supervised Project/Fine Tuning/train_store_dept_2y1y/forecast_CA_3_HOBBIES_1.pkl\n"
          ]
        },
        {
          "metadata": {
            "tags": null
          },
          "name": "stderr",
          "output_type": "stream",
          "text": [
            "\rHold-out per group:  47%|████▋     | 33/70 [35:46<43:26, 70.44s/it]"
          ]
        },
        {
          "metadata": {
            "tags": null
          },
          "name": "stdout",
          "output_type": "stream",
          "text": [
            "[Save] Model -> /content/drive/MyDrive/Colab Notebooks/Supervised Project/Fine Tuning/models_store_dept_2y1y/model_CA_3_HOBBIES_1.bin\n",
            "[Save] Forecast -> /content/drive/MyDrive/Colab Notebooks/Supervised Project/Fine Tuning/train_store_dept_2y1y/forecast_CA_4_HOBBIES_1.pkl\n"
          ]
        },
        {
          "metadata": {
            "tags": null
          },
          "name": "stderr",
          "output_type": "stream",
          "text": [
            "\rHold-out per group:  49%|████▊     | 34/70 [36:49<40:53, 68.15s/it]"
          ]
        },
        {
          "metadata": {
            "tags": null
          },
          "name": "stdout",
          "output_type": "stream",
          "text": [
            "[Save] Model -> /content/drive/MyDrive/Colab Notebooks/Supervised Project/Fine Tuning/models_store_dept_2y1y/model_CA_4_HOBBIES_1.bin\n",
            "[Save] Forecast -> /content/drive/MyDrive/Colab Notebooks/Supervised Project/Fine Tuning/train_store_dept_2y1y/forecast_TX_1_HOBBIES_1.pkl\n"
          ]
        },
        {
          "metadata": {
            "tags": null
          },
          "name": "stderr",
          "output_type": "stream",
          "text": [
            "\rHold-out per group:  50%|█████     | 35/70 [37:54<39:16, 67.34s/it]"
          ]
        },
        {
          "metadata": {
            "tags": null
          },
          "name": "stdout",
          "output_type": "stream",
          "text": [
            "[Save] Model -> /content/drive/MyDrive/Colab Notebooks/Supervised Project/Fine Tuning/models_store_dept_2y1y/model_TX_1_HOBBIES_1.bin\n",
            "[Save] Forecast -> /content/drive/MyDrive/Colab Notebooks/Supervised Project/Fine Tuning/train_store_dept_2y1y/forecast_TX_2_HOBBIES_1.pkl\n"
          ]
        },
        {
          "metadata": {
            "tags": null
          },
          "name": "stderr",
          "output_type": "stream",
          "text": [
            "\rHold-out per group:  51%|█████▏    | 36/70 [38:59<37:35, 66.35s/it]"
          ]
        },
        {
          "metadata": {
            "tags": null
          },
          "name": "stdout",
          "output_type": "stream",
          "text": [
            "[Save] Model -> /content/drive/MyDrive/Colab Notebooks/Supervised Project/Fine Tuning/models_store_dept_2y1y/model_TX_2_HOBBIES_1.bin\n",
            "[Save] Forecast -> /content/drive/MyDrive/Colab Notebooks/Supervised Project/Fine Tuning/train_store_dept_2y1y/forecast_TX_3_HOBBIES_1.pkl\n"
          ]
        },
        {
          "metadata": {
            "tags": null
          },
          "name": "stderr",
          "output_type": "stream",
          "text": [
            "\rHold-out per group:  53%|█████▎    | 37/70 [40:01<35:56, 65.34s/it]"
          ]
        },
        {
          "metadata": {
            "tags": null
          },
          "name": "stdout",
          "output_type": "stream",
          "text": [
            "[Save] Model -> /content/drive/MyDrive/Colab Notebooks/Supervised Project/Fine Tuning/models_store_dept_2y1y/model_TX_3_HOBBIES_1.bin\n",
            "[Save] Forecast -> /content/drive/MyDrive/Colab Notebooks/Supervised Project/Fine Tuning/train_store_dept_2y1y/forecast_WI_1_HOBBIES_1.pkl\n"
          ]
        },
        {
          "metadata": {
            "tags": null
          },
          "name": "stderr",
          "output_type": "stream",
          "text": [
            "\rHold-out per group:  54%|█████▍    | 38/70 [41:06<34:45, 65.18s/it]"
          ]
        },
        {
          "metadata": {
            "tags": null
          },
          "name": "stdout",
          "output_type": "stream",
          "text": [
            "[Save] Model -> /content/drive/MyDrive/Colab Notebooks/Supervised Project/Fine Tuning/models_store_dept_2y1y/model_WI_1_HOBBIES_1.bin\n",
            "[Save] Forecast -> /content/drive/MyDrive/Colab Notebooks/Supervised Project/Fine Tuning/train_store_dept_2y1y/forecast_WI_2_HOBBIES_1.pkl\n"
          ]
        },
        {
          "metadata": {
            "tags": null
          },
          "name": "stderr",
          "output_type": "stream",
          "text": [
            "\rHold-out per group:  56%|█████▌    | 39/70 [42:12<33:49, 65.48s/it]"
          ]
        },
        {
          "metadata": {
            "tags": null
          },
          "name": "stdout",
          "output_type": "stream",
          "text": [
            "[Save] Model -> /content/drive/MyDrive/Colab Notebooks/Supervised Project/Fine Tuning/models_store_dept_2y1y/model_WI_2_HOBBIES_1.bin\n",
            "[Save] Forecast -> /content/drive/MyDrive/Colab Notebooks/Supervised Project/Fine Tuning/train_store_dept_2y1y/forecast_WI_3_HOBBIES_1.pkl\n"
          ]
        },
        {
          "metadata": {
            "tags": null
          },
          "name": "stderr",
          "output_type": "stream",
          "text": [
            "\rHold-out per group:  57%|█████▋    | 40/70 [43:17<32:32, 65.10s/it]"
          ]
        },
        {
          "metadata": {
            "tags": null
          },
          "name": "stdout",
          "output_type": "stream",
          "text": [
            "[Save] Model -> /content/drive/MyDrive/Colab Notebooks/Supervised Project/Fine Tuning/models_store_dept_2y1y/model_WI_3_HOBBIES_1.bin\n",
            "[Save] Forecast -> /content/drive/MyDrive/Colab Notebooks/Supervised Project/Fine Tuning/train_store_dept_2y1y/forecast_CA_1_HOBBIES_2.pkl\n"
          ]
        },
        {
          "metadata": {
            "tags": null
          },
          "name": "stderr",
          "output_type": "stream",
          "text": [
            "\rHold-out per group:  59%|█████▊    | 41/70 [43:58<28:03, 58.05s/it]"
          ]
        },
        {
          "metadata": {
            "tags": null
          },
          "name": "stdout",
          "output_type": "stream",
          "text": [
            "[Save] Model -> /content/drive/MyDrive/Colab Notebooks/Supervised Project/Fine Tuning/models_store_dept_2y1y/model_CA_1_HOBBIES_2.bin\n",
            "[Save] Forecast -> /content/drive/MyDrive/Colab Notebooks/Supervised Project/Fine Tuning/train_store_dept_2y1y/forecast_CA_2_HOBBIES_2.pkl\n"
          ]
        },
        {
          "metadata": {
            "tags": null
          },
          "name": "stderr",
          "output_type": "stream",
          "text": [
            "\rHold-out per group:  60%|██████    | 42/70 [44:40<24:46, 53.09s/it]"
          ]
        },
        {
          "metadata": {
            "tags": null
          },
          "name": "stdout",
          "output_type": "stream",
          "text": [
            "[Save] Model -> /content/drive/MyDrive/Colab Notebooks/Supervised Project/Fine Tuning/models_store_dept_2y1y/model_CA_2_HOBBIES_2.bin\n",
            "[Save] Forecast -> /content/drive/MyDrive/Colab Notebooks/Supervised Project/Fine Tuning/train_store_dept_2y1y/forecast_CA_3_HOBBIES_2.pkl\n"
          ]
        },
        {
          "metadata": {
            "tags": null
          },
          "name": "stderr",
          "output_type": "stream",
          "text": [
            "\rHold-out per group:  61%|██████▏   | 43/70 [45:22<22:21, 49.70s/it]"
          ]
        },
        {
          "metadata": {
            "tags": null
          },
          "name": "stdout",
          "output_type": "stream",
          "text": [
            "[Save] Model -> /content/drive/MyDrive/Colab Notebooks/Supervised Project/Fine Tuning/models_store_dept_2y1y/model_CA_3_HOBBIES_2.bin\n",
            "[Save] Forecast -> /content/drive/MyDrive/Colab Notebooks/Supervised Project/Fine Tuning/train_store_dept_2y1y/forecast_CA_4_HOBBIES_2.pkl\n"
          ]
        },
        {
          "metadata": {
            "tags": null
          },
          "name": "stderr",
          "output_type": "stream",
          "text": [
            "\rHold-out per group:  63%|██████▎   | 44/70 [46:01<20:11, 46.59s/it]"
          ]
        },
        {
          "metadata": {
            "tags": null
          },
          "name": "stdout",
          "output_type": "stream",
          "text": [
            "[Save] Model -> /content/drive/MyDrive/Colab Notebooks/Supervised Project/Fine Tuning/models_store_dept_2y1y/model_CA_4_HOBBIES_2.bin\n",
            "[Save] Forecast -> /content/drive/MyDrive/Colab Notebooks/Supervised Project/Fine Tuning/train_store_dept_2y1y/forecast_TX_1_HOBBIES_2.pkl\n"
          ]
        },
        {
          "metadata": {
            "tags": null
          },
          "name": "stderr",
          "output_type": "stream",
          "text": [
            "\rHold-out per group:  64%|██████▍   | 45/70 [46:42<18:45, 45.00s/it]"
          ]
        },
        {
          "metadata": {
            "tags": null
          },
          "name": "stdout",
          "output_type": "stream",
          "text": [
            "[Save] Model -> /content/drive/MyDrive/Colab Notebooks/Supervised Project/Fine Tuning/models_store_dept_2y1y/model_TX_1_HOBBIES_2.bin\n",
            "[Save] Forecast -> /content/drive/MyDrive/Colab Notebooks/Supervised Project/Fine Tuning/train_store_dept_2y1y/forecast_TX_2_HOBBIES_2.pkl\n"
          ]
        },
        {
          "metadata": {
            "tags": null
          },
          "name": "stderr",
          "output_type": "stream",
          "text": [
            "\rHold-out per group:  66%|██████▌   | 46/70 [47:25<17:41, 44.22s/it]"
          ]
        },
        {
          "metadata": {
            "tags": null
          },
          "name": "stdout",
          "output_type": "stream",
          "text": [
            "[Save] Model -> /content/drive/MyDrive/Colab Notebooks/Supervised Project/Fine Tuning/models_store_dept_2y1y/model_TX_2_HOBBIES_2.bin\n",
            "[Save] Forecast -> /content/drive/MyDrive/Colab Notebooks/Supervised Project/Fine Tuning/train_store_dept_2y1y/forecast_TX_3_HOBBIES_2.pkl\n"
          ]
        },
        {
          "metadata": {
            "tags": null
          },
          "name": "stderr",
          "output_type": "stream",
          "text": [
            "\rHold-out per group:  67%|██████▋   | 47/70 [48:07<16:45, 43.73s/it]"
          ]
        },
        {
          "metadata": {
            "tags": null
          },
          "name": "stdout",
          "output_type": "stream",
          "text": [
            "[Save] Model -> /content/drive/MyDrive/Colab Notebooks/Supervised Project/Fine Tuning/models_store_dept_2y1y/model_TX_3_HOBBIES_2.bin\n",
            "[Save] Forecast -> /content/drive/MyDrive/Colab Notebooks/Supervised Project/Fine Tuning/train_store_dept_2y1y/forecast_WI_1_HOBBIES_2.pkl\n"
          ]
        },
        {
          "metadata": {
            "tags": null
          },
          "name": "stderr",
          "output_type": "stream",
          "text": [
            "\rHold-out per group:  69%|██████▊   | 48/70 [48:47<15:39, 42.69s/it]"
          ]
        },
        {
          "metadata": {
            "tags": null
          },
          "name": "stdout",
          "output_type": "stream",
          "text": [
            "[Save] Model -> /content/drive/MyDrive/Colab Notebooks/Supervised Project/Fine Tuning/models_store_dept_2y1y/model_WI_1_HOBBIES_2.bin\n",
            "[Save] Forecast -> /content/drive/MyDrive/Colab Notebooks/Supervised Project/Fine Tuning/train_store_dept_2y1y/forecast_WI_2_HOBBIES_2.pkl\n"
          ]
        },
        {
          "metadata": {
            "tags": null
          },
          "name": "stderr",
          "output_type": "stream",
          "text": [
            "\rHold-out per group:  70%|███████   | 49/70 [49:28<14:43, 42.07s/it]"
          ]
        },
        {
          "metadata": {
            "tags": null
          },
          "name": "stdout",
          "output_type": "stream",
          "text": [
            "[Save] Model -> /content/drive/MyDrive/Colab Notebooks/Supervised Project/Fine Tuning/models_store_dept_2y1y/model_WI_2_HOBBIES_2.bin\n",
            "[Save] Forecast -> /content/drive/MyDrive/Colab Notebooks/Supervised Project/Fine Tuning/train_store_dept_2y1y/forecast_WI_3_HOBBIES_2.pkl\n"
          ]
        },
        {
          "metadata": {
            "tags": null
          },
          "name": "stderr",
          "output_type": "stream",
          "text": [
            "\rHold-out per group:  71%|███████▏  | 50/70 [50:10<13:58, 41.93s/it]"
          ]
        },
        {
          "metadata": {
            "tags": null
          },
          "name": "stdout",
          "output_type": "stream",
          "text": [
            "[Save] Model -> /content/drive/MyDrive/Colab Notebooks/Supervised Project/Fine Tuning/models_store_dept_2y1y/model_WI_3_HOBBIES_2.bin\n",
            "[Save] Forecast -> /content/drive/MyDrive/Colab Notebooks/Supervised Project/Fine Tuning/train_store_dept_2y1y/forecast_CA_1_HOUSEHOLD_1.pkl\n"
          ]
        },
        {
          "metadata": {
            "tags": null
          },
          "name": "stderr",
          "output_type": "stream",
          "text": [
            "\rHold-out per group:  73%|███████▎  | 51/70 [51:15<15:30, 49.00s/it]"
          ]
        },
        {
          "metadata": {
            "tags": null
          },
          "name": "stdout",
          "output_type": "stream",
          "text": [
            "[Save] Model -> /content/drive/MyDrive/Colab Notebooks/Supervised Project/Fine Tuning/models_store_dept_2y1y/model_CA_1_HOUSEHOLD_1.bin\n",
            "[Save] Forecast -> /content/drive/MyDrive/Colab Notebooks/Supervised Project/Fine Tuning/train_store_dept_2y1y/forecast_CA_2_HOUSEHOLD_1.pkl\n"
          ]
        },
        {
          "metadata": {
            "tags": null
          },
          "name": "stderr",
          "output_type": "stream",
          "text": [
            "\rHold-out per group:  74%|███████▍  | 52/70 [52:21<16:14, 54.16s/it]"
          ]
        },
        {
          "output_type": "stream",
          "name": "stdout",
          "text": [
            "[Save] Model -> /content/drive/MyDrive/Colab Notebooks/Supervised Project/Fine Tuning/models_store_dept_2y1y/model_CA_2_HOUSEHOLD_1.bin\n",
            "[Save] Forecast -> /content/drive/MyDrive/Colab Notebooks/Supervised Project/Fine Tuning/train_store_dept_2y1y/forecast_CA_3_HOUSEHOLD_1.pkl\n"
          ]
        },
        {
          "output_type": "stream",
          "name": "stderr",
          "text": [
            "\rHold-out per group:  76%|███████▌  | 53/70 [53:28<16:22, 57.82s/it]"
          ]
        },
        {
          "output_type": "stream",
          "name": "stdout",
          "text": [
            "[Save] Model -> /content/drive/MyDrive/Colab Notebooks/Supervised Project/Fine Tuning/models_store_dept_2y1y/model_CA_3_HOUSEHOLD_1.bin\n",
            "[Save] Forecast -> /content/drive/MyDrive/Colab Notebooks/Supervised Project/Fine Tuning/train_store_dept_2y1y/forecast_CA_4_HOUSEHOLD_1.pkl\n"
          ]
        },
        {
          "output_type": "stream",
          "name": "stderr",
          "text": [
            "\rHold-out per group:  77%|███████▋  | 54/70 [54:32<15:56, 59.78s/it]"
          ]
        },
        {
          "output_type": "stream",
          "name": "stdout",
          "text": [
            "[Save] Model -> /content/drive/MyDrive/Colab Notebooks/Supervised Project/Fine Tuning/models_store_dept_2y1y/model_CA_4_HOUSEHOLD_1.bin\n",
            "[Save] Forecast -> /content/drive/MyDrive/Colab Notebooks/Supervised Project/Fine Tuning/train_store_dept_2y1y/forecast_TX_1_HOUSEHOLD_1.pkl\n"
          ]
        },
        {
          "output_type": "stream",
          "name": "stderr",
          "text": [
            "\rHold-out per group:  79%|███████▊  | 55/70 [55:39<15:27, 61.80s/it]"
          ]
        },
        {
          "output_type": "stream",
          "name": "stdout",
          "text": [
            "[Save] Model -> /content/drive/MyDrive/Colab Notebooks/Supervised Project/Fine Tuning/models_store_dept_2y1y/model_TX_1_HOUSEHOLD_1.bin\n",
            "[Save] Forecast -> /content/drive/MyDrive/Colab Notebooks/Supervised Project/Fine Tuning/train_store_dept_2y1y/forecast_TX_2_HOUSEHOLD_1.pkl\n"
          ]
        },
        {
          "output_type": "stream",
          "name": "stderr",
          "text": [
            "\rHold-out per group:  80%|████████  | 56/70 [56:45<14:45, 63.25s/it]"
          ]
        },
        {
          "output_type": "stream",
          "name": "stdout",
          "text": [
            "[Save] Model -> /content/drive/MyDrive/Colab Notebooks/Supervised Project/Fine Tuning/models_store_dept_2y1y/model_TX_2_HOUSEHOLD_1.bin\n",
            "[Save] Forecast -> /content/drive/MyDrive/Colab Notebooks/Supervised Project/Fine Tuning/train_store_dept_2y1y/forecast_TX_3_HOUSEHOLD_1.pkl\n"
          ]
        },
        {
          "output_type": "stream",
          "name": "stderr",
          "text": [
            "\rHold-out per group:  81%|████████▏ | 57/70 [57:52<13:56, 64.34s/it]"
          ]
        },
        {
          "output_type": "stream",
          "name": "stdout",
          "text": [
            "[Save] Model -> /content/drive/MyDrive/Colab Notebooks/Supervised Project/Fine Tuning/models_store_dept_2y1y/model_TX_3_HOUSEHOLD_1.bin\n",
            "[Save] Forecast -> /content/drive/MyDrive/Colab Notebooks/Supervised Project/Fine Tuning/train_store_dept_2y1y/forecast_WI_1_HOUSEHOLD_1.pkl\n"
          ]
        },
        {
          "output_type": "stream",
          "name": "stderr",
          "text": [
            "\rHold-out per group:  83%|████████▎ | 58/70 [58:57<12:54, 64.58s/it]"
          ]
        },
        {
          "output_type": "stream",
          "name": "stdout",
          "text": [
            "[Save] Model -> /content/drive/MyDrive/Colab Notebooks/Supervised Project/Fine Tuning/models_store_dept_2y1y/model_WI_1_HOUSEHOLD_1.bin\n",
            "[Save] Forecast -> /content/drive/MyDrive/Colab Notebooks/Supervised Project/Fine Tuning/train_store_dept_2y1y/forecast_WI_2_HOUSEHOLD_1.pkl\n"
          ]
        },
        {
          "output_type": "stream",
          "name": "stderr",
          "text": [
            "\rHold-out per group:  84%|████████▍ | 59/70 [1:00:04<11:58, 65.29s/it]"
          ]
        },
        {
          "output_type": "stream",
          "name": "stdout",
          "text": [
            "[Save] Model -> /content/drive/MyDrive/Colab Notebooks/Supervised Project/Fine Tuning/models_store_dept_2y1y/model_WI_2_HOUSEHOLD_1.bin\n",
            "[Save] Forecast -> /content/drive/MyDrive/Colab Notebooks/Supervised Project/Fine Tuning/train_store_dept_2y1y/forecast_WI_3_HOUSEHOLD_1.pkl\n"
          ]
        },
        {
          "output_type": "stream",
          "name": "stderr",
          "text": [
            "\rHold-out per group:  86%|████████▌ | 60/70 [1:01:11<10:57, 65.74s/it]"
          ]
        },
        {
          "output_type": "stream",
          "name": "stdout",
          "text": [
            "[Save] Model -> /content/drive/MyDrive/Colab Notebooks/Supervised Project/Fine Tuning/models_store_dept_2y1y/model_WI_3_HOUSEHOLD_1.bin\n",
            "[Save] Forecast -> /content/drive/MyDrive/Colab Notebooks/Supervised Project/Fine Tuning/train_store_dept_2y1y/forecast_CA_1_HOUSEHOLD_2.pkl\n"
          ]
        },
        {
          "output_type": "stream",
          "name": "stderr",
          "text": [
            "\rHold-out per group:  87%|████████▋ | 61/70 [1:02:20<09:59, 66.60s/it]"
          ]
        },
        {
          "output_type": "stream",
          "name": "stdout",
          "text": [
            "[Save] Model -> /content/drive/MyDrive/Colab Notebooks/Supervised Project/Fine Tuning/models_store_dept_2y1y/model_CA_1_HOUSEHOLD_2.bin\n",
            "[Save] Forecast -> /content/drive/MyDrive/Colab Notebooks/Supervised Project/Fine Tuning/train_store_dept_2y1y/forecast_CA_2_HOUSEHOLD_2.pkl\n"
          ]
        },
        {
          "output_type": "stream",
          "name": "stderr",
          "text": [
            "\rHold-out per group:  89%|████████▊ | 62/70 [1:03:27<08:55, 66.95s/it]"
          ]
        },
        {
          "output_type": "stream",
          "name": "stdout",
          "text": [
            "[Save] Model -> /content/drive/MyDrive/Colab Notebooks/Supervised Project/Fine Tuning/models_store_dept_2y1y/model_CA_2_HOUSEHOLD_2.bin\n",
            "[Save] Forecast -> /content/drive/MyDrive/Colab Notebooks/Supervised Project/Fine Tuning/train_store_dept_2y1y/forecast_CA_3_HOUSEHOLD_2.pkl\n"
          ]
        },
        {
          "output_type": "stream",
          "name": "stderr",
          "text": [
            "\rHold-out per group:  90%|█████████ | 63/70 [1:04:36<07:51, 67.42s/it]"
          ]
        },
        {
          "output_type": "stream",
          "name": "stdout",
          "text": [
            "[Save] Model -> /content/drive/MyDrive/Colab Notebooks/Supervised Project/Fine Tuning/models_store_dept_2y1y/model_CA_3_HOUSEHOLD_2.bin\n",
            "[Save] Forecast -> /content/drive/MyDrive/Colab Notebooks/Supervised Project/Fine Tuning/train_store_dept_2y1y/forecast_CA_4_HOUSEHOLD_2.pkl\n"
          ]
        },
        {
          "output_type": "stream",
          "name": "stderr",
          "text": [
            "\rHold-out per group:  91%|█████████▏| 64/70 [1:05:42<06:42, 67.05s/it]"
          ]
        },
        {
          "output_type": "stream",
          "name": "stdout",
          "text": [
            "[Save] Model -> /content/drive/MyDrive/Colab Notebooks/Supervised Project/Fine Tuning/models_store_dept_2y1y/model_CA_4_HOUSEHOLD_2.bin\n",
            "[Save] Forecast -> /content/drive/MyDrive/Colab Notebooks/Supervised Project/Fine Tuning/train_store_dept_2y1y/forecast_TX_1_HOUSEHOLD_2.pkl\n"
          ]
        },
        {
          "output_type": "stream",
          "name": "stderr",
          "text": [
            "\rHold-out per group:  93%|█████████▎| 65/70 [1:06:51<05:37, 67.48s/it]"
          ]
        },
        {
          "output_type": "stream",
          "name": "stdout",
          "text": [
            "[Save] Model -> /content/drive/MyDrive/Colab Notebooks/Supervised Project/Fine Tuning/models_store_dept_2y1y/model_TX_1_HOUSEHOLD_2.bin\n",
            "[Save] Forecast -> /content/drive/MyDrive/Colab Notebooks/Supervised Project/Fine Tuning/train_store_dept_2y1y/forecast_TX_2_HOUSEHOLD_2.pkl\n"
          ]
        },
        {
          "output_type": "stream",
          "name": "stderr",
          "text": [
            "\rHold-out per group:  94%|█████████▍| 66/70 [1:08:00<04:31, 67.95s/it]"
          ]
        },
        {
          "output_type": "stream",
          "name": "stdout",
          "text": [
            "[Save] Model -> /content/drive/MyDrive/Colab Notebooks/Supervised Project/Fine Tuning/models_store_dept_2y1y/model_TX_2_HOUSEHOLD_2.bin\n",
            "[Save] Forecast -> /content/drive/MyDrive/Colab Notebooks/Supervised Project/Fine Tuning/train_store_dept_2y1y/forecast_TX_3_HOUSEHOLD_2.pkl\n"
          ]
        },
        {
          "output_type": "stream",
          "name": "stderr",
          "text": [
            "\rHold-out per group:  96%|█████████▌| 67/70 [1:09:07<03:23, 67.71s/it]"
          ]
        },
        {
          "output_type": "stream",
          "name": "stdout",
          "text": [
            "[Save] Model -> /content/drive/MyDrive/Colab Notebooks/Supervised Project/Fine Tuning/models_store_dept_2y1y/model_TX_3_HOUSEHOLD_2.bin\n",
            "[Save] Forecast -> /content/drive/MyDrive/Colab Notebooks/Supervised Project/Fine Tuning/train_store_dept_2y1y/forecast_WI_1_HOUSEHOLD_2.pkl\n"
          ]
        },
        {
          "output_type": "stream",
          "name": "stderr",
          "text": [
            "\rHold-out per group:  97%|█████████▋| 68/70 [1:10:14<02:15, 67.59s/it]"
          ]
        },
        {
          "output_type": "stream",
          "name": "stdout",
          "text": [
            "[Save] Model -> /content/drive/MyDrive/Colab Notebooks/Supervised Project/Fine Tuning/models_store_dept_2y1y/model_WI_1_HOUSEHOLD_2.bin\n",
            "[Save] Forecast -> /content/drive/MyDrive/Colab Notebooks/Supervised Project/Fine Tuning/train_store_dept_2y1y/forecast_WI_2_HOUSEHOLD_2.pkl\n"
          ]
        },
        {
          "output_type": "stream",
          "name": "stderr",
          "text": [
            "\rHold-out per group:  99%|█████████▊| 69/70 [1:11:21<01:07, 67.43s/it]"
          ]
        },
        {
          "output_type": "stream",
          "name": "stdout",
          "text": [
            "[Save] Model -> /content/drive/MyDrive/Colab Notebooks/Supervised Project/Fine Tuning/models_store_dept_2y1y/model_WI_2_HOUSEHOLD_2.bin\n",
            "[Save] Forecast -> /content/drive/MyDrive/Colab Notebooks/Supervised Project/Fine Tuning/train_store_dept_2y1y/forecast_WI_3_HOUSEHOLD_2.pkl\n"
          ]
        },
        {
          "output_type": "stream",
          "name": "stderr",
          "text": [
            "Hold-out per group: 100%|██████████| 70/70 [1:12:28<00:00, 62.12s/it]"
          ]
        },
        {
          "output_type": "stream",
          "name": "stdout",
          "text": [
            "[Save] Model -> /content/drive/MyDrive/Colab Notebooks/Supervised Project/Fine Tuning/models_store_dept_2y1y/model_WI_3_HOUSEHOLD_2.bin\n"
          ]
        },
        {
          "output_type": "stream",
          "name": "stderr",
          "text": [
            "\n"
          ]
        }
      ]
    },
    {
      "cell_type": "code",
      "execution_count": null,
      "metadata": {
        "colab": {
          "base_uri": "https://localhost:8080/",
          "height": 244
        },
        "id": "tmNYbmti-N3S",
        "outputId": "5ee7c322-17f8-4f66-a0ad-0b8c7e1052ce"
      },
      "outputs": [
        {
          "output_type": "stream",
          "name": "stdout",
          "text": [
            "Drive already mounted at /content/drive; to attempt to forcibly remount, call drive.mount(\"/content/drive\", force_remount=True).\n"
          ]
        },
        {
          "output_type": "execute_result",
          "data": {
            "text/plain": [
              "      d       date      item_id store_id  dept_id  true      pred  train_secs\n",
              "0  1097 2014-01-29  FOODS_1_001     CA_1  FOODS_1   0.0  0.007481   45.000749\n",
              "1  1098 2014-01-30  FOODS_1_001     CA_1  FOODS_1   0.0  0.012784   45.000749\n",
              "2  1099 2014-01-31  FOODS_1_001     CA_1  FOODS_1   0.0  0.013615   45.000749\n",
              "3  1100 2014-02-01  FOODS_1_001     CA_1  FOODS_1   0.0  0.010586   45.000749\n",
              "4  1101 2014-02-02  FOODS_1_001     CA_1  FOODS_1   0.0  0.006083   45.000749"
            ],
            "text/html": [
              "\n",
              "  <div id=\"df-52e99fa9-0561-4059-8740-5bb5c67dc432\" class=\"colab-df-container\">\n",
              "    <div>\n",
              "<style scoped>\n",
              "    .dataframe tbody tr th:only-of-type {\n",
              "        vertical-align: middle;\n",
              "    }\n",
              "\n",
              "    .dataframe tbody tr th {\n",
              "        vertical-align: top;\n",
              "    }\n",
              "\n",
              "    .dataframe thead th {\n",
              "        text-align: right;\n",
              "    }\n",
              "</style>\n",
              "<table border=\"1\" class=\"dataframe\">\n",
              "  <thead>\n",
              "    <tr style=\"text-align: right;\">\n",
              "      <th></th>\n",
              "      <th>d</th>\n",
              "      <th>date</th>\n",
              "      <th>item_id</th>\n",
              "      <th>store_id</th>\n",
              "      <th>dept_id</th>\n",
              "      <th>true</th>\n",
              "      <th>pred</th>\n",
              "      <th>train_secs</th>\n",
              "    </tr>\n",
              "  </thead>\n",
              "  <tbody>\n",
              "    <tr>\n",
              "      <th>0</th>\n",
              "      <td>1097</td>\n",
              "      <td>2014-01-29</td>\n",
              "      <td>FOODS_1_001</td>\n",
              "      <td>CA_1</td>\n",
              "      <td>FOODS_1</td>\n",
              "      <td>0.0</td>\n",
              "      <td>0.007481</td>\n",
              "      <td>45.000749</td>\n",
              "    </tr>\n",
              "    <tr>\n",
              "      <th>1</th>\n",
              "      <td>1098</td>\n",
              "      <td>2014-01-30</td>\n",
              "      <td>FOODS_1_001</td>\n",
              "      <td>CA_1</td>\n",
              "      <td>FOODS_1</td>\n",
              "      <td>0.0</td>\n",
              "      <td>0.012784</td>\n",
              "      <td>45.000749</td>\n",
              "    </tr>\n",
              "    <tr>\n",
              "      <th>2</th>\n",
              "      <td>1099</td>\n",
              "      <td>2014-01-31</td>\n",
              "      <td>FOODS_1_001</td>\n",
              "      <td>CA_1</td>\n",
              "      <td>FOODS_1</td>\n",
              "      <td>0.0</td>\n",
              "      <td>0.013615</td>\n",
              "      <td>45.000749</td>\n",
              "    </tr>\n",
              "    <tr>\n",
              "      <th>3</th>\n",
              "      <td>1100</td>\n",
              "      <td>2014-02-01</td>\n",
              "      <td>FOODS_1_001</td>\n",
              "      <td>CA_1</td>\n",
              "      <td>FOODS_1</td>\n",
              "      <td>0.0</td>\n",
              "      <td>0.010586</td>\n",
              "      <td>45.000749</td>\n",
              "    </tr>\n",
              "    <tr>\n",
              "      <th>4</th>\n",
              "      <td>1101</td>\n",
              "      <td>2014-02-02</td>\n",
              "      <td>FOODS_1_001</td>\n",
              "      <td>CA_1</td>\n",
              "      <td>FOODS_1</td>\n",
              "      <td>0.0</td>\n",
              "      <td>0.006083</td>\n",
              "      <td>45.000749</td>\n",
              "    </tr>\n",
              "  </tbody>\n",
              "</table>\n",
              "</div>\n",
              "    <div class=\"colab-df-buttons\">\n",
              "\n",
              "  <div class=\"colab-df-container\">\n",
              "    <button class=\"colab-df-convert\" onclick=\"convertToInteractive('df-52e99fa9-0561-4059-8740-5bb5c67dc432')\"\n",
              "            title=\"Convert this dataframe to an interactive table.\"\n",
              "            style=\"display:none;\">\n",
              "\n",
              "  <svg xmlns=\"http://www.w3.org/2000/svg\" height=\"24px\" viewBox=\"0 -960 960 960\">\n",
              "    <path d=\"M120-120v-720h720v720H120Zm60-500h600v-160H180v160Zm220 220h160v-160H400v160Zm0 220h160v-160H400v160ZM180-400h160v-160H180v160Zm440 0h160v-160H620v160ZM180-180h160v-160H180v160Zm440 0h160v-160H620v160Z\"/>\n",
              "  </svg>\n",
              "    </button>\n",
              "\n",
              "  <style>\n",
              "    .colab-df-container {\n",
              "      display:flex;\n",
              "      gap: 12px;\n",
              "    }\n",
              "\n",
              "    .colab-df-convert {\n",
              "      background-color: #E8F0FE;\n",
              "      border: none;\n",
              "      border-radius: 50%;\n",
              "      cursor: pointer;\n",
              "      display: none;\n",
              "      fill: #1967D2;\n",
              "      height: 32px;\n",
              "      padding: 0 0 0 0;\n",
              "      width: 32px;\n",
              "    }\n",
              "\n",
              "    .colab-df-convert:hover {\n",
              "      background-color: #E2EBFA;\n",
              "      box-shadow: 0px 1px 2px rgba(60, 64, 67, 0.3), 0px 1px 3px 1px rgba(60, 64, 67, 0.15);\n",
              "      fill: #174EA6;\n",
              "    }\n",
              "\n",
              "    .colab-df-buttons div {\n",
              "      margin-bottom: 4px;\n",
              "    }\n",
              "\n",
              "    [theme=dark] .colab-df-convert {\n",
              "      background-color: #3B4455;\n",
              "      fill: #D2E3FC;\n",
              "    }\n",
              "\n",
              "    [theme=dark] .colab-df-convert:hover {\n",
              "      background-color: #434B5C;\n",
              "      box-shadow: 0px 1px 3px 1px rgba(0, 0, 0, 0.15);\n",
              "      filter: drop-shadow(0px 1px 2px rgba(0, 0, 0, 0.3));\n",
              "      fill: #FFFFFF;\n",
              "    }\n",
              "  </style>\n",
              "\n",
              "    <script>\n",
              "      const buttonEl =\n",
              "        document.querySelector('#df-52e99fa9-0561-4059-8740-5bb5c67dc432 button.colab-df-convert');\n",
              "      buttonEl.style.display =\n",
              "        google.colab.kernel.accessAllowed ? 'block' : 'none';\n",
              "\n",
              "      async function convertToInteractive(key) {\n",
              "        const element = document.querySelector('#df-52e99fa9-0561-4059-8740-5bb5c67dc432');\n",
              "        const dataTable =\n",
              "          await google.colab.kernel.invokeFunction('convertToInteractive',\n",
              "                                                    [key], {});\n",
              "        if (!dataTable) return;\n",
              "\n",
              "        const docLinkHtml = 'Like what you see? Visit the ' +\n",
              "          '<a target=\"_blank\" href=https://colab.research.google.com/notebooks/data_table.ipynb>data table notebook</a>'\n",
              "          + ' to learn more about interactive tables.';\n",
              "        element.innerHTML = '';\n",
              "        dataTable['output_type'] = 'display_data';\n",
              "        await google.colab.output.renderOutput(dataTable, element);\n",
              "        const docLink = document.createElement('div');\n",
              "        docLink.innerHTML = docLinkHtml;\n",
              "        element.appendChild(docLink);\n",
              "      }\n",
              "    </script>\n",
              "  </div>\n",
              "\n",
              "\n",
              "    <div id=\"df-2a998433-3110-4baa-87f3-410350f27508\">\n",
              "      <button class=\"colab-df-quickchart\" onclick=\"quickchart('df-2a998433-3110-4baa-87f3-410350f27508')\"\n",
              "                title=\"Suggest charts\"\n",
              "                style=\"display:none;\">\n",
              "\n",
              "<svg xmlns=\"http://www.w3.org/2000/svg\" height=\"24px\"viewBox=\"0 0 24 24\"\n",
              "     width=\"24px\">\n",
              "    <g>\n",
              "        <path d=\"M19 3H5c-1.1 0-2 .9-2 2v14c0 1.1.9 2 2 2h14c1.1 0 2-.9 2-2V5c0-1.1-.9-2-2-2zM9 17H7v-7h2v7zm4 0h-2V7h2v10zm4 0h-2v-4h2v4z\"/>\n",
              "    </g>\n",
              "</svg>\n",
              "      </button>\n",
              "\n",
              "<style>\n",
              "  .colab-df-quickchart {\n",
              "      --bg-color: #E8F0FE;\n",
              "      --fill-color: #1967D2;\n",
              "      --hover-bg-color: #E2EBFA;\n",
              "      --hover-fill-color: #174EA6;\n",
              "      --disabled-fill-color: #AAA;\n",
              "      --disabled-bg-color: #DDD;\n",
              "  }\n",
              "\n",
              "  [theme=dark] .colab-df-quickchart {\n",
              "      --bg-color: #3B4455;\n",
              "      --fill-color: #D2E3FC;\n",
              "      --hover-bg-color: #434B5C;\n",
              "      --hover-fill-color: #FFFFFF;\n",
              "      --disabled-bg-color: #3B4455;\n",
              "      --disabled-fill-color: #666;\n",
              "  }\n",
              "\n",
              "  .colab-df-quickchart {\n",
              "    background-color: var(--bg-color);\n",
              "    border: none;\n",
              "    border-radius: 50%;\n",
              "    cursor: pointer;\n",
              "    display: none;\n",
              "    fill: var(--fill-color);\n",
              "    height: 32px;\n",
              "    padding: 0;\n",
              "    width: 32px;\n",
              "  }\n",
              "\n",
              "  .colab-df-quickchart:hover {\n",
              "    background-color: var(--hover-bg-color);\n",
              "    box-shadow: 0 1px 2px rgba(60, 64, 67, 0.3), 0 1px 3px 1px rgba(60, 64, 67, 0.15);\n",
              "    fill: var(--button-hover-fill-color);\n",
              "  }\n",
              "\n",
              "  .colab-df-quickchart-complete:disabled,\n",
              "  .colab-df-quickchart-complete:disabled:hover {\n",
              "    background-color: var(--disabled-bg-color);\n",
              "    fill: var(--disabled-fill-color);\n",
              "    box-shadow: none;\n",
              "  }\n",
              "\n",
              "  .colab-df-spinner {\n",
              "    border: 2px solid var(--fill-color);\n",
              "    border-color: transparent;\n",
              "    border-bottom-color: var(--fill-color);\n",
              "    animation:\n",
              "      spin 1s steps(1) infinite;\n",
              "  }\n",
              "\n",
              "  @keyframes spin {\n",
              "    0% {\n",
              "      border-color: transparent;\n",
              "      border-bottom-color: var(--fill-color);\n",
              "      border-left-color: var(--fill-color);\n",
              "    }\n",
              "    20% {\n",
              "      border-color: transparent;\n",
              "      border-left-color: var(--fill-color);\n",
              "      border-top-color: var(--fill-color);\n",
              "    }\n",
              "    30% {\n",
              "      border-color: transparent;\n",
              "      border-left-color: var(--fill-color);\n",
              "      border-top-color: var(--fill-color);\n",
              "      border-right-color: var(--fill-color);\n",
              "    }\n",
              "    40% {\n",
              "      border-color: transparent;\n",
              "      border-right-color: var(--fill-color);\n",
              "      border-top-color: var(--fill-color);\n",
              "    }\n",
              "    60% {\n",
              "      border-color: transparent;\n",
              "      border-right-color: var(--fill-color);\n",
              "    }\n",
              "    80% {\n",
              "      border-color: transparent;\n",
              "      border-right-color: var(--fill-color);\n",
              "      border-bottom-color: var(--fill-color);\n",
              "    }\n",
              "    90% {\n",
              "      border-color: transparent;\n",
              "      border-bottom-color: var(--fill-color);\n",
              "    }\n",
              "  }\n",
              "</style>\n",
              "\n",
              "      <script>\n",
              "        async function quickchart(key) {\n",
              "          const quickchartButtonEl =\n",
              "            document.querySelector('#' + key + ' button');\n",
              "          quickchartButtonEl.disabled = true;  // To prevent multiple clicks.\n",
              "          quickchartButtonEl.classList.add('colab-df-spinner');\n",
              "          try {\n",
              "            const charts = await google.colab.kernel.invokeFunction(\n",
              "                'suggestCharts', [key], {});\n",
              "          } catch (error) {\n",
              "            console.error('Error during call to suggestCharts:', error);\n",
              "          }\n",
              "          quickchartButtonEl.classList.remove('colab-df-spinner');\n",
              "          quickchartButtonEl.classList.add('colab-df-quickchart-complete');\n",
              "        }\n",
              "        (() => {\n",
              "          let quickchartButtonEl =\n",
              "            document.querySelector('#df-2a998433-3110-4baa-87f3-410350f27508 button');\n",
              "          quickchartButtonEl.style.display =\n",
              "            google.colab.kernel.accessAllowed ? 'block' : 'none';\n",
              "        })();\n",
              "      </script>\n",
              "    </div>\n",
              "\n",
              "    </div>\n",
              "  </div>\n"
            ],
            "application/vnd.google.colaboratory.intrinsic+json": {
              "type": "dataframe",
              "variable_name": "all_results"
            }
          },
          "metadata": {},
          "execution_count": 12
        }
      ],
      "source": [
        "import pandas as pd\n",
        "import os\n",
        "from glob import glob\n",
        "from google.colab import drive\n",
        "drive.mount('/content/drive')\n",
        "\n",
        "new_results_dir = \"/content/drive/MyDrive/Colab Notebooks/Supervised Project/Fine Tuning/train_store_dept_2y1y/\"\n",
        "\n",
        "file_list = glob(os.path.join(new_results_dir, \"forecast_*.pkl\"))\n",
        "\n",
        "all_results = pd.concat([pd.read_pickle(f) for f in file_list], ignore_index=True)\n",
        "\n",
        "all_results.head()\n"
      ]
    },
    {
      "cell_type": "code",
      "execution_count": null,
      "metadata": {
        "colab": {
          "base_uri": "https://localhost:8080/"
        },
        "id": "Oufvywlp-2A8",
        "outputId": "d591ccc0-2ccd-471c-c8ed-959da8322aa3"
      },
      "outputs": [
        {
          "output_type": "stream",
          "name": "stdout",
          "text": [
            "Total records: 10377296\n",
            "Columns: ['d', 'date', 'item_id', 'store_id', 'dept_id', 'true', 'pred', 'train_secs']\n"
          ]
        }
      ],
      "source": [
        "print(f\"Total records: {all_results.shape[0]}\")\n",
        "print(f\"Columns: {all_results.columns.tolist()}\")"
      ]
    },
    {
      "cell_type": "markdown",
      "metadata": {
        "id": "E6TPqIzNGUhV"
      },
      "source": [
        "# Evaluation with errors"
      ]
    },
    {
      "cell_type": "code",
      "execution_count": null,
      "metadata": {
        "id": "rCWDWcDIIqCY"
      },
      "outputs": [],
      "source": [
        "import numpy as np\n",
        "import pandas as pd\n",
        "from sklearn.metrics import mean_squared_error\n",
        "\n",
        "def calculate_test_errors(test_series, forecast_series, train_series=None,\n",
        "                          series_name='y', model_name='model', print_results=False):\n",
        "\n",
        "    y_true = np.array(test_series)\n",
        "    y_pred = np.array(forecast_series)\n",
        "\n",
        "    # MAPE and sMAPE（escape 0）\n",
        "    skip_mape = (y_true == 0).any()\n",
        "    if not skip_mape:\n",
        "        mape_val = np.mean(np.abs((y_true - y_pred) / y_true)) * 100\n",
        "        smape_val = 100 * np.mean(2 * np.abs(y_pred - y_true) / (np.abs(y_pred) + np.abs(y_true)))\n",
        "\n",
        "    # RMSE\n",
        "    rmse_val = np.sqrt(mean_squared_error(y_true, y_pred))\n",
        "    me_val = np.mean(y_pred - y_true)\n",
        "    mean_test = np.mean(y_true)\n",
        "    norm_rmse = rmse_val / mean_test\n",
        "    norm_me = me_val / mean_test\n",
        "\n",
        "    # RMSSE\n",
        "    if train_series is not None:\n",
        "        y_train = np.array(train_series)\n",
        "        insample_naive = np.mean((y_train[1:] - y_train[:-1]) ** 2)\n",
        "        rmsse_val = rmse_val / np.sqrt(insample_naive) if insample_naive > 0 else np.nan\n",
        "    else:\n",
        "        rmsse_val = np.nan\n",
        "\n",
        "    if print_results:\n",
        "        print(f\"Model: {model_name} | Series: {series_name}\")\n",
        "        if not skip_mape:\n",
        "            print(f\"MAPE     : {mape_val:.2f}%\")\n",
        "            print(f\"sMAPE    : {smape_val:.2f}%\")\n",
        "        print(f\"RMSSE    : {rmsse_val:.3f}\")\n",
        "        print(f\"RMSE     : {rmse_val:.3f}\")\n",
        "        print(f\"Norm_RMSE: {norm_rmse:.3f}\")\n",
        "        print(f\"ME       : {me_val:.3f}\")\n",
        "        print(f\"Norm_ME  : {norm_me:.3f}\")\n",
        "\n",
        "    # DataFrame\n",
        "    if not skip_mape:\n",
        "        columns = ['SeriesName', 'Model', 'MAPE', 'sMAPE', 'RMSSE', 'RMSE', 'Norm_RMSE', 'ME', 'Norm_ME']\n",
        "        values = [series_name, model_name, mape_val, smape_val, rmsse_val, rmse_val, norm_rmse, me_val, norm_me]\n",
        "    else:\n",
        "        columns = ['SeriesName', 'Model', 'RMSSE', 'RMSE', 'Norm_RMSE', 'ME', 'Norm_ME']\n",
        "        values = [series_name, model_name, rmsse_val, rmse_val, norm_rmse, me_val, norm_me]\n",
        "\n",
        "    return pd.DataFrame([values], columns=columns)\n"
      ]
    },
    {
      "cell_type": "code",
      "execution_count": null,
      "metadata": {
        "id": "fOzWtSEsGLwI"
      },
      "outputs": [],
      "source": [
        "import numpy as np\n",
        "import pandas as pd\n",
        "\n",
        "def evaluate_group_errors(\n",
        "    result_df: pd.DataFrame,\n",
        "    sales_long_val: pd.DataFrame,\n",
        "    label_col: str,\n",
        "    group_key: list,\n",
        "    train_range: tuple = (366, 1096),   # validation window\n",
        "    lead_time: int = 3,\n",
        "    model_name: str = 'ML_Holdout'\n",
        "):\n",
        "    \"\"\"\n",
        "    result_df: Validation set details containing ['d', *group_key, 'true', 'pred']\n",
        "    sales_long_val: Full history (at least ['d', 'sales', *group_key])\n",
        "    label_col: Evaluation target ('ROP_L3')\n",
        "    group_key: Grouping key (e.g., ['store_id', 'dept_id'])\n",
        "    train_range: Constructs the RMSSE denominator using only the training window to prevent lookahead\n",
        "    lead_time: L interval used for aggregation when label is ROP\n",
        "    \"\"\"\n",
        "\n",
        "    error_summary = []\n",
        "    tr_start, tr_end = train_range\n",
        "\n",
        "    # groups\n",
        "    for group_vals, gpred in result_df.groupby(group_key, sort=False):\n",
        "        y_true = gpred['true'].to_numpy(dtype=float)\n",
        "        y_pred = gpred['pred'].to_numpy(dtype=float)\n",
        "\n",
        "        # Construct the history of this group + training window\n",
        "        mask = np.ones(len(sales_long_val), dtype=bool)\n",
        "        for k, v in zip(group_key, (group_vals if isinstance(group_vals, tuple) else (group_vals,))):\n",
        "            mask &= (sales_long_val[k] == v)\n",
        "        mask &= (sales_long_val['d'] >= tr_start) & (sales_long_val['d'] <= tr_end)\n",
        "\n",
        "        g_hist = sales_long_val.loc[mask, ['d', 'sales']].sort_values('d')\n",
        "        if g_hist.empty:\n",
        "            train_series = None\n",
        "        else:\n",
        "            if 'ROP' in label_col.upper():\n",
        "                # Construction within the training window ROP_train = rolling L day sum, forward L-1 anti-leakage\n",
        "                rop_train = (\n",
        "                    g_hist['sales']\n",
        "                    .shift(-(lead_time - 1))\n",
        "                    .rolling(lead_time)\n",
        "                    .sum()\n",
        "                )\n",
        "                # Only ROPs that fall completely within the training window are retained (the last L-1 days without true values ​​are not counted)\n",
        "                last_t = tr_end - (lead_time - 1)\n",
        "                train_series = rop_train[g_hist['d'] <= last_t].dropna()\n",
        "            else:\n",
        "                # Daily sales\n",
        "                train_series = g_hist['sales'].dropna()\n",
        "\n",
        "            if train_series is not None and len(train_series) < 2:\n",
        "                train_series = None\n",
        "\n",
        "        # Error calculation\n",
        "        res = calculate_test_errors(\n",
        "            test_series=y_true,\n",
        "            forecast_series=y_pred,\n",
        "            train_series=train_series,\n",
        "            series_name=str(group_vals),\n",
        "            model_name=model_name,\n",
        "            print_results=False\n",
        "        )\n",
        "        error_summary.append(res)\n",
        "\n",
        "    return pd.concat(error_summary, ignore_index=True) if error_summary else pd.DataFrame()"
      ]
    },
    {
      "cell_type": "code",
      "execution_count": null,
      "metadata": {
        "colab": {
          "base_uri": "https://localhost:8080/"
        },
        "id": "-qMjdHiG_e-X",
        "outputId": "5e470810-f401-45a2-cf47-76acb09dad61"
      },
      "outputs": [
        {
          "output_type": "stream",
          "name": "stdout",
          "text": [
            "Group ('CA_1', 'FOODS_1') has 22 NaN rows.\n",
            "Group ('CA_1', 'FOODS_2') has 130 NaN rows.\n",
            "Group ('CA_1', 'FOODS_3') has 182 NaN rows.\n",
            "Group ('CA_1', 'HOBBIES_1') has 66 NaN rows.\n",
            "Group ('CA_1', 'HOBBIES_2') has 46 NaN rows.\n",
            "Group ('CA_1', 'HOUSEHOLD_1') has 140 NaN rows.\n",
            "Group ('CA_1', 'HOUSEHOLD_2') has 98 NaN rows.\n",
            "Group ('CA_2', 'FOODS_1') has 22 NaN rows.\n",
            "Group ('CA_2', 'FOODS_2') has 80 NaN rows.\n",
            "Group ('CA_2', 'FOODS_3') has 226 NaN rows.\n",
            "Group ('CA_2', 'HOBBIES_1') has 62 NaN rows.\n",
            "Group ('CA_2', 'HOBBIES_2') has 42 NaN rows.\n",
            "Group ('CA_2', 'HOUSEHOLD_1') has 156 NaN rows.\n",
            "Group ('CA_2', 'HOUSEHOLD_2') has 110 NaN rows.\n",
            "Group ('CA_3', 'FOODS_1') has 22 NaN rows.\n",
            "Group ('CA_3', 'FOODS_2') has 124 NaN rows.\n",
            "Group ('CA_3', 'FOODS_3') has 186 NaN rows.\n",
            "Group ('CA_3', 'HOBBIES_1') has 64 NaN rows.\n",
            "Group ('CA_3', 'HOBBIES_2') has 44 NaN rows.\n",
            "Group ('CA_3', 'HOUSEHOLD_1') has 154 NaN rows.\n",
            "Group ('CA_3', 'HOUSEHOLD_2') has 88 NaN rows.\n",
            "Group ('CA_4', 'FOODS_1') has 26 NaN rows.\n",
            "Group ('CA_4', 'FOODS_2') has 126 NaN rows.\n",
            "Group ('CA_4', 'FOODS_3') has 192 NaN rows.\n",
            "Group ('CA_4', 'HOBBIES_1') has 94 NaN rows.\n",
            "Group ('CA_4', 'HOBBIES_2') has 62 NaN rows.\n",
            "Group ('CA_4', 'HOUSEHOLD_1') has 170 NaN rows.\n",
            "Group ('CA_4', 'HOUSEHOLD_2') has 114 NaN rows.\n",
            "Group ('TX_1', 'FOODS_1') has 18 NaN rows.\n",
            "Group ('TX_1', 'FOODS_2') has 126 NaN rows.\n",
            "Group ('TX_1', 'FOODS_3') has 194 NaN rows.\n",
            "Group ('TX_1', 'HOBBIES_1') has 66 NaN rows.\n",
            "Group ('TX_1', 'HOBBIES_2') has 58 NaN rows.\n",
            "Group ('TX_1', 'HOUSEHOLD_1') has 150 NaN rows.\n",
            "Group ('TX_1', 'HOUSEHOLD_2') has 102 NaN rows.\n",
            "Group ('TX_2', 'FOODS_1') has 18 NaN rows.\n",
            "Group ('TX_2', 'FOODS_2') has 124 NaN rows.\n",
            "Group ('TX_2', 'FOODS_3') has 184 NaN rows.\n",
            "Group ('TX_2', 'HOBBIES_1') has 62 NaN rows.\n",
            "Group ('TX_2', 'HOBBIES_2') has 40 NaN rows.\n",
            "Group ('TX_2', 'HOUSEHOLD_1') has 146 NaN rows.\n",
            "Group ('TX_2', 'HOUSEHOLD_2') has 100 NaN rows.\n",
            "Group ('TX_3', 'FOODS_1') has 18 NaN rows.\n",
            "Group ('TX_3', 'FOODS_2') has 122 NaN rows.\n",
            "Group ('TX_3', 'FOODS_3') has 196 NaN rows.\n",
            "Group ('TX_3', 'HOBBIES_1') has 74 NaN rows.\n",
            "Group ('TX_3', 'HOBBIES_2') has 38 NaN rows.\n",
            "Group ('TX_3', 'HOUSEHOLD_1') has 152 NaN rows.\n",
            "Group ('TX_3', 'HOUSEHOLD_2') has 102 NaN rows.\n",
            "Group ('WI_1', 'FOODS_1') has 18 NaN rows.\n",
            "Group ('WI_1', 'FOODS_2') has 122 NaN rows.\n",
            "Group ('WI_1', 'FOODS_3') has 180 NaN rows.\n",
            "Group ('WI_1', 'HOBBIES_1') has 68 NaN rows.\n",
            "Group ('WI_1', 'HOBBIES_2') has 40 NaN rows.\n",
            "Group ('WI_1', 'HOUSEHOLD_1') has 148 NaN rows.\n",
            "Group ('WI_1', 'HOUSEHOLD_2') has 108 NaN rows.\n",
            "Group ('WI_2', 'FOODS_1') has 18 NaN rows.\n",
            "Group ('WI_2', 'FOODS_2') has 122 NaN rows.\n",
            "Group ('WI_2', 'FOODS_3') has 164 NaN rows.\n",
            "Group ('WI_2', 'HOBBIES_1') has 72 NaN rows.\n",
            "Group ('WI_2', 'HOBBIES_2') has 46 NaN rows.\n",
            "Group ('WI_2', 'HOUSEHOLD_1') has 166 NaN rows.\n",
            "Group ('WI_2', 'HOUSEHOLD_2') has 102 NaN rows.\n",
            "Group ('WI_3', 'FOODS_1') has 18 NaN rows.\n",
            "Group ('WI_3', 'FOODS_2') has 120 NaN rows.\n",
            "Group ('WI_3', 'FOODS_3') has 172 NaN rows.\n",
            "Group ('WI_3', 'HOBBIES_1') has 60 NaN rows.\n",
            "Group ('WI_3', 'HOBBIES_2') has 42 NaN rows.\n",
            "Group ('WI_3', 'HOUSEHOLD_1') has 142 NaN rows.\n",
            "Group ('WI_3', 'HOUSEHOLD_2') has 108 NaN rows.\n",
            " Total rows with NaN in 'true' or 'pred': 6974\n"
          ]
        }
      ],
      "source": [
        "total_nan_rows = 0\n",
        "\n",
        "for group_vals, group_df in all_results.groupby(group_key):\n",
        "    nan_mask = group_df[['true', 'pred']].isna().any(axis=1)\n",
        "    nan_count = nan_mask.sum()\n",
        "\n",
        "    if nan_count > 0:\n",
        "        print(f\"Group {group_vals} has {nan_count} NaN rows.\")\n",
        "        total_nan_rows += nan_count\n",
        "\n",
        "print(f\" Total rows with NaN in 'true' or 'pred': {total_nan_rows}\")\n"
      ]
    },
    {
      "cell_type": "code",
      "execution_count": null,
      "metadata": {
        "colab": {
          "base_uri": "https://localhost:8080/"
        },
        "id": "C2xmO5pD_1ix",
        "outputId": "2e7a32c5-fe97-4d49-a389-08d37abe543f"
      },
      "outputs": [
        {
          "name": "stdout",
          "output_type": "stream",
          "text": [
            "Number of rows containing NaNs: 6974\n",
            "Total number of rows: 10377296\n",
            "NaN percentage: 0.07%\n"
          ]
        }
      ],
      "source": [
        "nan_rows = all_results[['true', 'pred']].isna().any(axis=1).sum()\n",
        "\n",
        "total_rows = len(all_results)\n",
        "\n",
        "nan_ratio = nan_rows / total_rows\n",
        "\n",
        "print(f\"Number of rows containing NaNs: {nan_rows}\")\n",
        "print(f\"Total number of rows: {total_rows}\")\n",
        "print(f\"NaN percentage: {nan_ratio:.2%}\")\n"
      ]
    },
    {
      "cell_type": "code",
      "execution_count": null,
      "metadata": {
        "id": "68tx-JAZcxmr"
      },
      "outputs": [],
      "source": [
        "all_results_clean = all_results.dropna(subset=['true', 'pred'])\n",
        "error_df = evaluate_group_errors(result_df=all_results_clean,\n",
        "                                 sales_long_val=sales_long_val,\n",
        "                                 label_col=label_col,\n",
        "                                 group_key=group_key)"
      ]
    },
    {
      "cell_type": "code",
      "execution_count": null,
      "metadata": {
        "colab": {
          "base_uri": "https://localhost:8080/",
          "height": 363
        },
        "id": "S1G4SiN5BNbh",
        "outputId": "35e5144c-5133-4043-a235-fded8c22b3ce"
      },
      "outputs": [
        {
          "output_type": "execute_result",
          "data": {
            "text/plain": [
              "            SeriesName       Model     RMSSE      RMSE  Norm_RMSE        ME  \\\n",
              "0  ('CA_1', 'FOODS_1')  ML_Holdout  0.713729  3.409393   0.714884 -0.493585   \n",
              "1  ('CA_2', 'FOODS_1')  ML_Holdout  0.613559  3.580009   0.705573 -0.194719   \n",
              "2  ('CA_3', 'FOODS_1')  ML_Holdout  0.685283  4.128536   0.748322 -0.373816   \n",
              "3  ('CA_4', 'FOODS_1')  ML_Holdout  0.706029  2.241070   0.782730 -0.184039   \n",
              "4  ('TX_1', 'FOODS_1')  ML_Holdout  0.864363  3.053084   1.081756 -0.409766   \n",
              "5  ('TX_2', 'FOODS_1')  ML_Holdout  0.438321  2.886358   0.803297 -0.274702   \n",
              "6  ('TX_3', 'FOODS_1')  ML_Holdout  0.805444  3.276249   0.930345 -0.495777   \n",
              "7  ('WI_1', 'FOODS_1')  ML_Holdout  0.617708  2.604051   0.689065 -0.249550   \n",
              "8  ('WI_2', 'FOODS_1')  ML_Holdout  0.654236  3.864547   0.891567 -0.326642   \n",
              "9  ('WI_3', 'FOODS_1')  ML_Holdout  0.494745  2.260601   0.916876 -0.272791   \n",
              "\n",
              "    Norm_ME  \n",
              "0 -0.103495  \n",
              "1 -0.038377  \n",
              "2 -0.067756  \n",
              "3 -0.064279  \n",
              "4 -0.145187  \n",
              "5 -0.076452  \n",
              "6 -0.140784  \n",
              "7 -0.066034  \n",
              "8 -0.075358  \n",
              "9 -0.110641  "
            ],
            "text/html": [
              "\n",
              "  <div id=\"df-091190cf-69c5-43e7-bd5a-02941a6147da\" class=\"colab-df-container\">\n",
              "    <div>\n",
              "<style scoped>\n",
              "    .dataframe tbody tr th:only-of-type {\n",
              "        vertical-align: middle;\n",
              "    }\n",
              "\n",
              "    .dataframe tbody tr th {\n",
              "        vertical-align: top;\n",
              "    }\n",
              "\n",
              "    .dataframe thead th {\n",
              "        text-align: right;\n",
              "    }\n",
              "</style>\n",
              "<table border=\"1\" class=\"dataframe\">\n",
              "  <thead>\n",
              "    <tr style=\"text-align: right;\">\n",
              "      <th></th>\n",
              "      <th>SeriesName</th>\n",
              "      <th>Model</th>\n",
              "      <th>RMSSE</th>\n",
              "      <th>RMSE</th>\n",
              "      <th>Norm_RMSE</th>\n",
              "      <th>ME</th>\n",
              "      <th>Norm_ME</th>\n",
              "    </tr>\n",
              "  </thead>\n",
              "  <tbody>\n",
              "    <tr>\n",
              "      <th>0</th>\n",
              "      <td>('CA_1', 'FOODS_1')</td>\n",
              "      <td>ML_Holdout</td>\n",
              "      <td>0.713729</td>\n",
              "      <td>3.409393</td>\n",
              "      <td>0.714884</td>\n",
              "      <td>-0.493585</td>\n",
              "      <td>-0.103495</td>\n",
              "    </tr>\n",
              "    <tr>\n",
              "      <th>1</th>\n",
              "      <td>('CA_2', 'FOODS_1')</td>\n",
              "      <td>ML_Holdout</td>\n",
              "      <td>0.613559</td>\n",
              "      <td>3.580009</td>\n",
              "      <td>0.705573</td>\n",
              "      <td>-0.194719</td>\n",
              "      <td>-0.038377</td>\n",
              "    </tr>\n",
              "    <tr>\n",
              "      <th>2</th>\n",
              "      <td>('CA_3', 'FOODS_1')</td>\n",
              "      <td>ML_Holdout</td>\n",
              "      <td>0.685283</td>\n",
              "      <td>4.128536</td>\n",
              "      <td>0.748322</td>\n",
              "      <td>-0.373816</td>\n",
              "      <td>-0.067756</td>\n",
              "    </tr>\n",
              "    <tr>\n",
              "      <th>3</th>\n",
              "      <td>('CA_4', 'FOODS_1')</td>\n",
              "      <td>ML_Holdout</td>\n",
              "      <td>0.706029</td>\n",
              "      <td>2.241070</td>\n",
              "      <td>0.782730</td>\n",
              "      <td>-0.184039</td>\n",
              "      <td>-0.064279</td>\n",
              "    </tr>\n",
              "    <tr>\n",
              "      <th>4</th>\n",
              "      <td>('TX_1', 'FOODS_1')</td>\n",
              "      <td>ML_Holdout</td>\n",
              "      <td>0.864363</td>\n",
              "      <td>3.053084</td>\n",
              "      <td>1.081756</td>\n",
              "      <td>-0.409766</td>\n",
              "      <td>-0.145187</td>\n",
              "    </tr>\n",
              "    <tr>\n",
              "      <th>5</th>\n",
              "      <td>('TX_2', 'FOODS_1')</td>\n",
              "      <td>ML_Holdout</td>\n",
              "      <td>0.438321</td>\n",
              "      <td>2.886358</td>\n",
              "      <td>0.803297</td>\n",
              "      <td>-0.274702</td>\n",
              "      <td>-0.076452</td>\n",
              "    </tr>\n",
              "    <tr>\n",
              "      <th>6</th>\n",
              "      <td>('TX_3', 'FOODS_1')</td>\n",
              "      <td>ML_Holdout</td>\n",
              "      <td>0.805444</td>\n",
              "      <td>3.276249</td>\n",
              "      <td>0.930345</td>\n",
              "      <td>-0.495777</td>\n",
              "      <td>-0.140784</td>\n",
              "    </tr>\n",
              "    <tr>\n",
              "      <th>7</th>\n",
              "      <td>('WI_1', 'FOODS_1')</td>\n",
              "      <td>ML_Holdout</td>\n",
              "      <td>0.617708</td>\n",
              "      <td>2.604051</td>\n",
              "      <td>0.689065</td>\n",
              "      <td>-0.249550</td>\n",
              "      <td>-0.066034</td>\n",
              "    </tr>\n",
              "    <tr>\n",
              "      <th>8</th>\n",
              "      <td>('WI_2', 'FOODS_1')</td>\n",
              "      <td>ML_Holdout</td>\n",
              "      <td>0.654236</td>\n",
              "      <td>3.864547</td>\n",
              "      <td>0.891567</td>\n",
              "      <td>-0.326642</td>\n",
              "      <td>-0.075358</td>\n",
              "    </tr>\n",
              "    <tr>\n",
              "      <th>9</th>\n",
              "      <td>('WI_3', 'FOODS_1')</td>\n",
              "      <td>ML_Holdout</td>\n",
              "      <td>0.494745</td>\n",
              "      <td>2.260601</td>\n",
              "      <td>0.916876</td>\n",
              "      <td>-0.272791</td>\n",
              "      <td>-0.110641</td>\n",
              "    </tr>\n",
              "  </tbody>\n",
              "</table>\n",
              "</div>\n",
              "    <div class=\"colab-df-buttons\">\n",
              "\n",
              "  <div class=\"colab-df-container\">\n",
              "    <button class=\"colab-df-convert\" onclick=\"convertToInteractive('df-091190cf-69c5-43e7-bd5a-02941a6147da')\"\n",
              "            title=\"Convert this dataframe to an interactive table.\"\n",
              "            style=\"display:none;\">\n",
              "\n",
              "  <svg xmlns=\"http://www.w3.org/2000/svg\" height=\"24px\" viewBox=\"0 -960 960 960\">\n",
              "    <path d=\"M120-120v-720h720v720H120Zm60-500h600v-160H180v160Zm220 220h160v-160H400v160Zm0 220h160v-160H400v160ZM180-400h160v-160H180v160Zm440 0h160v-160H620v160ZM180-180h160v-160H180v160Zm440 0h160v-160H620v160Z\"/>\n",
              "  </svg>\n",
              "    </button>\n",
              "\n",
              "  <style>\n",
              "    .colab-df-container {\n",
              "      display:flex;\n",
              "      gap: 12px;\n",
              "    }\n",
              "\n",
              "    .colab-df-convert {\n",
              "      background-color: #E8F0FE;\n",
              "      border: none;\n",
              "      border-radius: 50%;\n",
              "      cursor: pointer;\n",
              "      display: none;\n",
              "      fill: #1967D2;\n",
              "      height: 32px;\n",
              "      padding: 0 0 0 0;\n",
              "      width: 32px;\n",
              "    }\n",
              "\n",
              "    .colab-df-convert:hover {\n",
              "      background-color: #E2EBFA;\n",
              "      box-shadow: 0px 1px 2px rgba(60, 64, 67, 0.3), 0px 1px 3px 1px rgba(60, 64, 67, 0.15);\n",
              "      fill: #174EA6;\n",
              "    }\n",
              "\n",
              "    .colab-df-buttons div {\n",
              "      margin-bottom: 4px;\n",
              "    }\n",
              "\n",
              "    [theme=dark] .colab-df-convert {\n",
              "      background-color: #3B4455;\n",
              "      fill: #D2E3FC;\n",
              "    }\n",
              "\n",
              "    [theme=dark] .colab-df-convert:hover {\n",
              "      background-color: #434B5C;\n",
              "      box-shadow: 0px 1px 3px 1px rgba(0, 0, 0, 0.15);\n",
              "      filter: drop-shadow(0px 1px 2px rgba(0, 0, 0, 0.3));\n",
              "      fill: #FFFFFF;\n",
              "    }\n",
              "  </style>\n",
              "\n",
              "    <script>\n",
              "      const buttonEl =\n",
              "        document.querySelector('#df-091190cf-69c5-43e7-bd5a-02941a6147da button.colab-df-convert');\n",
              "      buttonEl.style.display =\n",
              "        google.colab.kernel.accessAllowed ? 'block' : 'none';\n",
              "\n",
              "      async function convertToInteractive(key) {\n",
              "        const element = document.querySelector('#df-091190cf-69c5-43e7-bd5a-02941a6147da');\n",
              "        const dataTable =\n",
              "          await google.colab.kernel.invokeFunction('convertToInteractive',\n",
              "                                                    [key], {});\n",
              "        if (!dataTable) return;\n",
              "\n",
              "        const docLinkHtml = 'Like what you see? Visit the ' +\n",
              "          '<a target=\"_blank\" href=https://colab.research.google.com/notebooks/data_table.ipynb>data table notebook</a>'\n",
              "          + ' to learn more about interactive tables.';\n",
              "        element.innerHTML = '';\n",
              "        dataTable['output_type'] = 'display_data';\n",
              "        await google.colab.output.renderOutput(dataTable, element);\n",
              "        const docLink = document.createElement('div');\n",
              "        docLink.innerHTML = docLinkHtml;\n",
              "        element.appendChild(docLink);\n",
              "      }\n",
              "    </script>\n",
              "  </div>\n",
              "\n",
              "\n",
              "    <div id=\"df-61bfd608-c329-4b3e-a196-121c74a001b4\">\n",
              "      <button class=\"colab-df-quickchart\" onclick=\"quickchart('df-61bfd608-c329-4b3e-a196-121c74a001b4')\"\n",
              "                title=\"Suggest charts\"\n",
              "                style=\"display:none;\">\n",
              "\n",
              "<svg xmlns=\"http://www.w3.org/2000/svg\" height=\"24px\"viewBox=\"0 0 24 24\"\n",
              "     width=\"24px\">\n",
              "    <g>\n",
              "        <path d=\"M19 3H5c-1.1 0-2 .9-2 2v14c0 1.1.9 2 2 2h14c1.1 0 2-.9 2-2V5c0-1.1-.9-2-2-2zM9 17H7v-7h2v7zm4 0h-2V7h2v10zm4 0h-2v-4h2v4z\"/>\n",
              "    </g>\n",
              "</svg>\n",
              "      </button>\n",
              "\n",
              "<style>\n",
              "  .colab-df-quickchart {\n",
              "      --bg-color: #E8F0FE;\n",
              "      --fill-color: #1967D2;\n",
              "      --hover-bg-color: #E2EBFA;\n",
              "      --hover-fill-color: #174EA6;\n",
              "      --disabled-fill-color: #AAA;\n",
              "      --disabled-bg-color: #DDD;\n",
              "  }\n",
              "\n",
              "  [theme=dark] .colab-df-quickchart {\n",
              "      --bg-color: #3B4455;\n",
              "      --fill-color: #D2E3FC;\n",
              "      --hover-bg-color: #434B5C;\n",
              "      --hover-fill-color: #FFFFFF;\n",
              "      --disabled-bg-color: #3B4455;\n",
              "      --disabled-fill-color: #666;\n",
              "  }\n",
              "\n",
              "  .colab-df-quickchart {\n",
              "    background-color: var(--bg-color);\n",
              "    border: none;\n",
              "    border-radius: 50%;\n",
              "    cursor: pointer;\n",
              "    display: none;\n",
              "    fill: var(--fill-color);\n",
              "    height: 32px;\n",
              "    padding: 0;\n",
              "    width: 32px;\n",
              "  }\n",
              "\n",
              "  .colab-df-quickchart:hover {\n",
              "    background-color: var(--hover-bg-color);\n",
              "    box-shadow: 0 1px 2px rgba(60, 64, 67, 0.3), 0 1px 3px 1px rgba(60, 64, 67, 0.15);\n",
              "    fill: var(--button-hover-fill-color);\n",
              "  }\n",
              "\n",
              "  .colab-df-quickchart-complete:disabled,\n",
              "  .colab-df-quickchart-complete:disabled:hover {\n",
              "    background-color: var(--disabled-bg-color);\n",
              "    fill: var(--disabled-fill-color);\n",
              "    box-shadow: none;\n",
              "  }\n",
              "\n",
              "  .colab-df-spinner {\n",
              "    border: 2px solid var(--fill-color);\n",
              "    border-color: transparent;\n",
              "    border-bottom-color: var(--fill-color);\n",
              "    animation:\n",
              "      spin 1s steps(1) infinite;\n",
              "  }\n",
              "\n",
              "  @keyframes spin {\n",
              "    0% {\n",
              "      border-color: transparent;\n",
              "      border-bottom-color: var(--fill-color);\n",
              "      border-left-color: var(--fill-color);\n",
              "    }\n",
              "    20% {\n",
              "      border-color: transparent;\n",
              "      border-left-color: var(--fill-color);\n",
              "      border-top-color: var(--fill-color);\n",
              "    }\n",
              "    30% {\n",
              "      border-color: transparent;\n",
              "      border-left-color: var(--fill-color);\n",
              "      border-top-color: var(--fill-color);\n",
              "      border-right-color: var(--fill-color);\n",
              "    }\n",
              "    40% {\n",
              "      border-color: transparent;\n",
              "      border-right-color: var(--fill-color);\n",
              "      border-top-color: var(--fill-color);\n",
              "    }\n",
              "    60% {\n",
              "      border-color: transparent;\n",
              "      border-right-color: var(--fill-color);\n",
              "    }\n",
              "    80% {\n",
              "      border-color: transparent;\n",
              "      border-right-color: var(--fill-color);\n",
              "      border-bottom-color: var(--fill-color);\n",
              "    }\n",
              "    90% {\n",
              "      border-color: transparent;\n",
              "      border-bottom-color: var(--fill-color);\n",
              "    }\n",
              "  }\n",
              "</style>\n",
              "\n",
              "      <script>\n",
              "        async function quickchart(key) {\n",
              "          const quickchartButtonEl =\n",
              "            document.querySelector('#' + key + ' button');\n",
              "          quickchartButtonEl.disabled = true;  // To prevent multiple clicks.\n",
              "          quickchartButtonEl.classList.add('colab-df-spinner');\n",
              "          try {\n",
              "            const charts = await google.colab.kernel.invokeFunction(\n",
              "                'suggestCharts', [key], {});\n",
              "          } catch (error) {\n",
              "            console.error('Error during call to suggestCharts:', error);\n",
              "          }\n",
              "          quickchartButtonEl.classList.remove('colab-df-spinner');\n",
              "          quickchartButtonEl.classList.add('colab-df-quickchart-complete');\n",
              "        }\n",
              "        (() => {\n",
              "          let quickchartButtonEl =\n",
              "            document.querySelector('#df-61bfd608-c329-4b3e-a196-121c74a001b4 button');\n",
              "          quickchartButtonEl.style.display =\n",
              "            google.colab.kernel.accessAllowed ? 'block' : 'none';\n",
              "        })();\n",
              "      </script>\n",
              "    </div>\n",
              "\n",
              "    </div>\n",
              "  </div>\n"
            ],
            "application/vnd.google.colaboratory.intrinsic+json": {
              "type": "dataframe",
              "variable_name": "error_df",
              "summary": "{\n  \"name\": \"error_df\",\n  \"rows\": 70,\n  \"fields\": [\n    {\n      \"column\": \"SeriesName\",\n      \"properties\": {\n        \"dtype\": \"string\",\n        \"num_unique_values\": 70,\n        \"samples\": [\n          \"('CA_3', 'FOODS_3')\",\n          \"('CA_1', 'FOODS_1')\",\n          \"('WI_3', 'HOBBIES_2')\"\n        ],\n        \"semantic_type\": \"\",\n        \"description\": \"\"\n      }\n    },\n    {\n      \"column\": \"Model\",\n      \"properties\": {\n        \"dtype\": \"category\",\n        \"num_unique_values\": 1,\n        \"samples\": [\n          \"ML_Holdout\"\n        ],\n        \"semantic_type\": \"\",\n        \"description\": \"\"\n      }\n    },\n    {\n      \"column\": \"RMSSE\",\n      \"properties\": {\n        \"dtype\": \"number\",\n        \"std\": 0.26103401551456246,\n        \"min\": 0.3475596601579909,\n        \"max\": 1.7911897019929401,\n        \"num_unique_values\": 70,\n        \"samples\": [\n          0.39255407264358416\n        ],\n        \"semantic_type\": \"\",\n        \"description\": \"\"\n      }\n    },\n    {\n      \"column\": \"RMSE\",\n      \"properties\": {\n        \"dtype\": \"number\",\n        \"std\": 1.4534776573000738,\n        \"min\": 0.8040832330452581,\n        \"max\": 7.711791775313345,\n        \"num_unique_values\": 70,\n        \"samples\": [\n          7.426814586860826\n        ],\n        \"semantic_type\": \"\",\n        \"description\": \"\"\n      }\n    },\n    {\n      \"column\": \"Norm_RMSE\",\n      \"properties\": {\n        \"dtype\": \"number\",\n        \"std\": 0.41544382075889924,\n        \"min\": 0.540993470135188,\n        \"max\": 2.2891089137676897,\n        \"num_unique_values\": 70,\n        \"samples\": [\n          0.5943872099566254\n        ],\n        \"semantic_type\": \"\",\n        \"description\": \"\"\n      }\n    },\n    {\n      \"column\": \"ME\",\n      \"properties\": {\n        \"dtype\": \"number\",\n        \"std\": 0.13242355010578555,\n        \"min\": -0.4957767023125963,\n        \"max\": 0.1062794761496475,\n        \"num_unique_values\": 70,\n        \"samples\": [\n          -0.1872386218389813\n        ],\n        \"semantic_type\": \"\",\n        \"description\": \"\"\n      }\n    },\n    {\n      \"column\": \"Norm_ME\",\n      \"properties\": {\n        \"dtype\": \"number\",\n        \"std\": 0.09347473995682724,\n        \"min\": -0.44556135597788293,\n        \"max\": 0.03918622622990437,\n        \"num_unique_values\": 70,\n        \"samples\": [\n          -0.014985191932472476\n        ],\n        \"semantic_type\": \"\",\n        \"description\": \"\"\n      }\n    }\n  ]\n}"
            }
          },
          "metadata": {},
          "execution_count": 18
        }
      ],
      "source": [
        "error_df.head(10)"
      ]
    },
    {
      "cell_type": "code",
      "execution_count": null,
      "metadata": {
        "colab": {
          "base_uri": "https://localhost:8080/",
          "height": 677
        },
        "id": "znROg-RrwGuo",
        "outputId": "dc148717-71cc-417a-db63-7547b33a6fab"
      },
      "outputs": [
        {
          "output_type": "execute_result",
          "data": {
            "text/plain": [
              "             SeriesName       Model     RMSSE      RMSE  Norm_RMSE        ME  \\\n",
              "0   ('CA_1', 'FOODS_1')  ML_Holdout  0.713729  3.409393   0.714884 -0.493585   \n",
              "1   ('CA_2', 'FOODS_1')  ML_Holdout  0.613559  3.580009   0.705573 -0.194719   \n",
              "2   ('CA_3', 'FOODS_1')  ML_Holdout  0.685283  4.128536   0.748322 -0.373816   \n",
              "3   ('CA_4', 'FOODS_1')  ML_Holdout  0.706029  2.241070   0.782730 -0.184039   \n",
              "4   ('TX_1', 'FOODS_1')  ML_Holdout  0.864363  3.053084   1.081756 -0.409766   \n",
              "5   ('TX_2', 'FOODS_1')  ML_Holdout  0.438321  2.886358   0.803297 -0.274702   \n",
              "6   ('TX_3', 'FOODS_1')  ML_Holdout  0.805444  3.276249   0.930345 -0.495777   \n",
              "7   ('WI_1', 'FOODS_1')  ML_Holdout  0.617708  2.604051   0.689065 -0.249550   \n",
              "8   ('WI_2', 'FOODS_1')  ML_Holdout  0.654236  3.864547   0.891567 -0.326642   \n",
              "9   ('WI_3', 'FOODS_1')  ML_Holdout  0.494745  2.260601   0.916876 -0.272791   \n",
              "10  ('CA_1', 'FOODS_2')  ML_Holdout  0.555284  2.689231   0.722185 -0.183061   \n",
              "11  ('CA_2', 'FOODS_2')  ML_Holdout  0.624227  2.153988   0.767163 -0.245868   \n",
              "12  ('CA_3', 'FOODS_2')  ML_Holdout  0.485680  3.038032   0.614721 -0.370317   \n",
              "13  ('CA_4', 'FOODS_2')  ML_Holdout  0.735616  1.818752   0.785468 -0.136302   \n",
              "14  ('TX_1', 'FOODS_2')  ML_Holdout  0.712516  2.125207   0.787018 -0.167621   \n",
              "15  ('TX_2', 'FOODS_2')  ML_Holdout  0.577688  2.288479   0.771832 -0.169446   \n",
              "16  ('TX_3', 'FOODS_2')  ML_Holdout  0.595742  2.497314   0.747094 -0.266778   \n",
              "17  ('WI_1', 'FOODS_2')  ML_Holdout  0.800217  2.407550   0.688415 -0.368788   \n",
              "18  ('WI_2', 'FOODS_2')  ML_Holdout  0.625922  4.539917   0.824757 -0.392887   \n",
              "19  ('WI_3', 'FOODS_2')  ML_Holdout  0.469222  2.073645   0.782512 -0.164984   \n",
              "\n",
              "     Norm_ME  \n",
              "0  -0.103495  \n",
              "1  -0.038377  \n",
              "2  -0.067756  \n",
              "3  -0.064279  \n",
              "4  -0.145187  \n",
              "5  -0.076452  \n",
              "6  -0.140784  \n",
              "7  -0.066034  \n",
              "8  -0.075358  \n",
              "9  -0.110641  \n",
              "10 -0.049161  \n",
              "11 -0.087568  \n",
              "12 -0.074931  \n",
              "13 -0.058865  \n",
              "14 -0.062074  \n",
              "15 -0.057149  \n",
              "16 -0.079809  \n",
              "17 -0.105451  \n",
              "18 -0.071375  \n",
              "19 -0.062258  "
            ],
            "text/html": [
              "\n",
              "  <div id=\"df-8aa8e14d-f9ca-4252-80aa-ef225372698d\" class=\"colab-df-container\">\n",
              "    <div>\n",
              "<style scoped>\n",
              "    .dataframe tbody tr th:only-of-type {\n",
              "        vertical-align: middle;\n",
              "    }\n",
              "\n",
              "    .dataframe tbody tr th {\n",
              "        vertical-align: top;\n",
              "    }\n",
              "\n",
              "    .dataframe thead th {\n",
              "        text-align: right;\n",
              "    }\n",
              "</style>\n",
              "<table border=\"1\" class=\"dataframe\">\n",
              "  <thead>\n",
              "    <tr style=\"text-align: right;\">\n",
              "      <th></th>\n",
              "      <th>SeriesName</th>\n",
              "      <th>Model</th>\n",
              "      <th>RMSSE</th>\n",
              "      <th>RMSE</th>\n",
              "      <th>Norm_RMSE</th>\n",
              "      <th>ME</th>\n",
              "      <th>Norm_ME</th>\n",
              "    </tr>\n",
              "  </thead>\n",
              "  <tbody>\n",
              "    <tr>\n",
              "      <th>0</th>\n",
              "      <td>('CA_1', 'FOODS_1')</td>\n",
              "      <td>ML_Holdout</td>\n",
              "      <td>0.713729</td>\n",
              "      <td>3.409393</td>\n",
              "      <td>0.714884</td>\n",
              "      <td>-0.493585</td>\n",
              "      <td>-0.103495</td>\n",
              "    </tr>\n",
              "    <tr>\n",
              "      <th>1</th>\n",
              "      <td>('CA_2', 'FOODS_1')</td>\n",
              "      <td>ML_Holdout</td>\n",
              "      <td>0.613559</td>\n",
              "      <td>3.580009</td>\n",
              "      <td>0.705573</td>\n",
              "      <td>-0.194719</td>\n",
              "      <td>-0.038377</td>\n",
              "    </tr>\n",
              "    <tr>\n",
              "      <th>2</th>\n",
              "      <td>('CA_3', 'FOODS_1')</td>\n",
              "      <td>ML_Holdout</td>\n",
              "      <td>0.685283</td>\n",
              "      <td>4.128536</td>\n",
              "      <td>0.748322</td>\n",
              "      <td>-0.373816</td>\n",
              "      <td>-0.067756</td>\n",
              "    </tr>\n",
              "    <tr>\n",
              "      <th>3</th>\n",
              "      <td>('CA_4', 'FOODS_1')</td>\n",
              "      <td>ML_Holdout</td>\n",
              "      <td>0.706029</td>\n",
              "      <td>2.241070</td>\n",
              "      <td>0.782730</td>\n",
              "      <td>-0.184039</td>\n",
              "      <td>-0.064279</td>\n",
              "    </tr>\n",
              "    <tr>\n",
              "      <th>4</th>\n",
              "      <td>('TX_1', 'FOODS_1')</td>\n",
              "      <td>ML_Holdout</td>\n",
              "      <td>0.864363</td>\n",
              "      <td>3.053084</td>\n",
              "      <td>1.081756</td>\n",
              "      <td>-0.409766</td>\n",
              "      <td>-0.145187</td>\n",
              "    </tr>\n",
              "    <tr>\n",
              "      <th>5</th>\n",
              "      <td>('TX_2', 'FOODS_1')</td>\n",
              "      <td>ML_Holdout</td>\n",
              "      <td>0.438321</td>\n",
              "      <td>2.886358</td>\n",
              "      <td>0.803297</td>\n",
              "      <td>-0.274702</td>\n",
              "      <td>-0.076452</td>\n",
              "    </tr>\n",
              "    <tr>\n",
              "      <th>6</th>\n",
              "      <td>('TX_3', 'FOODS_1')</td>\n",
              "      <td>ML_Holdout</td>\n",
              "      <td>0.805444</td>\n",
              "      <td>3.276249</td>\n",
              "      <td>0.930345</td>\n",
              "      <td>-0.495777</td>\n",
              "      <td>-0.140784</td>\n",
              "    </tr>\n",
              "    <tr>\n",
              "      <th>7</th>\n",
              "      <td>('WI_1', 'FOODS_1')</td>\n",
              "      <td>ML_Holdout</td>\n",
              "      <td>0.617708</td>\n",
              "      <td>2.604051</td>\n",
              "      <td>0.689065</td>\n",
              "      <td>-0.249550</td>\n",
              "      <td>-0.066034</td>\n",
              "    </tr>\n",
              "    <tr>\n",
              "      <th>8</th>\n",
              "      <td>('WI_2', 'FOODS_1')</td>\n",
              "      <td>ML_Holdout</td>\n",
              "      <td>0.654236</td>\n",
              "      <td>3.864547</td>\n",
              "      <td>0.891567</td>\n",
              "      <td>-0.326642</td>\n",
              "      <td>-0.075358</td>\n",
              "    </tr>\n",
              "    <tr>\n",
              "      <th>9</th>\n",
              "      <td>('WI_3', 'FOODS_1')</td>\n",
              "      <td>ML_Holdout</td>\n",
              "      <td>0.494745</td>\n",
              "      <td>2.260601</td>\n",
              "      <td>0.916876</td>\n",
              "      <td>-0.272791</td>\n",
              "      <td>-0.110641</td>\n",
              "    </tr>\n",
              "    <tr>\n",
              "      <th>10</th>\n",
              "      <td>('CA_1', 'FOODS_2')</td>\n",
              "      <td>ML_Holdout</td>\n",
              "      <td>0.555284</td>\n",
              "      <td>2.689231</td>\n",
              "      <td>0.722185</td>\n",
              "      <td>-0.183061</td>\n",
              "      <td>-0.049161</td>\n",
              "    </tr>\n",
              "    <tr>\n",
              "      <th>11</th>\n",
              "      <td>('CA_2', 'FOODS_2')</td>\n",
              "      <td>ML_Holdout</td>\n",
              "      <td>0.624227</td>\n",
              "      <td>2.153988</td>\n",
              "      <td>0.767163</td>\n",
              "      <td>-0.245868</td>\n",
              "      <td>-0.087568</td>\n",
              "    </tr>\n",
              "    <tr>\n",
              "      <th>12</th>\n",
              "      <td>('CA_3', 'FOODS_2')</td>\n",
              "      <td>ML_Holdout</td>\n",
              "      <td>0.485680</td>\n",
              "      <td>3.038032</td>\n",
              "      <td>0.614721</td>\n",
              "      <td>-0.370317</td>\n",
              "      <td>-0.074931</td>\n",
              "    </tr>\n",
              "    <tr>\n",
              "      <th>13</th>\n",
              "      <td>('CA_4', 'FOODS_2')</td>\n",
              "      <td>ML_Holdout</td>\n",
              "      <td>0.735616</td>\n",
              "      <td>1.818752</td>\n",
              "      <td>0.785468</td>\n",
              "      <td>-0.136302</td>\n",
              "      <td>-0.058865</td>\n",
              "    </tr>\n",
              "    <tr>\n",
              "      <th>14</th>\n",
              "      <td>('TX_1', 'FOODS_2')</td>\n",
              "      <td>ML_Holdout</td>\n",
              "      <td>0.712516</td>\n",
              "      <td>2.125207</td>\n",
              "      <td>0.787018</td>\n",
              "      <td>-0.167621</td>\n",
              "      <td>-0.062074</td>\n",
              "    </tr>\n",
              "    <tr>\n",
              "      <th>15</th>\n",
              "      <td>('TX_2', 'FOODS_2')</td>\n",
              "      <td>ML_Holdout</td>\n",
              "      <td>0.577688</td>\n",
              "      <td>2.288479</td>\n",
              "      <td>0.771832</td>\n",
              "      <td>-0.169446</td>\n",
              "      <td>-0.057149</td>\n",
              "    </tr>\n",
              "    <tr>\n",
              "      <th>16</th>\n",
              "      <td>('TX_3', 'FOODS_2')</td>\n",
              "      <td>ML_Holdout</td>\n",
              "      <td>0.595742</td>\n",
              "      <td>2.497314</td>\n",
              "      <td>0.747094</td>\n",
              "      <td>-0.266778</td>\n",
              "      <td>-0.079809</td>\n",
              "    </tr>\n",
              "    <tr>\n",
              "      <th>17</th>\n",
              "      <td>('WI_1', 'FOODS_2')</td>\n",
              "      <td>ML_Holdout</td>\n",
              "      <td>0.800217</td>\n",
              "      <td>2.407550</td>\n",
              "      <td>0.688415</td>\n",
              "      <td>-0.368788</td>\n",
              "      <td>-0.105451</td>\n",
              "    </tr>\n",
              "    <tr>\n",
              "      <th>18</th>\n",
              "      <td>('WI_2', 'FOODS_2')</td>\n",
              "      <td>ML_Holdout</td>\n",
              "      <td>0.625922</td>\n",
              "      <td>4.539917</td>\n",
              "      <td>0.824757</td>\n",
              "      <td>-0.392887</td>\n",
              "      <td>-0.071375</td>\n",
              "    </tr>\n",
              "    <tr>\n",
              "      <th>19</th>\n",
              "      <td>('WI_3', 'FOODS_2')</td>\n",
              "      <td>ML_Holdout</td>\n",
              "      <td>0.469222</td>\n",
              "      <td>2.073645</td>\n",
              "      <td>0.782512</td>\n",
              "      <td>-0.164984</td>\n",
              "      <td>-0.062258</td>\n",
              "    </tr>\n",
              "  </tbody>\n",
              "</table>\n",
              "</div>\n",
              "    <div class=\"colab-df-buttons\">\n",
              "\n",
              "  <div class=\"colab-df-container\">\n",
              "    <button class=\"colab-df-convert\" onclick=\"convertToInteractive('df-8aa8e14d-f9ca-4252-80aa-ef225372698d')\"\n",
              "            title=\"Convert this dataframe to an interactive table.\"\n",
              "            style=\"display:none;\">\n",
              "\n",
              "  <svg xmlns=\"http://www.w3.org/2000/svg\" height=\"24px\" viewBox=\"0 -960 960 960\">\n",
              "    <path d=\"M120-120v-720h720v720H120Zm60-500h600v-160H180v160Zm220 220h160v-160H400v160Zm0 220h160v-160H400v160ZM180-400h160v-160H180v160Zm440 0h160v-160H620v160ZM180-180h160v-160H180v160Zm440 0h160v-160H620v160Z\"/>\n",
              "  </svg>\n",
              "    </button>\n",
              "\n",
              "  <style>\n",
              "    .colab-df-container {\n",
              "      display:flex;\n",
              "      gap: 12px;\n",
              "    }\n",
              "\n",
              "    .colab-df-convert {\n",
              "      background-color: #E8F0FE;\n",
              "      border: none;\n",
              "      border-radius: 50%;\n",
              "      cursor: pointer;\n",
              "      display: none;\n",
              "      fill: #1967D2;\n",
              "      height: 32px;\n",
              "      padding: 0 0 0 0;\n",
              "      width: 32px;\n",
              "    }\n",
              "\n",
              "    .colab-df-convert:hover {\n",
              "      background-color: #E2EBFA;\n",
              "      box-shadow: 0px 1px 2px rgba(60, 64, 67, 0.3), 0px 1px 3px 1px rgba(60, 64, 67, 0.15);\n",
              "      fill: #174EA6;\n",
              "    }\n",
              "\n",
              "    .colab-df-buttons div {\n",
              "      margin-bottom: 4px;\n",
              "    }\n",
              "\n",
              "    [theme=dark] .colab-df-convert {\n",
              "      background-color: #3B4455;\n",
              "      fill: #D2E3FC;\n",
              "    }\n",
              "\n",
              "    [theme=dark] .colab-df-convert:hover {\n",
              "      background-color: #434B5C;\n",
              "      box-shadow: 0px 1px 3px 1px rgba(0, 0, 0, 0.15);\n",
              "      filter: drop-shadow(0px 1px 2px rgba(0, 0, 0, 0.3));\n",
              "      fill: #FFFFFF;\n",
              "    }\n",
              "  </style>\n",
              "\n",
              "    <script>\n",
              "      const buttonEl =\n",
              "        document.querySelector('#df-8aa8e14d-f9ca-4252-80aa-ef225372698d button.colab-df-convert');\n",
              "      buttonEl.style.display =\n",
              "        google.colab.kernel.accessAllowed ? 'block' : 'none';\n",
              "\n",
              "      async function convertToInteractive(key) {\n",
              "        const element = document.querySelector('#df-8aa8e14d-f9ca-4252-80aa-ef225372698d');\n",
              "        const dataTable =\n",
              "          await google.colab.kernel.invokeFunction('convertToInteractive',\n",
              "                                                    [key], {});\n",
              "        if (!dataTable) return;\n",
              "\n",
              "        const docLinkHtml = 'Like what you see? Visit the ' +\n",
              "          '<a target=\"_blank\" href=https://colab.research.google.com/notebooks/data_table.ipynb>data table notebook</a>'\n",
              "          + ' to learn more about interactive tables.';\n",
              "        element.innerHTML = '';\n",
              "        dataTable['output_type'] = 'display_data';\n",
              "        await google.colab.output.renderOutput(dataTable, element);\n",
              "        const docLink = document.createElement('div');\n",
              "        docLink.innerHTML = docLinkHtml;\n",
              "        element.appendChild(docLink);\n",
              "      }\n",
              "    </script>\n",
              "  </div>\n",
              "\n",
              "\n",
              "    <div id=\"df-8d1ccb2d-6b71-4064-bd7b-1929e83c5477\">\n",
              "      <button class=\"colab-df-quickchart\" onclick=\"quickchart('df-8d1ccb2d-6b71-4064-bd7b-1929e83c5477')\"\n",
              "                title=\"Suggest charts\"\n",
              "                style=\"display:none;\">\n",
              "\n",
              "<svg xmlns=\"http://www.w3.org/2000/svg\" height=\"24px\"viewBox=\"0 0 24 24\"\n",
              "     width=\"24px\">\n",
              "    <g>\n",
              "        <path d=\"M19 3H5c-1.1 0-2 .9-2 2v14c0 1.1.9 2 2 2h14c1.1 0 2-.9 2-2V5c0-1.1-.9-2-2-2zM9 17H7v-7h2v7zm4 0h-2V7h2v10zm4 0h-2v-4h2v4z\"/>\n",
              "    </g>\n",
              "</svg>\n",
              "      </button>\n",
              "\n",
              "<style>\n",
              "  .colab-df-quickchart {\n",
              "      --bg-color: #E8F0FE;\n",
              "      --fill-color: #1967D2;\n",
              "      --hover-bg-color: #E2EBFA;\n",
              "      --hover-fill-color: #174EA6;\n",
              "      --disabled-fill-color: #AAA;\n",
              "      --disabled-bg-color: #DDD;\n",
              "  }\n",
              "\n",
              "  [theme=dark] .colab-df-quickchart {\n",
              "      --bg-color: #3B4455;\n",
              "      --fill-color: #D2E3FC;\n",
              "      --hover-bg-color: #434B5C;\n",
              "      --hover-fill-color: #FFFFFF;\n",
              "      --disabled-bg-color: #3B4455;\n",
              "      --disabled-fill-color: #666;\n",
              "  }\n",
              "\n",
              "  .colab-df-quickchart {\n",
              "    background-color: var(--bg-color);\n",
              "    border: none;\n",
              "    border-radius: 50%;\n",
              "    cursor: pointer;\n",
              "    display: none;\n",
              "    fill: var(--fill-color);\n",
              "    height: 32px;\n",
              "    padding: 0;\n",
              "    width: 32px;\n",
              "  }\n",
              "\n",
              "  .colab-df-quickchart:hover {\n",
              "    background-color: var(--hover-bg-color);\n",
              "    box-shadow: 0 1px 2px rgba(60, 64, 67, 0.3), 0 1px 3px 1px rgba(60, 64, 67, 0.15);\n",
              "    fill: var(--button-hover-fill-color);\n",
              "  }\n",
              "\n",
              "  .colab-df-quickchart-complete:disabled,\n",
              "  .colab-df-quickchart-complete:disabled:hover {\n",
              "    background-color: var(--disabled-bg-color);\n",
              "    fill: var(--disabled-fill-color);\n",
              "    box-shadow: none;\n",
              "  }\n",
              "\n",
              "  .colab-df-spinner {\n",
              "    border: 2px solid var(--fill-color);\n",
              "    border-color: transparent;\n",
              "    border-bottom-color: var(--fill-color);\n",
              "    animation:\n",
              "      spin 1s steps(1) infinite;\n",
              "  }\n",
              "\n",
              "  @keyframes spin {\n",
              "    0% {\n",
              "      border-color: transparent;\n",
              "      border-bottom-color: var(--fill-color);\n",
              "      border-left-color: var(--fill-color);\n",
              "    }\n",
              "    20% {\n",
              "      border-color: transparent;\n",
              "      border-left-color: var(--fill-color);\n",
              "      border-top-color: var(--fill-color);\n",
              "    }\n",
              "    30% {\n",
              "      border-color: transparent;\n",
              "      border-left-color: var(--fill-color);\n",
              "      border-top-color: var(--fill-color);\n",
              "      border-right-color: var(--fill-color);\n",
              "    }\n",
              "    40% {\n",
              "      border-color: transparent;\n",
              "      border-right-color: var(--fill-color);\n",
              "      border-top-color: var(--fill-color);\n",
              "    }\n",
              "    60% {\n",
              "      border-color: transparent;\n",
              "      border-right-color: var(--fill-color);\n",
              "    }\n",
              "    80% {\n",
              "      border-color: transparent;\n",
              "      border-right-color: var(--fill-color);\n",
              "      border-bottom-color: var(--fill-color);\n",
              "    }\n",
              "    90% {\n",
              "      border-color: transparent;\n",
              "      border-bottom-color: var(--fill-color);\n",
              "    }\n",
              "  }\n",
              "</style>\n",
              "\n",
              "      <script>\n",
              "        async function quickchart(key) {\n",
              "          const quickchartButtonEl =\n",
              "            document.querySelector('#' + key + ' button');\n",
              "          quickchartButtonEl.disabled = true;  // To prevent multiple clicks.\n",
              "          quickchartButtonEl.classList.add('colab-df-spinner');\n",
              "          try {\n",
              "            const charts = await google.colab.kernel.invokeFunction(\n",
              "                'suggestCharts', [key], {});\n",
              "          } catch (error) {\n",
              "            console.error('Error during call to suggestCharts:', error);\n",
              "          }\n",
              "          quickchartButtonEl.classList.remove('colab-df-spinner');\n",
              "          quickchartButtonEl.classList.add('colab-df-quickchart-complete');\n",
              "        }\n",
              "        (() => {\n",
              "          let quickchartButtonEl =\n",
              "            document.querySelector('#df-8d1ccb2d-6b71-4064-bd7b-1929e83c5477 button');\n",
              "          quickchartButtonEl.style.display =\n",
              "            google.colab.kernel.accessAllowed ? 'block' : 'none';\n",
              "        })();\n",
              "      </script>\n",
              "    </div>\n",
              "\n",
              "    </div>\n",
              "  </div>\n"
            ],
            "application/vnd.google.colaboratory.intrinsic+json": {
              "type": "dataframe",
              "variable_name": "error_df",
              "summary": "{\n  \"name\": \"error_df\",\n  \"rows\": 70,\n  \"fields\": [\n    {\n      \"column\": \"SeriesName\",\n      \"properties\": {\n        \"dtype\": \"string\",\n        \"num_unique_values\": 70,\n        \"samples\": [\n          \"('CA_3', 'FOODS_3')\",\n          \"('CA_1', 'FOODS_1')\",\n          \"('WI_3', 'HOBBIES_2')\"\n        ],\n        \"semantic_type\": \"\",\n        \"description\": \"\"\n      }\n    },\n    {\n      \"column\": \"Model\",\n      \"properties\": {\n        \"dtype\": \"category\",\n        \"num_unique_values\": 1,\n        \"samples\": [\n          \"ML_Holdout\"\n        ],\n        \"semantic_type\": \"\",\n        \"description\": \"\"\n      }\n    },\n    {\n      \"column\": \"RMSSE\",\n      \"properties\": {\n        \"dtype\": \"number\",\n        \"std\": 0.26103401551456246,\n        \"min\": 0.3475596601579909,\n        \"max\": 1.7911897019929401,\n        \"num_unique_values\": 70,\n        \"samples\": [\n          0.39255407264358416\n        ],\n        \"semantic_type\": \"\",\n        \"description\": \"\"\n      }\n    },\n    {\n      \"column\": \"RMSE\",\n      \"properties\": {\n        \"dtype\": \"number\",\n        \"std\": 1.4534776573000738,\n        \"min\": 0.8040832330452581,\n        \"max\": 7.711791775313345,\n        \"num_unique_values\": 70,\n        \"samples\": [\n          7.426814586860826\n        ],\n        \"semantic_type\": \"\",\n        \"description\": \"\"\n      }\n    },\n    {\n      \"column\": \"Norm_RMSE\",\n      \"properties\": {\n        \"dtype\": \"number\",\n        \"std\": 0.41544382075889924,\n        \"min\": 0.540993470135188,\n        \"max\": 2.2891089137676897,\n        \"num_unique_values\": 70,\n        \"samples\": [\n          0.5943872099566254\n        ],\n        \"semantic_type\": \"\",\n        \"description\": \"\"\n      }\n    },\n    {\n      \"column\": \"ME\",\n      \"properties\": {\n        \"dtype\": \"number\",\n        \"std\": 0.13242355010578555,\n        \"min\": -0.4957767023125963,\n        \"max\": 0.1062794761496475,\n        \"num_unique_values\": 70,\n        \"samples\": [\n          -0.1872386218389813\n        ],\n        \"semantic_type\": \"\",\n        \"description\": \"\"\n      }\n    },\n    {\n      \"column\": \"Norm_ME\",\n      \"properties\": {\n        \"dtype\": \"number\",\n        \"std\": 0.09347473995682724,\n        \"min\": -0.44556135597788293,\n        \"max\": 0.03918622622990437,\n        \"num_unique_values\": 70,\n        \"samples\": [\n          -0.014985191932472476\n        ],\n        \"semantic_type\": \"\",\n        \"description\": \"\"\n      }\n    }\n  ]\n}"
            }
          },
          "metadata": {},
          "execution_count": 19
        }
      ],
      "source": [
        "error_df.head(20)"
      ]
    },
    {
      "cell_type": "code",
      "source": [
        "error_df.to_pickle(\"/content/drive/MyDrive/Colab Notebooks/Supervised Project/Fine Tuning/2y1y_error_df.pkl\")"
      ],
      "metadata": {
        "id": "4EgrBeGCTKbT"
      },
      "execution_count": null,
      "outputs": []
    },
    {
      "cell_type": "code",
      "execution_count": null,
      "metadata": {
        "id": "tx8_ZdsrB9o_"
      },
      "outputs": [],
      "source": [
        "import matplotlib.pyplot as plt\n",
        "import seaborn as sns\n",
        "\n",
        "def plot_true_vs_pred(df_forecast, true_col='true', pred_col='pred', n_points=140, title='Prediction vs True'):\n",
        "    plt.figure(figsize=(18, 6))\n",
        "    plt.title(title)\n",
        "    plt.xlabel(\"Date\")\n",
        "    plt.ylabel(\"Value\")\n",
        "\n",
        "\n",
        "    y_true = df_forecast[true_col][-n_points:]\n",
        "    y_pred = df_forecast[pred_col][-n_points:]\n",
        "\n",
        "    sns.lineplot(x=y_true.index, y=y_true.values, label='True', color='black')\n",
        "    sns.lineplot(x=y_pred.index, y=y_pred.values, label='Prediction', color='blue')\n",
        "\n",
        "    plt.legend()\n",
        "    plt.grid(True)\n",
        "    plt.tight_layout()\n",
        "    plt.show()\n"
      ]
    },
    {
      "cell_type": "code",
      "execution_count": null,
      "metadata": {
        "id": "GwU6EvI7CBIo"
      },
      "outputs": [],
      "source": [
        "sample_group_df = all_results[\n",
        "    (all_results['store_id'] == 'CA_1') &\n",
        "    (all_results['dept_id'] == 'FOODS_1')\n",
        "]\n"
      ]
    },
    {
      "cell_type": "code",
      "execution_count": null,
      "metadata": {
        "colab": {
          "base_uri": "https://localhost:8080/",
          "height": 349
        },
        "id": "-OX52u8hCIgw",
        "outputId": "f41c7c02-4b0c-411f-b3da-bd70bdced5d4"
      },
      "outputs": [
        {
          "output_type": "display_data",
          "data": {
            "text/plain": [
              "<Figure size 1800x600 with 1 Axes>"
            ],
            "image/png": "[encoded data removed]"
          },
          "metadata": {}
        }
      ],
      "source": [
        "plot_true_vs_pred(sample_group_df, true_col='true', pred_col='pred', n_points=100, title='CA_1 - FOODS_1')\n"
      ]
    }
  ],
  "metadata": {
    "accelerator": "GPU",
    "colab": {
      "gpuType": "A100",
      "machine_shape": "hm",
      "provenance": [],
      "toc_visible": true,
      "authorship_tag": "ABX9TyO7E6HC+oxW5KsIly9TofXJ",
      "include_colab_link": true
    },
    "kernelspec": {
      "display_name": "Python 3",
      "name": "python3"
    },
    "language_info": {
      "name": "python"
    }
  },
  "nbformat": 4,
  "nbformat_minor": 0
}